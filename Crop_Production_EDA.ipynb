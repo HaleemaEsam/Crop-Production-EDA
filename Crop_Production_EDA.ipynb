{
 "cells": [
  {
   "attachments": {},
   "cell_type": "markdown",
   "metadata": {},
   "source": [
    "# Crop Production In Asia EDA"
   ]
  },
  {
   "attachments": {},
   "cell_type": "markdown",
   "metadata": {},
   "source": [
    "#### Table of Contents\n",
    "\n",
    "1. Introduction\n",
    "\n",
    "    1.1 Data source and dataset\n",
    "\n",
    "2. Data Loading and Description\n",
    "\n",
    "3. Exploring The Dataset\n",
    "\n",
    "    3.1. Initial observations\n",
    "(Summary of the data types in the dataset)\n",
    "\n",
    "    3.2. Final observations\n",
    "    \n",
    "4. Data Normalization\n",
    "\n",
    "    4.1. Missing Data \n",
    "\n",
    "QUESTIONS\n",
    "\n",
    "5. Conclusion\n",
    "\n",
    "6. BONUS (Fun Facts About Bahrain)\n"
   ]
  },
  {
   "attachments": {},
   "cell_type": "markdown",
   "metadata": {},
   "source": [
    "### 1. Introduction"
   ]
  },
  {
   "attachments": {},
   "cell_type": "markdown",
   "metadata": {},
   "source": [
    "This Exploratory Data Analysis is to practice Python skills learned till now on a structured data set including loading, inspecting, wrangling, exploring, and drawing conclusions from data. The notebook has observations with each step in order to explain thoroughly how to approach the data set. Based on the observation some questions also are answered and explored in the analysis.\n",
    "\n",
    "This dataset contains data from the Food and Agriculture Organization of the United Nations (FAO)\n",
    "\n",
    "The objective of this dataset is to comprehensively cover production of all primary crops for all countries in Asia.\n",
    " "
   ]
  },
  {
   "attachments": {},
   "cell_type": "markdown",
   "metadata": {},
   "source": [
    "### 1.1 Data source and Dataset"
   ]
  },
  {
   "attachments": {},
   "cell_type": "markdown",
   "metadata": {},
   "source": [
    "a. How was it collected?\n",
    "\n",
    "Data Source: \n",
    "International reliable sources, estimated data, calculated data, manual estimation, expert sources from FAO and data reported on country official publications or web sites.\n",
    "\n",
    "Website: https://data.world/agriculture/crop-production\n",
    "\n",
    "Year: 2016\n",
    "\n",
    "Description: \" Crop statistics for 173 products in Africa, the Americas, Asia, Europe, and Oceania \"\n"
   ]
  },
  {
   "attachments": {},
   "cell_type": "markdown",
   "metadata": {},
   "source": [
    "### Data Dictionary"
   ]
  },
  {
   "attachments": {},
   "cell_type": "markdown",
   "metadata": {},
   "source": [
    "| Column Name | Type | Description |\n",
    "| ----------- | ---- | ----------- |\n",
    "| area_code   | integer | Country Code         |\n",
    "| area        | string | Country Name|\n",
    "| country     | url    |  Country Name |\n",
    "|item_code    |integer | Item Code |\n",
    "| item        | string | Item Description |\n",
    "| element_code| integer| Measured Element Code|\n",
    "|element | string |Element Description |\n",
    "| unit | string | Unit of Measurement|\n",
    "| year | integer | Corresponds To The Year of The Data |\n",
    "| quantity | integer | Quantity of Crops Produced In Unit Tonne|\n",
    "\n"
   ]
  },
  {
   "attachments": {},
   "cell_type": "markdown",
   "metadata": {},
   "source": [
    "### 2. Data Loading and Description"
   ]
  },
  {
   "attachments": {},
   "cell_type": "markdown",
   "metadata": {},
   "source": [
    "The dataset comprises of 568642 rows and 9 columns. "
   ]
  },
  {
   "attachments": {},
   "cell_type": "markdown",
   "metadata": {},
   "source": [
    "- Importing Libraries"
   ]
  },
  {
   "cell_type": "code",
   "execution_count": 5,
   "metadata": {},
   "outputs": [],
   "source": [
    "import pandas as pd\n",
    "import seaborn as sns\n",
    "import matplotlib.pyplot as plt\n",
    "import plotly.express as px"
   ]
  },
  {
   "attachments": {},
   "cell_type": "markdown",
   "metadata": {},
   "source": [
    "- Reading .csv file"
   ]
  },
  {
   "cell_type": "code",
   "execution_count": 6,
   "metadata": {},
   "outputs": [],
   "source": [
    "asia = pd.read_csv(r'C:\\Users\\halee\\python\\Crop_Production_EDA\\Data\\production_crops_e_asia.csv')"
   ]
  },
  {
   "attachments": {},
   "cell_type": "markdown",
   "metadata": {},
   "source": [
    "### 3. Exploring The Dataset"
   ]
  },
  {
   "attachments": {},
   "cell_type": "markdown",
   "metadata": {},
   "source": [
    "### 3.1. Initial Observations:\n",
    "\n",
    "Summary of data types in this dataset:\n",
    "\n",
    "Numeric: Year (Float)\n",
    "\n",
    "Object: Area, Item, Year, Element, Unit\n",
    "\n",
    "There are   missing that have null values that may need to be addressed.\n",
    "\n"
   ]
  },
  {
   "cell_type": "code",
   "execution_count": 7,
   "metadata": {},
   "outputs": [
    {
     "data": {
      "text/html": [
       "<div>\n",
       "<style scoped>\n",
       "    .dataframe tbody tr th:only-of-type {\n",
       "        vertical-align: middle;\n",
       "    }\n",
       "\n",
       "    .dataframe tbody tr th {\n",
       "        vertical-align: top;\n",
       "    }\n",
       "\n",
       "    .dataframe thead th {\n",
       "        text-align: right;\n",
       "    }\n",
       "</style>\n",
       "<table border=\"1\" class=\"dataframe\">\n",
       "  <thead>\n",
       "    <tr style=\"text-align: right;\">\n",
       "      <th></th>\n",
       "      <th>area_code</th>\n",
       "      <th>area</th>\n",
       "      <th>item_code</th>\n",
       "      <th>item</th>\n",
       "      <th>element_code</th>\n",
       "      <th>element</th>\n",
       "      <th>unit</th>\n",
       "      <th>y1961</th>\n",
       "      <th>y1961f</th>\n",
       "      <th>y1962</th>\n",
       "      <th>...</th>\n",
       "      <th>y2015</th>\n",
       "      <th>y2015f</th>\n",
       "      <th>y2016</th>\n",
       "      <th>y2016f</th>\n",
       "      <th>y2017</th>\n",
       "      <th>y2017f</th>\n",
       "      <th>y2018</th>\n",
       "      <th>y2018f</th>\n",
       "      <th>y2019</th>\n",
       "      <th>y2019f</th>\n",
       "    </tr>\n",
       "  </thead>\n",
       "  <tbody>\n",
       "    <tr>\n",
       "      <th>0</th>\n",
       "      <td>2</td>\n",
       "      <td>Afghanistan</td>\n",
       "      <td>221</td>\n",
       "      <td>Almonds, with shell</td>\n",
       "      <td>5312</td>\n",
       "      <td>Area harvested</td>\n",
       "      <td>ha</td>\n",
       "      <td>NaN</td>\n",
       "      <td>NaN</td>\n",
       "      <td>NaN</td>\n",
       "      <td>...</td>\n",
       "      <td>14676.0</td>\n",
       "      <td>NaN</td>\n",
       "      <td>19481.0</td>\n",
       "      <td>NaN</td>\n",
       "      <td>19793.0</td>\n",
       "      <td>NaN</td>\n",
       "      <td>20053.0</td>\n",
       "      <td>NaN</td>\n",
       "      <td>29203.0</td>\n",
       "      <td>NaN</td>\n",
       "    </tr>\n",
       "    <tr>\n",
       "      <th>1</th>\n",
       "      <td>2</td>\n",
       "      <td>Afghanistan</td>\n",
       "      <td>221</td>\n",
       "      <td>Almonds, with shell</td>\n",
       "      <td>5419</td>\n",
       "      <td>Yield</td>\n",
       "      <td>hg/ha</td>\n",
       "      <td>NaN</td>\n",
       "      <td>NaN</td>\n",
       "      <td>NaN</td>\n",
       "      <td>...</td>\n",
       "      <td>16521.0</td>\n",
       "      <td>Fc</td>\n",
       "      <td>16859.0</td>\n",
       "      <td>Fc</td>\n",
       "      <td>13788.0</td>\n",
       "      <td>Fc</td>\n",
       "      <td>17161.0</td>\n",
       "      <td>Fc</td>\n",
       "      <td>13083.0</td>\n",
       "      <td>Fc</td>\n",
       "    </tr>\n",
       "    <tr>\n",
       "      <th>2</th>\n",
       "      <td>2</td>\n",
       "      <td>Afghanistan</td>\n",
       "      <td>221</td>\n",
       "      <td>Almonds, with shell</td>\n",
       "      <td>5510</td>\n",
       "      <td>Production</td>\n",
       "      <td>tonnes</td>\n",
       "      <td>NaN</td>\n",
       "      <td>NaN</td>\n",
       "      <td>NaN</td>\n",
       "      <td>...</td>\n",
       "      <td>24246.0</td>\n",
       "      <td>NaN</td>\n",
       "      <td>32843.0</td>\n",
       "      <td>NaN</td>\n",
       "      <td>27291.0</td>\n",
       "      <td>NaN</td>\n",
       "      <td>34413.0</td>\n",
       "      <td>NaN</td>\n",
       "      <td>38205.0</td>\n",
       "      <td>NaN</td>\n",
       "    </tr>\n",
       "    <tr>\n",
       "      <th>3</th>\n",
       "      <td>2</td>\n",
       "      <td>Afghanistan</td>\n",
       "      <td>711</td>\n",
       "      <td>Anise, badian, fennel, coriander</td>\n",
       "      <td>5312</td>\n",
       "      <td>Area harvested</td>\n",
       "      <td>ha</td>\n",
       "      <td>NaN</td>\n",
       "      <td>M</td>\n",
       "      <td>NaN</td>\n",
       "      <td>...</td>\n",
       "      <td>25000.0</td>\n",
       "      <td>F</td>\n",
       "      <td>25787.0</td>\n",
       "      <td>Im</td>\n",
       "      <td>28398.0</td>\n",
       "      <td>Im</td>\n",
       "      <td>26725.0</td>\n",
       "      <td>Im</td>\n",
       "      <td>27562.0</td>\n",
       "      <td>Im</td>\n",
       "    </tr>\n",
       "    <tr>\n",
       "      <th>4</th>\n",
       "      <td>2</td>\n",
       "      <td>Afghanistan</td>\n",
       "      <td>711</td>\n",
       "      <td>Anise, badian, fennel, coriander</td>\n",
       "      <td>5419</td>\n",
       "      <td>Yield</td>\n",
       "      <td>hg/ha</td>\n",
       "      <td>NaN</td>\n",
       "      <td>NaN</td>\n",
       "      <td>NaN</td>\n",
       "      <td>...</td>\n",
       "      <td>7200.0</td>\n",
       "      <td>Fc</td>\n",
       "      <td>6982.0</td>\n",
       "      <td>Fc</td>\n",
       "      <td>6863.0</td>\n",
       "      <td>Fc</td>\n",
       "      <td>6898.0</td>\n",
       "      <td>Fc</td>\n",
       "      <td>6903.0</td>\n",
       "      <td>Fc</td>\n",
       "    </tr>\n",
       "  </tbody>\n",
       "</table>\n",
       "<p>5 rows × 125 columns</p>\n",
       "</div>"
      ],
      "text/plain": [
       "   area_code         area  item_code                              item  \\\n",
       "0          2  Afghanistan        221               Almonds, with shell   \n",
       "1          2  Afghanistan        221               Almonds, with shell   \n",
       "2          2  Afghanistan        221               Almonds, with shell   \n",
       "3          2  Afghanistan        711  Anise, badian, fennel, coriander   \n",
       "4          2  Afghanistan        711  Anise, badian, fennel, coriander   \n",
       "\n",
       "   element_code         element    unit  y1961 y1961f  y1962  ...    y2015  \\\n",
       "0          5312  Area harvested      ha    NaN    NaN    NaN  ...  14676.0   \n",
       "1          5419           Yield   hg/ha    NaN    NaN    NaN  ...  16521.0   \n",
       "2          5510      Production  tonnes    NaN    NaN    NaN  ...  24246.0   \n",
       "3          5312  Area harvested      ha    NaN      M    NaN  ...  25000.0   \n",
       "4          5419           Yield   hg/ha    NaN    NaN    NaN  ...   7200.0   \n",
       "\n",
       "   y2015f    y2016  y2016f    y2017  y2017f    y2018  y2018f    y2019  y2019f  \n",
       "0     NaN  19481.0     NaN  19793.0     NaN  20053.0     NaN  29203.0     NaN  \n",
       "1      Fc  16859.0      Fc  13788.0      Fc  17161.0      Fc  13083.0      Fc  \n",
       "2     NaN  32843.0     NaN  27291.0     NaN  34413.0     NaN  38205.0     NaN  \n",
       "3       F  25787.0      Im  28398.0      Im  26725.0      Im  27562.0      Im  \n",
       "4      Fc   6982.0      Fc   6863.0      Fc   6898.0      Fc   6903.0      Fc  \n",
       "\n",
       "[5 rows x 125 columns]"
      ]
     },
     "execution_count": 7,
     "metadata": {},
     "output_type": "execute_result"
    }
   ],
   "source": [
    "asia.head()"
   ]
  },
  {
   "attachments": {},
   "cell_type": "markdown",
   "metadata": {},
   "source": [
    "- Creating List of Columns to Melt"
   ]
  },
  {
   "cell_type": "code",
   "execution_count": 8,
   "metadata": {},
   "outputs": [],
   "source": [
    "# for loop to make years list\n",
    "count = 1960\n",
    "years_list = []\n",
    "flag_list = []\n",
    "for i in range(1,60):\n",
    "    count += 1\n",
    "    years_list.append(f\"y{count}\")\n",
    "count = 1960\n",
    "for i in range(1,60):\n",
    "    count += 1\n",
    "    flag_list.append(f\"y{count}f\")"
   ]
  },
  {
   "attachments": {},
   "cell_type": "markdown",
   "metadata": {},
   "source": [
    "- Melting Columns Into Rows"
   ]
  },
  {
   "cell_type": "code",
   "execution_count": 9,
   "metadata": {},
   "outputs": [],
   "source": [
    "asia_wide = asia.melt(id_vars = [\"area_code\",\"area\",\"item_code\",\"item\",\"element_code\",\"element\", \"unit\"],value_vars= years_list, var_name=\"year\", value_name=\"quantity\")"
   ]
  },
  {
   "attachments": {},
   "cell_type": "markdown",
   "metadata": {},
   "source": [
    " - Removing String From Year Column and Converting To Integer"
   ]
  },
  {
   "cell_type": "code",
   "execution_count": 10,
   "metadata": {},
   "outputs": [],
   "source": [
    "asia_wide[\"year\"] = asia_wide.year.str.removeprefix(\"y\")"
   ]
  },
  {
   "cell_type": "code",
   "execution_count": 11,
   "metadata": {},
   "outputs": [],
   "source": [
    "asia_wide[\"year\"] = asia_wide.year.astype(\"int\")"
   ]
  },
  {
   "attachments": {},
   "cell_type": "markdown",
   "metadata": {},
   "source": [
    "- Investegating for Null Values"
   ]
  },
  {
   "cell_type": "code",
   "execution_count": 12,
   "metadata": {},
   "outputs": [
    {
     "data": {
      "text/html": [
       "<div>\n",
       "<style scoped>\n",
       "    .dataframe tbody tr th:only-of-type {\n",
       "        vertical-align: middle;\n",
       "    }\n",
       "\n",
       "    .dataframe tbody tr th {\n",
       "        vertical-align: top;\n",
       "    }\n",
       "\n",
       "    .dataframe thead th {\n",
       "        text-align: right;\n",
       "    }\n",
       "</style>\n",
       "<table border=\"1\" class=\"dataframe\">\n",
       "  <thead>\n",
       "    <tr style=\"text-align: right;\">\n",
       "      <th></th>\n",
       "      <th>area_code</th>\n",
       "      <th>area</th>\n",
       "      <th>item_code</th>\n",
       "      <th>item</th>\n",
       "      <th>element_code</th>\n",
       "      <th>element</th>\n",
       "      <th>unit</th>\n",
       "      <th>year</th>\n",
       "      <th>quantity</th>\n",
       "    </tr>\n",
       "  </thead>\n",
       "  <tbody>\n",
       "    <tr>\n",
       "      <th>0</th>\n",
       "      <td>2</td>\n",
       "      <td>Afghanistan</td>\n",
       "      <td>221</td>\n",
       "      <td>Almonds, with shell</td>\n",
       "      <td>5312</td>\n",
       "      <td>Area harvested</td>\n",
       "      <td>ha</td>\n",
       "      <td>1961</td>\n",
       "      <td>NaN</td>\n",
       "    </tr>\n",
       "    <tr>\n",
       "      <th>1</th>\n",
       "      <td>2</td>\n",
       "      <td>Afghanistan</td>\n",
       "      <td>221</td>\n",
       "      <td>Almonds, with shell</td>\n",
       "      <td>5419</td>\n",
       "      <td>Yield</td>\n",
       "      <td>hg/ha</td>\n",
       "      <td>1961</td>\n",
       "      <td>NaN</td>\n",
       "    </tr>\n",
       "    <tr>\n",
       "      <th>2</th>\n",
       "      <td>2</td>\n",
       "      <td>Afghanistan</td>\n",
       "      <td>221</td>\n",
       "      <td>Almonds, with shell</td>\n",
       "      <td>5510</td>\n",
       "      <td>Production</td>\n",
       "      <td>tonnes</td>\n",
       "      <td>1961</td>\n",
       "      <td>NaN</td>\n",
       "    </tr>\n",
       "    <tr>\n",
       "      <th>3</th>\n",
       "      <td>2</td>\n",
       "      <td>Afghanistan</td>\n",
       "      <td>711</td>\n",
       "      <td>Anise, badian, fennel, coriander</td>\n",
       "      <td>5312</td>\n",
       "      <td>Area harvested</td>\n",
       "      <td>ha</td>\n",
       "      <td>1961</td>\n",
       "      <td>NaN</td>\n",
       "    </tr>\n",
       "    <tr>\n",
       "      <th>4</th>\n",
       "      <td>2</td>\n",
       "      <td>Afghanistan</td>\n",
       "      <td>711</td>\n",
       "      <td>Anise, badian, fennel, coriander</td>\n",
       "      <td>5419</td>\n",
       "      <td>Yield</td>\n",
       "      <td>hg/ha</td>\n",
       "      <td>1961</td>\n",
       "      <td>NaN</td>\n",
       "    </tr>\n",
       "    <tr>\n",
       "      <th>...</th>\n",
       "      <td>...</td>\n",
       "      <td>...</td>\n",
       "      <td>...</td>\n",
       "      <td>...</td>\n",
       "      <td>...</td>\n",
       "      <td>...</td>\n",
       "      <td>...</td>\n",
       "      <td>...</td>\n",
       "      <td>...</td>\n",
       "    </tr>\n",
       "    <tr>\n",
       "      <th>568637</th>\n",
       "      <td>249</td>\n",
       "      <td>Yemen</td>\n",
       "      <td>1729</td>\n",
       "      <td>Treenuts, Total</td>\n",
       "      <td>5419</td>\n",
       "      <td>Yield</td>\n",
       "      <td>hg/ha</td>\n",
       "      <td>2019</td>\n",
       "      <td>17516.0</td>\n",
       "    </tr>\n",
       "    <tr>\n",
       "      <th>568638</th>\n",
       "      <td>249</td>\n",
       "      <td>Yemen</td>\n",
       "      <td>1729</td>\n",
       "      <td>Treenuts, Total</td>\n",
       "      <td>5510</td>\n",
       "      <td>Production</td>\n",
       "      <td>tonnes</td>\n",
       "      <td>2019</td>\n",
       "      <td>11340.0</td>\n",
       "    </tr>\n",
       "    <tr>\n",
       "      <th>568639</th>\n",
       "      <td>249</td>\n",
       "      <td>Yemen</td>\n",
       "      <td>1735</td>\n",
       "      <td>Vegetables Primary</td>\n",
       "      <td>5312</td>\n",
       "      <td>Area harvested</td>\n",
       "      <td>ha</td>\n",
       "      <td>2019</td>\n",
       "      <td>41528.0</td>\n",
       "    </tr>\n",
       "    <tr>\n",
       "      <th>568640</th>\n",
       "      <td>249</td>\n",
       "      <td>Yemen</td>\n",
       "      <td>1735</td>\n",
       "      <td>Vegetables Primary</td>\n",
       "      <td>5419</td>\n",
       "      <td>Yield</td>\n",
       "      <td>hg/ha</td>\n",
       "      <td>2019</td>\n",
       "      <td>115155.0</td>\n",
       "    </tr>\n",
       "    <tr>\n",
       "      <th>568641</th>\n",
       "      <td>249</td>\n",
       "      <td>Yemen</td>\n",
       "      <td>1735</td>\n",
       "      <td>Vegetables Primary</td>\n",
       "      <td>5510</td>\n",
       "      <td>Production</td>\n",
       "      <td>tonnes</td>\n",
       "      <td>2019</td>\n",
       "      <td>478214.0</td>\n",
       "    </tr>\n",
       "  </tbody>\n",
       "</table>\n",
       "<p>568642 rows × 9 columns</p>\n",
       "</div>"
      ],
      "text/plain": [
       "        area_code         area  item_code                              item  \\\n",
       "0               2  Afghanistan        221               Almonds, with shell   \n",
       "1               2  Afghanistan        221               Almonds, with shell   \n",
       "2               2  Afghanistan        221               Almonds, with shell   \n",
       "3               2  Afghanistan        711  Anise, badian, fennel, coriander   \n",
       "4               2  Afghanistan        711  Anise, badian, fennel, coriander   \n",
       "...           ...          ...        ...                               ...   \n",
       "568637        249        Yemen       1729                   Treenuts, Total   \n",
       "568638        249        Yemen       1729                   Treenuts, Total   \n",
       "568639        249        Yemen       1735                Vegetables Primary   \n",
       "568640        249        Yemen       1735                Vegetables Primary   \n",
       "568641        249        Yemen       1735                Vegetables Primary   \n",
       "\n",
       "        element_code         element    unit  year  quantity  \n",
       "0               5312  Area harvested      ha  1961       NaN  \n",
       "1               5419           Yield   hg/ha  1961       NaN  \n",
       "2               5510      Production  tonnes  1961       NaN  \n",
       "3               5312  Area harvested      ha  1961       NaN  \n",
       "4               5419           Yield   hg/ha  1961       NaN  \n",
       "...              ...             ...     ...   ...       ...  \n",
       "568637          5419           Yield   hg/ha  2019   17516.0  \n",
       "568638          5510      Production  tonnes  2019   11340.0  \n",
       "568639          5312  Area harvested      ha  2019   41528.0  \n",
       "568640          5419           Yield   hg/ha  2019  115155.0  \n",
       "568641          5510      Production  tonnes  2019  478214.0  \n",
       "\n",
       "[568642 rows x 9 columns]"
      ]
     },
     "execution_count": 12,
     "metadata": {},
     "output_type": "execute_result"
    }
   ],
   "source": [
    "asia_wide"
   ]
  },
  {
   "attachments": {},
   "cell_type": "markdown",
   "metadata": {},
   "source": [
    "- Plotting Heatmap of Null Values In Dataset"
   ]
  },
  {
   "cell_type": "code",
   "execution_count": 13,
   "metadata": {},
   "outputs": [
    {
     "data": {
      "image/png": "[encoded data removed]",
      "text/plain": [
       "<Figure size 1200x800 with 1 Axes>"
      ]
     },
     "metadata": {},
     "output_type": "display_data"
    }
   ],
   "source": [
    "plt.figure(figsize = (12,8))\n",
    "sns.heatmap(data = asia_wide.isnull(),yticklabels= False, cbar=False,cmap=\"viridis\")\n",
    "plt.title(\"Asia Null Values\");"
   ]
  },
  {
   "attachments": {},
   "cell_type": "markdown",
   "metadata": {},
   "source": [
    "### 3.2. Final observations\n",
    "Variables to transform prior to analysis:\n",
    "- Reshape the dataframe to make the analysis easier\n",
    "- Represent the null values in a heat map\n",
    "- Due to some areas not producing crops or climate change it created null values in the dataset and was handled by replacing it with 0.\n",
    "- Assign element to production only\n",
    "- Delete unnecessary columns which are area_code, item_code and element_code\n",
    "- Remove the prefix from the year and convert the data type to integer"
   ]
  },
  {
   "attachments": {},
   "cell_type": "markdown",
   "metadata": {},
   "source": [
    "### 4. Data Normalization\n",
    "\n",
    "4.1. Missing Data "
   ]
  },
  {
   "attachments": {},
   "cell_type": "markdown",
   "metadata": {},
   "source": [
    "- Filling in the nulls"
   ]
  },
  {
   "cell_type": "code",
   "execution_count": 14,
   "metadata": {},
   "outputs": [],
   "source": [
    "asia_wide.quantity.fillna(0,inplace=True)"
   ]
  },
  {
   "cell_type": "code",
   "execution_count": 15,
   "metadata": {},
   "outputs": [
    {
     "data": {
      "text/plain": [
       "area_code       0\n",
       "area            0\n",
       "item_code       0\n",
       "item            0\n",
       "element_code    0\n",
       "element         0\n",
       "unit            0\n",
       "year            0\n",
       "quantity        0\n",
       "dtype: int64"
      ]
     },
     "execution_count": 15,
     "metadata": {},
     "output_type": "execute_result"
    }
   ],
   "source": [
    "asia_wide.isnull().sum()"
   ]
  },
  {
   "attachments": {},
   "cell_type": "markdown",
   "metadata": {},
   "source": [
    "- Assigning Production Element To A Variable"
   ]
  },
  {
   "cell_type": "code",
   "execution_count": 16,
   "metadata": {},
   "outputs": [],
   "source": [
    "asia_production = asia_wide[asia_wide[\"element\"] == \"Production\"]"
   ]
  },
  {
   "cell_type": "code",
   "execution_count": 17,
   "metadata": {},
   "outputs": [
    {
     "name": "stderr",
     "output_type": "stream",
     "text": [
      "C:\\Users\\halee\\AppData\\Local\\Temp\\ipykernel_16444\\2307432003.py:1: SettingWithCopyWarning: \n",
      "A value is trying to be set on a copy of a slice from a DataFrame\n",
      "\n",
      "See the caveats in the documentation: https://pandas.pydata.org/pandas-docs/stable/user_guide/indexing.html#returning-a-view-versus-a-copy\n",
      "  asia_production.drop(axis=1, labels=[\"area_code\",\"item_code\",\"element_code\"],inplace=True)\n"
     ]
    }
   ],
   "source": [
    "asia_production.drop(axis=1, labels=[\"area_code\",\"item_code\",\"element_code\"],inplace=True)"
   ]
  },
  {
   "cell_type": "code",
   "execution_count": 18,
   "metadata": {},
   "outputs": [
    {
     "data": {
      "text/html": [
       "<div>\n",
       "<style scoped>\n",
       "    .dataframe tbody tr th:only-of-type {\n",
       "        vertical-align: middle;\n",
       "    }\n",
       "\n",
       "    .dataframe tbody tr th {\n",
       "        vertical-align: top;\n",
       "    }\n",
       "\n",
       "    .dataframe thead th {\n",
       "        text-align: right;\n",
       "    }\n",
       "</style>\n",
       "<table border=\"1\" class=\"dataframe\">\n",
       "  <thead>\n",
       "    <tr style=\"text-align: right;\">\n",
       "      <th></th>\n",
       "      <th>area</th>\n",
       "      <th>item</th>\n",
       "      <th>element</th>\n",
       "      <th>unit</th>\n",
       "      <th>year</th>\n",
       "      <th>quantity</th>\n",
       "    </tr>\n",
       "  </thead>\n",
       "  <tbody>\n",
       "    <tr>\n",
       "      <th>481875</th>\n",
       "      <td>Yemen</td>\n",
       "      <td>Fruit Primary</td>\n",
       "      <td>Production</td>\n",
       "      <td>tonnes</td>\n",
       "      <td>2010</td>\n",
       "      <td>1253538.0</td>\n",
       "    </tr>\n",
       "    <tr>\n",
       "      <th>501151</th>\n",
       "      <td>Yemen</td>\n",
       "      <td>Fruit Primary</td>\n",
       "      <td>Production</td>\n",
       "      <td>tonnes</td>\n",
       "      <td>2012</td>\n",
       "      <td>1210468.0</td>\n",
       "    </tr>\n",
       "    <tr>\n",
       "      <th>510789</th>\n",
       "      <td>Yemen</td>\n",
       "      <td>Fruit Primary</td>\n",
       "      <td>Production</td>\n",
       "      <td>tonnes</td>\n",
       "      <td>2013</td>\n",
       "      <td>1207117.0</td>\n",
       "    </tr>\n",
       "    <tr>\n",
       "      <th>144536</th>\n",
       "      <td>Yemen</td>\n",
       "      <td>Cereals, Total</td>\n",
       "      <td>Production</td>\n",
       "      <td>tonnes</td>\n",
       "      <td>1975</td>\n",
       "      <td>1199953.0</td>\n",
       "    </tr>\n",
       "    <tr>\n",
       "      <th>472237</th>\n",
       "      <td>Yemen</td>\n",
       "      <td>Fruit Primary</td>\n",
       "      <td>Production</td>\n",
       "      <td>tonnes</td>\n",
       "      <td>2009</td>\n",
       "      <td>1185248.0</td>\n",
       "    </tr>\n",
       "    <tr>\n",
       "      <th>...</th>\n",
       "      <td>...</td>\n",
       "      <td>...</td>\n",
       "      <td>...</td>\n",
       "      <td>...</td>\n",
       "      <td>...</td>\n",
       "      <td>...</td>\n",
       "    </tr>\n",
       "    <tr>\n",
       "      <th>520569</th>\n",
       "      <td>Afghanistan</td>\n",
       "      <td>Fibre Crops Primary</td>\n",
       "      <td>Production</td>\n",
       "      <td>tonnes</td>\n",
       "      <td>2015</td>\n",
       "      <td>0.0</td>\n",
       "    </tr>\n",
       "    <tr>\n",
       "      <th>530207</th>\n",
       "      <td>Afghanistan</td>\n",
       "      <td>Fibre Crops Primary</td>\n",
       "      <td>Production</td>\n",
       "      <td>tonnes</td>\n",
       "      <td>2016</td>\n",
       "      <td>0.0</td>\n",
       "    </tr>\n",
       "    <tr>\n",
       "      <th>539845</th>\n",
       "      <td>Afghanistan</td>\n",
       "      <td>Fibre Crops Primary</td>\n",
       "      <td>Production</td>\n",
       "      <td>tonnes</td>\n",
       "      <td>2017</td>\n",
       "      <td>0.0</td>\n",
       "    </tr>\n",
       "    <tr>\n",
       "      <th>549483</th>\n",
       "      <td>Afghanistan</td>\n",
       "      <td>Fibre Crops Primary</td>\n",
       "      <td>Production</td>\n",
       "      <td>tonnes</td>\n",
       "      <td>2018</td>\n",
       "      <td>0.0</td>\n",
       "    </tr>\n",
       "    <tr>\n",
       "      <th>559121</th>\n",
       "      <td>Afghanistan</td>\n",
       "      <td>Fibre Crops Primary</td>\n",
       "      <td>Production</td>\n",
       "      <td>tonnes</td>\n",
       "      <td>2019</td>\n",
       "      <td>0.0</td>\n",
       "    </tr>\n",
       "  </tbody>\n",
       "</table>\n",
       "<p>194405 rows × 6 columns</p>\n",
       "</div>"
      ],
      "text/plain": [
       "               area                 item     element    unit  year   quantity\n",
       "481875        Yemen        Fruit Primary  Production  tonnes  2010  1253538.0\n",
       "501151        Yemen        Fruit Primary  Production  tonnes  2012  1210468.0\n",
       "510789        Yemen        Fruit Primary  Production  tonnes  2013  1207117.0\n",
       "144536        Yemen       Cereals, Total  Production  tonnes  1975  1199953.0\n",
       "472237        Yemen        Fruit Primary  Production  tonnes  2009  1185248.0\n",
       "...             ...                  ...         ...     ...   ...        ...\n",
       "520569  Afghanistan  Fibre Crops Primary  Production  tonnes  2015        0.0\n",
       "530207  Afghanistan  Fibre Crops Primary  Production  tonnes  2016        0.0\n",
       "539845  Afghanistan  Fibre Crops Primary  Production  tonnes  2017        0.0\n",
       "549483  Afghanistan  Fibre Crops Primary  Production  tonnes  2018        0.0\n",
       "559121  Afghanistan  Fibre Crops Primary  Production  tonnes  2019        0.0\n",
       "\n",
       "[194405 rows x 6 columns]"
      ]
     },
     "execution_count": 18,
     "metadata": {},
     "output_type": "execute_result"
    }
   ],
   "source": [
    "asia_production.sort_values(by = [\"area\",\"quantity\"],ascending=False)"
   ]
  },
  {
   "attachments": {},
   "cell_type": "markdown",
   "metadata": {},
   "source": [
    "- Selecting The Most Recent 10 Years Of The Data"
   ]
  },
  {
   "cell_type": "code",
   "execution_count": 19,
   "metadata": {},
   "outputs": [],
   "source": [
    "asia_last_10_yrs = asia_production[asia_production[\"year\"] > 2008]"
   ]
  },
  {
   "attachments": {},
   "cell_type": "markdown",
   "metadata": {},
   "source": [
    "- Created a dataframe which only includes China"
   ]
  },
  {
   "cell_type": "code",
   "execution_count": 20,
   "metadata": {},
   "outputs": [
    {
     "data": {
      "text/html": [
       "<div>\n",
       "<style scoped>\n",
       "    .dataframe tbody tr th:only-of-type {\n",
       "        vertical-align: middle;\n",
       "    }\n",
       "\n",
       "    .dataframe tbody tr th {\n",
       "        vertical-align: top;\n",
       "    }\n",
       "\n",
       "    .dataframe thead th {\n",
       "        text-align: right;\n",
       "    }\n",
       "</style>\n",
       "<table border=\"1\" class=\"dataframe\">\n",
       "  <thead>\n",
       "    <tr style=\"text-align: right;\">\n",
       "      <th></th>\n",
       "      <th>area</th>\n",
       "      <th>item</th>\n",
       "      <th>element</th>\n",
       "      <th>unit</th>\n",
       "      <th>year</th>\n",
       "      <th>quantity</th>\n",
       "    </tr>\n",
       "  </thead>\n",
       "  <tbody>\n",
       "    <tr>\n",
       "      <th>463970</th>\n",
       "      <td>China, mainland</td>\n",
       "      <td>Almonds, with shell</td>\n",
       "      <td>Production</td>\n",
       "      <td>tonnes</td>\n",
       "      <td>2009</td>\n",
       "      <td>35000.0</td>\n",
       "    </tr>\n",
       "    <tr>\n",
       "      <th>463973</th>\n",
       "      <td>China, mainland</td>\n",
       "      <td>Anise, badian, fennel, coriander</td>\n",
       "      <td>Production</td>\n",
       "      <td>tonnes</td>\n",
       "      <td>2009</td>\n",
       "      <td>42000.0</td>\n",
       "    </tr>\n",
       "    <tr>\n",
       "      <th>463976</th>\n",
       "      <td>China, mainland</td>\n",
       "      <td>Apples</td>\n",
       "      <td>Production</td>\n",
       "      <td>tonnes</td>\n",
       "      <td>2009</td>\n",
       "      <td>31680788.0</td>\n",
       "    </tr>\n",
       "    <tr>\n",
       "      <th>463979</th>\n",
       "      <td>China, mainland</td>\n",
       "      <td>Apricots</td>\n",
       "      <td>Production</td>\n",
       "      <td>tonnes</td>\n",
       "      <td>2009</td>\n",
       "      <td>43000.0</td>\n",
       "    </tr>\n",
       "    <tr>\n",
       "      <th>463982</th>\n",
       "      <td>China, mainland</td>\n",
       "      <td>Artichokes</td>\n",
       "      <td>Production</td>\n",
       "      <td>tonnes</td>\n",
       "      <td>2009</td>\n",
       "      <td>63000.0</td>\n",
       "    </tr>\n",
       "    <tr>\n",
       "      <th>...</th>\n",
       "      <td>...</td>\n",
       "      <td>...</td>\n",
       "      <td>...</td>\n",
       "      <td>...</td>\n",
       "      <td>...</td>\n",
       "      <td>...</td>\n",
       "    </tr>\n",
       "    <tr>\n",
       "      <th>560733</th>\n",
       "      <td>China, mainland</td>\n",
       "      <td>Pulses, Total</td>\n",
       "      <td>Production</td>\n",
       "      <td>tonnes</td>\n",
       "      <td>2019</td>\n",
       "      <td>4835388.0</td>\n",
       "    </tr>\n",
       "    <tr>\n",
       "      <th>560736</th>\n",
       "      <td>China, mainland</td>\n",
       "      <td>Roots and Tubers, Total</td>\n",
       "      <td>Production</td>\n",
       "      <td>tonnes</td>\n",
       "      <td>2019</td>\n",
       "      <td>150550882.0</td>\n",
       "    </tr>\n",
       "    <tr>\n",
       "      <th>560739</th>\n",
       "      <td>China, mainland</td>\n",
       "      <td>Sugar Crops Primary</td>\n",
       "      <td>Production</td>\n",
       "      <td>tonnes</td>\n",
       "      <td>2019</td>\n",
       "      <td>121661000.0</td>\n",
       "    </tr>\n",
       "    <tr>\n",
       "      <th>560742</th>\n",
       "      <td>China, mainland</td>\n",
       "      <td>Treenuts, Total</td>\n",
       "      <td>Production</td>\n",
       "      <td>tonnes</td>\n",
       "      <td>2019</td>\n",
       "      <td>4722254.0</td>\n",
       "    </tr>\n",
       "    <tr>\n",
       "      <th>560745</th>\n",
       "      <td>China, mainland</td>\n",
       "      <td>Vegetables Primary</td>\n",
       "      <td>Production</td>\n",
       "      <td>tonnes</td>\n",
       "      <td>2019</td>\n",
       "      <td>588264053.0</td>\n",
       "    </tr>\n",
       "  </tbody>\n",
       "</table>\n",
       "<p>1474 rows × 6 columns</p>\n",
       "</div>"
      ],
      "text/plain": [
       "                   area                              item     element    unit  \\\n",
       "463970  China, mainland               Almonds, with shell  Production  tonnes   \n",
       "463973  China, mainland  Anise, badian, fennel, coriander  Production  tonnes   \n",
       "463976  China, mainland                            Apples  Production  tonnes   \n",
       "463979  China, mainland                          Apricots  Production  tonnes   \n",
       "463982  China, mainland                        Artichokes  Production  tonnes   \n",
       "...                 ...                               ...         ...     ...   \n",
       "560733  China, mainland                     Pulses, Total  Production  tonnes   \n",
       "560736  China, mainland           Roots and Tubers, Total  Production  tonnes   \n",
       "560739  China, mainland               Sugar Crops Primary  Production  tonnes   \n",
       "560742  China, mainland                   Treenuts, Total  Production  tonnes   \n",
       "560745  China, mainland                Vegetables Primary  Production  tonnes   \n",
       "\n",
       "        year     quantity  \n",
       "463970  2009      35000.0  \n",
       "463973  2009      42000.0  \n",
       "463976  2009   31680788.0  \n",
       "463979  2009      43000.0  \n",
       "463982  2009      63000.0  \n",
       "...      ...          ...  \n",
       "560733  2019    4835388.0  \n",
       "560736  2019  150550882.0  \n",
       "560739  2019  121661000.0  \n",
       "560742  2019    4722254.0  \n",
       "560745  2019  588264053.0  \n",
       "\n",
       "[1474 rows x 6 columns]"
      ]
     },
     "execution_count": 20,
     "metadata": {},
     "output_type": "execute_result"
    }
   ],
   "source": [
    "china = asia_last_10_yrs[asia_last_10_yrs[\"area\"] == \"China, mainland\"]\n",
    "china"
   ]
  },
  {
   "attachments": {},
   "cell_type": "markdown",
   "metadata": {},
   "source": [
    "# QUESTIONS"
   ]
  },
  {
   "attachments": {},
   "cell_type": "markdown",
   "metadata": {},
   "source": [
    "### 1- Crop Production By Country By Tonnes"
   ]
  },
  {
   "cell_type": "code",
   "execution_count": 21,
   "metadata": {},
   "outputs": [
    {
     "name": "stderr",
     "output_type": "stream",
     "text": [
      "C:\\Users\\halee\\AppData\\Local\\Packages\\PythonSoftwareFoundation.Python.3.10_qbz5n2kfra8p0\\LocalCache\\local-packages\\Python310\\site-packages\\pandas\\core\\dtypes\\astype.py:189: RuntimeWarning: invalid value encountered in cast\n",
      "  return values.astype(dtype, copy=copy)\n"
     ]
    },
    {
     "data": {
      "text/html": [
       "<div>\n",
       "<style scoped>\n",
       "    .dataframe tbody tr th:only-of-type {\n",
       "        vertical-align: middle;\n",
       "    }\n",
       "\n",
       "    .dataframe tbody tr th {\n",
       "        vertical-align: top;\n",
       "    }\n",
       "\n",
       "    .dataframe thead th {\n",
       "        text-align: right;\n",
       "    }\n",
       "</style>\n",
       "<table border=\"1\" class=\"dataframe\">\n",
       "  <thead>\n",
       "    <tr style=\"text-align: right;\">\n",
       "      <th></th>\n",
       "      <th>quantity</th>\n",
       "    </tr>\n",
       "    <tr>\n",
       "      <th>area</th>\n",
       "      <th></th>\n",
       "    </tr>\n",
       "  </thead>\n",
       "  <tbody>\n",
       "    <tr>\n",
       "      <th>China, mainland</th>\n",
       "      <td>-2,147,483,648</td>\n",
       "    </tr>\n",
       "    <tr>\n",
       "      <th>India</th>\n",
       "      <td>-2,147,483,648</td>\n",
       "    </tr>\n",
       "    <tr>\n",
       "      <th>Indonesia</th>\n",
       "      <td>-2,147,483,648</td>\n",
       "    </tr>\n",
       "    <tr>\n",
       "      <th>Thailand</th>\n",
       "      <td>-2,147,483,648</td>\n",
       "    </tr>\n",
       "    <tr>\n",
       "      <th>Pakistan</th>\n",
       "      <td>-2,147,483,648</td>\n",
       "    </tr>\n",
       "    <tr>\n",
       "      <th>Turkey</th>\n",
       "      <td>-2,147,483,648</td>\n",
       "    </tr>\n",
       "    <tr>\n",
       "      <th>Philippines</th>\n",
       "      <td>-2,147,483,648</td>\n",
       "    </tr>\n",
       "    <tr>\n",
       "      <th>Viet Nam</th>\n",
       "      <td>-2,147,483,648</td>\n",
       "    </tr>\n",
       "    <tr>\n",
       "      <th>Bangladesh</th>\n",
       "      <td>-2,147,483,648</td>\n",
       "    </tr>\n",
       "    <tr>\n",
       "      <th>Malaysia</th>\n",
       "      <td>-2,147,483,648</td>\n",
       "    </tr>\n",
       "  </tbody>\n",
       "</table>\n",
       "</div>"
      ],
      "text/plain": [
       "                       quantity\n",
       "area                           \n",
       "China, mainland  -2,147,483,648\n",
       "India            -2,147,483,648\n",
       "Indonesia        -2,147,483,648\n",
       "Thailand         -2,147,483,648\n",
       "Pakistan         -2,147,483,648\n",
       "Turkey           -2,147,483,648\n",
       "Philippines      -2,147,483,648\n",
       "Viet Nam         -2,147,483,648\n",
       "Bangladesh       -2,147,483,648\n",
       "Malaysia         -2,147,483,648"
      ]
     },
     "execution_count": 21,
     "metadata": {},
     "output_type": "execute_result"
    }
   ],
   "source": [
    "crop_per_country = pd.DataFrame(asia_production.groupby(by = [\"area\"]).quantity.sum().sort_values(ascending=False).head(10)).astype(\"int\")\n",
    "pd.DataFrame(crop_per_country.quantity.apply(lambda x : \"{:,}\".format(x)))"
   ]
  },
  {
   "cell_type": "code",
   "execution_count": 22,
   "metadata": {},
   "outputs": [
    {
     "data": {
      "image/png": "[encoded data removed]",
      "text/plain": [
       "<Figure size 640x480 with 1 Axes>"
      ]
     },
     "metadata": {},
     "output_type": "display_data"
    }
   ],
   "source": [
    "crop_per_country.plot(kind=\"bar\", color= '#e68484')\n",
    "plt.xticks(rotation = 45)\n",
    "plt.title(\"Crop Production By Country Per Tonne in 10 Billions\")\n",
    "plt.ylabel(\"tonnes\")\n",
    "plt.xlabel(\"country\");"
   ]
  },
  {
   "attachments": {},
   "cell_type": "markdown",
   "metadata": {},
   "source": [
    "Observation: The top producer within asia is China. It has produced around 116 Billion tonnes within the period of 1961 till 2019."
   ]
  },
  {
   "attachments": {},
   "cell_type": "markdown",
   "metadata": {},
   "source": [
    "### 2- Top 10 Products in Asia"
   ]
  },
  {
   "cell_type": "code",
   "execution_count": 23,
   "metadata": {},
   "outputs": [
    {
     "name": "stderr",
     "output_type": "stream",
     "text": [
      "C:\\Users\\halee\\AppData\\Local\\Packages\\PythonSoftwareFoundation.Python.3.10_qbz5n2kfra8p0\\LocalCache\\local-packages\\Python310\\site-packages\\pandas\\core\\dtypes\\astype.py:189: RuntimeWarning: invalid value encountered in cast\n",
      "  return values.astype(dtype, copy=copy)\n"
     ]
    }
   ],
   "source": [
    "top_10_asia = pd.DataFrame(asia_last_10_yrs.groupby(by = [\"item\"]).quantity.sum().sort_values(ascending=False).head(10)).astype(\"int\")"
   ]
  },
  {
   "cell_type": "code",
   "execution_count": 24,
   "metadata": {},
   "outputs": [
    {
     "data": {
      "text/html": [
       "<div>\n",
       "<style scoped>\n",
       "    .dataframe tbody tr th:only-of-type {\n",
       "        vertical-align: middle;\n",
       "    }\n",
       "\n",
       "    .dataframe tbody tr th {\n",
       "        vertical-align: top;\n",
       "    }\n",
       "\n",
       "    .dataframe thead th {\n",
       "        text-align: right;\n",
       "    }\n",
       "</style>\n",
       "<table border=\"1\" class=\"dataframe\">\n",
       "  <thead>\n",
       "    <tr style=\"text-align: right;\">\n",
       "      <th></th>\n",
       "      <th>item</th>\n",
       "      <th>quantity</th>\n",
       "    </tr>\n",
       "  </thead>\n",
       "  <tbody>\n",
       "    <tr>\n",
       "      <th>0</th>\n",
       "      <td>Cereals, Total</td>\n",
       "      <td>-2,147,483,648</td>\n",
       "    </tr>\n",
       "    <tr>\n",
       "      <th>1</th>\n",
       "      <td>Vegetables Primary</td>\n",
       "      <td>-2,147,483,648</td>\n",
       "    </tr>\n",
       "    <tr>\n",
       "      <th>2</th>\n",
       "      <td>Sugar Crops Primary</td>\n",
       "      <td>-2,147,483,648</td>\n",
       "    </tr>\n",
       "    <tr>\n",
       "      <th>3</th>\n",
       "      <td>Sugar cane</td>\n",
       "      <td>-2,147,483,648</td>\n",
       "    </tr>\n",
       "    <tr>\n",
       "      <th>4</th>\n",
       "      <td>Rice, paddy</td>\n",
       "      <td>-2,147,483,648</td>\n",
       "    </tr>\n",
       "    <tr>\n",
       "      <th>5</th>\n",
       "      <td>Oilcrops</td>\n",
       "      <td>-2,147,483,648</td>\n",
       "    </tr>\n",
       "    <tr>\n",
       "      <th>6</th>\n",
       "      <td>Fruit Primary</td>\n",
       "      <td>-2,147,483,648</td>\n",
       "    </tr>\n",
       "    <tr>\n",
       "      <th>7</th>\n",
       "      <td>Rice, paddy (rice milled equivalent)</td>\n",
       "      <td>-2,147,483,648</td>\n",
       "    </tr>\n",
       "    <tr>\n",
       "      <th>8</th>\n",
       "      <td>Roots and Tubers, Total</td>\n",
       "      <td>-2,147,483,648</td>\n",
       "    </tr>\n",
       "    <tr>\n",
       "      <th>9</th>\n",
       "      <td>Wheat</td>\n",
       "      <td>-2,147,483,648</td>\n",
       "    </tr>\n",
       "  </tbody>\n",
       "</table>\n",
       "</div>"
      ],
      "text/plain": [
       "                                   item        quantity\n",
       "0                        Cereals, Total  -2,147,483,648\n",
       "1                    Vegetables Primary  -2,147,483,648\n",
       "2                   Sugar Crops Primary  -2,147,483,648\n",
       "3                            Sugar cane  -2,147,483,648\n",
       "4                           Rice, paddy  -2,147,483,648\n",
       "5                              Oilcrops  -2,147,483,648\n",
       "6                         Fruit Primary  -2,147,483,648\n",
       "7  Rice, paddy (rice milled equivalent)  -2,147,483,648\n",
       "8               Roots and Tubers, Total  -2,147,483,648\n",
       "9                                 Wheat  -2,147,483,648"
      ]
     },
     "execution_count": 24,
     "metadata": {},
     "output_type": "execute_result"
    }
   ],
   "source": [
    "top_10_asia_df = pd.DataFrame(top_10_asia.quantity.apply(lambda x : \"{:,}\".format(x))).reset_index()\n",
    "top_10_asia_df"
   ]
  },
  {
   "cell_type": "code",
   "execution_count": 25,
   "metadata": {},
   "outputs": [
    {
     "data": {
      "image/png": "[encoded data removed]",
      "text/plain": [
       "<Figure size 640x480 with 1 Axes>"
      ]
     },
     "metadata": {},
     "output_type": "display_data"
    }
   ],
   "source": [
    "top_10_asia.plot(kind=\"barh\",color= \"#009999\")\n",
    "plt.xticks(rotation = 90)\n",
    "plt.xlabel(\"tonnes\")\n",
    "plt.ylabel(\"\")\n",
    "plt.title(\"Top 10 Crops Produced in Asia\");"
   ]
  },
  {
   "attachments": {},
   "cell_type": "markdown",
   "metadata": {},
   "source": [
    "Observation: Cereal has the highest amount of tonnes produced in Asia"
   ]
  },
  {
   "attachments": {},
   "cell_type": "markdown",
   "metadata": {},
   "source": [
    "### 3- Total Crops Produced From 1961 to 2019"
   ]
  },
  {
   "cell_type": "code",
   "execution_count": 26,
   "metadata": {},
   "outputs": [
    {
     "name": "stderr",
     "output_type": "stream",
     "text": [
      "C:\\Users\\halee\\AppData\\Local\\Packages\\PythonSoftwareFoundation.Python.3.10_qbz5n2kfra8p0\\LocalCache\\local-packages\\Python310\\site-packages\\pandas\\core\\dtypes\\astype.py:189: RuntimeWarning: invalid value encountered in cast\n",
      "  return values.astype(dtype, copy=copy)\n"
     ]
    },
    {
     "data": {
      "image/png": "[encoded data removed]",
      "text/plain": [
       "<Figure size 640x480 with 1 Axes>"
      ]
     },
     "metadata": {},
     "output_type": "display_data"
    }
   ],
   "source": [
    "asia_production_plot = pd.DataFrame(asia_production.groupby(by = [\"year\"]).quantity.sum().sort_values(ascending=False)).astype(\"int\")\n",
    "asia_production_plot.plot()\n",
    "plt.title(\"Crop Production Over the Years\")\n",
    "plt.xlabel(\"years\")\n",
    "plt.ylabel(\"tonnes\")\n",
    "plt.legend().remove();"
   ]
  },
  {
   "attachments": {},
   "cell_type": "markdown",
   "metadata": {},
   "source": [
    "Observation: Crop production has positively increased over the period of time in Asia."
   ]
  },
  {
   "attachments": {},
   "cell_type": "markdown",
   "metadata": {},
   "source": [
    "### 4- Growth of Cereal Over 10 Years"
   ]
  },
  {
   "cell_type": "code",
   "execution_count": 27,
   "metadata": {},
   "outputs": [
    {
     "data": {
      "text/html": [
       "<div>\n",
       "<style scoped>\n",
       "    .dataframe tbody tr th:only-of-type {\n",
       "        vertical-align: middle;\n",
       "    }\n",
       "\n",
       "    .dataframe tbody tr th {\n",
       "        vertical-align: top;\n",
       "    }\n",
       "\n",
       "    .dataframe thead th {\n",
       "        text-align: right;\n",
       "    }\n",
       "</style>\n",
       "<table border=\"1\" class=\"dataframe\">\n",
       "  <thead>\n",
       "    <tr style=\"text-align: right;\">\n",
       "      <th></th>\n",
       "      <th>area</th>\n",
       "      <th>item</th>\n",
       "      <th>element</th>\n",
       "      <th>unit</th>\n",
       "      <th>year</th>\n",
       "      <th>quantity</th>\n",
       "    </tr>\n",
       "  </thead>\n",
       "  <tbody>\n",
       "    <tr>\n",
       "      <th>111</th>\n",
       "      <td>Afghanistan</td>\n",
       "      <td>Cereals, Total</td>\n",
       "      <td>Production</td>\n",
       "      <td>tonnes</td>\n",
       "      <td>1961</td>\n",
       "      <td>3695000.0</td>\n",
       "    </tr>\n",
       "    <tr>\n",
       "      <th>279</th>\n",
       "      <td>Armenia</td>\n",
       "      <td>Cereals, Total</td>\n",
       "      <td>Production</td>\n",
       "      <td>tonnes</td>\n",
       "      <td>1961</td>\n",
       "      <td>0.0</td>\n",
       "    </tr>\n",
       "    <tr>\n",
       "      <th>505</th>\n",
       "      <td>Azerbaijan</td>\n",
       "      <td>Cereals, Total</td>\n",
       "      <td>Production</td>\n",
       "      <td>tonnes</td>\n",
       "      <td>1961</td>\n",
       "      <td>0.0</td>\n",
       "    </tr>\n",
       "    <tr>\n",
       "      <th>818</th>\n",
       "      <td>Bangladesh</td>\n",
       "      <td>Cereals, Total</td>\n",
       "      <td>Production</td>\n",
       "      <td>tonnes</td>\n",
       "      <td>1961</td>\n",
       "      <td>14523696.0</td>\n",
       "    </tr>\n",
       "    <tr>\n",
       "      <th>995</th>\n",
       "      <td>Bhutan</td>\n",
       "      <td>Cereals, Total</td>\n",
       "      <td>Production</td>\n",
       "      <td>tonnes</td>\n",
       "      <td>1961</td>\n",
       "      <td>98408.0</td>\n",
       "    </tr>\n",
       "    <tr>\n",
       "      <th>...</th>\n",
       "      <td>...</td>\n",
       "      <td>...</td>\n",
       "      <td>...</td>\n",
       "      <td>...</td>\n",
       "      <td>...</td>\n",
       "      <td>...</td>\n",
       "    </tr>\n",
       "    <tr>\n",
       "      <th>567862</th>\n",
       "      <td>Turkmenistan</td>\n",
       "      <td>Cereals, Total</td>\n",
       "      <td>Production</td>\n",
       "      <td>tonnes</td>\n",
       "      <td>2019</td>\n",
       "      <td>1689357.0</td>\n",
       "    </tr>\n",
       "    <tr>\n",
       "      <th>567989</th>\n",
       "      <td>United Arab Emirates</td>\n",
       "      <td>Cereals, Total</td>\n",
       "      <td>Production</td>\n",
       "      <td>tonnes</td>\n",
       "      <td>2019</td>\n",
       "      <td>6708.0</td>\n",
       "    </tr>\n",
       "    <tr>\n",
       "      <th>568235</th>\n",
       "      <td>Uzbekistan</td>\n",
       "      <td>Cereals, Total</td>\n",
       "      <td>Production</td>\n",
       "      <td>tonnes</td>\n",
       "      <td>2019</td>\n",
       "      <td>6992495.0</td>\n",
       "    </tr>\n",
       "    <tr>\n",
       "      <th>568400</th>\n",
       "      <td>Viet Nam</td>\n",
       "      <td>Cereals, Total</td>\n",
       "      <td>Production</td>\n",
       "      <td>tonnes</td>\n",
       "      <td>2019</td>\n",
       "      <td>48208141.0</td>\n",
       "    </tr>\n",
       "    <tr>\n",
       "      <th>568608</th>\n",
       "      <td>Yemen</td>\n",
       "      <td>Cereals, Total</td>\n",
       "      <td>Production</td>\n",
       "      <td>tonnes</td>\n",
       "      <td>2019</td>\n",
       "      <td>456714.0</td>\n",
       "    </tr>\n",
       "  </tbody>\n",
       "</table>\n",
       "<p>2832 rows × 6 columns</p>\n",
       "</div>"
      ],
      "text/plain": [
       "                        area            item     element    unit  year  \\\n",
       "111              Afghanistan  Cereals, Total  Production  tonnes  1961   \n",
       "279                  Armenia  Cereals, Total  Production  tonnes  1961   \n",
       "505               Azerbaijan  Cereals, Total  Production  tonnes  1961   \n",
       "818               Bangladesh  Cereals, Total  Production  tonnes  1961   \n",
       "995                   Bhutan  Cereals, Total  Production  tonnes  1961   \n",
       "...                      ...             ...         ...     ...   ...   \n",
       "567862          Turkmenistan  Cereals, Total  Production  tonnes  2019   \n",
       "567989  United Arab Emirates  Cereals, Total  Production  tonnes  2019   \n",
       "568235            Uzbekistan  Cereals, Total  Production  tonnes  2019   \n",
       "568400              Viet Nam  Cereals, Total  Production  tonnes  2019   \n",
       "568608                 Yemen  Cereals, Total  Production  tonnes  2019   \n",
       "\n",
       "          quantity  \n",
       "111      3695000.0  \n",
       "279            0.0  \n",
       "505            0.0  \n",
       "818     14523696.0  \n",
       "995        98408.0  \n",
       "...            ...  \n",
       "567862   1689357.0  \n",
       "567989      6708.0  \n",
       "568235   6992495.0  \n",
       "568400  48208141.0  \n",
       "568608    456714.0  \n",
       "\n",
       "[2832 rows x 6 columns]"
      ]
     },
     "execution_count": 27,
     "metadata": {},
     "output_type": "execute_result"
    }
   ],
   "source": [
    "cereal_asia = asia_production[asia_production[\"item\"] == \"Cereals, Total\"]\n",
    "cereal_asia"
   ]
  },
  {
   "cell_type": "code",
   "execution_count": 28,
   "metadata": {},
   "outputs": [
    {
     "data": {
      "image/png": "[encoded data removed]",
      "text/plain": [
       "<Figure size 640x480 with 1 Axes>"
      ]
     },
     "metadata": {},
     "output_type": "display_data"
    }
   ],
   "source": [
    "cereal_plot = pd.DataFrame(cereal_asia.groupby(by = [\"year\"]).quantity.sum().sort_index(ascending=False).head(10)).astype(\"int\")\n",
    "cereal_plot.plot()\n",
    "plt.title(\"Cereal Production over the Past 10 Years\")\n",
    "plt.xlabel(\"years\")\n",
    "plt.ylabel(\"tonnes\")\n",
    "plt.legend().remove();"
   ]
  },
  {
   "attachments": {},
   "cell_type": "markdown",
   "metadata": {},
   "source": [
    "Observation: Cereal Production has positively increased within the past 10 years in Asia."
   ]
  },
  {
   "attachments": {},
   "cell_type": "markdown",
   "metadata": {},
   "source": [
    "### 5- Most Productive Country"
   ]
  },
  {
   "cell_type": "code",
   "execution_count": 29,
   "metadata": {},
   "outputs": [
    {
     "data": {
      "image/png": "[encoded data removed]",
      "text/plain": [
       "<Figure size 640x480 with 1 Axes>"
      ]
     },
     "metadata": {},
     "output_type": "display_data"
    }
   ],
   "source": [
    "cereal_asia_df = pd.DataFrame(cereal_asia.groupby(\"area\").quantity.sum().sort_values(ascending = False)).reset_index()\n",
    "pd.DataFrame(cereal_asia_df.quantity.apply(lambda x : \"{:,}\".format(x))).head(3)\n",
    "fig, ax = plt.subplots()\n",
    "ax.pie(cereal_asia_df[\"quantity\"][0:3], \n",
    "       labels=cereal_asia_df[\"area\"][0:3],\n",
    "       autopct='%1.1f%%',\n",
    "       colors=['#009999', '#e68484', '#5c6965']);"
   ]
  },
  {
   "attachments": {},
   "cell_type": "markdown",
   "metadata": {},
   "source": [
    "Most Productive Country in the past 10 years in terms of Cereal Production\n",
    "\n",
    "\n",
    "Observation: China has surpassed India & Indonesia in Cereal production for the past 10 years."
   ]
  },
  {
   "attachments": {},
   "cell_type": "markdown",
   "metadata": {},
   "source": [
    "### 6- China Highest Produced Crops"
   ]
  },
  {
   "cell_type": "code",
   "execution_count": 30,
   "metadata": {},
   "outputs": [
    {
     "name": "stderr",
     "output_type": "stream",
     "text": [
      "C:\\Users\\halee\\AppData\\Local\\Packages\\PythonSoftwareFoundation.Python.3.10_qbz5n2kfra8p0\\LocalCache\\local-packages\\Python310\\site-packages\\pandas\\core\\dtypes\\astype.py:189: RuntimeWarning: invalid value encountered in cast\n",
      "  return values.astype(dtype, copy=copy)\n"
     ]
    },
    {
     "data": {
      "text/html": [
       "<div>\n",
       "<style scoped>\n",
       "    .dataframe tbody tr th:only-of-type {\n",
       "        vertical-align: middle;\n",
       "    }\n",
       "\n",
       "    .dataframe tbody tr th {\n",
       "        vertical-align: top;\n",
       "    }\n",
       "\n",
       "    .dataframe thead th {\n",
       "        text-align: right;\n",
       "    }\n",
       "</style>\n",
       "<table border=\"1\" class=\"dataframe\">\n",
       "  <thead>\n",
       "    <tr style=\"text-align: right;\">\n",
       "      <th></th>\n",
       "      <th>quantity</th>\n",
       "    </tr>\n",
       "    <tr>\n",
       "      <th>item</th>\n",
       "      <th></th>\n",
       "    </tr>\n",
       "  </thead>\n",
       "  <tbody>\n",
       "    <tr>\n",
       "      <th>Cereals, Total</th>\n",
       "      <td>-2,147,483,648</td>\n",
       "    </tr>\n",
       "    <tr>\n",
       "      <th>Vegetables Primary</th>\n",
       "      <td>-2,147,483,648</td>\n",
       "    </tr>\n",
       "    <tr>\n",
       "      <th>Maize</th>\n",
       "      <td>-2,147,483,648</td>\n",
       "    </tr>\n",
       "    <tr>\n",
       "      <th>Fruit Primary</th>\n",
       "      <td>-2,147,483,648</td>\n",
       "    </tr>\n",
       "    <tr>\n",
       "      <th>Rice, paddy</th>\n",
       "      <td>-2,147,483,648</td>\n",
       "    </tr>\n",
       "    <tr>\n",
       "      <th>Vegetables, fresh nes</th>\n",
       "      <td>1,818,069,751</td>\n",
       "    </tr>\n",
       "    <tr>\n",
       "      <th>Roots and Tubers, Total</th>\n",
       "      <td>1,626,832,481</td>\n",
       "    </tr>\n",
       "    <tr>\n",
       "      <th>Rice, paddy (rice milled equivalent)</th>\n",
       "      <td>1,510,004,817</td>\n",
       "    </tr>\n",
       "    <tr>\n",
       "      <th>Wheat</th>\n",
       "      <td>1,382,052,100</td>\n",
       "    </tr>\n",
       "    <tr>\n",
       "      <th>Sugar Crops Primary</th>\n",
       "      <td>1,352,678,400</td>\n",
       "    </tr>\n",
       "  </tbody>\n",
       "</table>\n",
       "</div>"
      ],
      "text/plain": [
       "                                            quantity\n",
       "item                                                \n",
       "Cereals, Total                        -2,147,483,648\n",
       "Vegetables Primary                    -2,147,483,648\n",
       "Maize                                 -2,147,483,648\n",
       "Fruit Primary                         -2,147,483,648\n",
       "Rice, paddy                           -2,147,483,648\n",
       "Vegetables, fresh nes                  1,818,069,751\n",
       "Roots and Tubers, Total                1,626,832,481\n",
       "Rice, paddy (rice milled equivalent)   1,510,004,817\n",
       "Wheat                                  1,382,052,100\n",
       "Sugar Crops Primary                    1,352,678,400"
      ]
     },
     "execution_count": 30,
     "metadata": {},
     "output_type": "execute_result"
    }
   ],
   "source": [
    "top_10_china = pd.DataFrame(china.groupby(by = [\"item\"]).quantity.sum().sort_values(ascending=False).head(10)).astype(\"int\")\n",
    "top_10_china_clean = pd.DataFrame(top_10_china.quantity.apply(lambda x : \"{:,}\".format(x)))\n",
    "top_10_china_clean"
   ]
  },
  {
   "cell_type": "code",
   "execution_count": 31,
   "metadata": {},
   "outputs": [
    {
     "data": {
      "image/png": "[encoded data removed]",
      "text/plain": [
       "<Figure size 640x480 with 1 Axes>"
      ]
     },
     "metadata": {},
     "output_type": "display_data"
    }
   ],
   "source": [
    "top_10_china.head().plot(kind=\"barh\",color=\"#5c6965\")\n",
    "plt.title(\"Top Crop Produced in China in Billions\")\n",
    "plt.xlabel(\"tonnes\")\n",
    "plt.ylabel(\"\")\n",
    "plt.legend().remove();"
   ]
  },
  {
   "attachments": {},
   "cell_type": "markdown",
   "metadata": {},
   "source": [
    "Observation: China's top crop produced is Cereal and Vegetables in comparison to other crops produced such as Maize, Fruit, and Rice"
   ]
  },
  {
   "attachments": {},
   "cell_type": "markdown",
   "metadata": {},
   "source": [
    "### 7- Vegetable vs Cereal Production"
   ]
  },
  {
   "cell_type": "code",
   "execution_count": 32,
   "metadata": {},
   "outputs": [],
   "source": [
    "vegetables_china = china[china[\"item\"] == \"Vegetables Primary\"]\n",
    "cereal_china = china[china[\"item\"] == \"Cereals, Total\"]"
   ]
  },
  {
   "cell_type": "code",
   "execution_count": 33,
   "metadata": {},
   "outputs": [],
   "source": [
    "from bokeh.plotting import figure, show\n",
    "\n",
    "# prepare some data\n",
    "x = ['2009','2010','2011','2012','2013','2014','2015','2016','2017','2018','2019']\n",
    "y1 = vegetables_china[\"quantity\"]\n",
    "y2 = cereal_china[\"quantity\"]\n",
    "\n",
    "# create a new plot with a title and axis labels\n",
    "p = figure(title=\"Vegetables vs Cereal Production\", x_axis_label=\"years\", y_axis_label=\"quantity\")\n",
    "\n",
    "# add multiple renderers\n",
    "p.line(x, y1, legend_label=\"Vegetables\", color=\"lightblue\", line_width=2)\n",
    "p.line(x, y2, legend_label=\"Cereal\", color=\"grey\", line_width=2)\n",
    "\n",
    "# show the results\n",
    "show(p)"
   ]
  },
  {
   "attachments": {},
   "cell_type": "markdown",
   "metadata": {},
   "source": [
    "Observation: Cereal vs vegetable production in China "
   ]
  },
  {
   "attachments": {},
   "cell_type": "markdown",
   "metadata": {},
   "source": [
    "### 8- Choropleth Map"
   ]
  },
  {
   "cell_type": "code",
   "execution_count": 34,
   "metadata": {},
   "outputs": [],
   "source": [
    "gdf = pd.read_csv(r'C:\\Users\\halee\\python\\Crop_Production_EDA\\Data\\gdf.csv')\n",
    "gdf.rename(columns={\"country\":\"area\"},inplace=True)"
   ]
  },
  {
   "cell_type": "code",
   "execution_count": 35,
   "metadata": {},
   "outputs": [],
   "source": [
    "df_map = pd.merge(asia_last_10_yrs,gdf,how=\"left\",on=\"area\")\n",
    "df_map.drop(\"Unnamed: 0.1\",axis=1,inplace=True)\n",
    "df_map.drop(\"Unnamed: 0\",axis=1,inplace=True)"
   ]
  },
  {
   "cell_type": "code",
   "execution_count": 36,
   "metadata": {},
   "outputs": [],
   "source": [
    "def fill_china(x):\n",
    "    if x[\"area\"] == \"China, mainland\":\n",
    "        return \"CHN\"\n",
    "    else: return x[\"alpha-3\"]\n",
    "df_map['test'] = df_map.apply(fill_china, axis =1)"
   ]
  },
  {
   "cell_type": "code",
   "execution_count": 37,
   "metadata": {},
   "outputs": [
    {
     "name": "stderr",
     "output_type": "stream",
     "text": [
      "C:\\Users\\halee\\AppData\\Local\\Packages\\PythonSoftwareFoundation.Python.3.10_qbz5n2kfra8p0\\LocalCache\\local-packages\\Python310\\site-packages\\pandas\\core\\dtypes\\astype.py:189: RuntimeWarning: invalid value encountered in cast\n",
      "  return values.astype(dtype, copy=copy)\n"
     ]
    }
   ],
   "source": [
    "df_map1 = pd.DataFrame(df_map.groupby([\"area\",\"test\",\"year\"]).quantity.sum(),columns=[\"quantity\"]).reset_index().reset_index()\n",
    "df_map1[\"quantity\"] = df_map1[\"quantity\"].astype(\"int\")"
   ]
  },
  {
   "cell_type": "code",
   "execution_count": 38,
   "metadata": {},
   "outputs": [
    {
     "data": {
      "application/vnd.plotly.v1+json": {
       "config": {
        "plotlyServerURL": "https://plot.ly"
       },
       "data": [
        {
         "coloraxis": "coloraxis",
         "geo": "geo",
         "hovertemplate": "<b>%{hovertext}</b><br><br>year=2009<br>test=%{location}<br>quantity=%{z}<extra></extra>",
         "hovertext": [
          "Afghanistan",
          "Armenia",
          "Azerbaijan",
          "Bahrain",
          "Bangladesh",
          "Bhutan",
          "Cambodia",
          "China, mainland",
          "Cyprus",
          "Georgia",
          "India",
          "Indonesia",
          "Iraq",
          "Israel",
          "Japan",
          "Jordan",
          "Kazakhstan",
          "Kuwait",
          "Kyrgyzstan",
          "Lebanon",
          "Malaysia",
          "Maldives",
          "Mongolia",
          "Nepal",
          "Oman",
          "Pakistan",
          "Philippines",
          "Qatar",
          "Saudi Arabia",
          "Singapore",
          "Sri Lanka",
          "Tajikistan",
          "Thailand",
          "Timor-Leste",
          "Turkey",
          "Turkmenistan",
          "United Arab Emirates",
          "Uzbekistan",
          "Yemen"
         ],
         "locations": [
          "AFG",
          "ARM",
          "AZE",
          "BHR",
          "BGD",
          "BTN",
          "KHM",
          "CHN",
          "CYP",
          "GEO",
          "IND",
          "IDN",
          "IRQ",
          "ISR",
          "JPN",
          "JOR",
          "KAZ",
          "KWT",
          "KGZ",
          "LBN",
          "MYS",
          "MDV",
          "MNG",
          "NPL",
          "OMN",
          "PAK",
          "PHL",
          "QAT",
          "SAU",
          "SGP",
          "LKA",
          "TJK",
          "THA",
          "TLS",
          "TUR",
          "TKM",
          "ARE",
          "UZB",
          "YEM"
         ],
         "name": "",
         "type": "choropleth",
         "z": [
          19759355,
          5114407,
          13265414,
          73960,
          172769435,
          789147,
          33110816,
          -2147483648,
          1021728,
          2582145,
          1750944767,
          612109311,
          15226376,
          8662971,
          81303456,
          4174683,
          57621807,
          810914,
          9504081,
          4930203,
          206710240,
          42025,
          1264732,
          39202988,
          1300003,
          237936087,
          190138935,
          124837,
          11385153,
          39513,
          21153213,
          8847941,
          347332977,
          929456,
          212045096,
          8895953,
          2024927,
          45045387,
          6033239
         ]
        }
       ],
       "frames": [
        {
         "data": [
          {
           "coloraxis": "coloraxis",
           "geo": "geo",
           "hovertemplate": "<b>%{hovertext}</b><br><br>year=2009<br>test=%{location}<br>quantity=%{z}<extra></extra>",
           "hovertext": [
            "Afghanistan",
            "Armenia",
            "Azerbaijan",
            "Bahrain",
            "Bangladesh",
            "Bhutan",
            "Cambodia",
            "China, mainland",
            "Cyprus",
            "Georgia",
            "India",
            "Indonesia",
            "Iraq",
            "Israel",
            "Japan",
            "Jordan",
            "Kazakhstan",
            "Kuwait",
            "Kyrgyzstan",
            "Lebanon",
            "Malaysia",
            "Maldives",
            "Mongolia",
            "Nepal",
            "Oman",
            "Pakistan",
            "Philippines",
            "Qatar",
            "Saudi Arabia",
            "Singapore",
            "Sri Lanka",
            "Tajikistan",
            "Thailand",
            "Timor-Leste",
            "Turkey",
            "Turkmenistan",
            "United Arab Emirates",
            "Uzbekistan",
            "Yemen"
           ],
           "locations": [
            "AFG",
            "ARM",
            "AZE",
            "BHR",
            "BGD",
            "BTN",
            "KHM",
            "CHN",
            "CYP",
            "GEO",
            "IND",
            "IDN",
            "IRQ",
            "ISR",
            "JPN",
            "JOR",
            "KAZ",
            "KWT",
            "KGZ",
            "LBN",
            "MYS",
            "MDV",
            "MNG",
            "NPL",
            "OMN",
            "PAK",
            "PHL",
            "QAT",
            "SAU",
            "SGP",
            "LKA",
            "TJK",
            "THA",
            "TLS",
            "TUR",
            "TKM",
            "ARE",
            "UZB",
            "YEM"
           ],
           "name": "",
           "type": "choropleth",
           "z": [
            19759355,
            5114407,
            13265414,
            73960,
            172769435,
            789147,
            33110816,
            -2147483648,
            1021728,
            2582145,
            1750944767,
            612109311,
            15226376,
            8662971,
            81303456,
            4174683,
            57621807,
            810914,
            9504081,
            4930203,
            206710240,
            42025,
            1264732,
            39202988,
            1300003,
            237936087,
            190138935,
            124837,
            11385153,
            39513,
            21153213,
            8847941,
            347332977,
            929456,
            212045096,
            8895953,
            2024927,
            45045387,
            6033239
           ]
          }
         ],
         "name": "2009"
        },
        {
         "data": [
          {
           "coloraxis": "coloraxis",
           "geo": "geo",
           "hovertemplate": "<b>%{hovertext}</b><br><br>year=2010<br>test=%{location}<br>quantity=%{z}<extra></extra>",
           "hovertext": [
            "Afghanistan",
            "Armenia",
            "Azerbaijan",
            "Bahrain",
            "Bangladesh",
            "Bhutan",
            "Cambodia",
            "China, mainland",
            "Cyprus",
            "Georgia",
            "India",
            "Indonesia",
            "Iraq",
            "Israel",
            "Japan",
            "Jordan",
            "Kazakhstan",
            "Kuwait",
            "Kyrgyzstan",
            "Lebanon",
            "Malaysia",
            "Maldives",
            "Mongolia",
            "Nepal",
            "Oman",
            "Pakistan",
            "Philippines",
            "Qatar",
            "Saudi Arabia",
            "Singapore",
            "Sri Lanka",
            "Tajikistan",
            "Thailand",
            "Timor-Leste",
            "Turkey",
            "Turkmenistan",
            "United Arab Emirates",
            "Uzbekistan",
            "Yemen"
           ],
           "locations": [
            "AFG",
            "ARM",
            "AZE",
            "BHR",
            "BGD",
            "BTN",
            "KHM",
            "CHN",
            "CYP",
            "GEO",
            "IND",
            "IDN",
            "IRQ",
            "ISR",
            "JPN",
            "JOR",
            "KAZ",
            "KWT",
            "KGZ",
            "LBN",
            "MYS",
            "MDV",
            "MNG",
            "NPL",
            "OMN",
            "PAK",
            "PHL",
            "QAT",
            "SAU",
            "SGP",
            "LKA",
            "TJK",
            "THA",
            "TLS",
            "TUR",
            "TKM",
            "ARE",
            "UZB",
            "YEM"
           ],
           "name": "",
           "type": "choropleth",
           "z": [
            18187393,
            4102133,
            11565185,
            72946,
            183140620,
            837424,
            36273193,
            -2147483648,
            1024567,
            2008842,
            1871629928,
            734204493,
            18915797,
            8384592,
            77464001,
            4817296,
            40766517,
            859534,
            8869859,
            5018076,
            201001894,
            37570,
            1229036,
            39599077,
            1486977,
            229930730,
            177831895,
            137832,
            10929942,
            44190,
            22787402,
            9285683,
            343472565,
            889674,
            212829881,
            9857002,
            2127132,
            47691664,
            7010083
           ]
          }
         ],
         "name": "2010"
        },
        {
         "data": [
          {
           "coloraxis": "coloraxis",
           "geo": "geo",
           "hovertemplate": "<b>%{hovertext}</b><br><br>year=2011<br>test=%{location}<br>quantity=%{z}<extra></extra>",
           "hovertext": [
            "Afghanistan",
            "Armenia",
            "Azerbaijan",
            "Bahrain",
            "Bangladesh",
            "Bhutan",
            "Cambodia",
            "China, mainland",
            "Cyprus",
            "Georgia",
            "India",
            "Indonesia",
            "Iraq",
            "Israel",
            "Japan",
            "Jordan",
            "Kazakhstan",
            "Kuwait",
            "Kyrgyzstan",
            "Lebanon",
            "Malaysia",
            "Maldives",
            "Mongolia",
            "Nepal",
            "Oman",
            "Pakistan",
            "Philippines",
            "Qatar",
            "Saudi Arabia",
            "Singapore",
            "Sri Lanka",
            "Tajikistan",
            "Thailand",
            "Timor-Leste",
            "Turkey",
            "Turkmenistan",
            "United Arab Emirates",
            "Uzbekistan",
            "Yemen"
           ],
           "locations": [
            "AFG",
            "ARM",
            "AZE",
            "BHR",
            "BGD",
            "BTN",
            "KHM",
            "CHN",
            "CYP",
            "GEO",
            "IND",
            "IDN",
            "IRQ",
            "ISR",
            "JPN",
            "JOR",
            "KAZ",
            "KWT",
            "KGZ",
            "LBN",
            "MYS",
            "MDV",
            "MNG",
            "NPL",
            "OMN",
            "PAK",
            "PHL",
            "QAT",
            "SAU",
            "SGP",
            "LKA",
            "TJK",
            "THA",
            "TLS",
            "TUR",
            "TKM",
            "ARE",
            "UZB",
            "YEM"
           ],
           "name": "",
           "type": "choropleth",
           "z": [
            15017733,
            4986554,
            12718919,
            70767,
            187805257,
            1036247,
            45221583,
            -2147483648,
            1154916,
            2731086,
            2047982601,
            754888515,
            20196360,
            8488911,
            77865571,
            5100099,
            73640094,
            1092542,
            9091956,
            4695566,
            223634759,
            31477,
            1529792,
            42804388,
            1405293,
            255371850,
            202290343,
            118614,
            10839644,
            46241,
            21576856,
            9328524,
            410276164,
            649777,
            219587713,
            8684448,
            942440,
            49322498,
            6142941
           ]
          }
         ],
         "name": "2011"
        },
        {
         "data": [
          {
           "coloraxis": "coloraxis",
           "geo": "geo",
           "hovertemplate": "<b>%{hovertext}</b><br><br>year=2012<br>test=%{location}<br>quantity=%{z}<extra></extra>",
           "hovertext": [
            "Afghanistan",
            "Armenia",
            "Azerbaijan",
            "Bahrain",
            "Bangladesh",
            "Bhutan",
            "Cambodia",
            "China, mainland",
            "Cyprus",
            "Georgia",
            "India",
            "Indonesia",
            "Iraq",
            "Israel",
            "Japan",
            "Jordan",
            "Kazakhstan",
            "Kuwait",
            "Kyrgyzstan",
            "Lebanon",
            "Malaysia",
            "Maldives",
            "Mongolia",
            "Nepal",
            "Oman",
            "Pakistan",
            "Philippines",
            "Qatar",
            "Saudi Arabia",
            "Singapore",
            "Sri Lanka",
            "Tajikistan",
            "Thailand",
            "Timor-Leste",
            "Turkey",
            "Turkmenistan",
            "United Arab Emirates",
            "Uzbekistan",
            "Yemen"
           ],
           "locations": [
            "AFG",
            "ARM",
            "AZE",
            "BHR",
            "BGD",
            "BTN",
            "KHM",
            "CHN",
            "CYP",
            "GEO",
            "IND",
            "IDN",
            "IRQ",
            "ISR",
            "JPN",
            "JOR",
            "KAZ",
            "KWT",
            "KGZ",
            "LBN",
            "MYS",
            "MDV",
            "MNG",
            "NPL",
            "OMN",
            "PAK",
            "PHL",
            "QAT",
            "SAU",
            "SGP",
            "LKA",
            "TJK",
            "THA",
            "TLS",
            "TUR",
            "TKM",
            "ARE",
            "UZB",
            "YEM"
           ],
           "name": "",
           "type": "choropleth",
           "z": [
            18598159,
            5575348,
            13311110,
            71852,
            188048628,
            904640,
            46581148,
            -2147483648,
            1036541,
            2624308,
            2106737826,
            799522146,
            20916913,
            8944080,
            78722930,
            4709687,
            46340451,
            981000,
            8649286,
            4863444,
            228561163,
            25518,
            1702056,
            46484051,
            1407492,
            253326038,
            205061769,
            115913,
            10197329,
            48486,
            22015029,
            10317578,
            433056473,
            730764,
            215646013,
            7881340,
            930121,
            52919791,
            6654420
           ]
          }
         ],
         "name": "2012"
        },
        {
         "data": [
          {
           "coloraxis": "coloraxis",
           "geo": "geo",
           "hovertemplate": "<b>%{hovertext}</b><br><br>year=2013<br>test=%{location}<br>quantity=%{z}<extra></extra>",
           "hovertext": [
            "Afghanistan",
            "Armenia",
            "Azerbaijan",
            "Bahrain",
            "Bangladesh",
            "Bhutan",
            "Cambodia",
            "China, mainland",
            "Cyprus",
            "Georgia",
            "India",
            "Indonesia",
            "Iraq",
            "Israel",
            "Japan",
            "Jordan",
            "Kazakhstan",
            "Kuwait",
            "Kyrgyzstan",
            "Lebanon",
            "Malaysia",
            "Maldives",
            "Mongolia",
            "Nepal",
            "Oman",
            "Pakistan",
            "Philippines",
            "Qatar",
            "Saudi Arabia",
            "Singapore",
            "Sri Lanka",
            "Tajikistan",
            "Thailand",
            "Timor-Leste",
            "Turkey",
            "Turkmenistan",
            "United Arab Emirates",
            "Uzbekistan",
            "Yemen"
           ],
           "locations": [
            "AFG",
            "ARM",
            "AZE",
            "BHR",
            "BGD",
            "BTN",
            "KHM",
            "CHN",
            "CYP",
            "GEO",
            "IND",
            "IDN",
            "IRQ",
            "ISR",
            "JPN",
            "JOR",
            "KAZ",
            "KWT",
            "KGZ",
            "LBN",
            "MYS",
            "MDV",
            "MNG",
            "NPL",
            "OMN",
            "PAK",
            "PHL",
            "QAT",
            "SAU",
            "SGP",
            "LKA",
            "TJK",
            "THA",
            "TLS",
            "TUR",
            "TKM",
            "ARE",
            "UZB",
            "YEM"
           ],
           "name": "",
           "type": "choropleth",
           "z": [
            18946767,
            5859813,
            13732606,
            71632,
            192638925,
            843271,
            46885343,
            -2147483648,
            953029,
            3393895,
            2122737303,
            826189695,
            25249690,
            8921346,
            78060273,
            4908925,
            59422169,
            1211671,
            9641580,
            5164002,
            228481444,
            22619,
            1413484,
            44262759,
            1543320,
            281422224,
            200607105,
            138936,
            9922216,
            49308,
            24436700,
            11285145,
            434135772,
            737019,
            227565848,
            8831887,
            887575,
            56159965,
            6345894
           ]
          }
         ],
         "name": "2013"
        },
        {
         "data": [
          {
           "coloraxis": "coloraxis",
           "geo": "geo",
           "hovertemplate": "<b>%{hovertext}</b><br><br>year=2014<br>test=%{location}<br>quantity=%{z}<extra></extra>",
           "hovertext": [
            "Afghanistan",
            "Armenia",
            "Azerbaijan",
            "Bahrain",
            "Bangladesh",
            "Bhutan",
            "Cambodia",
            "China, mainland",
            "Cyprus",
            "Georgia",
            "India",
            "Indonesia",
            "Iraq",
            "Israel",
            "Japan",
            "Jordan",
            "Kazakhstan",
            "Kuwait",
            "Kyrgyzstan",
            "Lebanon",
            "Malaysia",
            "Maldives",
            "Mongolia",
            "Nepal",
            "Oman",
            "Pakistan",
            "Philippines",
            "Qatar",
            "Saudi Arabia",
            "Singapore",
            "Sri Lanka",
            "Tajikistan",
            "Thailand",
            "Timor-Leste",
            "Turkey",
            "Turkmenistan",
            "United Arab Emirates",
            "Uzbekistan",
            "Yemen"
           ],
           "locations": [
            "AFG",
            "ARM",
            "AZE",
            "BHR",
            "BGD",
            "BTN",
            "KHM",
            "CHN",
            "CYP",
            "GEO",
            "IND",
            "IDN",
            "IRQ",
            "ISR",
            "JPN",
            "JOR",
            "KAZ",
            "KWT",
            "KGZ",
            "LBN",
            "MYS",
            "MDV",
            "MNG",
            "NPL",
            "OMN",
            "PAK",
            "PHL",
            "QAT",
            "SAU",
            "SGP",
            "LKA",
            "TJK",
            "THA",
            "TLS",
            "TUR",
            "TKM",
            "ARE",
            "UZB",
            "YEM"
           ],
           "name": "",
           "type": "choropleth",
           "z": [
            20542067,
            6243980,
            12154150,
            75496,
            196900676,
            846100,
            47671679,
            -2147483648,
            935378,
            2655032,
            -2147483648,
            819976490,
            24225591,
            8999702,
            78813139,
            5096988,
            58308494,
            1057687,
            8966562,
            5559692,
            227511443,
            24160,
            1749610,
            47410249,
            1524144,
            275518532,
            203491798,
            139556,
            8663575,
            51167,
            21939869,
            10842134,
            431821928,
            745521,
            216909691,
            8454301,
            1181101,
            59590618,
            5989370
           ]
          }
         ],
         "name": "2014"
        },
        {
         "data": [
          {
           "coloraxis": "coloraxis",
           "geo": "geo",
           "hovertemplate": "<b>%{hovertext}</b><br><br>year=2015<br>test=%{location}<br>quantity=%{z}<extra></extra>",
           "hovertext": [
            "Afghanistan",
            "Armenia",
            "Azerbaijan",
            "Bahrain",
            "Bangladesh",
            "Bhutan",
            "Cambodia",
            "China, mainland",
            "Cyprus",
            "Georgia",
            "India",
            "Indonesia",
            "Iraq",
            "Israel",
            "Japan",
            "Jordan",
            "Kazakhstan",
            "Kuwait",
            "Kyrgyzstan",
            "Lebanon",
            "Malaysia",
            "Maldives",
            "Mongolia",
            "Nepal",
            "Oman",
            "Pakistan",
            "Philippines",
            "Qatar",
            "Saudi Arabia",
            "Singapore",
            "Sri Lanka",
            "Tajikistan",
            "Thailand",
            "Timor-Leste",
            "Turkey",
            "Turkmenistan",
            "United Arab Emirates",
            "Uzbekistan",
            "Yemen"
           ],
           "locations": [
            "AFG",
            "ARM",
            "AZE",
            "BHR",
            "BGD",
            "BTN",
            "KHM",
            "CHN",
            "CYP",
            "GEO",
            "IND",
            "IDN",
            "IRQ",
            "ISR",
            "JPN",
            "JOR",
            "KAZ",
            "KWT",
            "KGZ",
            "LBN",
            "MYS",
            "MDV",
            "MNG",
            "NPL",
            "OMN",
            "PAK",
            "PHL",
            "QAT",
            "SAU",
            "SGP",
            "LKA",
            "TJK",
            "THA",
            "TLS",
            "TUR",
            "TKM",
            "ARE",
            "UZB",
            "YEM"
           ],
           "name": "",
           "type": "choropleth",
           "z": [
            18871631,
            6425666,
            13753719,
            79047,
            200158860,
            804404,
            50936572,
            -2147483648,
            1071161,
            2515555,
            2121143814,
            834305356,
            12084217,
            8498790,
            78422447,
            5715012,
            62284133,
            941247,
            10414947,
            5777426,
            236850106,
            24487,
            993304,
            46844034,
            1818654,
            277110589,
            197732258,
            131894,
            9500323,
            51822,
            25457075,
            11186185,
            399450146,
            779134,
            232565870,
            8899487,
            1375587,
            63134894,
            5207613
           ]
          }
         ],
         "name": "2015"
        },
        {
         "data": [
          {
           "coloraxis": "coloraxis",
           "geo": "geo",
           "hovertemplate": "<b>%{hovertext}</b><br><br>year=2016<br>test=%{location}<br>quantity=%{z}<extra></extra>",
           "hovertext": [
            "Afghanistan",
            "Armenia",
            "Azerbaijan",
            "Bahrain",
            "Bangladesh",
            "Bhutan",
            "Cambodia",
            "China, mainland",
            "Cyprus",
            "Georgia",
            "India",
            "Indonesia",
            "Iraq",
            "Israel",
            "Japan",
            "Jordan",
            "Kazakhstan",
            "Kuwait",
            "Kyrgyzstan",
            "Lebanon",
            "Malaysia",
            "Maldives",
            "Mongolia",
            "Nepal",
            "Oman",
            "Pakistan",
            "Philippines",
            "Qatar",
            "Saudi Arabia",
            "Singapore",
            "Sri Lanka",
            "Tajikistan",
            "Thailand",
            "Timor-Leste",
            "Turkey",
            "Turkmenistan",
            "United Arab Emirates",
            "Uzbekistan",
            "Yemen"
           ],
           "locations": [
            "AFG",
            "ARM",
            "AZE",
            "BHR",
            "BGD",
            "BTN",
            "KHM",
            "CHN",
            "CYP",
            "GEO",
            "IND",
            "IDN",
            "IRQ",
            "ISR",
            "JPN",
            "JOR",
            "KAZ",
            "KWT",
            "KGZ",
            "LBN",
            "MYS",
            "MDV",
            "MNG",
            "NPL",
            "OMN",
            "PAK",
            "PHL",
            "QAT",
            "SAU",
            "SGP",
            "LKA",
            "TJK",
            "THA",
            "TLS",
            "TUR",
            "TKM",
            "ARE",
            "UZB",
            "YEM"
           ],
           "name": "",
           "type": "choropleth",
           "z": [
            20836728,
            5706722,
            14347824,
            85299,
            197463592,
            927435,
            54829104,
            -2147483648,
            859433,
            2690780,
            -2147483648,
            848058055,
            12916433,
            8482239,
            76431738,
            6156740,
            68457307,
            873486,
            11453384,
            6317774,
            209510347,
            25347,
            1561725,
            49038456,
            1810110,
            300350450,
            192125300,
            128037,
            9643144,
            50732,
            24551414,
            11491381,
            409459392,
            658159,
            236632486,
            8870478,
            1372529,
            65924916,
            4788823
           ]
          }
         ],
         "name": "2016"
        },
        {
         "data": [
          {
           "coloraxis": "coloraxis",
           "geo": "geo",
           "hovertemplate": "<b>%{hovertext}</b><br><br>year=2017<br>test=%{location}<br>quantity=%{z}<extra></extra>",
           "hovertext": [
            "Afghanistan",
            "Armenia",
            "Azerbaijan",
            "Bahrain",
            "Bangladesh",
            "Bhutan",
            "Cambodia",
            "China, mainland",
            "Cyprus",
            "Georgia",
            "India",
            "Indonesia",
            "Iraq",
            "Israel",
            "Japan",
            "Jordan",
            "Kazakhstan",
            "Kuwait",
            "Kyrgyzstan",
            "Lebanon",
            "Malaysia",
            "Maldives",
            "Mongolia",
            "Nepal",
            "Oman",
            "Pakistan",
            "Philippines",
            "Qatar",
            "Saudi Arabia",
            "Singapore",
            "Sri Lanka",
            "Tajikistan",
            "Thailand",
            "Timor-Leste",
            "Turkey",
            "Turkmenistan",
            "United Arab Emirates",
            "Uzbekistan",
            "Yemen"
           ],
           "locations": [
            "AFG",
            "ARM",
            "AZE",
            "BHR",
            "BGD",
            "BTN",
            "KHM",
            "CHN",
            "CYP",
            "GEO",
            "IND",
            "IDN",
            "IRQ",
            "ISR",
            "JPN",
            "JOR",
            "KAZ",
            "KWT",
            "KGZ",
            "LBN",
            "MYS",
            "MDV",
            "MNG",
            "NPL",
            "OMN",
            "PAK",
            "PHL",
            "QAT",
            "SAU",
            "SGP",
            "LKA",
            "TJK",
            "THA",
            "TLS",
            "TUR",
            "TKM",
            "ARE",
            "UZB",
            "YEM"
           ],
           "name": "",
           "type": "choropleth",
           "z": [
            18993007,
            5024153,
            15004664,
            78825,
            211531648,
            939982,
            58464169,
            -2147483648,
            856237,
            2137638,
            2146108960,
            963709736,
            12247229,
            8087531,
            77273434,
            4895058,
            70589875,
            1005474,
            11569222,
            6123463,
            243645680,
            24809,
            937352,
            49334588,
            2441284,
            321305393,
            213341840,
            140069,
            9928700,
            51121,
            17561370,
            11894021,
            416652386,
            618520,
            248424152,
            7889921,
            1365029,
            60352318,
            4750220
           ]
          }
         ],
         "name": "2017"
        },
        {
         "data": [
          {
           "coloraxis": "coloraxis",
           "geo": "geo",
           "hovertemplate": "<b>%{hovertext}</b><br><br>year=2018<br>test=%{location}<br>quantity=%{z}<extra></extra>",
           "hovertext": [
            "Afghanistan",
            "Armenia",
            "Azerbaijan",
            "Bahrain",
            "Bangladesh",
            "Bhutan",
            "Cambodia",
            "China, mainland",
            "Cyprus",
            "Georgia",
            "India",
            "Indonesia",
            "Iraq",
            "Israel",
            "Japan",
            "Jordan",
            "Kazakhstan",
            "Kuwait",
            "Kyrgyzstan",
            "Lebanon",
            "Malaysia",
            "Maldives",
            "Mongolia",
            "Nepal",
            "Oman",
            "Pakistan",
            "Philippines",
            "Qatar",
            "Saudi Arabia",
            "Singapore",
            "Sri Lanka",
            "Tajikistan",
            "Thailand",
            "Timor-Leste",
            "Turkey",
            "Turkmenistan",
            "United Arab Emirates",
            "Uzbekistan",
            "Yemen"
           ],
           "locations": [
            "AFG",
            "ARM",
            "AZE",
            "BHR",
            "BGD",
            "BTN",
            "KHM",
            "CHN",
            "CYP",
            "GEO",
            "IND",
            "IDN",
            "IRQ",
            "ISR",
            "JPN",
            "JOR",
            "KAZ",
            "KWT",
            "KGZ",
            "LBN",
            "MYS",
            "MDV",
            "MNG",
            "NPL",
            "OMN",
            "PAK",
            "PHL",
            "QAT",
            "SAU",
            "SGP",
            "LKA",
            "TJK",
            "THA",
            "TLS",
            "TUR",
            "TKM",
            "ARE",
            "UZB",
            "YEM"
           ],
           "name": "",
           "type": "choropleth",
           "z": [
            16575281,
            4059363,
            15815861,
            80842,
            210911093,
            701704,
            62352713,
            -2147483648,
            773244,
            2747749,
            -2147483648,
            974875570,
            10671698,
            7705539,
            74988649,
            5024814,
            72528556,
            921992,
            11851678,
            5913412,
            235999175,
            24055,
            1530803,
            49978800,
            2497515,
            287054324,
            205386182,
            173258,
            9968318,
            54012,
            22676865,
            12378757,
            497899263,
            618258,
            235872271,
            7739300,
            1392322,
            55171463,
            4589397
           ]
          }
         ],
         "name": "2018"
        },
        {
         "data": [
          {
           "coloraxis": "coloraxis",
           "geo": "geo",
           "hovertemplate": "<b>%{hovertext}</b><br><br>year=2019<br>test=%{location}<br>quantity=%{z}<extra></extra>",
           "hovertext": [
            "Afghanistan",
            "Armenia",
            "Azerbaijan",
            "Bahrain",
            "Bangladesh",
            "Bhutan",
            "Cambodia",
            "China, mainland",
            "Cyprus",
            "Georgia",
            "India",
            "Indonesia",
            "Iraq",
            "Israel",
            "Japan",
            "Jordan",
            "Kazakhstan",
            "Kuwait",
            "Kyrgyzstan",
            "Lebanon",
            "Malaysia",
            "Maldives",
            "Mongolia",
            "Nepal",
            "Oman",
            "Pakistan",
            "Philippines",
            "Qatar",
            "Saudi Arabia",
            "Singapore",
            "Sri Lanka",
            "Tajikistan",
            "Thailand",
            "Timor-Leste",
            "Turkey",
            "Turkmenistan",
            "United Arab Emirates",
            "Uzbekistan",
            "Yemen"
           ],
           "locations": [
            "AFG",
            "ARM",
            "AZE",
            "BHR",
            "BGD",
            "BTN",
            "KHM",
            "CHN",
            "CYP",
            "GEO",
            "IND",
            "IDN",
            "IRQ",
            "ISR",
            "JPN",
            "JOR",
            "KAZ",
            "KWT",
            "KGZ",
            "LBN",
            "MYS",
            "MDV",
            "MNG",
            "NPL",
            "OMN",
            "PAK",
            "PHL",
            "QAT",
            "SAU",
            "SGP",
            "LKA",
            "TJK",
            "THA",
            "TLS",
            "TUR",
            "TKM",
            "ARE",
            "UZB",
            "YEM"
           ],
           "name": "",
           "type": "choropleth",
           "z": [
            22996847,
            3711754,
            17206410,
            82879,
            211481826,
            671751,
            64623837,
            -2147483648,
            780116,
            2694829,
            -2147483648,
            972306680,
            21722348,
            7918975,
            75725734,
            4684162,
            67220607,
            1016157,
            11896953,
            5684619,
            238285073,
            26488,
            1543287,
            52606078,
            2531693,
            287248025,
            197045839,
            185137,
            11385907,
            54604,
            24555090,
            13271025,
            482481181,
            654547,
            239429739,
            8721118,
            1377442,
            59198175,
            5287494
           ]
          }
         ],
         "name": "2019"
        }
       ],
       "layout": {
        "coloraxis": {
         "cmax": 3000000000,
         "cmin": 0,
         "colorbar": {
          "title": {
           "text": "quantity"
          }
         },
         "colorscale": [
          [
           0,
           "rgb(0, 147, 146)"
          ],
          [
           0.16666666666666666,
           "rgb(114, 170, 161)"
          ],
          [
           0.3333333333333333,
           "rgb(177, 199, 179)"
          ],
          [
           0.5,
           "rgb(241, 234, 200)"
          ],
          [
           0.6666666666666666,
           "rgb(229, 185, 173)"
          ],
          [
           0.8333333333333334,
           "rgb(217, 137, 148)"
          ],
          [
           1,
           "rgb(208, 88, 126)"
          ]
         ]
        },
        "geo": {
         "center": {},
         "domain": {
          "x": [
           0,
           1
          ],
          "y": [
           0,
           1
          ]
         },
         "scope": "asia"
        },
        "legend": {
         "tracegroupgap": 0
        },
        "sliders": [
         {
          "active": 0,
          "currentvalue": {
           "prefix": "year="
          },
          "len": 0.9,
          "pad": {
           "b": 10,
           "t": 60
          },
          "steps": [
           {
            "args": [
             [
              "2009"
             ],
             {
              "frame": {
               "duration": 0,
               "redraw": true
              },
              "fromcurrent": true,
              "mode": "immediate",
              "transition": {
               "duration": 0,
               "easing": "linear"
              }
             }
            ],
            "label": "2009",
            "method": "animate"
           },
           {
            "args": [
             [
              "2010"
             ],
             {
              "frame": {
               "duration": 0,
               "redraw": true
              },
              "fromcurrent": true,
              "mode": "immediate",
              "transition": {
               "duration": 0,
               "easing": "linear"
              }
             }
            ],
            "label": "2010",
            "method": "animate"
           },
           {
            "args": [
             [
              "2011"
             ],
             {
              "frame": {
               "duration": 0,
               "redraw": true
              },
              "fromcurrent": true,
              "mode": "immediate",
              "transition": {
               "duration": 0,
               "easing": "linear"
              }
             }
            ],
            "label": "2011",
            "method": "animate"
           },
           {
            "args": [
             [
              "2012"
             ],
             {
              "frame": {
               "duration": 0,
               "redraw": true
              },
              "fromcurrent": true,
              "mode": "immediate",
              "transition": {
               "duration": 0,
               "easing": "linear"
              }
             }
            ],
            "label": "2012",
            "method": "animate"
           },
           {
            "args": [
             [
              "2013"
             ],
             {
              "frame": {
               "duration": 0,
               "redraw": true
              },
              "fromcurrent": true,
              "mode": "immediate",
              "transition": {
               "duration": 0,
               "easing": "linear"
              }
             }
            ],
            "label": "2013",
            "method": "animate"
           },
           {
            "args": [
             [
              "2014"
             ],
             {
              "frame": {
               "duration": 0,
               "redraw": true
              },
              "fromcurrent": true,
              "mode": "immediate",
              "transition": {
               "duration": 0,
               "easing": "linear"
              }
             }
            ],
            "label": "2014",
            "method": "animate"
           },
           {
            "args": [
             [
              "2015"
             ],
             {
              "frame": {
               "duration": 0,
               "redraw": true
              },
              "fromcurrent": true,
              "mode": "immediate",
              "transition": {
               "duration": 0,
               "easing": "linear"
              }
             }
            ],
            "label": "2015",
            "method": "animate"
           },
           {
            "args": [
             [
              "2016"
             ],
             {
              "frame": {
               "duration": 0,
               "redraw": true
              },
              "fromcurrent": true,
              "mode": "immediate",
              "transition": {
               "duration": 0,
               "easing": "linear"
              }
             }
            ],
            "label": "2016",
            "method": "animate"
           },
           {
            "args": [
             [
              "2017"
             ],
             {
              "frame": {
               "duration": 0,
               "redraw": true
              },
              "fromcurrent": true,
              "mode": "immediate",
              "transition": {
               "duration": 0,
               "easing": "linear"
              }
             }
            ],
            "label": "2017",
            "method": "animate"
           },
           {
            "args": [
             [
              "2018"
             ],
             {
              "frame": {
               "duration": 0,
               "redraw": true
              },
              "fromcurrent": true,
              "mode": "immediate",
              "transition": {
               "duration": 0,
               "easing": "linear"
              }
             }
            ],
            "label": "2018",
            "method": "animate"
           },
           {
            "args": [
             [
              "2019"
             ],
             {
              "frame": {
               "duration": 0,
               "redraw": true
              },
              "fromcurrent": true,
              "mode": "immediate",
              "transition": {
               "duration": 0,
               "easing": "linear"
              }
             }
            ],
            "label": "2019",
            "method": "animate"
           }
          ],
          "x": 0.1,
          "xanchor": "left",
          "y": 0,
          "yanchor": "top"
         }
        ],
        "template": {
         "data": {
          "bar": [
           {
            "error_x": {
             "color": "#2a3f5f"
            },
            "error_y": {
             "color": "#2a3f5f"
            },
            "marker": {
             "line": {
              "color": "#E5ECF6",
              "width": 0.5
             },
             "pattern": {
              "fillmode": "overlay",
              "size": 10,
              "solidity": 0.2
             }
            },
            "type": "bar"
           }
          ],
          "barpolar": [
           {
            "marker": {
             "line": {
              "color": "#E5ECF6",
              "width": 0.5
             },
             "pattern": {
              "fillmode": "overlay",
              "size": 10,
              "solidity": 0.2
             }
            },
            "type": "barpolar"
           }
          ],
          "carpet": [
           {
            "aaxis": {
             "endlinecolor": "#2a3f5f",
             "gridcolor": "white",
             "linecolor": "white",
             "minorgridcolor": "white",
             "startlinecolor": "#2a3f5f"
            },
            "baxis": {
             "endlinecolor": "#2a3f5f",
             "gridcolor": "white",
             "linecolor": "white",
             "minorgridcolor": "white",
             "startlinecolor": "#2a3f5f"
            },
            "type": "carpet"
           }
          ],
          "choropleth": [
           {
            "colorbar": {
             "outlinewidth": 0,
             "ticks": ""
            },
            "type": "choropleth"
           }
          ],
          "contour": [
           {
            "colorbar": {
             "outlinewidth": 0,
             "ticks": ""
            },
            "colorscale": [
             [
              0,
              "#0d0887"
             ],
             [
              0.1111111111111111,
              "#46039f"
             ],
             [
              0.2222222222222222,
              "#7201a8"
             ],
             [
              0.3333333333333333,
              "#9c179e"
             ],
             [
              0.4444444444444444,
              "#bd3786"
             ],
             [
              0.5555555555555556,
              "#d8576b"
             ],
             [
              0.6666666666666666,
              "#ed7953"
             ],
             [
              0.7777777777777778,
              "#fb9f3a"
             ],
             [
              0.8888888888888888,
              "#fdca26"
             ],
             [
              1,
              "#f0f921"
             ]
            ],
            "type": "contour"
           }
          ],
          "contourcarpet": [
           {
            "colorbar": {
             "outlinewidth": 0,
             "ticks": ""
            },
            "type": "contourcarpet"
           }
          ],
          "heatmap": [
           {
            "colorbar": {
             "outlinewidth": 0,
             "ticks": ""
            },
            "colorscale": [
             [
              0,
              "#0d0887"
             ],
             [
              0.1111111111111111,
              "#46039f"
             ],
             [
              0.2222222222222222,
              "#7201a8"
             ],
             [
              0.3333333333333333,
              "#9c179e"
             ],
             [
              0.4444444444444444,
              "#bd3786"
             ],
             [
              0.5555555555555556,
              "#d8576b"
             ],
             [
              0.6666666666666666,
              "#ed7953"
             ],
             [
              0.7777777777777778,
              "#fb9f3a"
             ],
             [
              0.8888888888888888,
              "#fdca26"
             ],
             [
              1,
              "#f0f921"
             ]
            ],
            "type": "heatmap"
           }
          ],
          "heatmapgl": [
           {
            "colorbar": {
             "outlinewidth": 0,
             "ticks": ""
            },
            "colorscale": [
             [
              0,
              "#0d0887"
             ],
             [
              0.1111111111111111,
              "#46039f"
             ],
             [
              0.2222222222222222,
              "#7201a8"
             ],
             [
              0.3333333333333333,
              "#9c179e"
             ],
             [
              0.4444444444444444,
              "#bd3786"
             ],
             [
              0.5555555555555556,
              "#d8576b"
             ],
             [
              0.6666666666666666,
              "#ed7953"
             ],
             [
              0.7777777777777778,
              "#fb9f3a"
             ],
             [
              0.8888888888888888,
              "#fdca26"
             ],
             [
              1,
              "#f0f921"
             ]
            ],
            "type": "heatmapgl"
           }
          ],
          "histogram": [
           {
            "marker": {
             "pattern": {
              "fillmode": "overlay",
              "size": 10,
              "solidity": 0.2
             }
            },
            "type": "histogram"
           }
          ],
          "histogram2d": [
           {
            "colorbar": {
             "outlinewidth": 0,
             "ticks": ""
            },
            "colorscale": [
             [
              0,
              "#0d0887"
             ],
             [
              0.1111111111111111,
              "#46039f"
             ],
             [
              0.2222222222222222,
              "#7201a8"
             ],
             [
              0.3333333333333333,
              "#9c179e"
             ],
             [
              0.4444444444444444,
              "#bd3786"
             ],
             [
              0.5555555555555556,
              "#d8576b"
             ],
             [
              0.6666666666666666,
              "#ed7953"
             ],
             [
              0.7777777777777778,
              "#fb9f3a"
             ],
             [
              0.8888888888888888,
              "#fdca26"
             ],
             [
              1,
              "#f0f921"
             ]
            ],
            "type": "histogram2d"
           }
          ],
          "histogram2dcontour": [
           {
            "colorbar": {
             "outlinewidth": 0,
             "ticks": ""
            },
            "colorscale": [
             [
              0,
              "#0d0887"
             ],
             [
              0.1111111111111111,
              "#46039f"
             ],
             [
              0.2222222222222222,
              "#7201a8"
             ],
             [
              0.3333333333333333,
              "#9c179e"
             ],
             [
              0.4444444444444444,
              "#bd3786"
             ],
             [
              0.5555555555555556,
              "#d8576b"
             ],
             [
              0.6666666666666666,
              "#ed7953"
             ],
             [
              0.7777777777777778,
              "#fb9f3a"
             ],
             [
              0.8888888888888888,
              "#fdca26"
             ],
             [
              1,
              "#f0f921"
             ]
            ],
            "type": "histogram2dcontour"
           }
          ],
          "mesh3d": [
           {
            "colorbar": {
             "outlinewidth": 0,
             "ticks": ""
            },
            "type": "mesh3d"
           }
          ],
          "parcoords": [
           {
            "line": {
             "colorbar": {
              "outlinewidth": 0,
              "ticks": ""
             }
            },
            "type": "parcoords"
           }
          ],
          "pie": [
           {
            "automargin": true,
            "type": "pie"
           }
          ],
          "scatter": [
           {
            "fillpattern": {
             "fillmode": "overlay",
             "size": 10,
             "solidity": 0.2
            },
            "type": "scatter"
           }
          ],
          "scatter3d": [
           {
            "line": {
             "colorbar": {
              "outlinewidth": 0,
              "ticks": ""
             }
            },
            "marker": {
             "colorbar": {
              "outlinewidth": 0,
              "ticks": ""
             }
            },
            "type": "scatter3d"
           }
          ],
          "scattercarpet": [
           {
            "marker": {
             "colorbar": {
              "outlinewidth": 0,
              "ticks": ""
             }
            },
            "type": "scattercarpet"
           }
          ],
          "scattergeo": [
           {
            "marker": {
             "colorbar": {
              "outlinewidth": 0,
              "ticks": ""
             }
            },
            "type": "scattergeo"
           }
          ],
          "scattergl": [
           {
            "marker": {
             "colorbar": {
              "outlinewidth": 0,
              "ticks": ""
             }
            },
            "type": "scattergl"
           }
          ],
          "scattermapbox": [
           {
            "marker": {
             "colorbar": {
              "outlinewidth": 0,
              "ticks": ""
             }
            },
            "type": "scattermapbox"
           }
          ],
          "scatterpolar": [
           {
            "marker": {
             "colorbar": {
              "outlinewidth": 0,
              "ticks": ""
             }
            },
            "type": "scatterpolar"
           }
          ],
          "scatterpolargl": [
           {
            "marker": {
             "colorbar": {
              "outlinewidth": 0,
              "ticks": ""
             }
            },
            "type": "scatterpolargl"
           }
          ],
          "scatterternary": [
           {
            "marker": {
             "colorbar": {
              "outlinewidth": 0,
              "ticks": ""
             }
            },
            "type": "scatterternary"
           }
          ],
          "surface": [
           {
            "colorbar": {
             "outlinewidth": 0,
             "ticks": ""
            },
            "colorscale": [
             [
              0,
              "#0d0887"
             ],
             [
              0.1111111111111111,
              "#46039f"
             ],
             [
              0.2222222222222222,
              "#7201a8"
             ],
             [
              0.3333333333333333,
              "#9c179e"
             ],
             [
              0.4444444444444444,
              "#bd3786"
             ],
             [
              0.5555555555555556,
              "#d8576b"
             ],
             [
              0.6666666666666666,
              "#ed7953"
             ],
             [
              0.7777777777777778,
              "#fb9f3a"
             ],
             [
              0.8888888888888888,
              "#fdca26"
             ],
             [
              1,
              "#f0f921"
             ]
            ],
            "type": "surface"
           }
          ],
          "table": [
           {
            "cells": {
             "fill": {
              "color": "#EBF0F8"
             },
             "line": {
              "color": "white"
             }
            },
            "header": {
             "fill": {
              "color": "#C8D4E3"
             },
             "line": {
              "color": "white"
             }
            },
            "type": "table"
           }
          ]
         },
         "layout": {
          "annotationdefaults": {
           "arrowcolor": "#2a3f5f",
           "arrowhead": 0,
           "arrowwidth": 1
          },
          "autotypenumbers": "strict",
          "coloraxis": {
           "colorbar": {
            "outlinewidth": 0,
            "ticks": ""
           }
          },
          "colorscale": {
           "diverging": [
            [
             0,
             "#8e0152"
            ],
            [
             0.1,
             "#c51b7d"
            ],
            [
             0.2,
             "#de77ae"
            ],
            [
             0.3,
             "#f1b6da"
            ],
            [
             0.4,
             "#fde0ef"
            ],
            [
             0.5,
             "#f7f7f7"
            ],
            [
             0.6,
             "#e6f5d0"
            ],
            [
             0.7,
             "#b8e186"
            ],
            [
             0.8,
             "#7fbc41"
            ],
            [
             0.9,
             "#4d9221"
            ],
            [
             1,
             "#276419"
            ]
           ],
           "sequential": [
            [
             0,
             "#0d0887"
            ],
            [
             0.1111111111111111,
             "#46039f"
            ],
            [
             0.2222222222222222,
             "#7201a8"
            ],
            [
             0.3333333333333333,
             "#9c179e"
            ],
            [
             0.4444444444444444,
             "#bd3786"
            ],
            [
             0.5555555555555556,
             "#d8576b"
            ],
            [
             0.6666666666666666,
             "#ed7953"
            ],
            [
             0.7777777777777778,
             "#fb9f3a"
            ],
            [
             0.8888888888888888,
             "#fdca26"
            ],
            [
             1,
             "#f0f921"
            ]
           ],
           "sequentialminus": [
            [
             0,
             "#0d0887"
            ],
            [
             0.1111111111111111,
             "#46039f"
            ],
            [
             0.2222222222222222,
             "#7201a8"
            ],
            [
             0.3333333333333333,
             "#9c179e"
            ],
            [
             0.4444444444444444,
             "#bd3786"
            ],
            [
             0.5555555555555556,
             "#d8576b"
            ],
            [
             0.6666666666666666,
             "#ed7953"
            ],
            [
             0.7777777777777778,
             "#fb9f3a"
            ],
            [
             0.8888888888888888,
             "#fdca26"
            ],
            [
             1,
             "#f0f921"
            ]
           ]
          },
          "colorway": [
           "#636efa",
           "#EF553B",
           "#00cc96",
           "#ab63fa",
           "#FFA15A",
           "#19d3f3",
           "#FF6692",
           "#B6E880",
           "#FF97FF",
           "#FECB52"
          ],
          "font": {
           "color": "#2a3f5f"
          },
          "geo": {
           "bgcolor": "white",
           "lakecolor": "white",
           "landcolor": "#E5ECF6",
           "showlakes": true,
           "showland": true,
           "subunitcolor": "white"
          },
          "hoverlabel": {
           "align": "left"
          },
          "hovermode": "closest",
          "mapbox": {
           "style": "light"
          },
          "paper_bgcolor": "white",
          "plot_bgcolor": "#E5ECF6",
          "polar": {
           "angularaxis": {
            "gridcolor": "white",
            "linecolor": "white",
            "ticks": ""
           },
           "bgcolor": "#E5ECF6",
           "radialaxis": {
            "gridcolor": "white",
            "linecolor": "white",
            "ticks": ""
           }
          },
          "scene": {
           "xaxis": {
            "backgroundcolor": "#E5ECF6",
            "gridcolor": "white",
            "gridwidth": 2,
            "linecolor": "white",
            "showbackground": true,
            "ticks": "",
            "zerolinecolor": "white"
           },
           "yaxis": {
            "backgroundcolor": "#E5ECF6",
            "gridcolor": "white",
            "gridwidth": 2,
            "linecolor": "white",
            "showbackground": true,
            "ticks": "",
            "zerolinecolor": "white"
           },
           "zaxis": {
            "backgroundcolor": "#E5ECF6",
            "gridcolor": "white",
            "gridwidth": 2,
            "linecolor": "white",
            "showbackground": true,
            "ticks": "",
            "zerolinecolor": "white"
           }
          },
          "shapedefaults": {
           "line": {
            "color": "#2a3f5f"
           }
          },
          "ternary": {
           "aaxis": {
            "gridcolor": "white",
            "linecolor": "white",
            "ticks": ""
           },
           "baxis": {
            "gridcolor": "white",
            "linecolor": "white",
            "ticks": ""
           },
           "bgcolor": "#E5ECF6",
           "caxis": {
            "gridcolor": "white",
            "linecolor": "white",
            "ticks": ""
           }
          },
          "title": {
           "x": 0.05
          },
          "xaxis": {
           "automargin": true,
           "gridcolor": "white",
           "linecolor": "white",
           "ticks": "",
           "title": {
            "standoff": 15
           },
           "zerolinecolor": "white",
           "zerolinewidth": 2
          },
          "yaxis": {
           "automargin": true,
           "gridcolor": "white",
           "linecolor": "white",
           "ticks": "",
           "title": {
            "standoff": 15
           },
           "zerolinecolor": "white",
           "zerolinewidth": 2
          }
         }
        },
        "title": {
         "text": "Crop Production in Asia"
        },
        "updatemenus": [
         {
          "buttons": [
           {
            "args": [
             null,
             {
              "frame": {
               "duration": 500,
               "redraw": true
              },
              "fromcurrent": true,
              "mode": "immediate",
              "transition": {
               "duration": 500,
               "easing": "linear"
              }
             }
            ],
            "label": "&#9654;",
            "method": "animate"
           },
           {
            "args": [
             [
              null
             ],
             {
              "frame": {
               "duration": 0,
               "redraw": true
              },
              "fromcurrent": true,
              "mode": "immediate",
              "transition": {
               "duration": 0,
               "easing": "linear"
              }
             }
            ],
            "label": "&#9724;",
            "method": "animate"
           }
          ],
          "direction": "left",
          "pad": {
           "r": 10,
           "t": 70
          },
          "showactive": false,
          "type": "buttons",
          "x": 0.1,
          "xanchor": "right",
          "y": 0,
          "yanchor": "top"
         }
        ]
       }
      }
     },
     "metadata": {},
     "output_type": "display_data"
    }
   ],
   "source": [
    "fig_map = px.choropleth(df_map1,\n",
    "                                locations='test',\n",
    "                                hover_name='area',\n",
    "                                color= 'quantity',\n",
    "                                animation_frame=\"year\",\n",
    "                                range_color=[0, 3000000000],\n",
    "                                color_continuous_scale= \"tealrose\",\n",
    "                                # color_continuous_scale= px.colors.sequential.Purples,\n",
    "                                title= \"Crop Production in Asia\"\n",
    "                                )\n",
    "fig_map.update_layout(geo_scope=\"asia\")\n"
   ]
  },
  {
   "attachments": {},
   "cell_type": "markdown",
   "metadata": {},
   "source": [
    "Observation: Animated map showcasing the growth of crop production over the past 10 years in Asia. Clearly, China is the pioneer when it comes to crop production."
   ]
  },
  {
   "attachments": {},
   "cell_type": "markdown",
   "metadata": {},
   "source": [
    "### 5. Conclusion\n",
    "- Fruit and Vegetables are the highest produced crops in Bahrain\n",
    "- The most crop produced in Bahrain is green chilies and peppers\n",
    "- Bahrain production for dates decreased from 2009 till 2013 then increased from 2014 till 2016 then it continues to reduce due to a decrease in the number of palm trees\n",
    "- China is the highest productive country in Asia in which Cereals and Vegetables are the highest crops produced\n",
    "- Most countries produce agricultural products in Asia are China, India, Indonesia, Thailand, Pakistan, Turkey, Philippines, Viet Nam, Bangladesh and Malaysia\n",
    "- Most crops produce in Asia are Cereals, Vegetables, Sugar Crops, Sugar cane, Rice, Oilcrops, Fruit, Rice milled, Roots and Tubers, and Wheat where Cereals is the highest and wheat is the lowest\n",
    "- Crops production increase over the years\n",
    "- In the last 10 years the Cereal production increased\n",
    "- Over the last 10 years China production for Cereals and Vegetables increasing where the Cereal production is the highest."
   ]
  },
  {
   "attachments": {},
   "cell_type": "markdown",
   "metadata": {},
   "source": [
    "### 6. Bonus (Fun Facts About Bahrain)"
   ]
  },
  {
   "cell_type": "code",
   "execution_count": 39,
   "metadata": {},
   "outputs": [],
   "source": [
    "bahrain = asia_last_10_yrs[asia_last_10_yrs[\"area\"] == \"Bahrain\"]"
   ]
  },
  {
   "cell_type": "code",
   "execution_count": 40,
   "metadata": {},
   "outputs": [
    {
     "data": {
      "text/html": [
       "<div>\n",
       "<style scoped>\n",
       "    .dataframe tbody tr th:only-of-type {\n",
       "        vertical-align: middle;\n",
       "    }\n",
       "\n",
       "    .dataframe tbody tr th {\n",
       "        vertical-align: top;\n",
       "    }\n",
       "\n",
       "    .dataframe thead th {\n",
       "        text-align: right;\n",
       "    }\n",
       "</style>\n",
       "<table border=\"1\" class=\"dataframe\">\n",
       "  <thead>\n",
       "    <tr style=\"text-align: right;\">\n",
       "      <th></th>\n",
       "      <th>area</th>\n",
       "      <th>item</th>\n",
       "      <th>element</th>\n",
       "      <th>unit</th>\n",
       "      <th>year</th>\n",
       "      <th>quantity</th>\n",
       "    </tr>\n",
       "  </thead>\n",
       "  <tbody>\n",
       "    <tr>\n",
       "      <th>463165</th>\n",
       "      <td>Bahrain</td>\n",
       "      <td>Bananas</td>\n",
       "      <td>Production</td>\n",
       "      <td>tonnes</td>\n",
       "      <td>2009</td>\n",
       "      <td>940.0</td>\n",
       "    </tr>\n",
       "    <tr>\n",
       "      <th>463168</th>\n",
       "      <td>Bahrain</td>\n",
       "      <td>Cabbages and other brassicas</td>\n",
       "      <td>Production</td>\n",
       "      <td>tonnes</td>\n",
       "      <td>2009</td>\n",
       "      <td>764.0</td>\n",
       "    </tr>\n",
       "    <tr>\n",
       "      <th>463171</th>\n",
       "      <td>Bahrain</td>\n",
       "      <td>Carrots and turnips</td>\n",
       "      <td>Production</td>\n",
       "      <td>tonnes</td>\n",
       "      <td>2009</td>\n",
       "      <td>264.0</td>\n",
       "    </tr>\n",
       "    <tr>\n",
       "      <th>463174</th>\n",
       "      <td>Bahrain</td>\n",
       "      <td>Cauliflowers and broccoli</td>\n",
       "      <td>Production</td>\n",
       "      <td>tonnes</td>\n",
       "      <td>2009</td>\n",
       "      <td>890.0</td>\n",
       "    </tr>\n",
       "    <tr>\n",
       "      <th>463176</th>\n",
       "      <td>Bahrain</td>\n",
       "      <td>Chick peas</td>\n",
       "      <td>Production</td>\n",
       "      <td>tonnes</td>\n",
       "      <td>2009</td>\n",
       "      <td>0.0</td>\n",
       "    </tr>\n",
       "    <tr>\n",
       "      <th>...</th>\n",
       "      <td>...</td>\n",
       "      <td>...</td>\n",
       "      <td>...</td>\n",
       "      <td>...</td>\n",
       "      <td>...</td>\n",
       "      <td>...</td>\n",
       "    </tr>\n",
       "    <tr>\n",
       "      <th>559619</th>\n",
       "      <td>Bahrain</td>\n",
       "      <td>Fruit Primary</td>\n",
       "      <td>Production</td>\n",
       "      <td>tonnes</td>\n",
       "      <td>2019</td>\n",
       "      <td>22170.0</td>\n",
       "    </tr>\n",
       "    <tr>\n",
       "      <th>559622</th>\n",
       "      <td>Bahrain</td>\n",
       "      <td>Pulses, Total</td>\n",
       "      <td>Production</td>\n",
       "      <td>tonnes</td>\n",
       "      <td>2019</td>\n",
       "      <td>5.0</td>\n",
       "    </tr>\n",
       "    <tr>\n",
       "      <th>559625</th>\n",
       "      <td>Bahrain</td>\n",
       "      <td>Roots and Tubers, Total</td>\n",
       "      <td>Production</td>\n",
       "      <td>tonnes</td>\n",
       "      <td>2019</td>\n",
       "      <td>30.0</td>\n",
       "    </tr>\n",
       "    <tr>\n",
       "      <th>559628</th>\n",
       "      <td>Bahrain</td>\n",
       "      <td>Treenuts, Total</td>\n",
       "      <td>Production</td>\n",
       "      <td>tonnes</td>\n",
       "      <td>2019</td>\n",
       "      <td>351.0</td>\n",
       "    </tr>\n",
       "    <tr>\n",
       "      <th>559631</th>\n",
       "      <td>Bahrain</td>\n",
       "      <td>Vegetables Primary</td>\n",
       "      <td>Production</td>\n",
       "      <td>tonnes</td>\n",
       "      <td>2019</td>\n",
       "      <td>18332.0</td>\n",
       "    </tr>\n",
       "  </tbody>\n",
       "</table>\n",
       "<p>330 rows × 6 columns</p>\n",
       "</div>"
      ],
      "text/plain": [
       "           area                          item     element    unit  year  \\\n",
       "463165  Bahrain                       Bananas  Production  tonnes  2009   \n",
       "463168  Bahrain  Cabbages and other brassicas  Production  tonnes  2009   \n",
       "463171  Bahrain           Carrots and turnips  Production  tonnes  2009   \n",
       "463174  Bahrain     Cauliflowers and broccoli  Production  tonnes  2009   \n",
       "463176  Bahrain                    Chick peas  Production  tonnes  2009   \n",
       "...         ...                           ...         ...     ...   ...   \n",
       "559619  Bahrain                 Fruit Primary  Production  tonnes  2019   \n",
       "559622  Bahrain                 Pulses, Total  Production  tonnes  2019   \n",
       "559625  Bahrain       Roots and Tubers, Total  Production  tonnes  2019   \n",
       "559628  Bahrain               Treenuts, Total  Production  tonnes  2019   \n",
       "559631  Bahrain            Vegetables Primary  Production  tonnes  2019   \n",
       "\n",
       "        quantity  \n",
       "463165     940.0  \n",
       "463168     764.0  \n",
       "463171     264.0  \n",
       "463174     890.0  \n",
       "463176       0.0  \n",
       "...          ...  \n",
       "559619   22170.0  \n",
       "559622       5.0  \n",
       "559625      30.0  \n",
       "559628     351.0  \n",
       "559631   18332.0  \n",
       "\n",
       "[330 rows x 6 columns]"
      ]
     },
     "execution_count": 40,
     "metadata": {},
     "output_type": "execute_result"
    }
   ],
   "source": [
    "bahrain"
   ]
  },
  {
   "attachments": {},
   "cell_type": "markdown",
   "metadata": {},
   "source": [
    "### Top 10 Crops in Bahrain"
   ]
  },
  {
   "cell_type": "code",
   "execution_count": 41,
   "metadata": {},
   "outputs": [
    {
     "data": {
      "text/html": [
       "<div>\n",
       "<style scoped>\n",
       "    .dataframe tbody tr th:only-of-type {\n",
       "        vertical-align: middle;\n",
       "    }\n",
       "\n",
       "    .dataframe tbody tr th {\n",
       "        vertical-align: top;\n",
       "    }\n",
       "\n",
       "    .dataframe thead th {\n",
       "        text-align: right;\n",
       "    }\n",
       "</style>\n",
       "<table border=\"1\" class=\"dataframe\">\n",
       "  <thead>\n",
       "    <tr style=\"text-align: right;\">\n",
       "      <th></th>\n",
       "      <th>quantity</th>\n",
       "    </tr>\n",
       "    <tr>\n",
       "      <th>item</th>\n",
       "      <th></th>\n",
       "    </tr>\n",
       "  </thead>\n",
       "  <tbody>\n",
       "    <tr>\n",
       "      <th>Fruit Primary</th>\n",
       "      <td>236292</td>\n",
       "    </tr>\n",
       "    <tr>\n",
       "      <th>Vegetables Primary</th>\n",
       "      <td>174519</td>\n",
       "    </tr>\n",
       "    <tr>\n",
       "      <th>Dates</th>\n",
       "      <td>145219</td>\n",
       "    </tr>\n",
       "    <tr>\n",
       "      <th>Fruit, fresh nes</th>\n",
       "      <td>56990</td>\n",
       "    </tr>\n",
       "    <tr>\n",
       "      <th>Tomatoes</th>\n",
       "      <td>55428</td>\n",
       "    </tr>\n",
       "    <tr>\n",
       "      <th>Vegetables, fresh nes</th>\n",
       "      <td>30685</td>\n",
       "    </tr>\n",
       "    <tr>\n",
       "      <th>Cucumbers and gherkins</th>\n",
       "      <td>16004</td>\n",
       "    </tr>\n",
       "    <tr>\n",
       "      <th>Pumpkins, squash and gourds</th>\n",
       "      <td>15608</td>\n",
       "    </tr>\n",
       "    <tr>\n",
       "      <th>Eggplants (aubergines)</th>\n",
       "      <td>14195</td>\n",
       "    </tr>\n",
       "    <tr>\n",
       "      <th>Citrus Fruit, Total</th>\n",
       "      <td>11821</td>\n",
       "    </tr>\n",
       "  </tbody>\n",
       "</table>\n",
       "</div>"
      ],
      "text/plain": [
       "                             quantity\n",
       "item                                 \n",
       "Fruit Primary                  236292\n",
       "Vegetables Primary             174519\n",
       "Dates                          145219\n",
       "Fruit, fresh nes                56990\n",
       "Tomatoes                        55428\n",
       "Vegetables, fresh nes           30685\n",
       "Cucumbers and gherkins          16004\n",
       "Pumpkins, squash and gourds     15608\n",
       "Eggplants (aubergines)          14195\n",
       "Citrus Fruit, Total             11821"
      ]
     },
     "execution_count": 41,
     "metadata": {},
     "output_type": "execute_result"
    }
   ],
   "source": [
    "bahrain_production = pd.DataFrame(bahrain.groupby(by = [\"item\"]).quantity.sum().sort_values(ascending=False).head(10)).astype(\"int\")\n",
    "bahrain_production"
   ]
  },
  {
   "cell_type": "code",
   "execution_count": 42,
   "metadata": {},
   "outputs": [
    {
     "data": {
      "text/html": [
       "<div>\n",
       "<style scoped>\n",
       "    .dataframe tbody tr th:only-of-type {\n",
       "        vertical-align: middle;\n",
       "    }\n",
       "\n",
       "    .dataframe tbody tr th {\n",
       "        vertical-align: top;\n",
       "    }\n",
       "\n",
       "    .dataframe thead th {\n",
       "        text-align: right;\n",
       "    }\n",
       "</style>\n",
       "<table border=\"1\" class=\"dataframe\">\n",
       "  <thead>\n",
       "    <tr style=\"text-align: right;\">\n",
       "      <th></th>\n",
       "      <th>area</th>\n",
       "      <th>item</th>\n",
       "      <th>element</th>\n",
       "      <th>unit</th>\n",
       "      <th>year</th>\n",
       "      <th>quantity</th>\n",
       "    </tr>\n",
       "  </thead>\n",
       "  <tbody>\n",
       "    <tr>\n",
       "      <th>463233</th>\n",
       "      <td>Bahrain</td>\n",
       "      <td>Watermelons</td>\n",
       "      <td>Production</td>\n",
       "      <td>tonnes</td>\n",
       "      <td>2009</td>\n",
       "      <td>179.0</td>\n",
       "    </tr>\n",
       "    <tr>\n",
       "      <th>472871</th>\n",
       "      <td>Bahrain</td>\n",
       "      <td>Watermelons</td>\n",
       "      <td>Production</td>\n",
       "      <td>tonnes</td>\n",
       "      <td>2010</td>\n",
       "      <td>189.0</td>\n",
       "    </tr>\n",
       "    <tr>\n",
       "      <th>482509</th>\n",
       "      <td>Bahrain</td>\n",
       "      <td>Watermelons</td>\n",
       "      <td>Production</td>\n",
       "      <td>tonnes</td>\n",
       "      <td>2011</td>\n",
       "      <td>189.0</td>\n",
       "    </tr>\n",
       "    <tr>\n",
       "      <th>492147</th>\n",
       "      <td>Bahrain</td>\n",
       "      <td>Watermelons</td>\n",
       "      <td>Production</td>\n",
       "      <td>tonnes</td>\n",
       "      <td>2012</td>\n",
       "      <td>212.0</td>\n",
       "    </tr>\n",
       "    <tr>\n",
       "      <th>501785</th>\n",
       "      <td>Bahrain</td>\n",
       "      <td>Watermelons</td>\n",
       "      <td>Production</td>\n",
       "      <td>tonnes</td>\n",
       "      <td>2013</td>\n",
       "      <td>220.0</td>\n",
       "    </tr>\n",
       "    <tr>\n",
       "      <th>511423</th>\n",
       "      <td>Bahrain</td>\n",
       "      <td>Watermelons</td>\n",
       "      <td>Production</td>\n",
       "      <td>tonnes</td>\n",
       "      <td>2014</td>\n",
       "      <td>221.0</td>\n",
       "    </tr>\n",
       "    <tr>\n",
       "      <th>521061</th>\n",
       "      <td>Bahrain</td>\n",
       "      <td>Watermelons</td>\n",
       "      <td>Production</td>\n",
       "      <td>tonnes</td>\n",
       "      <td>2015</td>\n",
       "      <td>217.0</td>\n",
       "    </tr>\n",
       "    <tr>\n",
       "      <th>530699</th>\n",
       "      <td>Bahrain</td>\n",
       "      <td>Watermelons</td>\n",
       "      <td>Production</td>\n",
       "      <td>tonnes</td>\n",
       "      <td>2016</td>\n",
       "      <td>231.0</td>\n",
       "    </tr>\n",
       "    <tr>\n",
       "      <th>540337</th>\n",
       "      <td>Bahrain</td>\n",
       "      <td>Watermelons</td>\n",
       "      <td>Production</td>\n",
       "      <td>tonnes</td>\n",
       "      <td>2017</td>\n",
       "      <td>238.0</td>\n",
       "    </tr>\n",
       "    <tr>\n",
       "      <th>549975</th>\n",
       "      <td>Bahrain</td>\n",
       "      <td>Watermelons</td>\n",
       "      <td>Production</td>\n",
       "      <td>tonnes</td>\n",
       "      <td>2018</td>\n",
       "      <td>246.0</td>\n",
       "    </tr>\n",
       "    <tr>\n",
       "      <th>559613</th>\n",
       "      <td>Bahrain</td>\n",
       "      <td>Watermelons</td>\n",
       "      <td>Production</td>\n",
       "      <td>tonnes</td>\n",
       "      <td>2019</td>\n",
       "      <td>253.0</td>\n",
       "    </tr>\n",
       "  </tbody>\n",
       "</table>\n",
       "</div>"
      ],
      "text/plain": [
       "           area         item     element    unit  year  quantity\n",
       "463233  Bahrain  Watermelons  Production  tonnes  2009     179.0\n",
       "472871  Bahrain  Watermelons  Production  tonnes  2010     189.0\n",
       "482509  Bahrain  Watermelons  Production  tonnes  2011     189.0\n",
       "492147  Bahrain  Watermelons  Production  tonnes  2012     212.0\n",
       "501785  Bahrain  Watermelons  Production  tonnes  2013     220.0\n",
       "511423  Bahrain  Watermelons  Production  tonnes  2014     221.0\n",
       "521061  Bahrain  Watermelons  Production  tonnes  2015     217.0\n",
       "530699  Bahrain  Watermelons  Production  tonnes  2016     231.0\n",
       "540337  Bahrain  Watermelons  Production  tonnes  2017     238.0\n",
       "549975  Bahrain  Watermelons  Production  tonnes  2018     246.0\n",
       "559613  Bahrain  Watermelons  Production  tonnes  2019     253.0"
      ]
     },
     "execution_count": 42,
     "metadata": {},
     "output_type": "execute_result"
    }
   ],
   "source": [
    "bahrain[bahrain[\"item\"] == \"Watermelons\"]"
   ]
  },
  {
   "cell_type": "code",
   "execution_count": 43,
   "metadata": {},
   "outputs": [
    {
     "data": {
      "text/html": [
       "<div>\n",
       "<style scoped>\n",
       "    .dataframe tbody tr th:only-of-type {\n",
       "        vertical-align: middle;\n",
       "    }\n",
       "\n",
       "    .dataframe tbody tr th {\n",
       "        vertical-align: top;\n",
       "    }\n",
       "\n",
       "    .dataframe thead th {\n",
       "        text-align: right;\n",
       "    }\n",
       "</style>\n",
       "<table border=\"1\" class=\"dataframe\">\n",
       "  <thead>\n",
       "    <tr style=\"text-align: right;\">\n",
       "      <th></th>\n",
       "      <th>area</th>\n",
       "      <th>item</th>\n",
       "      <th>element</th>\n",
       "      <th>unit</th>\n",
       "      <th>year</th>\n",
       "      <th>quantity</th>\n",
       "    </tr>\n",
       "  </thead>\n",
       "  <tbody>\n",
       "    <tr>\n",
       "      <th>463185</th>\n",
       "      <td>Bahrain</td>\n",
       "      <td>Dates</td>\n",
       "      <td>Production</td>\n",
       "      <td>tonnes</td>\n",
       "      <td>2009</td>\n",
       "      <td>12887.0</td>\n",
       "    </tr>\n",
       "    <tr>\n",
       "      <th>472823</th>\n",
       "      <td>Bahrain</td>\n",
       "      <td>Dates</td>\n",
       "      <td>Production</td>\n",
       "      <td>tonnes</td>\n",
       "      <td>2010</td>\n",
       "      <td>12562.0</td>\n",
       "    </tr>\n",
       "    <tr>\n",
       "      <th>482461</th>\n",
       "      <td>Bahrain</td>\n",
       "      <td>Dates</td>\n",
       "      <td>Production</td>\n",
       "      <td>tonnes</td>\n",
       "      <td>2011</td>\n",
       "      <td>12216.0</td>\n",
       "    </tr>\n",
       "    <tr>\n",
       "      <th>492099</th>\n",
       "      <td>Bahrain</td>\n",
       "      <td>Dates</td>\n",
       "      <td>Production</td>\n",
       "      <td>tonnes</td>\n",
       "      <td>2012</td>\n",
       "      <td>11869.0</td>\n",
       "    </tr>\n",
       "    <tr>\n",
       "      <th>501737</th>\n",
       "      <td>Bahrain</td>\n",
       "      <td>Dates</td>\n",
       "      <td>Production</td>\n",
       "      <td>tonnes</td>\n",
       "      <td>2013</td>\n",
       "      <td>11595.0</td>\n",
       "    </tr>\n",
       "    <tr>\n",
       "      <th>511375</th>\n",
       "      <td>Bahrain</td>\n",
       "      <td>Dates</td>\n",
       "      <td>Production</td>\n",
       "      <td>tonnes</td>\n",
       "      <td>2014</td>\n",
       "      <td>13473.0</td>\n",
       "    </tr>\n",
       "    <tr>\n",
       "      <th>521013</th>\n",
       "      <td>Bahrain</td>\n",
       "      <td>Dates</td>\n",
       "      <td>Production</td>\n",
       "      <td>tonnes</td>\n",
       "      <td>2015</td>\n",
       "      <td>14646.0</td>\n",
       "    </tr>\n",
       "    <tr>\n",
       "      <th>530651</th>\n",
       "      <td>Bahrain</td>\n",
       "      <td>Dates</td>\n",
       "      <td>Production</td>\n",
       "      <td>tonnes</td>\n",
       "      <td>2016</td>\n",
       "      <td>17321.0</td>\n",
       "    </tr>\n",
       "    <tr>\n",
       "      <th>540289</th>\n",
       "      <td>Bahrain</td>\n",
       "      <td>Dates</td>\n",
       "      <td>Production</td>\n",
       "      <td>tonnes</td>\n",
       "      <td>2017</td>\n",
       "      <td>12750.0</td>\n",
       "    </tr>\n",
       "    <tr>\n",
       "      <th>549927</th>\n",
       "      <td>Bahrain</td>\n",
       "      <td>Dates</td>\n",
       "      <td>Production</td>\n",
       "      <td>tonnes</td>\n",
       "      <td>2018</td>\n",
       "      <td>12900.0</td>\n",
       "    </tr>\n",
       "    <tr>\n",
       "      <th>559565</th>\n",
       "      <td>Bahrain</td>\n",
       "      <td>Dates</td>\n",
       "      <td>Production</td>\n",
       "      <td>tonnes</td>\n",
       "      <td>2019</td>\n",
       "      <td>13000.0</td>\n",
       "    </tr>\n",
       "  </tbody>\n",
       "</table>\n",
       "</div>"
      ],
      "text/plain": [
       "           area   item     element    unit  year  quantity\n",
       "463185  Bahrain  Dates  Production  tonnes  2009   12887.0\n",
       "472823  Bahrain  Dates  Production  tonnes  2010   12562.0\n",
       "482461  Bahrain  Dates  Production  tonnes  2011   12216.0\n",
       "492099  Bahrain  Dates  Production  tonnes  2012   11869.0\n",
       "501737  Bahrain  Dates  Production  tonnes  2013   11595.0\n",
       "511375  Bahrain  Dates  Production  tonnes  2014   13473.0\n",
       "521013  Bahrain  Dates  Production  tonnes  2015   14646.0\n",
       "530651  Bahrain  Dates  Production  tonnes  2016   17321.0\n",
       "540289  Bahrain  Dates  Production  tonnes  2017   12750.0\n",
       "549927  Bahrain  Dates  Production  tonnes  2018   12900.0\n",
       "559565  Bahrain  Dates  Production  tonnes  2019   13000.0"
      ]
     },
     "execution_count": 43,
     "metadata": {},
     "output_type": "execute_result"
    }
   ],
   "source": [
    "bahrain_dates = bahrain[bahrain[\"item\"] == \"Dates\"]\n",
    "bahrain_dates"
   ]
  },
  {
   "attachments": {},
   "cell_type": "markdown",
   "metadata": {},
   "source": [
    "### Bahrain Production"
   ]
  },
  {
   "cell_type": "code",
   "execution_count": 44,
   "metadata": {},
   "outputs": [
    {
     "name": "stderr",
     "output_type": "stream",
     "text": [
      "C:\\Users\\halee\\AppData\\Local\\Temp\\ipykernel_16444\\2069775110.py:1: SettingWithCopyWarning:\n",
      "\n",
      "\n",
      "A value is trying to be set on a copy of a slice from a DataFrame.\n",
      "Try using .loc[row_indexer,col_indexer] = value instead\n",
      "\n",
      "See the caveats in the documentation: https://pandas.pydata.org/pandas-docs/stable/user_guide/indexing.html#returning-a-view-versus-a-copy\n",
      "\n"
     ]
    }
   ],
   "source": [
    "bahrain[\"quantity\"] = bahrain.quantity.astype(\"int64\")"
   ]
  },
  {
   "cell_type": "code",
   "execution_count": 45,
   "metadata": {},
   "outputs": [
    {
     "data": {
      "application/vnd.plotly.v1+json": {
       "config": {
        "plotlyServerURL": "https://plot.ly"
       },
       "data": [
        {
         "hovertemplate": "<b>%{hovertext}</b><br><br>item=Bananas<br>year=%{y}<br>quantity=%{marker.size}<extra></extra>",
         "hovertext": [
          "Bahrain"
         ],
         "ids": [
          "Bananas"
         ],
         "legendgroup": "Bananas",
         "marker": {
          "color": "#636efa",
          "size": [
           940
          ],
          "sizemode": "area",
          "sizeref": 8.498842975206612,
          "symbol": "circle"
         },
         "mode": "markers",
         "name": "Bananas",
         "orientation": "v",
         "showlegend": true,
         "type": "scatter",
         "x": [
          940
         ],
         "xaxis": "x",
         "y": [
          2009
         ],
         "yaxis": "y"
        },
        {
         "hovertemplate": "<b>%{hovertext}</b><br><br>item=Cabbages and other brassicas<br>year=%{y}<br>quantity=%{marker.size}<extra></extra>",
         "hovertext": [
          "Bahrain"
         ],
         "ids": [
          "Cabbages and other brassicas"
         ],
         "legendgroup": "Cabbages and other brassicas",
         "marker": {
          "color": "#EF553B",
          "size": [
           764
          ],
          "sizemode": "area",
          "sizeref": 8.498842975206612,
          "symbol": "circle"
         },
         "mode": "markers",
         "name": "Cabbages and other brassicas",
         "orientation": "v",
         "showlegend": true,
         "type": "scatter",
         "x": [
          764
         ],
         "xaxis": "x",
         "y": [
          2009
         ],
         "yaxis": "y"
        },
        {
         "hovertemplate": "<b>%{hovertext}</b><br><br>item=Carrots and turnips<br>year=%{y}<br>quantity=%{marker.size}<extra></extra>",
         "hovertext": [
          "Bahrain"
         ],
         "ids": [
          "Carrots and turnips"
         ],
         "legendgroup": "Carrots and turnips",
         "marker": {
          "color": "#00cc96",
          "size": [
           264
          ],
          "sizemode": "area",
          "sizeref": 8.498842975206612,
          "symbol": "circle"
         },
         "mode": "markers",
         "name": "Carrots and turnips",
         "orientation": "v",
         "showlegend": true,
         "type": "scatter",
         "x": [
          264
         ],
         "xaxis": "x",
         "y": [
          2009
         ],
         "yaxis": "y"
        },
        {
         "hovertemplate": "<b>%{hovertext}</b><br><br>item=Cauliflowers and broccoli<br>year=%{y}<br>quantity=%{marker.size}<extra></extra>",
         "hovertext": [
          "Bahrain"
         ],
         "ids": [
          "Cauliflowers and broccoli"
         ],
         "legendgroup": "Cauliflowers and broccoli",
         "marker": {
          "color": "#ab63fa",
          "size": [
           890
          ],
          "sizemode": "area",
          "sizeref": 8.498842975206612,
          "symbol": "circle"
         },
         "mode": "markers",
         "name": "Cauliflowers and broccoli",
         "orientation": "v",
         "showlegend": true,
         "type": "scatter",
         "x": [
          890
         ],
         "xaxis": "x",
         "y": [
          2009
         ],
         "yaxis": "y"
        },
        {
         "hovertemplate": "<b>%{hovertext}</b><br><br>item=Chick peas<br>year=%{y}<br>quantity=%{marker.size}<extra></extra>",
         "hovertext": [
          "Bahrain"
         ],
         "ids": [
          "Chick peas"
         ],
         "legendgroup": "Chick peas",
         "marker": {
          "color": "#FFA15A",
          "size": [
           0
          ],
          "sizemode": "area",
          "sizeref": 8.498842975206612,
          "symbol": "circle"
         },
         "mode": "markers",
         "name": "Chick peas",
         "orientation": "v",
         "showlegend": true,
         "type": "scatter",
         "x": [
          0
         ],
         "xaxis": "x",
         "y": [
          2009
         ],
         "yaxis": "y"
        },
        {
         "hovertemplate": "<b>%{hovertext}</b><br><br>item=Chillies and peppers, green<br>year=%{y}<br>quantity=%{marker.size}<extra></extra>",
         "hovertext": [
          "Bahrain"
         ],
         "ids": [
          "Chillies and peppers, green"
         ],
         "legendgroup": "Chillies and peppers, green",
         "marker": {
          "color": "#19d3f3",
          "size": [
           154
          ],
          "sizemode": "area",
          "sizeref": 8.498842975206612,
          "symbol": "circle"
         },
         "mode": "markers",
         "name": "Chillies and peppers, green",
         "orientation": "v",
         "showlegend": true,
         "type": "scatter",
         "x": [
          154
         ],
         "xaxis": "x",
         "y": [
          2009
         ],
         "yaxis": "y"
        },
        {
         "hovertemplate": "<b>%{hovertext}</b><br><br>item=Cucumbers and gherkins<br>year=%{y}<br>quantity=%{marker.size}<extra></extra>",
         "hovertext": [
          "Bahrain"
         ],
         "ids": [
          "Cucumbers and gherkins"
         ],
         "legendgroup": "Cucumbers and gherkins",
         "marker": {
          "color": "#FF6692",
          "size": [
           868
          ],
          "sizemode": "area",
          "sizeref": 8.498842975206612,
          "symbol": "circle"
         },
         "mode": "markers",
         "name": "Cucumbers and gherkins",
         "orientation": "v",
         "showlegend": true,
         "type": "scatter",
         "x": [
          868
         ],
         "xaxis": "x",
         "y": [
          2009
         ],
         "yaxis": "y"
        },
        {
         "hovertemplate": "<b>%{hovertext}</b><br><br>item=Dates<br>year=%{y}<br>quantity=%{marker.size}<extra></extra>",
         "hovertext": [
          "Bahrain"
         ],
         "ids": [
          "Dates"
         ],
         "legendgroup": "Dates",
         "marker": {
          "color": "#B6E880",
          "size": [
           12887
          ],
          "sizemode": "area",
          "sizeref": 8.498842975206612,
          "symbol": "circle"
         },
         "mode": "markers",
         "name": "Dates",
         "orientation": "v",
         "showlegend": true,
         "type": "scatter",
         "x": [
          12887
         ],
         "xaxis": "x",
         "y": [
          2009
         ],
         "yaxis": "y"
        },
        {
         "hovertemplate": "<b>%{hovertext}</b><br><br>item=Eggplants (aubergines)<br>year=%{y}<br>quantity=%{marker.size}<extra></extra>",
         "hovertext": [
          "Bahrain"
         ],
         "ids": [
          "Eggplants (aubergines)"
         ],
         "legendgroup": "Eggplants (aubergines)",
         "marker": {
          "color": "#FF97FF",
          "size": [
           1428
          ],
          "sizemode": "area",
          "sizeref": 8.498842975206612,
          "symbol": "circle"
         },
         "mode": "markers",
         "name": "Eggplants (aubergines)",
         "orientation": "v",
         "showlegend": true,
         "type": "scatter",
         "x": [
          1428
         ],
         "xaxis": "x",
         "y": [
          2009
         ],
         "yaxis": "y"
        },
        {
         "hovertemplate": "<b>%{hovertext}</b><br><br>item=Fruit, fresh nes<br>year=%{y}<br>quantity=%{marker.size}<extra></extra>",
         "hovertext": [
          "Bahrain"
         ],
         "ids": [
          "Fruit, fresh nes"
         ],
         "legendgroup": "Fruit, fresh nes",
         "marker": {
          "color": "#FECB52",
          "size": [
           4628
          ],
          "sizemode": "area",
          "sizeref": 8.498842975206612,
          "symbol": "circle"
         },
         "mode": "markers",
         "name": "Fruit, fresh nes",
         "orientation": "v",
         "showlegend": true,
         "type": "scatter",
         "x": [
          4628
         ],
         "xaxis": "x",
         "y": [
          2009
         ],
         "yaxis": "y"
        },
        {
         "hovertemplate": "<b>%{hovertext}</b><br><br>item=Grapes<br>year=%{y}<br>quantity=%{marker.size}<extra></extra>",
         "hovertext": [
          "Bahrain"
         ],
         "ids": [
          "Grapes"
         ],
         "legendgroup": "Grapes",
         "marker": {
          "color": "#636efa",
          "size": [
           144
          ],
          "sizemode": "area",
          "sizeref": 8.498842975206612,
          "symbol": "circle"
         },
         "mode": "markers",
         "name": "Grapes",
         "orientation": "v",
         "showlegend": true,
         "type": "scatter",
         "x": [
          144
         ],
         "xaxis": "x",
         "y": [
          2009
         ],
         "yaxis": "y"
        },
        {
         "hovertemplate": "<b>%{hovertext}</b><br><br>item=Lemons and limes<br>year=%{y}<br>quantity=%{marker.size}<extra></extra>",
         "hovertext": [
          "Bahrain"
         ],
         "ids": [
          "Lemons and limes"
         ],
         "legendgroup": "Lemons and limes",
         "marker": {
          "color": "#EF553B",
          "size": [
           1056
          ],
          "sizemode": "area",
          "sizeref": 8.498842975206612,
          "symbol": "circle"
         },
         "mode": "markers",
         "name": "Lemons and limes",
         "orientation": "v",
         "showlegend": true,
         "type": "scatter",
         "x": [
          1056
         ],
         "xaxis": "x",
         "y": [
          2009
         ],
         "yaxis": "y"
        },
        {
         "hovertemplate": "<b>%{hovertext}</b><br><br>item=Lettuce and chicory<br>year=%{y}<br>quantity=%{marker.size}<extra></extra>",
         "hovertext": [
          "Bahrain"
         ],
         "ids": [
          "Lettuce and chicory"
         ],
         "legendgroup": "Lettuce and chicory",
         "marker": {
          "color": "#00cc96",
          "size": [
           678
          ],
          "sizemode": "area",
          "sizeref": 8.498842975206612,
          "symbol": "circle"
         },
         "mode": "markers",
         "name": "Lettuce and chicory",
         "orientation": "v",
         "showlegend": true,
         "type": "scatter",
         "x": [
          678
         ],
         "xaxis": "x",
         "y": [
          2009
         ],
         "yaxis": "y"
        },
        {
         "hovertemplate": "<b>%{hovertext}</b><br><br>item=Melons, other (inc.cantaloupes)<br>year=%{y}<br>quantity=%{marker.size}<extra></extra>",
         "hovertext": [
          "Bahrain"
         ],
         "ids": [
          "Melons, other (inc.cantaloupes)"
         ],
         "legendgroup": "Melons, other (inc.cantaloupes)",
         "marker": {
          "color": "#ab63fa",
          "size": [
           628
          ],
          "sizemode": "area",
          "sizeref": 8.498842975206612,
          "symbol": "circle"
         },
         "mode": "markers",
         "name": "Melons, other (inc.cantaloupes)",
         "orientation": "v",
         "showlegend": true,
         "type": "scatter",
         "x": [
          628
         ],
         "xaxis": "x",
         "y": [
          2009
         ],
         "yaxis": "y"
        },
        {
         "hovertemplate": "<b>%{hovertext}</b><br><br>item=Nuts nes<br>year=%{y}<br>quantity=%{marker.size}<extra></extra>",
         "hovertext": [
          "Bahrain"
         ],
         "ids": [
          "Nuts nes"
         ],
         "legendgroup": "Nuts nes",
         "marker": {
          "color": "#FFA15A",
          "size": [
           350
          ],
          "sizemode": "area",
          "sizeref": 8.498842975206612,
          "symbol": "circle"
         },
         "mode": "markers",
         "name": "Nuts nes",
         "orientation": "v",
         "showlegend": true,
         "type": "scatter",
         "x": [
          350
         ],
         "xaxis": "x",
         "y": [
          2009
         ],
         "yaxis": "y"
        },
        {
         "hovertemplate": "<b>%{hovertext}</b><br><br>item=Okra<br>year=%{y}<br>quantity=%{marker.size}<extra></extra>",
         "hovertext": [
          "Bahrain"
         ],
         "ids": [
          "Okra"
         ],
         "legendgroup": "Okra",
         "marker": {
          "color": "#19d3f3",
          "size": [
           540
          ],
          "sizemode": "area",
          "sizeref": 8.498842975206612,
          "symbol": "circle"
         },
         "mode": "markers",
         "name": "Okra",
         "orientation": "v",
         "showlegend": true,
         "type": "scatter",
         "x": [
          540
         ],
         "xaxis": "x",
         "y": [
          2009
         ],
         "yaxis": "y"
        },
        {
         "hovertemplate": "<b>%{hovertext}</b><br><br>item=Onions, dry<br>year=%{y}<br>quantity=%{marker.size}<extra></extra>",
         "hovertext": [
          "Bahrain"
         ],
         "ids": [
          "Onions, dry"
         ],
         "legendgroup": "Onions, dry",
         "marker": {
          "color": "#FF6692",
          "size": [
           652
          ],
          "sizemode": "area",
          "sizeref": 8.498842975206612,
          "symbol": "circle"
         },
         "mode": "markers",
         "name": "Onions, dry",
         "orientation": "v",
         "showlegend": true,
         "type": "scatter",
         "x": [
          652
         ],
         "xaxis": "x",
         "y": [
          2009
         ],
         "yaxis": "y"
        },
        {
         "hovertemplate": "<b>%{hovertext}</b><br><br>item=Potatoes<br>year=%{y}<br>quantity=%{marker.size}<extra></extra>",
         "hovertext": [
          "Bahrain"
         ],
         "ids": [
          "Potatoes"
         ],
         "legendgroup": "Potatoes",
         "marker": {
          "color": "#B6E880",
          "size": [
           100
          ],
          "sizemode": "area",
          "sizeref": 8.498842975206612,
          "symbol": "circle"
         },
         "mode": "markers",
         "name": "Potatoes",
         "orientation": "v",
         "showlegend": true,
         "type": "scatter",
         "x": [
          100
         ],
         "xaxis": "x",
         "y": [
          2009
         ],
         "yaxis": "y"
        },
        {
         "hovertemplate": "<b>%{hovertext}</b><br><br>item=Pulses nes<br>year=%{y}<br>quantity=%{marker.size}<extra></extra>",
         "hovertext": [
          "Bahrain"
         ],
         "ids": [
          "Pulses nes"
         ],
         "legendgroup": "Pulses nes",
         "marker": {
          "color": "#FF97FF",
          "size": [
           7
          ],
          "sizemode": "area",
          "sizeref": 8.498842975206612,
          "symbol": "circle"
         },
         "mode": "markers",
         "name": "Pulses nes",
         "orientation": "v",
         "showlegend": true,
         "type": "scatter",
         "x": [
          7
         ],
         "xaxis": "x",
         "y": [
          2009
         ],
         "yaxis": "y"
        },
        {
         "hovertemplate": "<b>%{hovertext}</b><br><br>item=Pumpkins, squash and gourds<br>year=%{y}<br>quantity=%{marker.size}<extra></extra>",
         "hovertext": [
          "Bahrain"
         ],
         "ids": [
          "Pumpkins, squash and gourds"
         ],
         "legendgroup": "Pumpkins, squash and gourds",
         "marker": {
          "color": "#FECB52",
          "size": [
           573
          ],
          "sizemode": "area",
          "sizeref": 8.498842975206612,
          "symbol": "circle"
         },
         "mode": "markers",
         "name": "Pumpkins, squash and gourds",
         "orientation": "v",
         "showlegend": true,
         "type": "scatter",
         "x": [
          573
         ],
         "xaxis": "x",
         "y": [
          2009
         ],
         "yaxis": "y"
        },
        {
         "hovertemplate": "<b>%{hovertext}</b><br><br>item=Sweet potatoes<br>year=%{y}<br>quantity=%{marker.size}<extra></extra>",
         "hovertext": [
          "Bahrain"
         ],
         "ids": [
          "Sweet potatoes"
         ],
         "legendgroup": "Sweet potatoes",
         "marker": {
          "color": "#636efa",
          "size": [
           0
          ],
          "sizemode": "area",
          "sizeref": 8.498842975206612,
          "symbol": "circle"
         },
         "mode": "markers",
         "name": "Sweet potatoes",
         "orientation": "v",
         "showlegend": true,
         "type": "scatter",
         "x": [
          0
         ],
         "xaxis": "x",
         "y": [
          2009
         ],
         "yaxis": "y"
        },
        {
         "hovertemplate": "<b>%{hovertext}</b><br><br>item=Tomatoes<br>year=%{y}<br>quantity=%{marker.size}<extra></extra>",
         "hovertext": [
          "Bahrain"
         ],
         "ids": [
          "Tomatoes"
         ],
         "legendgroup": "Tomatoes",
         "marker": {
          "color": "#EF553B",
          "size": [
           4218
          ],
          "sizemode": "area",
          "sizeref": 8.498842975206612,
          "symbol": "circle"
         },
         "mode": "markers",
         "name": "Tomatoes",
         "orientation": "v",
         "showlegend": true,
         "type": "scatter",
         "x": [
          4218
         ],
         "xaxis": "x",
         "y": [
          2009
         ],
         "yaxis": "y"
        },
        {
         "hovertemplate": "<b>%{hovertext}</b><br><br>item=Vegetables, fresh nes<br>year=%{y}<br>quantity=%{marker.size}<extra></extra>",
         "hovertext": [
          "Bahrain"
         ],
         "ids": [
          "Vegetables, fresh nes"
         ],
         "legendgroup": "Vegetables, fresh nes",
         "marker": {
          "color": "#00cc96",
          "size": [
           4504
          ],
          "sizemode": "area",
          "sizeref": 8.498842975206612,
          "symbol": "circle"
         },
         "mode": "markers",
         "name": "Vegetables, fresh nes",
         "orientation": "v",
         "showlegend": true,
         "type": "scatter",
         "x": [
          4504
         ],
         "xaxis": "x",
         "y": [
          2009
         ],
         "yaxis": "y"
        },
        {
         "hovertemplate": "<b>%{hovertext}</b><br><br>item=Watermelons<br>year=%{y}<br>quantity=%{marker.size}<extra></extra>",
         "hovertext": [
          "Bahrain"
         ],
         "ids": [
          "Watermelons"
         ],
         "legendgroup": "Watermelons",
         "marker": {
          "color": "#ab63fa",
          "size": [
           179
          ],
          "sizemode": "area",
          "sizeref": 8.498842975206612,
          "symbol": "circle"
         },
         "mode": "markers",
         "name": "Watermelons",
         "orientation": "v",
         "showlegend": true,
         "type": "scatter",
         "x": [
          179
         ],
         "xaxis": "x",
         "y": [
          2009
         ],
         "yaxis": "y"
        },
        {
         "hovertemplate": "<b>%{hovertext}</b><br><br>item=Citrus Fruit, Total<br>year=%{y}<br>quantity=%{marker.size}<extra></extra>",
         "hovertext": [
          "Bahrain"
         ],
         "ids": [
          "Citrus Fruit, Total"
         ],
         "legendgroup": "Citrus Fruit, Total",
         "marker": {
          "color": "#FFA15A",
          "size": [
           1056
          ],
          "sizemode": "area",
          "sizeref": 8.498842975206612,
          "symbol": "circle"
         },
         "mode": "markers",
         "name": "Citrus Fruit, Total",
         "orientation": "v",
         "showlegend": true,
         "type": "scatter",
         "x": [
          1056
         ],
         "xaxis": "x",
         "y": [
          2009
         ],
         "yaxis": "y"
        },
        {
         "hovertemplate": "<b>%{hovertext}</b><br><br>item=Fruit Primary<br>year=%{y}<br>quantity=%{marker.size}<extra></extra>",
         "hovertext": [
          "Bahrain"
         ],
         "ids": [
          "Fruit Primary"
         ],
         "legendgroup": "Fruit Primary",
         "marker": {
          "color": "#19d3f3",
          "size": [
           20462
          ],
          "sizemode": "area",
          "sizeref": 8.498842975206612,
          "symbol": "circle"
         },
         "mode": "markers",
         "name": "Fruit Primary",
         "orientation": "v",
         "showlegend": true,
         "type": "scatter",
         "x": [
          20462
         ],
         "xaxis": "x",
         "y": [
          2009
         ],
         "yaxis": "y"
        },
        {
         "hovertemplate": "<b>%{hovertext}</b><br><br>item=Pulses, Total<br>year=%{y}<br>quantity=%{marker.size}<extra></extra>",
         "hovertext": [
          "Bahrain"
         ],
         "ids": [
          "Pulses, Total"
         ],
         "legendgroup": "Pulses, Total",
         "marker": {
          "color": "#FF6692",
          "size": [
           7
          ],
          "sizemode": "area",
          "sizeref": 8.498842975206612,
          "symbol": "circle"
         },
         "mode": "markers",
         "name": "Pulses, Total",
         "orientation": "v",
         "showlegend": true,
         "type": "scatter",
         "x": [
          7
         ],
         "xaxis": "x",
         "y": [
          2009
         ],
         "yaxis": "y"
        },
        {
         "hovertemplate": "<b>%{hovertext}</b><br><br>item=Roots and Tubers, Total<br>year=%{y}<br>quantity=%{marker.size}<extra></extra>",
         "hovertext": [
          "Bahrain"
         ],
         "ids": [
          "Roots and Tubers, Total"
         ],
         "legendgroup": "Roots and Tubers, Total",
         "marker": {
          "color": "#B6E880",
          "size": [
           100
          ],
          "sizemode": "area",
          "sizeref": 8.498842975206612,
          "symbol": "circle"
         },
         "mode": "markers",
         "name": "Roots and Tubers, Total",
         "orientation": "v",
         "showlegend": true,
         "type": "scatter",
         "x": [
          100
         ],
         "xaxis": "x",
         "y": [
          2009
         ],
         "yaxis": "y"
        },
        {
         "hovertemplate": "<b>%{hovertext}</b><br><br>item=Treenuts, Total<br>year=%{y}<br>quantity=%{marker.size}<extra></extra>",
         "hovertext": [
          "Bahrain"
         ],
         "ids": [
          "Treenuts, Total"
         ],
         "legendgroup": "Treenuts, Total",
         "marker": {
          "color": "#FF97FF",
          "size": [
           350
          ],
          "sizemode": "area",
          "sizeref": 8.498842975206612,
          "symbol": "circle"
         },
         "mode": "markers",
         "name": "Treenuts, Total",
         "orientation": "v",
         "showlegend": true,
         "type": "scatter",
         "x": [
          350
         ],
         "xaxis": "x",
         "y": [
          2009
         ],
         "yaxis": "y"
        },
        {
         "hovertemplate": "<b>%{hovertext}</b><br><br>item=Vegetables Primary<br>year=%{y}<br>quantity=%{marker.size}<extra></extra>",
         "hovertext": [
          "Bahrain"
         ],
         "ids": [
          "Vegetables Primary"
         ],
         "legendgroup": "Vegetables Primary",
         "marker": {
          "color": "#FECB52",
          "size": [
           15533
          ],
          "sizemode": "area",
          "sizeref": 8.498842975206612,
          "symbol": "circle"
         },
         "mode": "markers",
         "name": "Vegetables Primary",
         "orientation": "v",
         "showlegend": true,
         "type": "scatter",
         "x": [
          15533
         ],
         "xaxis": "x",
         "y": [
          2009
         ],
         "yaxis": "y"
        }
       ],
       "frames": [
        {
         "data": [
          {
           "hovertemplate": "<b>%{hovertext}</b><br><br>item=Bananas<br>year=%{y}<br>quantity=%{marker.size}<extra></extra>",
           "hovertext": [
            "Bahrain"
           ],
           "ids": [
            "Bananas"
           ],
           "legendgroup": "Bananas",
           "marker": {
            "color": "#636efa",
            "size": [
             940
            ],
            "sizemode": "area",
            "sizeref": 8.498842975206612,
            "symbol": "circle"
           },
           "mode": "markers",
           "name": "Bananas",
           "orientation": "v",
           "showlegend": true,
           "type": "scatter",
           "x": [
            940
           ],
           "xaxis": "x",
           "y": [
            2009
           ],
           "yaxis": "y"
          },
          {
           "hovertemplate": "<b>%{hovertext}</b><br><br>item=Cabbages and other brassicas<br>year=%{y}<br>quantity=%{marker.size}<extra></extra>",
           "hovertext": [
            "Bahrain"
           ],
           "ids": [
            "Cabbages and other brassicas"
           ],
           "legendgroup": "Cabbages and other brassicas",
           "marker": {
            "color": "#EF553B",
            "size": [
             764
            ],
            "sizemode": "area",
            "sizeref": 8.498842975206612,
            "symbol": "circle"
           },
           "mode": "markers",
           "name": "Cabbages and other brassicas",
           "orientation": "v",
           "showlegend": true,
           "type": "scatter",
           "x": [
            764
           ],
           "xaxis": "x",
           "y": [
            2009
           ],
           "yaxis": "y"
          },
          {
           "hovertemplate": "<b>%{hovertext}</b><br><br>item=Carrots and turnips<br>year=%{y}<br>quantity=%{marker.size}<extra></extra>",
           "hovertext": [
            "Bahrain"
           ],
           "ids": [
            "Carrots and turnips"
           ],
           "legendgroup": "Carrots and turnips",
           "marker": {
            "color": "#00cc96",
            "size": [
             264
            ],
            "sizemode": "area",
            "sizeref": 8.498842975206612,
            "symbol": "circle"
           },
           "mode": "markers",
           "name": "Carrots and turnips",
           "orientation": "v",
           "showlegend": true,
           "type": "scatter",
           "x": [
            264
           ],
           "xaxis": "x",
           "y": [
            2009
           ],
           "yaxis": "y"
          },
          {
           "hovertemplate": "<b>%{hovertext}</b><br><br>item=Cauliflowers and broccoli<br>year=%{y}<br>quantity=%{marker.size}<extra></extra>",
           "hovertext": [
            "Bahrain"
           ],
           "ids": [
            "Cauliflowers and broccoli"
           ],
           "legendgroup": "Cauliflowers and broccoli",
           "marker": {
            "color": "#ab63fa",
            "size": [
             890
            ],
            "sizemode": "area",
            "sizeref": 8.498842975206612,
            "symbol": "circle"
           },
           "mode": "markers",
           "name": "Cauliflowers and broccoli",
           "orientation": "v",
           "showlegend": true,
           "type": "scatter",
           "x": [
            890
           ],
           "xaxis": "x",
           "y": [
            2009
           ],
           "yaxis": "y"
          },
          {
           "hovertemplate": "<b>%{hovertext}</b><br><br>item=Chick peas<br>year=%{y}<br>quantity=%{marker.size}<extra></extra>",
           "hovertext": [
            "Bahrain"
           ],
           "ids": [
            "Chick peas"
           ],
           "legendgroup": "Chick peas",
           "marker": {
            "color": "#FFA15A",
            "size": [
             0
            ],
            "sizemode": "area",
            "sizeref": 8.498842975206612,
            "symbol": "circle"
           },
           "mode": "markers",
           "name": "Chick peas",
           "orientation": "v",
           "showlegend": true,
           "type": "scatter",
           "x": [
            0
           ],
           "xaxis": "x",
           "y": [
            2009
           ],
           "yaxis": "y"
          },
          {
           "hovertemplate": "<b>%{hovertext}</b><br><br>item=Chillies and peppers, green<br>year=%{y}<br>quantity=%{marker.size}<extra></extra>",
           "hovertext": [
            "Bahrain"
           ],
           "ids": [
            "Chillies and peppers, green"
           ],
           "legendgroup": "Chillies and peppers, green",
           "marker": {
            "color": "#19d3f3",
            "size": [
             154
            ],
            "sizemode": "area",
            "sizeref": 8.498842975206612,
            "symbol": "circle"
           },
           "mode": "markers",
           "name": "Chillies and peppers, green",
           "orientation": "v",
           "showlegend": true,
           "type": "scatter",
           "x": [
            154
           ],
           "xaxis": "x",
           "y": [
            2009
           ],
           "yaxis": "y"
          },
          {
           "hovertemplate": "<b>%{hovertext}</b><br><br>item=Cucumbers and gherkins<br>year=%{y}<br>quantity=%{marker.size}<extra></extra>",
           "hovertext": [
            "Bahrain"
           ],
           "ids": [
            "Cucumbers and gherkins"
           ],
           "legendgroup": "Cucumbers and gherkins",
           "marker": {
            "color": "#FF6692",
            "size": [
             868
            ],
            "sizemode": "area",
            "sizeref": 8.498842975206612,
            "symbol": "circle"
           },
           "mode": "markers",
           "name": "Cucumbers and gherkins",
           "orientation": "v",
           "showlegend": true,
           "type": "scatter",
           "x": [
            868
           ],
           "xaxis": "x",
           "y": [
            2009
           ],
           "yaxis": "y"
          },
          {
           "hovertemplate": "<b>%{hovertext}</b><br><br>item=Dates<br>year=%{y}<br>quantity=%{marker.size}<extra></extra>",
           "hovertext": [
            "Bahrain"
           ],
           "ids": [
            "Dates"
           ],
           "legendgroup": "Dates",
           "marker": {
            "color": "#B6E880",
            "size": [
             12887
            ],
            "sizemode": "area",
            "sizeref": 8.498842975206612,
            "symbol": "circle"
           },
           "mode": "markers",
           "name": "Dates",
           "orientation": "v",
           "showlegend": true,
           "type": "scatter",
           "x": [
            12887
           ],
           "xaxis": "x",
           "y": [
            2009
           ],
           "yaxis": "y"
          },
          {
           "hovertemplate": "<b>%{hovertext}</b><br><br>item=Eggplants (aubergines)<br>year=%{y}<br>quantity=%{marker.size}<extra></extra>",
           "hovertext": [
            "Bahrain"
           ],
           "ids": [
            "Eggplants (aubergines)"
           ],
           "legendgroup": "Eggplants (aubergines)",
           "marker": {
            "color": "#FF97FF",
            "size": [
             1428
            ],
            "sizemode": "area",
            "sizeref": 8.498842975206612,
            "symbol": "circle"
           },
           "mode": "markers",
           "name": "Eggplants (aubergines)",
           "orientation": "v",
           "showlegend": true,
           "type": "scatter",
           "x": [
            1428
           ],
           "xaxis": "x",
           "y": [
            2009
           ],
           "yaxis": "y"
          },
          {
           "hovertemplate": "<b>%{hovertext}</b><br><br>item=Fruit, fresh nes<br>year=%{y}<br>quantity=%{marker.size}<extra></extra>",
           "hovertext": [
            "Bahrain"
           ],
           "ids": [
            "Fruit, fresh nes"
           ],
           "legendgroup": "Fruit, fresh nes",
           "marker": {
            "color": "#FECB52",
            "size": [
             4628
            ],
            "sizemode": "area",
            "sizeref": 8.498842975206612,
            "symbol": "circle"
           },
           "mode": "markers",
           "name": "Fruit, fresh nes",
           "orientation": "v",
           "showlegend": true,
           "type": "scatter",
           "x": [
            4628
           ],
           "xaxis": "x",
           "y": [
            2009
           ],
           "yaxis": "y"
          },
          {
           "hovertemplate": "<b>%{hovertext}</b><br><br>item=Grapes<br>year=%{y}<br>quantity=%{marker.size}<extra></extra>",
           "hovertext": [
            "Bahrain"
           ],
           "ids": [
            "Grapes"
           ],
           "legendgroup": "Grapes",
           "marker": {
            "color": "#636efa",
            "size": [
             144
            ],
            "sizemode": "area",
            "sizeref": 8.498842975206612,
            "symbol": "circle"
           },
           "mode": "markers",
           "name": "Grapes",
           "orientation": "v",
           "showlegend": true,
           "type": "scatter",
           "x": [
            144
           ],
           "xaxis": "x",
           "y": [
            2009
           ],
           "yaxis": "y"
          },
          {
           "hovertemplate": "<b>%{hovertext}</b><br><br>item=Lemons and limes<br>year=%{y}<br>quantity=%{marker.size}<extra></extra>",
           "hovertext": [
            "Bahrain"
           ],
           "ids": [
            "Lemons and limes"
           ],
           "legendgroup": "Lemons and limes",
           "marker": {
            "color": "#EF553B",
            "size": [
             1056
            ],
            "sizemode": "area",
            "sizeref": 8.498842975206612,
            "symbol": "circle"
           },
           "mode": "markers",
           "name": "Lemons and limes",
           "orientation": "v",
           "showlegend": true,
           "type": "scatter",
           "x": [
            1056
           ],
           "xaxis": "x",
           "y": [
            2009
           ],
           "yaxis": "y"
          },
          {
           "hovertemplate": "<b>%{hovertext}</b><br><br>item=Lettuce and chicory<br>year=%{y}<br>quantity=%{marker.size}<extra></extra>",
           "hovertext": [
            "Bahrain"
           ],
           "ids": [
            "Lettuce and chicory"
           ],
           "legendgroup": "Lettuce and chicory",
           "marker": {
            "color": "#00cc96",
            "size": [
             678
            ],
            "sizemode": "area",
            "sizeref": 8.498842975206612,
            "symbol": "circle"
           },
           "mode": "markers",
           "name": "Lettuce and chicory",
           "orientation": "v",
           "showlegend": true,
           "type": "scatter",
           "x": [
            678
           ],
           "xaxis": "x",
           "y": [
            2009
           ],
           "yaxis": "y"
          },
          {
           "hovertemplate": "<b>%{hovertext}</b><br><br>item=Melons, other (inc.cantaloupes)<br>year=%{y}<br>quantity=%{marker.size}<extra></extra>",
           "hovertext": [
            "Bahrain"
           ],
           "ids": [
            "Melons, other (inc.cantaloupes)"
           ],
           "legendgroup": "Melons, other (inc.cantaloupes)",
           "marker": {
            "color": "#ab63fa",
            "size": [
             628
            ],
            "sizemode": "area",
            "sizeref": 8.498842975206612,
            "symbol": "circle"
           },
           "mode": "markers",
           "name": "Melons, other (inc.cantaloupes)",
           "orientation": "v",
           "showlegend": true,
           "type": "scatter",
           "x": [
            628
           ],
           "xaxis": "x",
           "y": [
            2009
           ],
           "yaxis": "y"
          },
          {
           "hovertemplate": "<b>%{hovertext}</b><br><br>item=Nuts nes<br>year=%{y}<br>quantity=%{marker.size}<extra></extra>",
           "hovertext": [
            "Bahrain"
           ],
           "ids": [
            "Nuts nes"
           ],
           "legendgroup": "Nuts nes",
           "marker": {
            "color": "#FFA15A",
            "size": [
             350
            ],
            "sizemode": "area",
            "sizeref": 8.498842975206612,
            "symbol": "circle"
           },
           "mode": "markers",
           "name": "Nuts nes",
           "orientation": "v",
           "showlegend": true,
           "type": "scatter",
           "x": [
            350
           ],
           "xaxis": "x",
           "y": [
            2009
           ],
           "yaxis": "y"
          },
          {
           "hovertemplate": "<b>%{hovertext}</b><br><br>item=Okra<br>year=%{y}<br>quantity=%{marker.size}<extra></extra>",
           "hovertext": [
            "Bahrain"
           ],
           "ids": [
            "Okra"
           ],
           "legendgroup": "Okra",
           "marker": {
            "color": "#19d3f3",
            "size": [
             540
            ],
            "sizemode": "area",
            "sizeref": 8.498842975206612,
            "symbol": "circle"
           },
           "mode": "markers",
           "name": "Okra",
           "orientation": "v",
           "showlegend": true,
           "type": "scatter",
           "x": [
            540
           ],
           "xaxis": "x",
           "y": [
            2009
           ],
           "yaxis": "y"
          },
          {
           "hovertemplate": "<b>%{hovertext}</b><br><br>item=Onions, dry<br>year=%{y}<br>quantity=%{marker.size}<extra></extra>",
           "hovertext": [
            "Bahrain"
           ],
           "ids": [
            "Onions, dry"
           ],
           "legendgroup": "Onions, dry",
           "marker": {
            "color": "#FF6692",
            "size": [
             652
            ],
            "sizemode": "area",
            "sizeref": 8.498842975206612,
            "symbol": "circle"
           },
           "mode": "markers",
           "name": "Onions, dry",
           "orientation": "v",
           "showlegend": true,
           "type": "scatter",
           "x": [
            652
           ],
           "xaxis": "x",
           "y": [
            2009
           ],
           "yaxis": "y"
          },
          {
           "hovertemplate": "<b>%{hovertext}</b><br><br>item=Potatoes<br>year=%{y}<br>quantity=%{marker.size}<extra></extra>",
           "hovertext": [
            "Bahrain"
           ],
           "ids": [
            "Potatoes"
           ],
           "legendgroup": "Potatoes",
           "marker": {
            "color": "#B6E880",
            "size": [
             100
            ],
            "sizemode": "area",
            "sizeref": 8.498842975206612,
            "symbol": "circle"
           },
           "mode": "markers",
           "name": "Potatoes",
           "orientation": "v",
           "showlegend": true,
           "type": "scatter",
           "x": [
            100
           ],
           "xaxis": "x",
           "y": [
            2009
           ],
           "yaxis": "y"
          },
          {
           "hovertemplate": "<b>%{hovertext}</b><br><br>item=Pulses nes<br>year=%{y}<br>quantity=%{marker.size}<extra></extra>",
           "hovertext": [
            "Bahrain"
           ],
           "ids": [
            "Pulses nes"
           ],
           "legendgroup": "Pulses nes",
           "marker": {
            "color": "#FF97FF",
            "size": [
             7
            ],
            "sizemode": "area",
            "sizeref": 8.498842975206612,
            "symbol": "circle"
           },
           "mode": "markers",
           "name": "Pulses nes",
           "orientation": "v",
           "showlegend": true,
           "type": "scatter",
           "x": [
            7
           ],
           "xaxis": "x",
           "y": [
            2009
           ],
           "yaxis": "y"
          },
          {
           "hovertemplate": "<b>%{hovertext}</b><br><br>item=Pumpkins, squash and gourds<br>year=%{y}<br>quantity=%{marker.size}<extra></extra>",
           "hovertext": [
            "Bahrain"
           ],
           "ids": [
            "Pumpkins, squash and gourds"
           ],
           "legendgroup": "Pumpkins, squash and gourds",
           "marker": {
            "color": "#FECB52",
            "size": [
             573
            ],
            "sizemode": "area",
            "sizeref": 8.498842975206612,
            "symbol": "circle"
           },
           "mode": "markers",
           "name": "Pumpkins, squash and gourds",
           "orientation": "v",
           "showlegend": true,
           "type": "scatter",
           "x": [
            573
           ],
           "xaxis": "x",
           "y": [
            2009
           ],
           "yaxis": "y"
          },
          {
           "hovertemplate": "<b>%{hovertext}</b><br><br>item=Sweet potatoes<br>year=%{y}<br>quantity=%{marker.size}<extra></extra>",
           "hovertext": [
            "Bahrain"
           ],
           "ids": [
            "Sweet potatoes"
           ],
           "legendgroup": "Sweet potatoes",
           "marker": {
            "color": "#636efa",
            "size": [
             0
            ],
            "sizemode": "area",
            "sizeref": 8.498842975206612,
            "symbol": "circle"
           },
           "mode": "markers",
           "name": "Sweet potatoes",
           "orientation": "v",
           "showlegend": true,
           "type": "scatter",
           "x": [
            0
           ],
           "xaxis": "x",
           "y": [
            2009
           ],
           "yaxis": "y"
          },
          {
           "hovertemplate": "<b>%{hovertext}</b><br><br>item=Tomatoes<br>year=%{y}<br>quantity=%{marker.size}<extra></extra>",
           "hovertext": [
            "Bahrain"
           ],
           "ids": [
            "Tomatoes"
           ],
           "legendgroup": "Tomatoes",
           "marker": {
            "color": "#EF553B",
            "size": [
             4218
            ],
            "sizemode": "area",
            "sizeref": 8.498842975206612,
            "symbol": "circle"
           },
           "mode": "markers",
           "name": "Tomatoes",
           "orientation": "v",
           "showlegend": true,
           "type": "scatter",
           "x": [
            4218
           ],
           "xaxis": "x",
           "y": [
            2009
           ],
           "yaxis": "y"
          },
          {
           "hovertemplate": "<b>%{hovertext}</b><br><br>item=Vegetables, fresh nes<br>year=%{y}<br>quantity=%{marker.size}<extra></extra>",
           "hovertext": [
            "Bahrain"
           ],
           "ids": [
            "Vegetables, fresh nes"
           ],
           "legendgroup": "Vegetables, fresh nes",
           "marker": {
            "color": "#00cc96",
            "size": [
             4504
            ],
            "sizemode": "area",
            "sizeref": 8.498842975206612,
            "symbol": "circle"
           },
           "mode": "markers",
           "name": "Vegetables, fresh nes",
           "orientation": "v",
           "showlegend": true,
           "type": "scatter",
           "x": [
            4504
           ],
           "xaxis": "x",
           "y": [
            2009
           ],
           "yaxis": "y"
          },
          {
           "hovertemplate": "<b>%{hovertext}</b><br><br>item=Watermelons<br>year=%{y}<br>quantity=%{marker.size}<extra></extra>",
           "hovertext": [
            "Bahrain"
           ],
           "ids": [
            "Watermelons"
           ],
           "legendgroup": "Watermelons",
           "marker": {
            "color": "#ab63fa",
            "size": [
             179
            ],
            "sizemode": "area",
            "sizeref": 8.498842975206612,
            "symbol": "circle"
           },
           "mode": "markers",
           "name": "Watermelons",
           "orientation": "v",
           "showlegend": true,
           "type": "scatter",
           "x": [
            179
           ],
           "xaxis": "x",
           "y": [
            2009
           ],
           "yaxis": "y"
          },
          {
           "hovertemplate": "<b>%{hovertext}</b><br><br>item=Citrus Fruit, Total<br>year=%{y}<br>quantity=%{marker.size}<extra></extra>",
           "hovertext": [
            "Bahrain"
           ],
           "ids": [
            "Citrus Fruit, Total"
           ],
           "legendgroup": "Citrus Fruit, Total",
           "marker": {
            "color": "#FFA15A",
            "size": [
             1056
            ],
            "sizemode": "area",
            "sizeref": 8.498842975206612,
            "symbol": "circle"
           },
           "mode": "markers",
           "name": "Citrus Fruit, Total",
           "orientation": "v",
           "showlegend": true,
           "type": "scatter",
           "x": [
            1056
           ],
           "xaxis": "x",
           "y": [
            2009
           ],
           "yaxis": "y"
          },
          {
           "hovertemplate": "<b>%{hovertext}</b><br><br>item=Fruit Primary<br>year=%{y}<br>quantity=%{marker.size}<extra></extra>",
           "hovertext": [
            "Bahrain"
           ],
           "ids": [
            "Fruit Primary"
           ],
           "legendgroup": "Fruit Primary",
           "marker": {
            "color": "#19d3f3",
            "size": [
             20462
            ],
            "sizemode": "area",
            "sizeref": 8.498842975206612,
            "symbol": "circle"
           },
           "mode": "markers",
           "name": "Fruit Primary",
           "orientation": "v",
           "showlegend": true,
           "type": "scatter",
           "x": [
            20462
           ],
           "xaxis": "x",
           "y": [
            2009
           ],
           "yaxis": "y"
          },
          {
           "hovertemplate": "<b>%{hovertext}</b><br><br>item=Pulses, Total<br>year=%{y}<br>quantity=%{marker.size}<extra></extra>",
           "hovertext": [
            "Bahrain"
           ],
           "ids": [
            "Pulses, Total"
           ],
           "legendgroup": "Pulses, Total",
           "marker": {
            "color": "#FF6692",
            "size": [
             7
            ],
            "sizemode": "area",
            "sizeref": 8.498842975206612,
            "symbol": "circle"
           },
           "mode": "markers",
           "name": "Pulses, Total",
           "orientation": "v",
           "showlegend": true,
           "type": "scatter",
           "x": [
            7
           ],
           "xaxis": "x",
           "y": [
            2009
           ],
           "yaxis": "y"
          },
          {
           "hovertemplate": "<b>%{hovertext}</b><br><br>item=Roots and Tubers, Total<br>year=%{y}<br>quantity=%{marker.size}<extra></extra>",
           "hovertext": [
            "Bahrain"
           ],
           "ids": [
            "Roots and Tubers, Total"
           ],
           "legendgroup": "Roots and Tubers, Total",
           "marker": {
            "color": "#B6E880",
            "size": [
             100
            ],
            "sizemode": "area",
            "sizeref": 8.498842975206612,
            "symbol": "circle"
           },
           "mode": "markers",
           "name": "Roots and Tubers, Total",
           "orientation": "v",
           "showlegend": true,
           "type": "scatter",
           "x": [
            100
           ],
           "xaxis": "x",
           "y": [
            2009
           ],
           "yaxis": "y"
          },
          {
           "hovertemplate": "<b>%{hovertext}</b><br><br>item=Treenuts, Total<br>year=%{y}<br>quantity=%{marker.size}<extra></extra>",
           "hovertext": [
            "Bahrain"
           ],
           "ids": [
            "Treenuts, Total"
           ],
           "legendgroup": "Treenuts, Total",
           "marker": {
            "color": "#FF97FF",
            "size": [
             350
            ],
            "sizemode": "area",
            "sizeref": 8.498842975206612,
            "symbol": "circle"
           },
           "mode": "markers",
           "name": "Treenuts, Total",
           "orientation": "v",
           "showlegend": true,
           "type": "scatter",
           "x": [
            350
           ],
           "xaxis": "x",
           "y": [
            2009
           ],
           "yaxis": "y"
          },
          {
           "hovertemplate": "<b>%{hovertext}</b><br><br>item=Vegetables Primary<br>year=%{y}<br>quantity=%{marker.size}<extra></extra>",
           "hovertext": [
            "Bahrain"
           ],
           "ids": [
            "Vegetables Primary"
           ],
           "legendgroup": "Vegetables Primary",
           "marker": {
            "color": "#FECB52",
            "size": [
             15533
            ],
            "sizemode": "area",
            "sizeref": 8.498842975206612,
            "symbol": "circle"
           },
           "mode": "markers",
           "name": "Vegetables Primary",
           "orientation": "v",
           "showlegend": true,
           "type": "scatter",
           "x": [
            15533
           ],
           "xaxis": "x",
           "y": [
            2009
           ],
           "yaxis": "y"
          }
         ],
         "name": "2009"
        },
        {
         "data": [
          {
           "hovertemplate": "<b>%{hovertext}</b><br><br>item=Bananas<br>year=%{y}<br>quantity=%{marker.size}<extra></extra>",
           "hovertext": [
            "Bahrain"
           ],
           "ids": [
            "Bananas"
           ],
           "legendgroup": "Bananas",
           "marker": {
            "color": "#636efa",
            "size": [
             948
            ],
            "sizemode": "area",
            "sizeref": 8.498842975206612,
            "symbol": "circle"
           },
           "mode": "markers",
           "name": "Bananas",
           "orientation": "v",
           "showlegend": true,
           "type": "scatter",
           "x": [
            948
           ],
           "xaxis": "x",
           "y": [
            2010
           ],
           "yaxis": "y"
          },
          {
           "hovertemplate": "<b>%{hovertext}</b><br><br>item=Cabbages and other brassicas<br>year=%{y}<br>quantity=%{marker.size}<extra></extra>",
           "hovertext": [
            "Bahrain"
           ],
           "ids": [
            "Cabbages and other brassicas"
           ],
           "legendgroup": "Cabbages and other brassicas",
           "marker": {
            "color": "#EF553B",
            "size": [
             750
            ],
            "sizemode": "area",
            "sizeref": 8.498842975206612,
            "symbol": "circle"
           },
           "mode": "markers",
           "name": "Cabbages and other brassicas",
           "orientation": "v",
           "showlegend": true,
           "type": "scatter",
           "x": [
            750
           ],
           "xaxis": "x",
           "y": [
            2010
           ],
           "yaxis": "y"
          },
          {
           "hovertemplate": "<b>%{hovertext}</b><br><br>item=Carrots and turnips<br>year=%{y}<br>quantity=%{marker.size}<extra></extra>",
           "hovertext": [
            "Bahrain"
           ],
           "ids": [
            "Carrots and turnips"
           ],
           "legendgroup": "Carrots and turnips",
           "marker": {
            "color": "#00cc96",
            "size": [
             275
            ],
            "sizemode": "area",
            "sizeref": 8.498842975206612,
            "symbol": "circle"
           },
           "mode": "markers",
           "name": "Carrots and turnips",
           "orientation": "v",
           "showlegend": true,
           "type": "scatter",
           "x": [
            275
           ],
           "xaxis": "x",
           "y": [
            2010
           ],
           "yaxis": "y"
          },
          {
           "hovertemplate": "<b>%{hovertext}</b><br><br>item=Cauliflowers and broccoli<br>year=%{y}<br>quantity=%{marker.size}<extra></extra>",
           "hovertext": [
            "Bahrain"
           ],
           "ids": [
            "Cauliflowers and broccoli"
           ],
           "legendgroup": "Cauliflowers and broccoli",
           "marker": {
            "color": "#ab63fa",
            "size": [
             744
            ],
            "sizemode": "area",
            "sizeref": 8.498842975206612,
            "symbol": "circle"
           },
           "mode": "markers",
           "name": "Cauliflowers and broccoli",
           "orientation": "v",
           "showlegend": true,
           "type": "scatter",
           "x": [
            744
           ],
           "xaxis": "x",
           "y": [
            2010
           ],
           "yaxis": "y"
          },
          {
           "hovertemplate": "<b>%{hovertext}</b><br><br>item=Chick peas<br>year=%{y}<br>quantity=%{marker.size}<extra></extra>",
           "hovertext": [
            "Bahrain"
           ],
           "ids": [
            "Chick peas"
           ],
           "legendgroup": "Chick peas",
           "marker": {
            "color": "#FFA15A",
            "size": [
             0
            ],
            "sizemode": "area",
            "sizeref": 8.498842975206612,
            "symbol": "circle"
           },
           "mode": "markers",
           "name": "Chick peas",
           "orientation": "v",
           "showlegend": true,
           "type": "scatter",
           "x": [
            0
           ],
           "xaxis": "x",
           "y": [
            2010
           ],
           "yaxis": "y"
          },
          {
           "hovertemplate": "<b>%{hovertext}</b><br><br>item=Chillies and peppers, green<br>year=%{y}<br>quantity=%{marker.size}<extra></extra>",
           "hovertext": [
            "Bahrain"
           ],
           "ids": [
            "Chillies and peppers, green"
           ],
           "legendgroup": "Chillies and peppers, green",
           "marker": {
            "color": "#19d3f3",
            "size": [
             199
            ],
            "sizemode": "area",
            "sizeref": 8.498842975206612,
            "symbol": "circle"
           },
           "mode": "markers",
           "name": "Chillies and peppers, green",
           "orientation": "v",
           "showlegend": true,
           "type": "scatter",
           "x": [
            199
           ],
           "xaxis": "x",
           "y": [
            2010
           ],
           "yaxis": "y"
          },
          {
           "hovertemplate": "<b>%{hovertext}</b><br><br>item=Cucumbers and gherkins<br>year=%{y}<br>quantity=%{marker.size}<extra></extra>",
           "hovertext": [
            "Bahrain"
           ],
           "ids": [
            "Cucumbers and gherkins"
           ],
           "legendgroup": "Cucumbers and gherkins",
           "marker": {
            "color": "#FF6692",
            "size": [
             841
            ],
            "sizemode": "area",
            "sizeref": 8.498842975206612,
            "symbol": "circle"
           },
           "mode": "markers",
           "name": "Cucumbers and gherkins",
           "orientation": "v",
           "showlegend": true,
           "type": "scatter",
           "x": [
            841
           ],
           "xaxis": "x",
           "y": [
            2010
           ],
           "yaxis": "y"
          },
          {
           "hovertemplate": "<b>%{hovertext}</b><br><br>item=Dates<br>year=%{y}<br>quantity=%{marker.size}<extra></extra>",
           "hovertext": [
            "Bahrain"
           ],
           "ids": [
            "Dates"
           ],
           "legendgroup": "Dates",
           "marker": {
            "color": "#B6E880",
            "size": [
             12562
            ],
            "sizemode": "area",
            "sizeref": 8.498842975206612,
            "symbol": "circle"
           },
           "mode": "markers",
           "name": "Dates",
           "orientation": "v",
           "showlegend": true,
           "type": "scatter",
           "x": [
            12562
           ],
           "xaxis": "x",
           "y": [
            2010
           ],
           "yaxis": "y"
          },
          {
           "hovertemplate": "<b>%{hovertext}</b><br><br>item=Eggplants (aubergines)<br>year=%{y}<br>quantity=%{marker.size}<extra></extra>",
           "hovertext": [
            "Bahrain"
           ],
           "ids": [
            "Eggplants (aubergines)"
           ],
           "legendgroup": "Eggplants (aubergines)",
           "marker": {
            "color": "#FF97FF",
            "size": [
             1443
            ],
            "sizemode": "area",
            "sizeref": 8.498842975206612,
            "symbol": "circle"
           },
           "mode": "markers",
           "name": "Eggplants (aubergines)",
           "orientation": "v",
           "showlegend": true,
           "type": "scatter",
           "x": [
            1443
           ],
           "xaxis": "x",
           "y": [
            2010
           ],
           "yaxis": "y"
          },
          {
           "hovertemplate": "<b>%{hovertext}</b><br><br>item=Fruit, fresh nes<br>year=%{y}<br>quantity=%{marker.size}<extra></extra>",
           "hovertext": [
            "Bahrain"
           ],
           "ids": [
            "Fruit, fresh nes"
           ],
           "legendgroup": "Fruit, fresh nes",
           "marker": {
            "color": "#FECB52",
            "size": [
             4741
            ],
            "sizemode": "area",
            "sizeref": 8.498842975206612,
            "symbol": "circle"
           },
           "mode": "markers",
           "name": "Fruit, fresh nes",
           "orientation": "v",
           "showlegend": true,
           "type": "scatter",
           "x": [
            4741
           ],
           "xaxis": "x",
           "y": [
            2010
           ],
           "yaxis": "y"
          },
          {
           "hovertemplate": "<b>%{hovertext}</b><br><br>item=Grapes<br>year=%{y}<br>quantity=%{marker.size}<extra></extra>",
           "hovertext": [
            "Bahrain"
           ],
           "ids": [
            "Grapes"
           ],
           "legendgroup": "Grapes",
           "marker": {
            "color": "#636efa",
            "size": [
             144
            ],
            "sizemode": "area",
            "sizeref": 8.498842975206612,
            "symbol": "circle"
           },
           "mode": "markers",
           "name": "Grapes",
           "orientation": "v",
           "showlegend": true,
           "type": "scatter",
           "x": [
            144
           ],
           "xaxis": "x",
           "y": [
            2010
           ],
           "yaxis": "y"
          },
          {
           "hovertemplate": "<b>%{hovertext}</b><br><br>item=Lemons and limes<br>year=%{y}<br>quantity=%{marker.size}<extra></extra>",
           "hovertext": [
            "Bahrain"
           ],
           "ids": [
            "Lemons and limes"
           ],
           "legendgroup": "Lemons and limes",
           "marker": {
            "color": "#EF553B",
            "size": [
             1050
            ],
            "sizemode": "area",
            "sizeref": 8.498842975206612,
            "symbol": "circle"
           },
           "mode": "markers",
           "name": "Lemons and limes",
           "orientation": "v",
           "showlegend": true,
           "type": "scatter",
           "x": [
            1050
           ],
           "xaxis": "x",
           "y": [
            2010
           ],
           "yaxis": "y"
          },
          {
           "hovertemplate": "<b>%{hovertext}</b><br><br>item=Lettuce and chicory<br>year=%{y}<br>quantity=%{marker.size}<extra></extra>",
           "hovertext": [
            "Bahrain"
           ],
           "ids": [
            "Lettuce and chicory"
           ],
           "legendgroup": "Lettuce and chicory",
           "marker": {
            "color": "#00cc96",
            "size": [
             716
            ],
            "sizemode": "area",
            "sizeref": 8.498842975206612,
            "symbol": "circle"
           },
           "mode": "markers",
           "name": "Lettuce and chicory",
           "orientation": "v",
           "showlegend": true,
           "type": "scatter",
           "x": [
            716
           ],
           "xaxis": "x",
           "y": [
            2010
           ],
           "yaxis": "y"
          },
          {
           "hovertemplate": "<b>%{hovertext}</b><br><br>item=Melons, other (inc.cantaloupes)<br>year=%{y}<br>quantity=%{marker.size}<extra></extra>",
           "hovertext": [
            "Bahrain"
           ],
           "ids": [
            "Melons, other (inc.cantaloupes)"
           ],
           "legendgroup": "Melons, other (inc.cantaloupes)",
           "marker": {
            "color": "#ab63fa",
            "size": [
             520
            ],
            "sizemode": "area",
            "sizeref": 8.498842975206612,
            "symbol": "circle"
           },
           "mode": "markers",
           "name": "Melons, other (inc.cantaloupes)",
           "orientation": "v",
           "showlegend": true,
           "type": "scatter",
           "x": [
            520
           ],
           "xaxis": "x",
           "y": [
            2010
           ],
           "yaxis": "y"
          },
          {
           "hovertemplate": "<b>%{hovertext}</b><br><br>item=Nuts nes<br>year=%{y}<br>quantity=%{marker.size}<extra></extra>",
           "hovertext": [
            "Bahrain"
           ],
           "ids": [
            "Nuts nes"
           ],
           "legendgroup": "Nuts nes",
           "marker": {
            "color": "#FFA15A",
            "size": [
             350
            ],
            "sizemode": "area",
            "sizeref": 8.498842975206612,
            "symbol": "circle"
           },
           "mode": "markers",
           "name": "Nuts nes",
           "orientation": "v",
           "showlegend": true,
           "type": "scatter",
           "x": [
            350
           ],
           "xaxis": "x",
           "y": [
            2010
           ],
           "yaxis": "y"
          },
          {
           "hovertemplate": "<b>%{hovertext}</b><br><br>item=Okra<br>year=%{y}<br>quantity=%{marker.size}<extra></extra>",
           "hovertext": [
            "Bahrain"
           ],
           "ids": [
            "Okra"
           ],
           "legendgroup": "Okra",
           "marker": {
            "color": "#19d3f3",
            "size": [
             769
            ],
            "sizemode": "area",
            "sizeref": 8.498842975206612,
            "symbol": "circle"
           },
           "mode": "markers",
           "name": "Okra",
           "orientation": "v",
           "showlegend": true,
           "type": "scatter",
           "x": [
            769
           ],
           "xaxis": "x",
           "y": [
            2010
           ],
           "yaxis": "y"
          },
          {
           "hovertemplate": "<b>%{hovertext}</b><br><br>item=Onions, dry<br>year=%{y}<br>quantity=%{marker.size}<extra></extra>",
           "hovertext": [
            "Bahrain"
           ],
           "ids": [
            "Onions, dry"
           ],
           "legendgroup": "Onions, dry",
           "marker": {
            "color": "#FF6692",
            "size": [
             627
            ],
            "sizemode": "area",
            "sizeref": 8.498842975206612,
            "symbol": "circle"
           },
           "mode": "markers",
           "name": "Onions, dry",
           "orientation": "v",
           "showlegend": true,
           "type": "scatter",
           "x": [
            627
           ],
           "xaxis": "x",
           "y": [
            2010
           ],
           "yaxis": "y"
          },
          {
           "hovertemplate": "<b>%{hovertext}</b><br><br>item=Potatoes<br>year=%{y}<br>quantity=%{marker.size}<extra></extra>",
           "hovertext": [
            "Bahrain"
           ],
           "ids": [
            "Potatoes"
           ],
           "legendgroup": "Potatoes",
           "marker": {
            "color": "#B6E880",
            "size": [
             113
            ],
            "sizemode": "area",
            "sizeref": 8.498842975206612,
            "symbol": "circle"
           },
           "mode": "markers",
           "name": "Potatoes",
           "orientation": "v",
           "showlegend": true,
           "type": "scatter",
           "x": [
            113
           ],
           "xaxis": "x",
           "y": [
            2010
           ],
           "yaxis": "y"
          },
          {
           "hovertemplate": "<b>%{hovertext}</b><br><br>item=Pulses nes<br>year=%{y}<br>quantity=%{marker.size}<extra></extra>",
           "hovertext": [
            "Bahrain"
           ],
           "ids": [
            "Pulses nes"
           ],
           "legendgroup": "Pulses nes",
           "marker": {
            "color": "#FF97FF",
            "size": [
             7
            ],
            "sizemode": "area",
            "sizeref": 8.498842975206612,
            "symbol": "circle"
           },
           "mode": "markers",
           "name": "Pulses nes",
           "orientation": "v",
           "showlegend": true,
           "type": "scatter",
           "x": [
            7
           ],
           "xaxis": "x",
           "y": [
            2010
           ],
           "yaxis": "y"
          },
          {
           "hovertemplate": "<b>%{hovertext}</b><br><br>item=Pumpkins, squash and gourds<br>year=%{y}<br>quantity=%{marker.size}<extra></extra>",
           "hovertext": [
            "Bahrain"
           ],
           "ids": [
            "Pumpkins, squash and gourds"
           ],
           "legendgroup": "Pumpkins, squash and gourds",
           "marker": {
            "color": "#FECB52",
            "size": [
             479
            ],
            "sizemode": "area",
            "sizeref": 8.498842975206612,
            "symbol": "circle"
           },
           "mode": "markers",
           "name": "Pumpkins, squash and gourds",
           "orientation": "v",
           "showlegend": true,
           "type": "scatter",
           "x": [
            479
           ],
           "xaxis": "x",
           "y": [
            2010
           ],
           "yaxis": "y"
          },
          {
           "hovertemplate": "<b>%{hovertext}</b><br><br>item=Sweet potatoes<br>year=%{y}<br>quantity=%{marker.size}<extra></extra>",
           "hovertext": [
            "Bahrain"
           ],
           "ids": [
            "Sweet potatoes"
           ],
           "legendgroup": "Sweet potatoes",
           "marker": {
            "color": "#636efa",
            "size": [
             0
            ],
            "sizemode": "area",
            "sizeref": 8.498842975206612,
            "symbol": "circle"
           },
           "mode": "markers",
           "name": "Sweet potatoes",
           "orientation": "v",
           "showlegend": true,
           "type": "scatter",
           "x": [
            0
           ],
           "xaxis": "x",
           "y": [
            2010
           ],
           "yaxis": "y"
          },
          {
           "hovertemplate": "<b>%{hovertext}</b><br><br>item=Tomatoes<br>year=%{y}<br>quantity=%{marker.size}<extra></extra>",
           "hovertext": [
            "Bahrain"
           ],
           "ids": [
            "Tomatoes"
           ],
           "legendgroup": "Tomatoes",
           "marker": {
            "color": "#EF553B",
            "size": [
             3901
            ],
            "sizemode": "area",
            "sizeref": 8.498842975206612,
            "symbol": "circle"
           },
           "mode": "markers",
           "name": "Tomatoes",
           "orientation": "v",
           "showlegend": true,
           "type": "scatter",
           "x": [
            3901
           ],
           "xaxis": "x",
           "y": [
            2010
           ],
           "yaxis": "y"
          },
          {
           "hovertemplate": "<b>%{hovertext}</b><br><br>item=Vegetables, fresh nes<br>year=%{y}<br>quantity=%{marker.size}<extra></extra>",
           "hovertext": [
            "Bahrain"
           ],
           "ids": [
            "Vegetables, fresh nes"
           ],
           "legendgroup": "Vegetables, fresh nes",
           "marker": {
            "color": "#00cc96",
            "size": [
             4580
            ],
            "sizemode": "area",
            "sizeref": 8.498842975206612,
            "symbol": "circle"
           },
           "mode": "markers",
           "name": "Vegetables, fresh nes",
           "orientation": "v",
           "showlegend": true,
           "type": "scatter",
           "x": [
            4580
           ],
           "xaxis": "x",
           "y": [
            2010
           ],
           "yaxis": "y"
          },
          {
           "hovertemplate": "<b>%{hovertext}</b><br><br>item=Watermelons<br>year=%{y}<br>quantity=%{marker.size}<extra></extra>",
           "hovertext": [
            "Bahrain"
           ],
           "ids": [
            "Watermelons"
           ],
           "legendgroup": "Watermelons",
           "marker": {
            "color": "#ab63fa",
            "size": [
             189
            ],
            "sizemode": "area",
            "sizeref": 8.498842975206612,
            "symbol": "circle"
           },
           "mode": "markers",
           "name": "Watermelons",
           "orientation": "v",
           "showlegend": true,
           "type": "scatter",
           "x": [
            189
           ],
           "xaxis": "x",
           "y": [
            2010
           ],
           "yaxis": "y"
          },
          {
           "hovertemplate": "<b>%{hovertext}</b><br><br>item=Citrus Fruit, Total<br>year=%{y}<br>quantity=%{marker.size}<extra></extra>",
           "hovertext": [
            "Bahrain"
           ],
           "ids": [
            "Citrus Fruit, Total"
           ],
           "legendgroup": "Citrus Fruit, Total",
           "marker": {
            "color": "#FFA15A",
            "size": [
             1050
            ],
            "sizemode": "area",
            "sizeref": 8.498842975206612,
            "symbol": "circle"
           },
           "mode": "markers",
           "name": "Citrus Fruit, Total",
           "orientation": "v",
           "showlegend": true,
           "type": "scatter",
           "x": [
            1050
           ],
           "xaxis": "x",
           "y": [
            2010
           ],
           "yaxis": "y"
          },
          {
           "hovertemplate": "<b>%{hovertext}</b><br><br>item=Fruit Primary<br>year=%{y}<br>quantity=%{marker.size}<extra></extra>",
           "hovertext": [
            "Bahrain"
           ],
           "ids": [
            "Fruit Primary"
           ],
           "legendgroup": "Fruit Primary",
           "marker": {
            "color": "#19d3f3",
            "size": [
             20154
            ],
            "sizemode": "area",
            "sizeref": 8.498842975206612,
            "symbol": "circle"
           },
           "mode": "markers",
           "name": "Fruit Primary",
           "orientation": "v",
           "showlegend": true,
           "type": "scatter",
           "x": [
            20154
           ],
           "xaxis": "x",
           "y": [
            2010
           ],
           "yaxis": "y"
          },
          {
           "hovertemplate": "<b>%{hovertext}</b><br><br>item=Pulses, Total<br>year=%{y}<br>quantity=%{marker.size}<extra></extra>",
           "hovertext": [
            "Bahrain"
           ],
           "ids": [
            "Pulses, Total"
           ],
           "legendgroup": "Pulses, Total",
           "marker": {
            "color": "#FF6692",
            "size": [
             7
            ],
            "sizemode": "area",
            "sizeref": 8.498842975206612,
            "symbol": "circle"
           },
           "mode": "markers",
           "name": "Pulses, Total",
           "orientation": "v",
           "showlegend": true,
           "type": "scatter",
           "x": [
            7
           ],
           "xaxis": "x",
           "y": [
            2010
           ],
           "yaxis": "y"
          },
          {
           "hovertemplate": "<b>%{hovertext}</b><br><br>item=Roots and Tubers, Total<br>year=%{y}<br>quantity=%{marker.size}<extra></extra>",
           "hovertext": [
            "Bahrain"
           ],
           "ids": [
            "Roots and Tubers, Total"
           ],
           "legendgroup": "Roots and Tubers, Total",
           "marker": {
            "color": "#B6E880",
            "size": [
             113
            ],
            "sizemode": "area",
            "sizeref": 8.498842975206612,
            "symbol": "circle"
           },
           "mode": "markers",
           "name": "Roots and Tubers, Total",
           "orientation": "v",
           "showlegend": true,
           "type": "scatter",
           "x": [
            113
           ],
           "xaxis": "x",
           "y": [
            2010
           ],
           "yaxis": "y"
          },
          {
           "hovertemplate": "<b>%{hovertext}</b><br><br>item=Treenuts, Total<br>year=%{y}<br>quantity=%{marker.size}<extra></extra>",
           "hovertext": [
            "Bahrain"
           ],
           "ids": [
            "Treenuts, Total"
           ],
           "legendgroup": "Treenuts, Total",
           "marker": {
            "color": "#FF97FF",
            "size": [
             350
            ],
            "sizemode": "area",
            "sizeref": 8.498842975206612,
            "symbol": "circle"
           },
           "mode": "markers",
           "name": "Treenuts, Total",
           "orientation": "v",
           "showlegend": true,
           "type": "scatter",
           "x": [
            350
           ],
           "xaxis": "x",
           "y": [
            2010
           ],
           "yaxis": "y"
          },
          {
           "hovertemplate": "<b>%{hovertext}</b><br><br>item=Vegetables Primary<br>year=%{y}<br>quantity=%{marker.size}<extra></extra>",
           "hovertext": [
            "Bahrain"
           ],
           "ids": [
            "Vegetables Primary"
           ],
           "legendgroup": "Vegetables Primary",
           "marker": {
            "color": "#FECB52",
            "size": [
             15324
            ],
            "sizemode": "area",
            "sizeref": 8.498842975206612,
            "symbol": "circle"
           },
           "mode": "markers",
           "name": "Vegetables Primary",
           "orientation": "v",
           "showlegend": true,
           "type": "scatter",
           "x": [
            15324
           ],
           "xaxis": "x",
           "y": [
            2010
           ],
           "yaxis": "y"
          }
         ],
         "name": "2010"
        },
        {
         "data": [
          {
           "hovertemplate": "<b>%{hovertext}</b><br><br>item=Bananas<br>year=%{y}<br>quantity=%{marker.size}<extra></extra>",
           "hovertext": [
            "Bahrain"
           ],
           "ids": [
            "Bananas"
           ],
           "legendgroup": "Bananas",
           "marker": {
            "color": "#636efa",
            "size": [
             955
            ],
            "sizemode": "area",
            "sizeref": 8.498842975206612,
            "symbol": "circle"
           },
           "mode": "markers",
           "name": "Bananas",
           "orientation": "v",
           "showlegend": true,
           "type": "scatter",
           "x": [
            955
           ],
           "xaxis": "x",
           "y": [
            2011
           ],
           "yaxis": "y"
          },
          {
           "hovertemplate": "<b>%{hovertext}</b><br><br>item=Cabbages and other brassicas<br>year=%{y}<br>quantity=%{marker.size}<extra></extra>",
           "hovertext": [
            "Bahrain"
           ],
           "ids": [
            "Cabbages and other brassicas"
           ],
           "legendgroup": "Cabbages and other brassicas",
           "marker": {
            "color": "#EF553B",
            "size": [
             778
            ],
            "sizemode": "area",
            "sizeref": 8.498842975206612,
            "symbol": "circle"
           },
           "mode": "markers",
           "name": "Cabbages and other brassicas",
           "orientation": "v",
           "showlegend": true,
           "type": "scatter",
           "x": [
            778
           ],
           "xaxis": "x",
           "y": [
            2011
           ],
           "yaxis": "y"
          },
          {
           "hovertemplate": "<b>%{hovertext}</b><br><br>item=Carrots and turnips<br>year=%{y}<br>quantity=%{marker.size}<extra></extra>",
           "hovertext": [
            "Bahrain"
           ],
           "ids": [
            "Carrots and turnips"
           ],
           "legendgroup": "Carrots and turnips",
           "marker": {
            "color": "#00cc96",
            "size": [
             290
            ],
            "sizemode": "area",
            "sizeref": 8.498842975206612,
            "symbol": "circle"
           },
           "mode": "markers",
           "name": "Carrots and turnips",
           "orientation": "v",
           "showlegend": true,
           "type": "scatter",
           "x": [
            290
           ],
           "xaxis": "x",
           "y": [
            2011
           ],
           "yaxis": "y"
          },
          {
           "hovertemplate": "<b>%{hovertext}</b><br><br>item=Cauliflowers and broccoli<br>year=%{y}<br>quantity=%{marker.size}<extra></extra>",
           "hovertext": [
            "Bahrain"
           ],
           "ids": [
            "Cauliflowers and broccoli"
           ],
           "legendgroup": "Cauliflowers and broccoli",
           "marker": {
            "color": "#ab63fa",
            "size": [
             523
            ],
            "sizemode": "area",
            "sizeref": 8.498842975206612,
            "symbol": "circle"
           },
           "mode": "markers",
           "name": "Cauliflowers and broccoli",
           "orientation": "v",
           "showlegend": true,
           "type": "scatter",
           "x": [
            523
           ],
           "xaxis": "x",
           "y": [
            2011
           ],
           "yaxis": "y"
          },
          {
           "hovertemplate": "<b>%{hovertext}</b><br><br>item=Chick peas<br>year=%{y}<br>quantity=%{marker.size}<extra></extra>",
           "hovertext": [
            "Bahrain"
           ],
           "ids": [
            "Chick peas"
           ],
           "legendgroup": "Chick peas",
           "marker": {
            "color": "#FFA15A",
            "size": [
             0
            ],
            "sizemode": "area",
            "sizeref": 8.498842975206612,
            "symbol": "circle"
           },
           "mode": "markers",
           "name": "Chick peas",
           "orientation": "v",
           "showlegend": true,
           "type": "scatter",
           "x": [
            0
           ],
           "xaxis": "x",
           "y": [
            2011
           ],
           "yaxis": "y"
          },
          {
           "hovertemplate": "<b>%{hovertext}</b><br><br>item=Chillies and peppers, green<br>year=%{y}<br>quantity=%{marker.size}<extra></extra>",
           "hovertext": [
            "Bahrain"
           ],
           "ids": [
            "Chillies and peppers, green"
           ],
           "legendgroup": "Chillies and peppers, green",
           "marker": {
            "color": "#19d3f3",
            "size": [
             89
            ],
            "sizemode": "area",
            "sizeref": 8.498842975206612,
            "symbol": "circle"
           },
           "mode": "markers",
           "name": "Chillies and peppers, green",
           "orientation": "v",
           "showlegend": true,
           "type": "scatter",
           "x": [
            89
           ],
           "xaxis": "x",
           "y": [
            2011
           ],
           "yaxis": "y"
          },
          {
           "hovertemplate": "<b>%{hovertext}</b><br><br>item=Cucumbers and gherkins<br>year=%{y}<br>quantity=%{marker.size}<extra></extra>",
           "hovertext": [
            "Bahrain"
           ],
           "ids": [
            "Cucumbers and gherkins"
           ],
           "legendgroup": "Cucumbers and gherkins",
           "marker": {
            "color": "#FF6692",
            "size": [
             571
            ],
            "sizemode": "area",
            "sizeref": 8.498842975206612,
            "symbol": "circle"
           },
           "mode": "markers",
           "name": "Cucumbers and gherkins",
           "orientation": "v",
           "showlegend": true,
           "type": "scatter",
           "x": [
            571
           ],
           "xaxis": "x",
           "y": [
            2011
           ],
           "yaxis": "y"
          },
          {
           "hovertemplate": "<b>%{hovertext}</b><br><br>item=Dates<br>year=%{y}<br>quantity=%{marker.size}<extra></extra>",
           "hovertext": [
            "Bahrain"
           ],
           "ids": [
            "Dates"
           ],
           "legendgroup": "Dates",
           "marker": {
            "color": "#B6E880",
            "size": [
             12216
            ],
            "sizemode": "area",
            "sizeref": 8.498842975206612,
            "symbol": "circle"
           },
           "mode": "markers",
           "name": "Dates",
           "orientation": "v",
           "showlegend": true,
           "type": "scatter",
           "x": [
            12216
           ],
           "xaxis": "x",
           "y": [
            2011
           ],
           "yaxis": "y"
          },
          {
           "hovertemplate": "<b>%{hovertext}</b><br><br>item=Eggplants (aubergines)<br>year=%{y}<br>quantity=%{marker.size}<extra></extra>",
           "hovertext": [
            "Bahrain"
           ],
           "ids": [
            "Eggplants (aubergines)"
           ],
           "legendgroup": "Eggplants (aubergines)",
           "marker": {
            "color": "#FF97FF",
            "size": [
             1169
            ],
            "sizemode": "area",
            "sizeref": 8.498842975206612,
            "symbol": "circle"
           },
           "mode": "markers",
           "name": "Eggplants (aubergines)",
           "orientation": "v",
           "showlegend": true,
           "type": "scatter",
           "x": [
            1169
           ],
           "xaxis": "x",
           "y": [
            2011
           ],
           "yaxis": "y"
          },
          {
           "hovertemplate": "<b>%{hovertext}</b><br><br>item=Fruit, fresh nes<br>year=%{y}<br>quantity=%{marker.size}<extra></extra>",
           "hovertext": [
            "Bahrain"
           ],
           "ids": [
            "Fruit, fresh nes"
           ],
           "legendgroup": "Fruit, fresh nes",
           "marker": {
            "color": "#FECB52",
            "size": [
             4863
            ],
            "sizemode": "area",
            "sizeref": 8.498842975206612,
            "symbol": "circle"
           },
           "mode": "markers",
           "name": "Fruit, fresh nes",
           "orientation": "v",
           "showlegend": true,
           "type": "scatter",
           "x": [
            4863
           ],
           "xaxis": "x",
           "y": [
            2011
           ],
           "yaxis": "y"
          },
          {
           "hovertemplate": "<b>%{hovertext}</b><br><br>item=Grapes<br>year=%{y}<br>quantity=%{marker.size}<extra></extra>",
           "hovertext": [
            "Bahrain"
           ],
           "ids": [
            "Grapes"
           ],
           "legendgroup": "Grapes",
           "marker": {
            "color": "#636efa",
            "size": [
             145
            ],
            "sizemode": "area",
            "sizeref": 8.498842975206612,
            "symbol": "circle"
           },
           "mode": "markers",
           "name": "Grapes",
           "orientation": "v",
           "showlegend": true,
           "type": "scatter",
           "x": [
            145
           ],
           "xaxis": "x",
           "y": [
            2011
           ],
           "yaxis": "y"
          },
          {
           "hovertemplate": "<b>%{hovertext}</b><br><br>item=Lemons and limes<br>year=%{y}<br>quantity=%{marker.size}<extra></extra>",
           "hovertext": [
            "Bahrain"
           ],
           "ids": [
            "Lemons and limes"
           ],
           "legendgroup": "Lemons and limes",
           "marker": {
            "color": "#EF553B",
            "size": [
             1047
            ],
            "sizemode": "area",
            "sizeref": 8.498842975206612,
            "symbol": "circle"
           },
           "mode": "markers",
           "name": "Lemons and limes",
           "orientation": "v",
           "showlegend": true,
           "type": "scatter",
           "x": [
            1047
           ],
           "xaxis": "x",
           "y": [
            2011
           ],
           "yaxis": "y"
          },
          {
           "hovertemplate": "<b>%{hovertext}</b><br><br>item=Lettuce and chicory<br>year=%{y}<br>quantity=%{marker.size}<extra></extra>",
           "hovertext": [
            "Bahrain"
           ],
           "ids": [
            "Lettuce and chicory"
           ],
           "legendgroup": "Lettuce and chicory",
           "marker": {
            "color": "#00cc96",
            "size": [
             782
            ],
            "sizemode": "area",
            "sizeref": 8.498842975206612,
            "symbol": "circle"
           },
           "mode": "markers",
           "name": "Lettuce and chicory",
           "orientation": "v",
           "showlegend": true,
           "type": "scatter",
           "x": [
            782
           ],
           "xaxis": "x",
           "y": [
            2011
           ],
           "yaxis": "y"
          },
          {
           "hovertemplate": "<b>%{hovertext}</b><br><br>item=Melons, other (inc.cantaloupes)<br>year=%{y}<br>quantity=%{marker.size}<extra></extra>",
           "hovertext": [
            "Bahrain"
           ],
           "ids": [
            "Melons, other (inc.cantaloupes)"
           ],
           "legendgroup": "Melons, other (inc.cantaloupes)",
           "marker": {
            "color": "#ab63fa",
            "size": [
             630
            ],
            "sizemode": "area",
            "sizeref": 8.498842975206612,
            "symbol": "circle"
           },
           "mode": "markers",
           "name": "Melons, other (inc.cantaloupes)",
           "orientation": "v",
           "showlegend": true,
           "type": "scatter",
           "x": [
            630
           ],
           "xaxis": "x",
           "y": [
            2011
           ],
           "yaxis": "y"
          },
          {
           "hovertemplate": "<b>%{hovertext}</b><br><br>item=Nuts nes<br>year=%{y}<br>quantity=%{marker.size}<extra></extra>",
           "hovertext": [
            "Bahrain"
           ],
           "ids": [
            "Nuts nes"
           ],
           "legendgroup": "Nuts nes",
           "marker": {
            "color": "#FFA15A",
            "size": [
             350
            ],
            "sizemode": "area",
            "sizeref": 8.498842975206612,
            "symbol": "circle"
           },
           "mode": "markers",
           "name": "Nuts nes",
           "orientation": "v",
           "showlegend": true,
           "type": "scatter",
           "x": [
            350
           ],
           "xaxis": "x",
           "y": [
            2011
           ],
           "yaxis": "y"
          },
          {
           "hovertemplate": "<b>%{hovertext}</b><br><br>item=Okra<br>year=%{y}<br>quantity=%{marker.size}<extra></extra>",
           "hovertext": [
            "Bahrain"
           ],
           "ids": [
            "Okra"
           ],
           "legendgroup": "Okra",
           "marker": {
            "color": "#19d3f3",
            "size": [
             796
            ],
            "sizemode": "area",
            "sizeref": 8.498842975206612,
            "symbol": "circle"
           },
           "mode": "markers",
           "name": "Okra",
           "orientation": "v",
           "showlegend": true,
           "type": "scatter",
           "x": [
            796
           ],
           "xaxis": "x",
           "y": [
            2011
           ],
           "yaxis": "y"
          },
          {
           "hovertemplate": "<b>%{hovertext}</b><br><br>item=Onions, dry<br>year=%{y}<br>quantity=%{marker.size}<extra></extra>",
           "hovertext": [
            "Bahrain"
           ],
           "ids": [
            "Onions, dry"
           ],
           "legendgroup": "Onions, dry",
           "marker": {
            "color": "#FF6692",
            "size": [
             668
            ],
            "sizemode": "area",
            "sizeref": 8.498842975206612,
            "symbol": "circle"
           },
           "mode": "markers",
           "name": "Onions, dry",
           "orientation": "v",
           "showlegend": true,
           "type": "scatter",
           "x": [
            668
           ],
           "xaxis": "x",
           "y": [
            2011
           ],
           "yaxis": "y"
          },
          {
           "hovertemplate": "<b>%{hovertext}</b><br><br>item=Potatoes<br>year=%{y}<br>quantity=%{marker.size}<extra></extra>",
           "hovertext": [
            "Bahrain"
           ],
           "ids": [
            "Potatoes"
           ],
           "legendgroup": "Potatoes",
           "marker": {
            "color": "#B6E880",
            "size": [
             43
            ],
            "sizemode": "area",
            "sizeref": 8.498842975206612,
            "symbol": "circle"
           },
           "mode": "markers",
           "name": "Potatoes",
           "orientation": "v",
           "showlegend": true,
           "type": "scatter",
           "x": [
            43
           ],
           "xaxis": "x",
           "y": [
            2011
           ],
           "yaxis": "y"
          },
          {
           "hovertemplate": "<b>%{hovertext}</b><br><br>item=Pulses nes<br>year=%{y}<br>quantity=%{marker.size}<extra></extra>",
           "hovertext": [
            "Bahrain"
           ],
           "ids": [
            "Pulses nes"
           ],
           "legendgroup": "Pulses nes",
           "marker": {
            "color": "#FF97FF",
            "size": [
             8
            ],
            "sizemode": "area",
            "sizeref": 8.498842975206612,
            "symbol": "circle"
           },
           "mode": "markers",
           "name": "Pulses nes",
           "orientation": "v",
           "showlegend": true,
           "type": "scatter",
           "x": [
            8
           ],
           "xaxis": "x",
           "y": [
            2011
           ],
           "yaxis": "y"
          },
          {
           "hovertemplate": "<b>%{hovertext}</b><br><br>item=Pumpkins, squash and gourds<br>year=%{y}<br>quantity=%{marker.size}<extra></extra>",
           "hovertext": [
            "Bahrain"
           ],
           "ids": [
            "Pumpkins, squash and gourds"
           ],
           "legendgroup": "Pumpkins, squash and gourds",
           "marker": {
            "color": "#FECB52",
            "size": [
             609
            ],
            "sizemode": "area",
            "sizeref": 8.498842975206612,
            "symbol": "circle"
           },
           "mode": "markers",
           "name": "Pumpkins, squash and gourds",
           "orientation": "v",
           "showlegend": true,
           "type": "scatter",
           "x": [
            609
           ],
           "xaxis": "x",
           "y": [
            2011
           ],
           "yaxis": "y"
          },
          {
           "hovertemplate": "<b>%{hovertext}</b><br><br>item=Sweet potatoes<br>year=%{y}<br>quantity=%{marker.size}<extra></extra>",
           "hovertext": [
            "Bahrain"
           ],
           "ids": [
            "Sweet potatoes"
           ],
           "legendgroup": "Sweet potatoes",
           "marker": {
            "color": "#636efa",
            "size": [
             0
            ],
            "sizemode": "area",
            "sizeref": 8.498842975206612,
            "symbol": "circle"
           },
           "mode": "markers",
           "name": "Sweet potatoes",
           "orientation": "v",
           "showlegend": true,
           "type": "scatter",
           "x": [
            0
           ],
           "xaxis": "x",
           "y": [
            2011
           ],
           "yaxis": "y"
          },
          {
           "hovertemplate": "<b>%{hovertext}</b><br><br>item=Tomatoes<br>year=%{y}<br>quantity=%{marker.size}<extra></extra>",
           "hovertext": [
            "Bahrain"
           ],
           "ids": [
            "Tomatoes"
           ],
           "legendgroup": "Tomatoes",
           "marker": {
            "color": "#EF553B",
            "size": [
             3918
            ],
            "sizemode": "area",
            "sizeref": 8.498842975206612,
            "symbol": "circle"
           },
           "mode": "markers",
           "name": "Tomatoes",
           "orientation": "v",
           "showlegend": true,
           "type": "scatter",
           "x": [
            3918
           ],
           "xaxis": "x",
           "y": [
            2011
           ],
           "yaxis": "y"
          },
          {
           "hovertemplate": "<b>%{hovertext}</b><br><br>item=Vegetables, fresh nes<br>year=%{y}<br>quantity=%{marker.size}<extra></extra>",
           "hovertext": [
            "Bahrain"
           ],
           "ids": [
            "Vegetables, fresh nes"
           ],
           "legendgroup": "Vegetables, fresh nes",
           "marker": {
            "color": "#00cc96",
            "size": [
             4221
            ],
            "sizemode": "area",
            "sizeref": 8.498842975206612,
            "symbol": "circle"
           },
           "mode": "markers",
           "name": "Vegetables, fresh nes",
           "orientation": "v",
           "showlegend": true,
           "type": "scatter",
           "x": [
            4221
           ],
           "xaxis": "x",
           "y": [
            2011
           ],
           "yaxis": "y"
          },
          {
           "hovertemplate": "<b>%{hovertext}</b><br><br>item=Watermelons<br>year=%{y}<br>quantity=%{marker.size}<extra></extra>",
           "hovertext": [
            "Bahrain"
           ],
           "ids": [
            "Watermelons"
           ],
           "legendgroup": "Watermelons",
           "marker": {
            "color": "#ab63fa",
            "size": [
             189
            ],
            "sizemode": "area",
            "sizeref": 8.498842975206612,
            "symbol": "circle"
           },
           "mode": "markers",
           "name": "Watermelons",
           "orientation": "v",
           "showlegend": true,
           "type": "scatter",
           "x": [
            189
           ],
           "xaxis": "x",
           "y": [
            2011
           ],
           "yaxis": "y"
          },
          {
           "hovertemplate": "<b>%{hovertext}</b><br><br>item=Citrus Fruit, Total<br>year=%{y}<br>quantity=%{marker.size}<extra></extra>",
           "hovertext": [
            "Bahrain"
           ],
           "ids": [
            "Citrus Fruit, Total"
           ],
           "legendgroup": "Citrus Fruit, Total",
           "marker": {
            "color": "#FFA15A",
            "size": [
             1047
            ],
            "sizemode": "area",
            "sizeref": 8.498842975206612,
            "symbol": "circle"
           },
           "mode": "markers",
           "name": "Citrus Fruit, Total",
           "orientation": "v",
           "showlegend": true,
           "type": "scatter",
           "x": [
            1047
           ],
           "xaxis": "x",
           "y": [
            2011
           ],
           "yaxis": "y"
          },
          {
           "hovertemplate": "<b>%{hovertext}</b><br><br>item=Fruit Primary<br>year=%{y}<br>quantity=%{marker.size}<extra></extra>",
           "hovertext": [
            "Bahrain"
           ],
           "ids": [
            "Fruit Primary"
           ],
           "legendgroup": "Fruit Primary",
           "marker": {
            "color": "#19d3f3",
            "size": [
             20045
            ],
            "sizemode": "area",
            "sizeref": 8.498842975206612,
            "symbol": "circle"
           },
           "mode": "markers",
           "name": "Fruit Primary",
           "orientation": "v",
           "showlegend": true,
           "type": "scatter",
           "x": [
            20045
           ],
           "xaxis": "x",
           "y": [
            2011
           ],
           "yaxis": "y"
          },
          {
           "hovertemplate": "<b>%{hovertext}</b><br><br>item=Pulses, Total<br>year=%{y}<br>quantity=%{marker.size}<extra></extra>",
           "hovertext": [
            "Bahrain"
           ],
           "ids": [
            "Pulses, Total"
           ],
           "legendgroup": "Pulses, Total",
           "marker": {
            "color": "#FF6692",
            "size": [
             8
            ],
            "sizemode": "area",
            "sizeref": 8.498842975206612,
            "symbol": "circle"
           },
           "mode": "markers",
           "name": "Pulses, Total",
           "orientation": "v",
           "showlegend": true,
           "type": "scatter",
           "x": [
            8
           ],
           "xaxis": "x",
           "y": [
            2011
           ],
           "yaxis": "y"
          },
          {
           "hovertemplate": "<b>%{hovertext}</b><br><br>item=Roots and Tubers, Total<br>year=%{y}<br>quantity=%{marker.size}<extra></extra>",
           "hovertext": [
            "Bahrain"
           ],
           "ids": [
            "Roots and Tubers, Total"
           ],
           "legendgroup": "Roots and Tubers, Total",
           "marker": {
            "color": "#B6E880",
            "size": [
             43
            ],
            "sizemode": "area",
            "sizeref": 8.498842975206612,
            "symbol": "circle"
           },
           "mode": "markers",
           "name": "Roots and Tubers, Total",
           "orientation": "v",
           "showlegend": true,
           "type": "scatter",
           "x": [
            43
           ],
           "xaxis": "x",
           "y": [
            2011
           ],
           "yaxis": "y"
          },
          {
           "hovertemplate": "<b>%{hovertext}</b><br><br>item=Treenuts, Total<br>year=%{y}<br>quantity=%{marker.size}<extra></extra>",
           "hovertext": [
            "Bahrain"
           ],
           "ids": [
            "Treenuts, Total"
           ],
           "legendgroup": "Treenuts, Total",
           "marker": {
            "color": "#FF97FF",
            "size": [
             350
            ],
            "sizemode": "area",
            "sizeref": 8.498842975206612,
            "symbol": "circle"
           },
           "mode": "markers",
           "name": "Treenuts, Total",
           "orientation": "v",
           "showlegend": true,
           "type": "scatter",
           "x": [
            350
           ],
           "xaxis": "x",
           "y": [
            2011
           ],
           "yaxis": "y"
          },
          {
           "hovertemplate": "<b>%{hovertext}</b><br><br>item=Vegetables Primary<br>year=%{y}<br>quantity=%{marker.size}<extra></extra>",
           "hovertext": [
            "Bahrain"
           ],
           "ids": [
            "Vegetables Primary"
           ],
           "legendgroup": "Vegetables Primary",
           "marker": {
            "color": "#FECB52",
            "size": [
             14414
            ],
            "sizemode": "area",
            "sizeref": 8.498842975206612,
            "symbol": "circle"
           },
           "mode": "markers",
           "name": "Vegetables Primary",
           "orientation": "v",
           "showlegend": true,
           "type": "scatter",
           "x": [
            14414
           ],
           "xaxis": "x",
           "y": [
            2011
           ],
           "yaxis": "y"
          }
         ],
         "name": "2011"
        },
        {
         "data": [
          {
           "hovertemplate": "<b>%{hovertext}</b><br><br>item=Bananas<br>year=%{y}<br>quantity=%{marker.size}<extra></extra>",
           "hovertext": [
            "Bahrain"
           ],
           "ids": [
            "Bananas"
           ],
           "legendgroup": "Bananas",
           "marker": {
            "color": "#636efa",
            "size": [
             1000
            ],
            "sizemode": "area",
            "sizeref": 8.498842975206612,
            "symbol": "circle"
           },
           "mode": "markers",
           "name": "Bananas",
           "orientation": "v",
           "showlegend": true,
           "type": "scatter",
           "x": [
            1000
           ],
           "xaxis": "x",
           "y": [
            2012
           ],
           "yaxis": "y"
          },
          {
           "hovertemplate": "<b>%{hovertext}</b><br><br>item=Cabbages and other brassicas<br>year=%{y}<br>quantity=%{marker.size}<extra></extra>",
           "hovertext": [
            "Bahrain"
           ],
           "ids": [
            "Cabbages and other brassicas"
           ],
           "legendgroup": "Cabbages and other brassicas",
           "marker": {
            "color": "#EF553B",
            "size": [
             796
            ],
            "sizemode": "area",
            "sizeref": 8.498842975206612,
            "symbol": "circle"
           },
           "mode": "markers",
           "name": "Cabbages and other brassicas",
           "orientation": "v",
           "showlegend": true,
           "type": "scatter",
           "x": [
            796
           ],
           "xaxis": "x",
           "y": [
            2012
           ],
           "yaxis": "y"
          },
          {
           "hovertemplate": "<b>%{hovertext}</b><br><br>item=Carrots and turnips<br>year=%{y}<br>quantity=%{marker.size}<extra></extra>",
           "hovertext": [
            "Bahrain"
           ],
           "ids": [
            "Carrots and turnips"
           ],
           "legendgroup": "Carrots and turnips",
           "marker": {
            "color": "#00cc96",
            "size": [
             317
            ],
            "sizemode": "area",
            "sizeref": 8.498842975206612,
            "symbol": "circle"
           },
           "mode": "markers",
           "name": "Carrots and turnips",
           "orientation": "v",
           "showlegend": true,
           "type": "scatter",
           "x": [
            317
           ],
           "xaxis": "x",
           "y": [
            2012
           ],
           "yaxis": "y"
          },
          {
           "hovertemplate": "<b>%{hovertext}</b><br><br>item=Cauliflowers and broccoli<br>year=%{y}<br>quantity=%{marker.size}<extra></extra>",
           "hovertext": [
            "Bahrain"
           ],
           "ids": [
            "Cauliflowers and broccoli"
           ],
           "legendgroup": "Cauliflowers and broccoli",
           "marker": {
            "color": "#ab63fa",
            "size": [
             510
            ],
            "sizemode": "area",
            "sizeref": 8.498842975206612,
            "symbol": "circle"
           },
           "mode": "markers",
           "name": "Cauliflowers and broccoli",
           "orientation": "v",
           "showlegend": true,
           "type": "scatter",
           "x": [
            510
           ],
           "xaxis": "x",
           "y": [
            2012
           ],
           "yaxis": "y"
          },
          {
           "hovertemplate": "<b>%{hovertext}</b><br><br>item=Chick peas<br>year=%{y}<br>quantity=%{marker.size}<extra></extra>",
           "hovertext": [
            "Bahrain"
           ],
           "ids": [
            "Chick peas"
           ],
           "legendgroup": "Chick peas",
           "marker": {
            "color": "#FFA15A",
            "size": [
             230
            ],
            "sizemode": "area",
            "sizeref": 8.498842975206612,
            "symbol": "circle"
           },
           "mode": "markers",
           "name": "Chick peas",
           "orientation": "v",
           "showlegend": true,
           "type": "scatter",
           "x": [
            230
           ],
           "xaxis": "x",
           "y": [
            2012
           ],
           "yaxis": "y"
          },
          {
           "hovertemplate": "<b>%{hovertext}</b><br><br>item=Chillies and peppers, green<br>year=%{y}<br>quantity=%{marker.size}<extra></extra>",
           "hovertext": [
            "Bahrain"
           ],
           "ids": [
            "Chillies and peppers, green"
           ],
           "legendgroup": "Chillies and peppers, green",
           "marker": {
            "color": "#19d3f3",
            "size": [
             90
            ],
            "sizemode": "area",
            "sizeref": 8.498842975206612,
            "symbol": "circle"
           },
           "mode": "markers",
           "name": "Chillies and peppers, green",
           "orientation": "v",
           "showlegend": true,
           "type": "scatter",
           "x": [
            90
           ],
           "xaxis": "x",
           "y": [
            2012
           ],
           "yaxis": "y"
          },
          {
           "hovertemplate": "<b>%{hovertext}</b><br><br>item=Cucumbers and gherkins<br>year=%{y}<br>quantity=%{marker.size}<extra></extra>",
           "hovertext": [
            "Bahrain"
           ],
           "ids": [
            "Cucumbers and gherkins"
           ],
           "legendgroup": "Cucumbers and gherkins",
           "marker": {
            "color": "#FF6692",
            "size": [
             553
            ],
            "sizemode": "area",
            "sizeref": 8.498842975206612,
            "symbol": "circle"
           },
           "mode": "markers",
           "name": "Cucumbers and gherkins",
           "orientation": "v",
           "showlegend": true,
           "type": "scatter",
           "x": [
            553
           ],
           "xaxis": "x",
           "y": [
            2012
           ],
           "yaxis": "y"
          },
          {
           "hovertemplate": "<b>%{hovertext}</b><br><br>item=Dates<br>year=%{y}<br>quantity=%{marker.size}<extra></extra>",
           "hovertext": [
            "Bahrain"
           ],
           "ids": [
            "Dates"
           ],
           "legendgroup": "Dates",
           "marker": {
            "color": "#B6E880",
            "size": [
             11869
            ],
            "sizemode": "area",
            "sizeref": 8.498842975206612,
            "symbol": "circle"
           },
           "mode": "markers",
           "name": "Dates",
           "orientation": "v",
           "showlegend": true,
           "type": "scatter",
           "x": [
            11869
           ],
           "xaxis": "x",
           "y": [
            2012
           ],
           "yaxis": "y"
          },
          {
           "hovertemplate": "<b>%{hovertext}</b><br><br>item=Eggplants (aubergines)<br>year=%{y}<br>quantity=%{marker.size}<extra></extra>",
           "hovertext": [
            "Bahrain"
           ],
           "ids": [
            "Eggplants (aubergines)"
           ],
           "legendgroup": "Eggplants (aubergines)",
           "marker": {
            "color": "#FF97FF",
            "size": [
             1219
            ],
            "sizemode": "area",
            "sizeref": 8.498842975206612,
            "symbol": "circle"
           },
           "mode": "markers",
           "name": "Eggplants (aubergines)",
           "orientation": "v",
           "showlegend": true,
           "type": "scatter",
           "x": [
            1219
           ],
           "xaxis": "x",
           "y": [
            2012
           ],
           "yaxis": "y"
          },
          {
           "hovertemplate": "<b>%{hovertext}</b><br><br>item=Fruit, fresh nes<br>year=%{y}<br>quantity=%{marker.size}<extra></extra>",
           "hovertext": [
            "Bahrain"
           ],
           "ids": [
            "Fruit, fresh nes"
           ],
           "legendgroup": "Fruit, fresh nes",
           "marker": {
            "color": "#FECB52",
            "size": [
             5000
            ],
            "sizemode": "area",
            "sizeref": 8.498842975206612,
            "symbol": "circle"
           },
           "mode": "markers",
           "name": "Fruit, fresh nes",
           "orientation": "v",
           "showlegend": true,
           "type": "scatter",
           "x": [
            5000
           ],
           "xaxis": "x",
           "y": [
            2012
           ],
           "yaxis": "y"
          },
          {
           "hovertemplate": "<b>%{hovertext}</b><br><br>item=Grapes<br>year=%{y}<br>quantity=%{marker.size}<extra></extra>",
           "hovertext": [
            "Bahrain"
           ],
           "ids": [
            "Grapes"
           ],
           "legendgroup": "Grapes",
           "marker": {
            "color": "#636efa",
            "size": [
             145
            ],
            "sizemode": "area",
            "sizeref": 8.498842975206612,
            "symbol": "circle"
           },
           "mode": "markers",
           "name": "Grapes",
           "orientation": "v",
           "showlegend": true,
           "type": "scatter",
           "x": [
            145
           ],
           "xaxis": "x",
           "y": [
            2012
           ],
           "yaxis": "y"
          },
          {
           "hovertemplate": "<b>%{hovertext}</b><br><br>item=Lemons and limes<br>year=%{y}<br>quantity=%{marker.size}<extra></extra>",
           "hovertext": [
            "Bahrain"
           ],
           "ids": [
            "Lemons and limes"
           ],
           "legendgroup": "Lemons and limes",
           "marker": {
            "color": "#EF553B",
            "size": [
             1100
            ],
            "sizemode": "area",
            "sizeref": 8.498842975206612,
            "symbol": "circle"
           },
           "mode": "markers",
           "name": "Lemons and limes",
           "orientation": "v",
           "showlegend": true,
           "type": "scatter",
           "x": [
            1100
           ],
           "xaxis": "x",
           "y": [
            2012
           ],
           "yaxis": "y"
          },
          {
           "hovertemplate": "<b>%{hovertext}</b><br><br>item=Lettuce and chicory<br>year=%{y}<br>quantity=%{marker.size}<extra></extra>",
           "hovertext": [
            "Bahrain"
           ],
           "ids": [
            "Lettuce and chicory"
           ],
           "legendgroup": "Lettuce and chicory",
           "marker": {
            "color": "#00cc96",
            "size": [
             778
            ],
            "sizemode": "area",
            "sizeref": 8.498842975206612,
            "symbol": "circle"
           },
           "mode": "markers",
           "name": "Lettuce and chicory",
           "orientation": "v",
           "showlegend": true,
           "type": "scatter",
           "x": [
            778
           ],
           "xaxis": "x",
           "y": [
            2012
           ],
           "yaxis": "y"
          },
          {
           "hovertemplate": "<b>%{hovertext}</b><br><br>item=Melons, other (inc.cantaloupes)<br>year=%{y}<br>quantity=%{marker.size}<extra></extra>",
           "hovertext": [
            "Bahrain"
           ],
           "ids": [
            "Melons, other (inc.cantaloupes)"
           ],
           "legendgroup": "Melons, other (inc.cantaloupes)",
           "marker": {
            "color": "#ab63fa",
            "size": [
             590
            ],
            "sizemode": "area",
            "sizeref": 8.498842975206612,
            "symbol": "circle"
           },
           "mode": "markers",
           "name": "Melons, other (inc.cantaloupes)",
           "orientation": "v",
           "showlegend": true,
           "type": "scatter",
           "x": [
            590
           ],
           "xaxis": "x",
           "y": [
            2012
           ],
           "yaxis": "y"
          },
          {
           "hovertemplate": "<b>%{hovertext}</b><br><br>item=Nuts nes<br>year=%{y}<br>quantity=%{marker.size}<extra></extra>",
           "hovertext": [
            "Bahrain"
           ],
           "ids": [
            "Nuts nes"
           ],
           "legendgroup": "Nuts nes",
           "marker": {
            "color": "#FFA15A",
            "size": [
             350
            ],
            "sizemode": "area",
            "sizeref": 8.498842975206612,
            "symbol": "circle"
           },
           "mode": "markers",
           "name": "Nuts nes",
           "orientation": "v",
           "showlegend": true,
           "type": "scatter",
           "x": [
            350
           ],
           "xaxis": "x",
           "y": [
            2012
           ],
           "yaxis": "y"
          },
          {
           "hovertemplate": "<b>%{hovertext}</b><br><br>item=Okra<br>year=%{y}<br>quantity=%{marker.size}<extra></extra>",
           "hovertext": [
            "Bahrain"
           ],
           "ids": [
            "Okra"
           ],
           "legendgroup": "Okra",
           "marker": {
            "color": "#19d3f3",
            "size": [
             789
            ],
            "sizemode": "area",
            "sizeref": 8.498842975206612,
            "symbol": "circle"
           },
           "mode": "markers",
           "name": "Okra",
           "orientation": "v",
           "showlegend": true,
           "type": "scatter",
           "x": [
            789
           ],
           "xaxis": "x",
           "y": [
            2012
           ],
           "yaxis": "y"
          },
          {
           "hovertemplate": "<b>%{hovertext}</b><br><br>item=Onions, dry<br>year=%{y}<br>quantity=%{marker.size}<extra></extra>",
           "hovertext": [
            "Bahrain"
           ],
           "ids": [
            "Onions, dry"
           ],
           "legendgroup": "Onions, dry",
           "marker": {
            "color": "#FF6692",
            "size": [
             595
            ],
            "sizemode": "area",
            "sizeref": 8.498842975206612,
            "symbol": "circle"
           },
           "mode": "markers",
           "name": "Onions, dry",
           "orientation": "v",
           "showlegend": true,
           "type": "scatter",
           "x": [
            595
           ],
           "xaxis": "x",
           "y": [
            2012
           ],
           "yaxis": "y"
          },
          {
           "hovertemplate": "<b>%{hovertext}</b><br><br>item=Potatoes<br>year=%{y}<br>quantity=%{marker.size}<extra></extra>",
           "hovertext": [
            "Bahrain"
           ],
           "ids": [
            "Potatoes"
           ],
           "legendgroup": "Potatoes",
           "marker": {
            "color": "#B6E880",
            "size": [
             41
            ],
            "sizemode": "area",
            "sizeref": 8.498842975206612,
            "symbol": "circle"
           },
           "mode": "markers",
           "name": "Potatoes",
           "orientation": "v",
           "showlegend": true,
           "type": "scatter",
           "x": [
            41
           ],
           "xaxis": "x",
           "y": [
            2012
           ],
           "yaxis": "y"
          },
          {
           "hovertemplate": "<b>%{hovertext}</b><br><br>item=Pulses nes<br>year=%{y}<br>quantity=%{marker.size}<extra></extra>",
           "hovertext": [
            "Bahrain"
           ],
           "ids": [
            "Pulses nes"
           ],
           "legendgroup": "Pulses nes",
           "marker": {
            "color": "#FF97FF",
            "size": [
             10
            ],
            "sizemode": "area",
            "sizeref": 8.498842975206612,
            "symbol": "circle"
           },
           "mode": "markers",
           "name": "Pulses nes",
           "orientation": "v",
           "showlegend": true,
           "type": "scatter",
           "x": [
            10
           ],
           "xaxis": "x",
           "y": [
            2012
           ],
           "yaxis": "y"
          },
          {
           "hovertemplate": "<b>%{hovertext}</b><br><br>item=Pumpkins, squash and gourds<br>year=%{y}<br>quantity=%{marker.size}<extra></extra>",
           "hovertext": [
            "Bahrain"
           ],
           "ids": [
            "Pumpkins, squash and gourds"
           ],
           "legendgroup": "Pumpkins, squash and gourds",
           "marker": {
            "color": "#FECB52",
            "size": [
             639
            ],
            "sizemode": "area",
            "sizeref": 8.498842975206612,
            "symbol": "circle"
           },
           "mode": "markers",
           "name": "Pumpkins, squash and gourds",
           "orientation": "v",
           "showlegend": true,
           "type": "scatter",
           "x": [
            639
           ],
           "xaxis": "x",
           "y": [
            2012
           ],
           "yaxis": "y"
          },
          {
           "hovertemplate": "<b>%{hovertext}</b><br><br>item=Sweet potatoes<br>year=%{y}<br>quantity=%{marker.size}<extra></extra>",
           "hovertext": [
            "Bahrain"
           ],
           "ids": [
            "Sweet potatoes"
           ],
           "legendgroup": "Sweet potatoes",
           "marker": {
            "color": "#636efa",
            "size": [
             0
            ],
            "sizemode": "area",
            "sizeref": 8.498842975206612,
            "symbol": "circle"
           },
           "mode": "markers",
           "name": "Sweet potatoes",
           "orientation": "v",
           "showlegend": true,
           "type": "scatter",
           "x": [
            0
           ],
           "xaxis": "x",
           "y": [
            2012
           ],
           "yaxis": "y"
          },
          {
           "hovertemplate": "<b>%{hovertext}</b><br><br>item=Tomatoes<br>year=%{y}<br>quantity=%{marker.size}<extra></extra>",
           "hovertext": [
            "Bahrain"
           ],
           "ids": [
            "Tomatoes"
           ],
           "legendgroup": "Tomatoes",
           "marker": {
            "color": "#EF553B",
            "size": [
             4071
            ],
            "sizemode": "area",
            "sizeref": 8.498842975206612,
            "symbol": "circle"
           },
           "mode": "markers",
           "name": "Tomatoes",
           "orientation": "v",
           "showlegend": true,
           "type": "scatter",
           "x": [
            4071
           ],
           "xaxis": "x",
           "y": [
            2012
           ],
           "yaxis": "y"
          },
          {
           "hovertemplate": "<b>%{hovertext}</b><br><br>item=Vegetables, fresh nes<br>year=%{y}<br>quantity=%{marker.size}<extra></extra>",
           "hovertext": [
            "Bahrain"
           ],
           "ids": [
            "Vegetables, fresh nes"
           ],
           "legendgroup": "Vegetables, fresh nes",
           "marker": {
            "color": "#00cc96",
            "size": [
             4472
            ],
            "sizemode": "area",
            "sizeref": 8.498842975206612,
            "symbol": "circle"
           },
           "mode": "markers",
           "name": "Vegetables, fresh nes",
           "orientation": "v",
           "showlegend": true,
           "type": "scatter",
           "x": [
            4472
           ],
           "xaxis": "x",
           "y": [
            2012
           ],
           "yaxis": "y"
          },
          {
           "hovertemplate": "<b>%{hovertext}</b><br><br>item=Watermelons<br>year=%{y}<br>quantity=%{marker.size}<extra></extra>",
           "hovertext": [
            "Bahrain"
           ],
           "ids": [
            "Watermelons"
           ],
           "legendgroup": "Watermelons",
           "marker": {
            "color": "#ab63fa",
            "size": [
             212
            ],
            "sizemode": "area",
            "sizeref": 8.498842975206612,
            "symbol": "circle"
           },
           "mode": "markers",
           "name": "Watermelons",
           "orientation": "v",
           "showlegend": true,
           "type": "scatter",
           "x": [
            212
           ],
           "xaxis": "x",
           "y": [
            2012
           ],
           "yaxis": "y"
          },
          {
           "hovertemplate": "<b>%{hovertext}</b><br><br>item=Citrus Fruit, Total<br>year=%{y}<br>quantity=%{marker.size}<extra></extra>",
           "hovertext": [
            "Bahrain"
           ],
           "ids": [
            "Citrus Fruit, Total"
           ],
           "legendgroup": "Citrus Fruit, Total",
           "marker": {
            "color": "#FFA15A",
            "size": [
             1100
            ],
            "sizemode": "area",
            "sizeref": 8.498842975206612,
            "symbol": "circle"
           },
           "mode": "markers",
           "name": "Citrus Fruit, Total",
           "orientation": "v",
           "showlegend": true,
           "type": "scatter",
           "x": [
            1100
           ],
           "xaxis": "x",
           "y": [
            2012
           ],
           "yaxis": "y"
          },
          {
           "hovertemplate": "<b>%{hovertext}</b><br><br>item=Fruit Primary<br>year=%{y}<br>quantity=%{marker.size}<extra></extra>",
           "hovertext": [
            "Bahrain"
           ],
           "ids": [
            "Fruit Primary"
           ],
           "legendgroup": "Fruit Primary",
           "marker": {
            "color": "#19d3f3",
            "size": [
             19916
            ],
            "sizemode": "area",
            "sizeref": 8.498842975206612,
            "symbol": "circle"
           },
           "mode": "markers",
           "name": "Fruit Primary",
           "orientation": "v",
           "showlegend": true,
           "type": "scatter",
           "x": [
            19916
           ],
           "xaxis": "x",
           "y": [
            2012
           ],
           "yaxis": "y"
          },
          {
           "hovertemplate": "<b>%{hovertext}</b><br><br>item=Pulses, Total<br>year=%{y}<br>quantity=%{marker.size}<extra></extra>",
           "hovertext": [
            "Bahrain"
           ],
           "ids": [
            "Pulses, Total"
           ],
           "legendgroup": "Pulses, Total",
           "marker": {
            "color": "#FF6692",
            "size": [
             240
            ],
            "sizemode": "area",
            "sizeref": 8.498842975206612,
            "symbol": "circle"
           },
           "mode": "markers",
           "name": "Pulses, Total",
           "orientation": "v",
           "showlegend": true,
           "type": "scatter",
           "x": [
            240
           ],
           "xaxis": "x",
           "y": [
            2012
           ],
           "yaxis": "y"
          },
          {
           "hovertemplate": "<b>%{hovertext}</b><br><br>item=Roots and Tubers, Total<br>year=%{y}<br>quantity=%{marker.size}<extra></extra>",
           "hovertext": [
            "Bahrain"
           ],
           "ids": [
            "Roots and Tubers, Total"
           ],
           "legendgroup": "Roots and Tubers, Total",
           "marker": {
            "color": "#B6E880",
            "size": [
             41
            ],
            "sizemode": "area",
            "sizeref": 8.498842975206612,
            "symbol": "circle"
           },
           "mode": "markers",
           "name": "Roots and Tubers, Total",
           "orientation": "v",
           "showlegend": true,
           "type": "scatter",
           "x": [
            41
           ],
           "xaxis": "x",
           "y": [
            2012
           ],
           "yaxis": "y"
          },
          {
           "hovertemplate": "<b>%{hovertext}</b><br><br>item=Treenuts, Total<br>year=%{y}<br>quantity=%{marker.size}<extra></extra>",
           "hovertext": [
            "Bahrain"
           ],
           "ids": [
            "Treenuts, Total"
           ],
           "legendgroup": "Treenuts, Total",
           "marker": {
            "color": "#FF97FF",
            "size": [
             350
            ],
            "sizemode": "area",
            "sizeref": 8.498842975206612,
            "symbol": "circle"
           },
           "mode": "markers",
           "name": "Treenuts, Total",
           "orientation": "v",
           "showlegend": true,
           "type": "scatter",
           "x": [
            350
           ],
           "xaxis": "x",
           "y": [
            2012
           ],
           "yaxis": "y"
          },
          {
           "hovertemplate": "<b>%{hovertext}</b><br><br>item=Vegetables Primary<br>year=%{y}<br>quantity=%{marker.size}<extra></extra>",
           "hovertext": [
            "Bahrain"
           ],
           "ids": [
            "Vegetables Primary"
           ],
           "legendgroup": "Vegetables Primary",
           "marker": {
            "color": "#FECB52",
            "size": [
             14829
            ],
            "sizemode": "area",
            "sizeref": 8.498842975206612,
            "symbol": "circle"
           },
           "mode": "markers",
           "name": "Vegetables Primary",
           "orientation": "v",
           "showlegend": true,
           "type": "scatter",
           "x": [
            14829
           ],
           "xaxis": "x",
           "y": [
            2012
           ],
           "yaxis": "y"
          }
         ],
         "name": "2012"
        },
        {
         "data": [
          {
           "hovertemplate": "<b>%{hovertext}</b><br><br>item=Bananas<br>year=%{y}<br>quantity=%{marker.size}<extra></extra>",
           "hovertext": [
            "Bahrain"
           ],
           "ids": [
            "Bananas"
           ],
           "legendgroup": "Bananas",
           "marker": {
            "color": "#636efa",
            "size": [
             963
            ],
            "sizemode": "area",
            "sizeref": 8.498842975206612,
            "symbol": "circle"
           },
           "mode": "markers",
           "name": "Bananas",
           "orientation": "v",
           "showlegend": true,
           "type": "scatter",
           "x": [
            963
           ],
           "xaxis": "x",
           "y": [
            2013
           ],
           "yaxis": "y"
          },
          {
           "hovertemplate": "<b>%{hovertext}</b><br><br>item=Cabbages and other brassicas<br>year=%{y}<br>quantity=%{marker.size}<extra></extra>",
           "hovertext": [
            "Bahrain"
           ],
           "ids": [
            "Cabbages and other brassicas"
           ],
           "legendgroup": "Cabbages and other brassicas",
           "marker": {
            "color": "#EF553B",
            "size": [
             796
            ],
            "sizemode": "area",
            "sizeref": 8.498842975206612,
            "symbol": "circle"
           },
           "mode": "markers",
           "name": "Cabbages and other brassicas",
           "orientation": "v",
           "showlegend": true,
           "type": "scatter",
           "x": [
            796
           ],
           "xaxis": "x",
           "y": [
            2013
           ],
           "yaxis": "y"
          },
          {
           "hovertemplate": "<b>%{hovertext}</b><br><br>item=Carrots and turnips<br>year=%{y}<br>quantity=%{marker.size}<extra></extra>",
           "hovertext": [
            "Bahrain"
           ],
           "ids": [
            "Carrots and turnips"
           ],
           "legendgroup": "Carrots and turnips",
           "marker": {
            "color": "#00cc96",
            "size": [
             339
            ],
            "sizemode": "area",
            "sizeref": 8.498842975206612,
            "symbol": "circle"
           },
           "mode": "markers",
           "name": "Carrots and turnips",
           "orientation": "v",
           "showlegend": true,
           "type": "scatter",
           "x": [
            339
           ],
           "xaxis": "x",
           "y": [
            2013
           ],
           "yaxis": "y"
          },
          {
           "hovertemplate": "<b>%{hovertext}</b><br><br>item=Cauliflowers and broccoli<br>year=%{y}<br>quantity=%{marker.size}<extra></extra>",
           "hovertext": [
            "Bahrain"
           ],
           "ids": [
            "Cauliflowers and broccoli"
           ],
           "legendgroup": "Cauliflowers and broccoli",
           "marker": {
            "color": "#ab63fa",
            "size": [
             501
            ],
            "sizemode": "area",
            "sizeref": 8.498842975206612,
            "symbol": "circle"
           },
           "mode": "markers",
           "name": "Cauliflowers and broccoli",
           "orientation": "v",
           "showlegend": true,
           "type": "scatter",
           "x": [
            501
           ],
           "xaxis": "x",
           "y": [
            2013
           ],
           "yaxis": "y"
          },
          {
           "hovertemplate": "<b>%{hovertext}</b><br><br>item=Chick peas<br>year=%{y}<br>quantity=%{marker.size}<extra></extra>",
           "hovertext": [
            "Bahrain"
           ],
           "ids": [
            "Chick peas"
           ],
           "legendgroup": "Chick peas",
           "marker": {
            "color": "#FFA15A",
            "size": [
             225
            ],
            "sizemode": "area",
            "sizeref": 8.498842975206612,
            "symbol": "circle"
           },
           "mode": "markers",
           "name": "Chick peas",
           "orientation": "v",
           "showlegend": true,
           "type": "scatter",
           "x": [
            225
           ],
           "xaxis": "x",
           "y": [
            2013
           ],
           "yaxis": "y"
          },
          {
           "hovertemplate": "<b>%{hovertext}</b><br><br>item=Chillies and peppers, green<br>year=%{y}<br>quantity=%{marker.size}<extra></extra>",
           "hovertext": [
            "Bahrain"
           ],
           "ids": [
            "Chillies and peppers, green"
           ],
           "legendgroup": "Chillies and peppers, green",
           "marker": {
            "color": "#19d3f3",
            "size": [
             87
            ],
            "sizemode": "area",
            "sizeref": 8.498842975206612,
            "symbol": "circle"
           },
           "mode": "markers",
           "name": "Chillies and peppers, green",
           "orientation": "v",
           "showlegend": true,
           "type": "scatter",
           "x": [
            87
           ],
           "xaxis": "x",
           "y": [
            2013
           ],
           "yaxis": "y"
          },
          {
           "hovertemplate": "<b>%{hovertext}</b><br><br>item=Cucumbers and gherkins<br>year=%{y}<br>quantity=%{marker.size}<extra></extra>",
           "hovertext": [
            "Bahrain"
           ],
           "ids": [
            "Cucumbers and gherkins"
           ],
           "legendgroup": "Cucumbers and gherkins",
           "marker": {
            "color": "#FF6692",
            "size": [
             534
            ],
            "sizemode": "area",
            "sizeref": 8.498842975206612,
            "symbol": "circle"
           },
           "mode": "markers",
           "name": "Cucumbers and gherkins",
           "orientation": "v",
           "showlegend": true,
           "type": "scatter",
           "x": [
            534
           ],
           "xaxis": "x",
           "y": [
            2013
           ],
           "yaxis": "y"
          },
          {
           "hovertemplate": "<b>%{hovertext}</b><br><br>item=Dates<br>year=%{y}<br>quantity=%{marker.size}<extra></extra>",
           "hovertext": [
            "Bahrain"
           ],
           "ids": [
            "Dates"
           ],
           "legendgroup": "Dates",
           "marker": {
            "color": "#B6E880",
            "size": [
             11595
            ],
            "sizemode": "area",
            "sizeref": 8.498842975206612,
            "symbol": "circle"
           },
           "mode": "markers",
           "name": "Dates",
           "orientation": "v",
           "showlegend": true,
           "type": "scatter",
           "x": [
            11595
           ],
           "xaxis": "x",
           "y": [
            2013
           ],
           "yaxis": "y"
          },
          {
           "hovertemplate": "<b>%{hovertext}</b><br><br>item=Eggplants (aubergines)<br>year=%{y}<br>quantity=%{marker.size}<extra></extra>",
           "hovertext": [
            "Bahrain"
           ],
           "ids": [
            "Eggplants (aubergines)"
           ],
           "legendgroup": "Eggplants (aubergines)",
           "marker": {
            "color": "#FF97FF",
            "size": [
             1237
            ],
            "sizemode": "area",
            "sizeref": 8.498842975206612,
            "symbol": "circle"
           },
           "mode": "markers",
           "name": "Eggplants (aubergines)",
           "orientation": "v",
           "showlegend": true,
           "type": "scatter",
           "x": [
            1237
           ],
           "xaxis": "x",
           "y": [
            2013
           ],
           "yaxis": "y"
          },
          {
           "hovertemplate": "<b>%{hovertext}</b><br><br>item=Fruit, fresh nes<br>year=%{y}<br>quantity=%{marker.size}<extra></extra>",
           "hovertext": [
            "Bahrain"
           ],
           "ids": [
            "Fruit, fresh nes"
           ],
           "legendgroup": "Fruit, fresh nes",
           "marker": {
            "color": "#FECB52",
            "size": [
             5106
            ],
            "sizemode": "area",
            "sizeref": 8.498842975206612,
            "symbol": "circle"
           },
           "mode": "markers",
           "name": "Fruit, fresh nes",
           "orientation": "v",
           "showlegend": true,
           "type": "scatter",
           "x": [
            5106
           ],
           "xaxis": "x",
           "y": [
            2013
           ],
           "yaxis": "y"
          },
          {
           "hovertemplate": "<b>%{hovertext}</b><br><br>item=Grapes<br>year=%{y}<br>quantity=%{marker.size}<extra></extra>",
           "hovertext": [
            "Bahrain"
           ],
           "ids": [
            "Grapes"
           ],
           "legendgroup": "Grapes",
           "marker": {
            "color": "#636efa",
            "size": [
             146
            ],
            "sizemode": "area",
            "sizeref": 8.498842975206612,
            "symbol": "circle"
           },
           "mode": "markers",
           "name": "Grapes",
           "orientation": "v",
           "showlegend": true,
           "type": "scatter",
           "x": [
            146
           ],
           "xaxis": "x",
           "y": [
            2013
           ],
           "yaxis": "y"
          },
          {
           "hovertemplate": "<b>%{hovertext}</b><br><br>item=Lemons and limes<br>year=%{y}<br>quantity=%{marker.size}<extra></extra>",
           "hovertext": [
            "Bahrain"
           ],
           "ids": [
            "Lemons and limes"
           ],
           "legendgroup": "Lemons and limes",
           "marker": {
            "color": "#EF553B",
            "size": [
             1062
            ],
            "sizemode": "area",
            "sizeref": 8.498842975206612,
            "symbol": "circle"
           },
           "mode": "markers",
           "name": "Lemons and limes",
           "orientation": "v",
           "showlegend": true,
           "type": "scatter",
           "x": [
            1062
           ],
           "xaxis": "x",
           "y": [
            2013
           ],
           "yaxis": "y"
          },
          {
           "hovertemplate": "<b>%{hovertext}</b><br><br>item=Lettuce and chicory<br>year=%{y}<br>quantity=%{marker.size}<extra></extra>",
           "hovertext": [
            "Bahrain"
           ],
           "ids": [
            "Lettuce and chicory"
           ],
           "legendgroup": "Lettuce and chicory",
           "marker": {
            "color": "#00cc96",
            "size": [
             782
            ],
            "sizemode": "area",
            "sizeref": 8.498842975206612,
            "symbol": "circle"
           },
           "mode": "markers",
           "name": "Lettuce and chicory",
           "orientation": "v",
           "showlegend": true,
           "type": "scatter",
           "x": [
            782
           ],
           "xaxis": "x",
           "y": [
            2013
           ],
           "yaxis": "y"
          },
          {
           "hovertemplate": "<b>%{hovertext}</b><br><br>item=Melons, other (inc.cantaloupes)<br>year=%{y}<br>quantity=%{marker.size}<extra></extra>",
           "hovertext": [
            "Bahrain"
           ],
           "ids": [
            "Melons, other (inc.cantaloupes)"
           ],
           "legendgroup": "Melons, other (inc.cantaloupes)",
           "marker": {
            "color": "#ab63fa",
            "size": [
             610
            ],
            "sizemode": "area",
            "sizeref": 8.498842975206612,
            "symbol": "circle"
           },
           "mode": "markers",
           "name": "Melons, other (inc.cantaloupes)",
           "orientation": "v",
           "showlegend": true,
           "type": "scatter",
           "x": [
            610
           ],
           "xaxis": "x",
           "y": [
            2013
           ],
           "yaxis": "y"
          },
          {
           "hovertemplate": "<b>%{hovertext}</b><br><br>item=Nuts nes<br>year=%{y}<br>quantity=%{marker.size}<extra></extra>",
           "hovertext": [
            "Bahrain"
           ],
           "ids": [
            "Nuts nes"
           ],
           "legendgroup": "Nuts nes",
           "marker": {
            "color": "#FFA15A",
            "size": [
             350
            ],
            "sizemode": "area",
            "sizeref": 8.498842975206612,
            "symbol": "circle"
           },
           "mode": "markers",
           "name": "Nuts nes",
           "orientation": "v",
           "showlegend": true,
           "type": "scatter",
           "x": [
            350
           ],
           "xaxis": "x",
           "y": [
            2013
           ],
           "yaxis": "y"
          },
          {
           "hovertemplate": "<b>%{hovertext}</b><br><br>item=Okra<br>year=%{y}<br>quantity=%{marker.size}<extra></extra>",
           "hovertext": [
            "Bahrain"
           ],
           "ids": [
            "Okra"
           ],
           "legendgroup": "Okra",
           "marker": {
            "color": "#19d3f3",
            "size": [
             797
            ],
            "sizemode": "area",
            "sizeref": 8.498842975206612,
            "symbol": "circle"
           },
           "mode": "markers",
           "name": "Okra",
           "orientation": "v",
           "showlegend": true,
           "type": "scatter",
           "x": [
            797
           ],
           "xaxis": "x",
           "y": [
            2013
           ],
           "yaxis": "y"
          },
          {
           "hovertemplate": "<b>%{hovertext}</b><br><br>item=Onions, dry<br>year=%{y}<br>quantity=%{marker.size}<extra></extra>",
           "hovertext": [
            "Bahrain"
           ],
           "ids": [
            "Onions, dry"
           ],
           "legendgroup": "Onions, dry",
           "marker": {
            "color": "#FF6692",
            "size": [
             534
            ],
            "sizemode": "area",
            "sizeref": 8.498842975206612,
            "symbol": "circle"
           },
           "mode": "markers",
           "name": "Onions, dry",
           "orientation": "v",
           "showlegend": true,
           "type": "scatter",
           "x": [
            534
           ],
           "xaxis": "x",
           "y": [
            2013
           ],
           "yaxis": "y"
          },
          {
           "hovertemplate": "<b>%{hovertext}</b><br><br>item=Potatoes<br>year=%{y}<br>quantity=%{marker.size}<extra></extra>",
           "hovertext": [
            "Bahrain"
           ],
           "ids": [
            "Potatoes"
           ],
           "legendgroup": "Potatoes",
           "marker": {
            "color": "#B6E880",
            "size": [
             37
            ],
            "sizemode": "area",
            "sizeref": 8.498842975206612,
            "symbol": "circle"
           },
           "mode": "markers",
           "name": "Potatoes",
           "orientation": "v",
           "showlegend": true,
           "type": "scatter",
           "x": [
            37
           ],
           "xaxis": "x",
           "y": [
            2013
           ],
           "yaxis": "y"
          },
          {
           "hovertemplate": "<b>%{hovertext}</b><br><br>item=Pulses nes<br>year=%{y}<br>quantity=%{marker.size}<extra></extra>",
           "hovertext": [
            "Bahrain"
           ],
           "ids": [
            "Pulses nes"
           ],
           "legendgroup": "Pulses nes",
           "marker": {
            "color": "#FF97FF",
            "size": [
             10
            ],
            "sizemode": "area",
            "sizeref": 8.498842975206612,
            "symbol": "circle"
           },
           "mode": "markers",
           "name": "Pulses nes",
           "orientation": "v",
           "showlegend": true,
           "type": "scatter",
           "x": [
            10
           ],
           "xaxis": "x",
           "y": [
            2013
           ],
           "yaxis": "y"
          },
          {
           "hovertemplate": "<b>%{hovertext}</b><br><br>item=Pumpkins, squash and gourds<br>year=%{y}<br>quantity=%{marker.size}<extra></extra>",
           "hovertext": [
            "Bahrain"
           ],
           "ids": [
            "Pumpkins, squash and gourds"
           ],
           "legendgroup": "Pumpkins, squash and gourds",
           "marker": {
            "color": "#FECB52",
            "size": [
             639
            ],
            "sizemode": "area",
            "sizeref": 8.498842975206612,
            "symbol": "circle"
           },
           "mode": "markers",
           "name": "Pumpkins, squash and gourds",
           "orientation": "v",
           "showlegend": true,
           "type": "scatter",
           "x": [
            639
           ],
           "xaxis": "x",
           "y": [
            2013
           ],
           "yaxis": "y"
          },
          {
           "hovertemplate": "<b>%{hovertext}</b><br><br>item=Sweet potatoes<br>year=%{y}<br>quantity=%{marker.size}<extra></extra>",
           "hovertext": [
            "Bahrain"
           ],
           "ids": [
            "Sweet potatoes"
           ],
           "legendgroup": "Sweet potatoes",
           "marker": {
            "color": "#636efa",
            "size": [
             0
            ],
            "sizemode": "area",
            "sizeref": 8.498842975206612,
            "symbol": "circle"
           },
           "mode": "markers",
           "name": "Sweet potatoes",
           "orientation": "v",
           "showlegend": true,
           "type": "scatter",
           "x": [
            0
           ],
           "xaxis": "x",
           "y": [
            2013
           ],
           "yaxis": "y"
          },
          {
           "hovertemplate": "<b>%{hovertext}</b><br><br>item=Tomatoes<br>year=%{y}<br>quantity=%{marker.size}<extra></extra>",
           "hovertext": [
            "Bahrain"
           ],
           "ids": [
            "Tomatoes"
           ],
           "legendgroup": "Tomatoes",
           "marker": {
            "color": "#EF553B",
            "size": [
             4106
            ],
            "sizemode": "area",
            "sizeref": 8.498842975206612,
            "symbol": "circle"
           },
           "mode": "markers",
           "name": "Tomatoes",
           "orientation": "v",
           "showlegend": true,
           "type": "scatter",
           "x": [
            4106
           ],
           "xaxis": "x",
           "y": [
            2013
           ],
           "yaxis": "y"
          },
          {
           "hovertemplate": "<b>%{hovertext}</b><br><br>item=Vegetables, fresh nes<br>year=%{y}<br>quantity=%{marker.size}<extra></extra>",
           "hovertext": [
            "Bahrain"
           ],
           "ids": [
            "Vegetables, fresh nes"
           ],
           "legendgroup": "Vegetables, fresh nes",
           "marker": {
            "color": "#00cc96",
            "size": [
             4609
            ],
            "sizemode": "area",
            "sizeref": 8.498842975206612,
            "symbol": "circle"
           },
           "mode": "markers",
           "name": "Vegetables, fresh nes",
           "orientation": "v",
           "showlegend": true,
           "type": "scatter",
           "x": [
            4609
           ],
           "xaxis": "x",
           "y": [
            2013
           ],
           "yaxis": "y"
          },
          {
           "hovertemplate": "<b>%{hovertext}</b><br><br>item=Watermelons<br>year=%{y}<br>quantity=%{marker.size}<extra></extra>",
           "hovertext": [
            "Bahrain"
           ],
           "ids": [
            "Watermelons"
           ],
           "legendgroup": "Watermelons",
           "marker": {
            "color": "#ab63fa",
            "size": [
             220
            ],
            "sizemode": "area",
            "sizeref": 8.498842975206612,
            "symbol": "circle"
           },
           "mode": "markers",
           "name": "Watermelons",
           "orientation": "v",
           "showlegend": true,
           "type": "scatter",
           "x": [
            220
           ],
           "xaxis": "x",
           "y": [
            2013
           ],
           "yaxis": "y"
          },
          {
           "hovertemplate": "<b>%{hovertext}</b><br><br>item=Citrus Fruit, Total<br>year=%{y}<br>quantity=%{marker.size}<extra></extra>",
           "hovertext": [
            "Bahrain"
           ],
           "ids": [
            "Citrus Fruit, Total"
           ],
           "legendgroup": "Citrus Fruit, Total",
           "marker": {
            "color": "#FFA15A",
            "size": [
             1062
            ],
            "sizemode": "area",
            "sizeref": 8.498842975206612,
            "symbol": "circle"
           },
           "mode": "markers",
           "name": "Citrus Fruit, Total",
           "orientation": "v",
           "showlegend": true,
           "type": "scatter",
           "x": [
            1062
           ],
           "xaxis": "x",
           "y": [
            2013
           ],
           "yaxis": "y"
          },
          {
           "hovertemplate": "<b>%{hovertext}</b><br><br>item=Fruit Primary<br>year=%{y}<br>quantity=%{marker.size}<extra></extra>",
           "hovertext": [
            "Bahrain"
           ],
           "ids": [
            "Fruit Primary"
           ],
           "legendgroup": "Fruit Primary",
           "marker": {
            "color": "#19d3f3",
            "size": [
             19702
            ],
            "sizemode": "area",
            "sizeref": 8.498842975206612,
            "symbol": "circle"
           },
           "mode": "markers",
           "name": "Fruit Primary",
           "orientation": "v",
           "showlegend": true,
           "type": "scatter",
           "x": [
            19702
           ],
           "xaxis": "x",
           "y": [
            2013
           ],
           "yaxis": "y"
          },
          {
           "hovertemplate": "<b>%{hovertext}</b><br><br>item=Pulses, Total<br>year=%{y}<br>quantity=%{marker.size}<extra></extra>",
           "hovertext": [
            "Bahrain"
           ],
           "ids": [
            "Pulses, Total"
           ],
           "legendgroup": "Pulses, Total",
           "marker": {
            "color": "#FF6692",
            "size": [
             235
            ],
            "sizemode": "area",
            "sizeref": 8.498842975206612,
            "symbol": "circle"
           },
           "mode": "markers",
           "name": "Pulses, Total",
           "orientation": "v",
           "showlegend": true,
           "type": "scatter",
           "x": [
            235
           ],
           "xaxis": "x",
           "y": [
            2013
           ],
           "yaxis": "y"
          },
          {
           "hovertemplate": "<b>%{hovertext}</b><br><br>item=Roots and Tubers, Total<br>year=%{y}<br>quantity=%{marker.size}<extra></extra>",
           "hovertext": [
            "Bahrain"
           ],
           "ids": [
            "Roots and Tubers, Total"
           ],
           "legendgroup": "Roots and Tubers, Total",
           "marker": {
            "color": "#B6E880",
            "size": [
             37
            ],
            "sizemode": "area",
            "sizeref": 8.498842975206612,
            "symbol": "circle"
           },
           "mode": "markers",
           "name": "Roots and Tubers, Total",
           "orientation": "v",
           "showlegend": true,
           "type": "scatter",
           "x": [
            37
           ],
           "xaxis": "x",
           "y": [
            2013
           ],
           "yaxis": "y"
          },
          {
           "hovertemplate": "<b>%{hovertext}</b><br><br>item=Treenuts, Total<br>year=%{y}<br>quantity=%{marker.size}<extra></extra>",
           "hovertext": [
            "Bahrain"
           ],
           "ids": [
            "Treenuts, Total"
           ],
           "legendgroup": "Treenuts, Total",
           "marker": {
            "color": "#FF97FF",
            "size": [
             350
            ],
            "sizemode": "area",
            "sizeref": 8.498842975206612,
            "symbol": "circle"
           },
           "mode": "markers",
           "name": "Treenuts, Total",
           "orientation": "v",
           "showlegend": true,
           "type": "scatter",
           "x": [
            350
           ],
           "xaxis": "x",
           "y": [
            2013
           ],
           "yaxis": "y"
          },
          {
           "hovertemplate": "<b>%{hovertext}</b><br><br>item=Vegetables Primary<br>year=%{y}<br>quantity=%{marker.size}<extra></extra>",
           "hovertext": [
            "Bahrain"
           ],
           "ids": [
            "Vegetables Primary"
           ],
           "legendgroup": "Vegetables Primary",
           "marker": {
            "color": "#FECB52",
            "size": [
             14961
            ],
            "sizemode": "area",
            "sizeref": 8.498842975206612,
            "symbol": "circle"
           },
           "mode": "markers",
           "name": "Vegetables Primary",
           "orientation": "v",
           "showlegend": true,
           "type": "scatter",
           "x": [
            14961
           ],
           "xaxis": "x",
           "y": [
            2013
           ],
           "yaxis": "y"
          }
         ],
         "name": "2013"
        },
        {
         "data": [
          {
           "hovertemplate": "<b>%{hovertext}</b><br><br>item=Bananas<br>year=%{y}<br>quantity=%{marker.size}<extra></extra>",
           "hovertext": [
            "Bahrain"
           ],
           "ids": [
            "Bananas"
           ],
           "legendgroup": "Bananas",
           "marker": {
            "color": "#636efa",
            "size": [
             969
            ],
            "sizemode": "area",
            "sizeref": 8.498842975206612,
            "symbol": "circle"
           },
           "mode": "markers",
           "name": "Bananas",
           "orientation": "v",
           "showlegend": true,
           "type": "scatter",
           "x": [
            969
           ],
           "xaxis": "x",
           "y": [
            2014
           ],
           "yaxis": "y"
          },
          {
           "hovertemplate": "<b>%{hovertext}</b><br><br>item=Cabbages and other brassicas<br>year=%{y}<br>quantity=%{marker.size}<extra></extra>",
           "hovertext": [
            "Bahrain"
           ],
           "ids": [
            "Cabbages and other brassicas"
           ],
           "legendgroup": "Cabbages and other brassicas",
           "marker": {
            "color": "#EF553B",
            "size": [
             770
            ],
            "sizemode": "area",
            "sizeref": 8.498842975206612,
            "symbol": "circle"
           },
           "mode": "markers",
           "name": "Cabbages and other brassicas",
           "orientation": "v",
           "showlegend": true,
           "type": "scatter",
           "x": [
            770
           ],
           "xaxis": "x",
           "y": [
            2014
           ],
           "yaxis": "y"
          },
          {
           "hovertemplate": "<b>%{hovertext}</b><br><br>item=Carrots and turnips<br>year=%{y}<br>quantity=%{marker.size}<extra></extra>",
           "hovertext": [
            "Bahrain"
           ],
           "ids": [
            "Carrots and turnips"
           ],
           "legendgroup": "Carrots and turnips",
           "marker": {
            "color": "#00cc96",
            "size": [
             307
            ],
            "sizemode": "area",
            "sizeref": 8.498842975206612,
            "symbol": "circle"
           },
           "mode": "markers",
           "name": "Carrots and turnips",
           "orientation": "v",
           "showlegend": true,
           "type": "scatter",
           "x": [
            307
           ],
           "xaxis": "x",
           "y": [
            2014
           ],
           "yaxis": "y"
          },
          {
           "hovertemplate": "<b>%{hovertext}</b><br><br>item=Cauliflowers and broccoli<br>year=%{y}<br>quantity=%{marker.size}<extra></extra>",
           "hovertext": [
            "Bahrain"
           ],
           "ids": [
            "Cauliflowers and broccoli"
           ],
           "legendgroup": "Cauliflowers and broccoli",
           "marker": {
            "color": "#ab63fa",
            "size": [
             599
            ],
            "sizemode": "area",
            "sizeref": 8.498842975206612,
            "symbol": "circle"
           },
           "mode": "markers",
           "name": "Cauliflowers and broccoli",
           "orientation": "v",
           "showlegend": true,
           "type": "scatter",
           "x": [
            599
           ],
           "xaxis": "x",
           "y": [
            2014
           ],
           "yaxis": "y"
          },
          {
           "hovertemplate": "<b>%{hovertext}</b><br><br>item=Chick peas<br>year=%{y}<br>quantity=%{marker.size}<extra></extra>",
           "hovertext": [
            "Bahrain"
           ],
           "ids": [
            "Chick peas"
           ],
           "legendgroup": "Chick peas",
           "marker": {
            "color": "#FFA15A",
            "size": [
             0
            ],
            "sizemode": "area",
            "sizeref": 8.498842975206612,
            "symbol": "circle"
           },
           "mode": "markers",
           "name": "Chick peas",
           "orientation": "v",
           "showlegend": true,
           "type": "scatter",
           "x": [
            0
           ],
           "xaxis": "x",
           "y": [
            2014
           ],
           "yaxis": "y"
          },
          {
           "hovertemplate": "<b>%{hovertext}</b><br><br>item=Chillies and peppers, green<br>year=%{y}<br>quantity=%{marker.size}<extra></extra>",
           "hovertext": [
            "Bahrain"
           ],
           "ids": [
            "Chillies and peppers, green"
           ],
           "legendgroup": "Chillies and peppers, green",
           "marker": {
            "color": "#19d3f3",
            "size": [
             213
            ],
            "sizemode": "area",
            "sizeref": 8.498842975206612,
            "symbol": "circle"
           },
           "mode": "markers",
           "name": "Chillies and peppers, green",
           "orientation": "v",
           "showlegend": true,
           "type": "scatter",
           "x": [
            213
           ],
           "xaxis": "x",
           "y": [
            2014
           ],
           "yaxis": "y"
          },
          {
           "hovertemplate": "<b>%{hovertext}</b><br><br>item=Cucumbers and gherkins<br>year=%{y}<br>quantity=%{marker.size}<extra></extra>",
           "hovertext": [
            "Bahrain"
           ],
           "ids": [
            "Cucumbers and gherkins"
           ],
           "legendgroup": "Cucumbers and gherkins",
           "marker": {
            "color": "#FF6692",
            "size": [
             794
            ],
            "sizemode": "area",
            "sizeref": 8.498842975206612,
            "symbol": "circle"
           },
           "mode": "markers",
           "name": "Cucumbers and gherkins",
           "orientation": "v",
           "showlegend": true,
           "type": "scatter",
           "x": [
            794
           ],
           "xaxis": "x",
           "y": [
            2014
           ],
           "yaxis": "y"
          },
          {
           "hovertemplate": "<b>%{hovertext}</b><br><br>item=Dates<br>year=%{y}<br>quantity=%{marker.size}<extra></extra>",
           "hovertext": [
            "Bahrain"
           ],
           "ids": [
            "Dates"
           ],
           "legendgroup": "Dates",
           "marker": {
            "color": "#B6E880",
            "size": [
             13473
            ],
            "sizemode": "area",
            "sizeref": 8.498842975206612,
            "symbol": "circle"
           },
           "mode": "markers",
           "name": "Dates",
           "orientation": "v",
           "showlegend": true,
           "type": "scatter",
           "x": [
            13473
           ],
           "xaxis": "x",
           "y": [
            2014
           ],
           "yaxis": "y"
          },
          {
           "hovertemplate": "<b>%{hovertext}</b><br><br>item=Eggplants (aubergines)<br>year=%{y}<br>quantity=%{marker.size}<extra></extra>",
           "hovertext": [
            "Bahrain"
           ],
           "ids": [
            "Eggplants (aubergines)"
           ],
           "legendgroup": "Eggplants (aubergines)",
           "marker": {
            "color": "#FF97FF",
            "size": [
             1237
            ],
            "sizemode": "area",
            "sizeref": 8.498842975206612,
            "symbol": "circle"
           },
           "mode": "markers",
           "name": "Eggplants (aubergines)",
           "orientation": "v",
           "showlegend": true,
           "type": "scatter",
           "x": [
            1237
           ],
           "xaxis": "x",
           "y": [
            2014
           ],
           "yaxis": "y"
          },
          {
           "hovertemplate": "<b>%{hovertext}</b><br><br>item=Fruit, fresh nes<br>year=%{y}<br>quantity=%{marker.size}<extra></extra>",
           "hovertext": [
            "Bahrain"
           ],
           "ids": [
            "Fruit, fresh nes"
           ],
           "legendgroup": "Fruit, fresh nes",
           "marker": {
            "color": "#FECB52",
            "size": [
             5214
            ],
            "sizemode": "area",
            "sizeref": 8.498842975206612,
            "symbol": "circle"
           },
           "mode": "markers",
           "name": "Fruit, fresh nes",
           "orientation": "v",
           "showlegend": true,
           "type": "scatter",
           "x": [
            5214
           ],
           "xaxis": "x",
           "y": [
            2014
           ],
           "yaxis": "y"
          },
          {
           "hovertemplate": "<b>%{hovertext}</b><br><br>item=Grapes<br>year=%{y}<br>quantity=%{marker.size}<extra></extra>",
           "hovertext": [
            "Bahrain"
           ],
           "ids": [
            "Grapes"
           ],
           "legendgroup": "Grapes",
           "marker": {
            "color": "#636efa",
            "size": [
             147
            ],
            "sizemode": "area",
            "sizeref": 8.498842975206612,
            "symbol": "circle"
           },
           "mode": "markers",
           "name": "Grapes",
           "orientation": "v",
           "showlegend": true,
           "type": "scatter",
           "x": [
            147
           ],
           "xaxis": "x",
           "y": [
            2014
           ],
           "yaxis": "y"
          },
          {
           "hovertemplate": "<b>%{hovertext}</b><br><br>item=Lemons and limes<br>year=%{y}<br>quantity=%{marker.size}<extra></extra>",
           "hovertext": [
            "Bahrain"
           ],
           "ids": [
            "Lemons and limes"
           ],
           "legendgroup": "Lemons and limes",
           "marker": {
            "color": "#EF553B",
            "size": [
             1062
            ],
            "sizemode": "area",
            "sizeref": 8.498842975206612,
            "symbol": "circle"
           },
           "mode": "markers",
           "name": "Lemons and limes",
           "orientation": "v",
           "showlegend": true,
           "type": "scatter",
           "x": [
            1062
           ],
           "xaxis": "x",
           "y": [
            2014
           ],
           "yaxis": "y"
          },
          {
           "hovertemplate": "<b>%{hovertext}</b><br><br>item=Lettuce and chicory<br>year=%{y}<br>quantity=%{marker.size}<extra></extra>",
           "hovertext": [
            "Bahrain"
           ],
           "ids": [
            "Lettuce and chicory"
           ],
           "legendgroup": "Lettuce and chicory",
           "marker": {
            "color": "#00cc96",
            "size": [
             799
            ],
            "sizemode": "area",
            "sizeref": 8.498842975206612,
            "symbol": "circle"
           },
           "mode": "markers",
           "name": "Lettuce and chicory",
           "orientation": "v",
           "showlegend": true,
           "type": "scatter",
           "x": [
            799
           ],
           "xaxis": "x",
           "y": [
            2014
           ],
           "yaxis": "y"
          },
          {
           "hovertemplate": "<b>%{hovertext}</b><br><br>item=Melons, other (inc.cantaloupes)<br>year=%{y}<br>quantity=%{marker.size}<extra></extra>",
           "hovertext": [
            "Bahrain"
           ],
           "ids": [
            "Melons, other (inc.cantaloupes)"
           ],
           "legendgroup": "Melons, other (inc.cantaloupes)",
           "marker": {
            "color": "#ab63fa",
            "size": [
             600
            ],
            "sizemode": "area",
            "sizeref": 8.498842975206612,
            "symbol": "circle"
           },
           "mode": "markers",
           "name": "Melons, other (inc.cantaloupes)",
           "orientation": "v",
           "showlegend": true,
           "type": "scatter",
           "x": [
            600
           ],
           "xaxis": "x",
           "y": [
            2014
           ],
           "yaxis": "y"
          },
          {
           "hovertemplate": "<b>%{hovertext}</b><br><br>item=Nuts nes<br>year=%{y}<br>quantity=%{marker.size}<extra></extra>",
           "hovertext": [
            "Bahrain"
           ],
           "ids": [
            "Nuts nes"
           ],
           "legendgroup": "Nuts nes",
           "marker": {
            "color": "#FFA15A",
            "size": [
             350
            ],
            "sizemode": "area",
            "sizeref": 8.498842975206612,
            "symbol": "circle"
           },
           "mode": "markers",
           "name": "Nuts nes",
           "orientation": "v",
           "showlegend": true,
           "type": "scatter",
           "x": [
            350
           ],
           "xaxis": "x",
           "y": [
            2014
           ],
           "yaxis": "y"
          },
          {
           "hovertemplate": "<b>%{hovertext}</b><br><br>item=Okra<br>year=%{y}<br>quantity=%{marker.size}<extra></extra>",
           "hovertext": [
            "Bahrain"
           ],
           "ids": [
            "Okra"
           ],
           "legendgroup": "Okra",
           "marker": {
            "color": "#19d3f3",
            "size": [
             549
            ],
            "sizemode": "area",
            "sizeref": 8.498842975206612,
            "symbol": "circle"
           },
           "mode": "markers",
           "name": "Okra",
           "orientation": "v",
           "showlegend": true,
           "type": "scatter",
           "x": [
            549
           ],
           "xaxis": "x",
           "y": [
            2014
           ],
           "yaxis": "y"
          },
          {
           "hovertemplate": "<b>%{hovertext}</b><br><br>item=Onions, dry<br>year=%{y}<br>quantity=%{marker.size}<extra></extra>",
           "hovertext": [
            "Bahrain"
           ],
           "ids": [
            "Onions, dry"
           ],
           "legendgroup": "Onions, dry",
           "marker": {
            "color": "#FF6692",
            "size": [
             463
            ],
            "sizemode": "area",
            "sizeref": 8.498842975206612,
            "symbol": "circle"
           },
           "mode": "markers",
           "name": "Onions, dry",
           "orientation": "v",
           "showlegend": true,
           "type": "scatter",
           "x": [
            463
           ],
           "xaxis": "x",
           "y": [
            2014
           ],
           "yaxis": "y"
          },
          {
           "hovertemplate": "<b>%{hovertext}</b><br><br>item=Potatoes<br>year=%{y}<br>quantity=%{marker.size}<extra></extra>",
           "hovertext": [
            "Bahrain"
           ],
           "ids": [
            "Potatoes"
           ],
           "legendgroup": "Potatoes",
           "marker": {
            "color": "#B6E880",
            "size": [
             37
            ],
            "sizemode": "area",
            "sizeref": 8.498842975206612,
            "symbol": "circle"
           },
           "mode": "markers",
           "name": "Potatoes",
           "orientation": "v",
           "showlegend": true,
           "type": "scatter",
           "x": [
            37
           ],
           "xaxis": "x",
           "y": [
            2014
           ],
           "yaxis": "y"
          },
          {
           "hovertemplate": "<b>%{hovertext}</b><br><br>item=Pulses nes<br>year=%{y}<br>quantity=%{marker.size}<extra></extra>",
           "hovertext": [
            "Bahrain"
           ],
           "ids": [
            "Pulses nes"
           ],
           "legendgroup": "Pulses nes",
           "marker": {
            "color": "#FF97FF",
            "size": [
             10
            ],
            "sizemode": "area",
            "sizeref": 8.498842975206612,
            "symbol": "circle"
           },
           "mode": "markers",
           "name": "Pulses nes",
           "orientation": "v",
           "showlegend": true,
           "type": "scatter",
           "x": [
            10
           ],
           "xaxis": "x",
           "y": [
            2014
           ],
           "yaxis": "y"
          },
          {
           "hovertemplate": "<b>%{hovertext}</b><br><br>item=Pumpkins, squash and gourds<br>year=%{y}<br>quantity=%{marker.size}<extra></extra>",
           "hovertext": [
            "Bahrain"
           ],
           "ids": [
            "Pumpkins, squash and gourds"
           ],
           "legendgroup": "Pumpkins, squash and gourds",
           "marker": {
            "color": "#FECB52",
            "size": [
             856
            ],
            "sizemode": "area",
            "sizeref": 8.498842975206612,
            "symbol": "circle"
           },
           "mode": "markers",
           "name": "Pumpkins, squash and gourds",
           "orientation": "v",
           "showlegend": true,
           "type": "scatter",
           "x": [
            856
           ],
           "xaxis": "x",
           "y": [
            2014
           ],
           "yaxis": "y"
          },
          {
           "hovertemplate": "<b>%{hovertext}</b><br><br>item=Sweet potatoes<br>year=%{y}<br>quantity=%{marker.size}<extra></extra>",
           "hovertext": [
            "Bahrain"
           ],
           "ids": [
            "Sweet potatoes"
           ],
           "legendgroup": "Sweet potatoes",
           "marker": {
            "color": "#636efa",
            "size": [
             0
            ],
            "sizemode": "area",
            "sizeref": 8.498842975206612,
            "symbol": "circle"
           },
           "mode": "markers",
           "name": "Sweet potatoes",
           "orientation": "v",
           "showlegend": true,
           "type": "scatter",
           "x": [
            0
           ],
           "xaxis": "x",
           "y": [
            2014
           ],
           "yaxis": "y"
          },
          {
           "hovertemplate": "<b>%{hovertext}</b><br><br>item=Tomatoes<br>year=%{y}<br>quantity=%{marker.size}<extra></extra>",
           "hovertext": [
            "Bahrain"
           ],
           "ids": [
            "Tomatoes"
           ],
           "legendgroup": "Tomatoes",
           "marker": {
            "color": "#EF553B",
            "size": [
             4551
            ],
            "sizemode": "area",
            "sizeref": 8.498842975206612,
            "symbol": "circle"
           },
           "mode": "markers",
           "name": "Tomatoes",
           "orientation": "v",
           "showlegend": true,
           "type": "scatter",
           "x": [
            4551
           ],
           "xaxis": "x",
           "y": [
            2014
           ],
           "yaxis": "y"
          },
          {
           "hovertemplate": "<b>%{hovertext}</b><br><br>item=Vegetables, fresh nes<br>year=%{y}<br>quantity=%{marker.size}<extra></extra>",
           "hovertext": [
            "Bahrain"
           ],
           "ids": [
            "Vegetables, fresh nes"
           ],
           "legendgroup": "Vegetables, fresh nes",
           "marker": {
            "color": "#00cc96",
            "size": [
             3996
            ],
            "sizemode": "area",
            "sizeref": 8.498842975206612,
            "symbol": "circle"
           },
           "mode": "markers",
           "name": "Vegetables, fresh nes",
           "orientation": "v",
           "showlegend": true,
           "type": "scatter",
           "x": [
            3996
           ],
           "xaxis": "x",
           "y": [
            2014
           ],
           "yaxis": "y"
          },
          {
           "hovertemplate": "<b>%{hovertext}</b><br><br>item=Watermelons<br>year=%{y}<br>quantity=%{marker.size}<extra></extra>",
           "hovertext": [
            "Bahrain"
           ],
           "ids": [
            "Watermelons"
           ],
           "legendgroup": "Watermelons",
           "marker": {
            "color": "#ab63fa",
            "size": [
             221
            ],
            "sizemode": "area",
            "sizeref": 8.498842975206612,
            "symbol": "circle"
           },
           "mode": "markers",
           "name": "Watermelons",
           "orientation": "v",
           "showlegend": true,
           "type": "scatter",
           "x": [
            221
           ],
           "xaxis": "x",
           "y": [
            2014
           ],
           "yaxis": "y"
          },
          {
           "hovertemplate": "<b>%{hovertext}</b><br><br>item=Citrus Fruit, Total<br>year=%{y}<br>quantity=%{marker.size}<extra></extra>",
           "hovertext": [
            "Bahrain"
           ],
           "ids": [
            "Citrus Fruit, Total"
           ],
           "legendgroup": "Citrus Fruit, Total",
           "marker": {
            "color": "#FFA15A",
            "size": [
             1062
            ],
            "sizemode": "area",
            "sizeref": 8.498842975206612,
            "symbol": "circle"
           },
           "mode": "markers",
           "name": "Citrus Fruit, Total",
           "orientation": "v",
           "showlegend": true,
           "type": "scatter",
           "x": [
            1062
           ],
           "xaxis": "x",
           "y": [
            2014
           ],
           "yaxis": "y"
          },
          {
           "hovertemplate": "<b>%{hovertext}</b><br><br>item=Fruit Primary<br>year=%{y}<br>quantity=%{marker.size}<extra></extra>",
           "hovertext": [
            "Bahrain"
           ],
           "ids": [
            "Fruit Primary"
           ],
           "legendgroup": "Fruit Primary",
           "marker": {
            "color": "#19d3f3",
            "size": [
             21686
            ],
            "sizemode": "area",
            "sizeref": 8.498842975206612,
            "symbol": "circle"
           },
           "mode": "markers",
           "name": "Fruit Primary",
           "orientation": "v",
           "showlegend": true,
           "type": "scatter",
           "x": [
            21686
           ],
           "xaxis": "x",
           "y": [
            2014
           ],
           "yaxis": "y"
          },
          {
           "hovertemplate": "<b>%{hovertext}</b><br><br>item=Pulses, Total<br>year=%{y}<br>quantity=%{marker.size}<extra></extra>",
           "hovertext": [
            "Bahrain"
           ],
           "ids": [
            "Pulses, Total"
           ],
           "legendgroup": "Pulses, Total",
           "marker": {
            "color": "#FF6692",
            "size": [
             10
            ],
            "sizemode": "area",
            "sizeref": 8.498842975206612,
            "symbol": "circle"
           },
           "mode": "markers",
           "name": "Pulses, Total",
           "orientation": "v",
           "showlegend": true,
           "type": "scatter",
           "x": [
            10
           ],
           "xaxis": "x",
           "y": [
            2014
           ],
           "yaxis": "y"
          },
          {
           "hovertemplate": "<b>%{hovertext}</b><br><br>item=Roots and Tubers, Total<br>year=%{y}<br>quantity=%{marker.size}<extra></extra>",
           "hovertext": [
            "Bahrain"
           ],
           "ids": [
            "Roots and Tubers, Total"
           ],
           "legendgroup": "Roots and Tubers, Total",
           "marker": {
            "color": "#B6E880",
            "size": [
             37
            ],
            "sizemode": "area",
            "sizeref": 8.498842975206612,
            "symbol": "circle"
           },
           "mode": "markers",
           "name": "Roots and Tubers, Total",
           "orientation": "v",
           "showlegend": true,
           "type": "scatter",
           "x": [
            37
           ],
           "xaxis": "x",
           "y": [
            2014
           ],
           "yaxis": "y"
          },
          {
           "hovertemplate": "<b>%{hovertext}</b><br><br>item=Treenuts, Total<br>year=%{y}<br>quantity=%{marker.size}<extra></extra>",
           "hovertext": [
            "Bahrain"
           ],
           "ids": [
            "Treenuts, Total"
           ],
           "legendgroup": "Treenuts, Total",
           "marker": {
            "color": "#FF97FF",
            "size": [
             350
            ],
            "sizemode": "area",
            "sizeref": 8.498842975206612,
            "symbol": "circle"
           },
           "mode": "markers",
           "name": "Treenuts, Total",
           "orientation": "v",
           "showlegend": true,
           "type": "scatter",
           "x": [
            350
           ],
           "xaxis": "x",
           "y": [
            2014
           ],
           "yaxis": "y"
          },
          {
           "hovertemplate": "<b>%{hovertext}</b><br><br>item=Vegetables Primary<br>year=%{y}<br>quantity=%{marker.size}<extra></extra>",
           "hovertext": [
            "Bahrain"
           ],
           "ids": [
            "Vegetables Primary"
           ],
           "legendgroup": "Vegetables Primary",
           "marker": {
            "color": "#FECB52",
            "size": [
             15134
            ],
            "sizemode": "area",
            "sizeref": 8.498842975206612,
            "symbol": "circle"
           },
           "mode": "markers",
           "name": "Vegetables Primary",
           "orientation": "v",
           "showlegend": true,
           "type": "scatter",
           "x": [
            15134
           ],
           "xaxis": "x",
           "y": [
            2014
           ],
           "yaxis": "y"
          }
         ],
         "name": "2014"
        },
        {
         "data": [
          {
           "hovertemplate": "<b>%{hovertext}</b><br><br>item=Bananas<br>year=%{y}<br>quantity=%{marker.size}<extra></extra>",
           "hovertext": [
            "Bahrain"
           ],
           "ids": [
            "Bananas"
           ],
           "legendgroup": "Bananas",
           "marker": {
            "color": "#636efa",
            "size": [
             1010
            ],
            "sizemode": "area",
            "sizeref": 8.498842975206612,
            "symbol": "circle"
           },
           "mode": "markers",
           "name": "Bananas",
           "orientation": "v",
           "showlegend": true,
           "type": "scatter",
           "x": [
            1010
           ],
           "xaxis": "x",
           "y": [
            2015
           ],
           "yaxis": "y"
          },
          {
           "hovertemplate": "<b>%{hovertext}</b><br><br>item=Cabbages and other brassicas<br>year=%{y}<br>quantity=%{marker.size}<extra></extra>",
           "hovertext": [
            "Bahrain"
           ],
           "ids": [
            "Cabbages and other brassicas"
           ],
           "legendgroup": "Cabbages and other brassicas",
           "marker": {
            "color": "#EF553B",
            "size": [
             746
            ],
            "sizemode": "area",
            "sizeref": 8.498842975206612,
            "symbol": "circle"
           },
           "mode": "markers",
           "name": "Cabbages and other brassicas",
           "orientation": "v",
           "showlegend": true,
           "type": "scatter",
           "x": [
            746
           ],
           "xaxis": "x",
           "y": [
            2015
           ],
           "yaxis": "y"
          },
          {
           "hovertemplate": "<b>%{hovertext}</b><br><br>item=Carrots and turnips<br>year=%{y}<br>quantity=%{marker.size}<extra></extra>",
           "hovertext": [
            "Bahrain"
           ],
           "ids": [
            "Carrots and turnips"
           ],
           "legendgroup": "Carrots and turnips",
           "marker": {
            "color": "#00cc96",
            "size": [
             187
            ],
            "sizemode": "area",
            "sizeref": 8.498842975206612,
            "symbol": "circle"
           },
           "mode": "markers",
           "name": "Carrots and turnips",
           "orientation": "v",
           "showlegend": true,
           "type": "scatter",
           "x": [
            187
           ],
           "xaxis": "x",
           "y": [
            2015
           ],
           "yaxis": "y"
          },
          {
           "hovertemplate": "<b>%{hovertext}</b><br><br>item=Cauliflowers and broccoli<br>year=%{y}<br>quantity=%{marker.size}<extra></extra>",
           "hovertext": [
            "Bahrain"
           ],
           "ids": [
            "Cauliflowers and broccoli"
           ],
           "legendgroup": "Cauliflowers and broccoli",
           "marker": {
            "color": "#ab63fa",
            "size": [
             738
            ],
            "sizemode": "area",
            "sizeref": 8.498842975206612,
            "symbol": "circle"
           },
           "mode": "markers",
           "name": "Cauliflowers and broccoli",
           "orientation": "v",
           "showlegend": true,
           "type": "scatter",
           "x": [
            738
           ],
           "xaxis": "x",
           "y": [
            2015
           ],
           "yaxis": "y"
          },
          {
           "hovertemplate": "<b>%{hovertext}</b><br><br>item=Chick peas<br>year=%{y}<br>quantity=%{marker.size}<extra></extra>",
           "hovertext": [
            "Bahrain"
           ],
           "ids": [
            "Chick peas"
           ],
           "legendgroup": "Chick peas",
           "marker": {
            "color": "#FFA15A",
            "size": [
             0
            ],
            "sizemode": "area",
            "sizeref": 8.498842975206612,
            "symbol": "circle"
           },
           "mode": "markers",
           "name": "Chick peas",
           "orientation": "v",
           "showlegend": true,
           "type": "scatter",
           "x": [
            0
           ],
           "xaxis": "x",
           "y": [
            2015
           ],
           "yaxis": "y"
          },
          {
           "hovertemplate": "<b>%{hovertext}</b><br><br>item=Chillies and peppers, green<br>year=%{y}<br>quantity=%{marker.size}<extra></extra>",
           "hovertext": [
            "Bahrain"
           ],
           "ids": [
            "Chillies and peppers, green"
           ],
           "legendgroup": "Chillies and peppers, green",
           "marker": {
            "color": "#19d3f3",
            "size": [
             470
            ],
            "sizemode": "area",
            "sizeref": 8.498842975206612,
            "symbol": "circle"
           },
           "mode": "markers",
           "name": "Chillies and peppers, green",
           "orientation": "v",
           "showlegend": true,
           "type": "scatter",
           "x": [
            470
           ],
           "xaxis": "x",
           "y": [
            2015
           ],
           "yaxis": "y"
          },
          {
           "hovertemplate": "<b>%{hovertext}</b><br><br>item=Cucumbers and gherkins<br>year=%{y}<br>quantity=%{marker.size}<extra></extra>",
           "hovertext": [
            "Bahrain"
           ],
           "ids": [
            "Cucumbers and gherkins"
           ],
           "legendgroup": "Cucumbers and gherkins",
           "marker": {
            "color": "#FF6692",
            "size": [
             1523
            ],
            "sizemode": "area",
            "sizeref": 8.498842975206612,
            "symbol": "circle"
           },
           "mode": "markers",
           "name": "Cucumbers and gherkins",
           "orientation": "v",
           "showlegend": true,
           "type": "scatter",
           "x": [
            1523
           ],
           "xaxis": "x",
           "y": [
            2015
           ],
           "yaxis": "y"
          },
          {
           "hovertemplate": "<b>%{hovertext}</b><br><br>item=Dates<br>year=%{y}<br>quantity=%{marker.size}<extra></extra>",
           "hovertext": [
            "Bahrain"
           ],
           "ids": [
            "Dates"
           ],
           "legendgroup": "Dates",
           "marker": {
            "color": "#B6E880",
            "size": [
             14646
            ],
            "sizemode": "area",
            "sizeref": 8.498842975206612,
            "symbol": "circle"
           },
           "mode": "markers",
           "name": "Dates",
           "orientation": "v",
           "showlegend": true,
           "type": "scatter",
           "x": [
            14646
           ],
           "xaxis": "x",
           "y": [
            2015
           ],
           "yaxis": "y"
          },
          {
           "hovertemplate": "<b>%{hovertext}</b><br><br>item=Eggplants (aubergines)<br>year=%{y}<br>quantity=%{marker.size}<extra></extra>",
           "hovertext": [
            "Bahrain"
           ],
           "ids": [
            "Eggplants (aubergines)"
           ],
           "legendgroup": "Eggplants (aubergines)",
           "marker": {
            "color": "#FF97FF",
            "size": [
             1227
            ],
            "sizemode": "area",
            "sizeref": 8.498842975206612,
            "symbol": "circle"
           },
           "mode": "markers",
           "name": "Eggplants (aubergines)",
           "orientation": "v",
           "showlegend": true,
           "type": "scatter",
           "x": [
            1227
           ],
           "xaxis": "x",
           "y": [
            2015
           ],
           "yaxis": "y"
          },
          {
           "hovertemplate": "<b>%{hovertext}</b><br><br>item=Fruit, fresh nes<br>year=%{y}<br>quantity=%{marker.size}<extra></extra>",
           "hovertext": [
            "Bahrain"
           ],
           "ids": [
            "Fruit, fresh nes"
           ],
           "legendgroup": "Fruit, fresh nes",
           "marker": {
            "color": "#FECB52",
            "size": [
             5322
            ],
            "sizemode": "area",
            "sizeref": 8.498842975206612,
            "symbol": "circle"
           },
           "mode": "markers",
           "name": "Fruit, fresh nes",
           "orientation": "v",
           "showlegend": true,
           "type": "scatter",
           "x": [
            5322
           ],
           "xaxis": "x",
           "y": [
            2015
           ],
           "yaxis": "y"
          },
          {
           "hovertemplate": "<b>%{hovertext}</b><br><br>item=Grapes<br>year=%{y}<br>quantity=%{marker.size}<extra></extra>",
           "hovertext": [
            "Bahrain"
           ],
           "ids": [
            "Grapes"
           ],
           "legendgroup": "Grapes",
           "marker": {
            "color": "#636efa",
            "size": [
             149
            ],
            "sizemode": "area",
            "sizeref": 8.498842975206612,
            "symbol": "circle"
           },
           "mode": "markers",
           "name": "Grapes",
           "orientation": "v",
           "showlegend": true,
           "type": "scatter",
           "x": [
            149
           ],
           "xaxis": "x",
           "y": [
            2015
           ],
           "yaxis": "y"
          },
          {
           "hovertemplate": "<b>%{hovertext}</b><br><br>item=Lemons and limes<br>year=%{y}<br>quantity=%{marker.size}<extra></extra>",
           "hovertext": [
            "Bahrain"
           ],
           "ids": [
            "Lemons and limes"
           ],
           "legendgroup": "Lemons and limes",
           "marker": {
            "color": "#EF553B",
            "size": [
             1073
            ],
            "sizemode": "area",
            "sizeref": 8.498842975206612,
            "symbol": "circle"
           },
           "mode": "markers",
           "name": "Lemons and limes",
           "orientation": "v",
           "showlegend": true,
           "type": "scatter",
           "x": [
            1073
           ],
           "xaxis": "x",
           "y": [
            2015
           ],
           "yaxis": "y"
          },
          {
           "hovertemplate": "<b>%{hovertext}</b><br><br>item=Lettuce and chicory<br>year=%{y}<br>quantity=%{marker.size}<extra></extra>",
           "hovertext": [
            "Bahrain"
           ],
           "ids": [
            "Lettuce and chicory"
           ],
           "legendgroup": "Lettuce and chicory",
           "marker": {
            "color": "#00cc96",
            "size": [
             809
            ],
            "sizemode": "area",
            "sizeref": 8.498842975206612,
            "symbol": "circle"
           },
           "mode": "markers",
           "name": "Lettuce and chicory",
           "orientation": "v",
           "showlegend": true,
           "type": "scatter",
           "x": [
            809
           ],
           "xaxis": "x",
           "y": [
            2015
           ],
           "yaxis": "y"
          },
          {
           "hovertemplate": "<b>%{hovertext}</b><br><br>item=Melons, other (inc.cantaloupes)<br>year=%{y}<br>quantity=%{marker.size}<extra></extra>",
           "hovertext": [
            "Bahrain"
           ],
           "ids": [
            "Melons, other (inc.cantaloupes)"
           ],
           "legendgroup": "Melons, other (inc.cantaloupes)",
           "marker": {
            "color": "#ab63fa",
            "size": [
             570
            ],
            "sizemode": "area",
            "sizeref": 8.498842975206612,
            "symbol": "circle"
           },
           "mode": "markers",
           "name": "Melons, other (inc.cantaloupes)",
           "orientation": "v",
           "showlegend": true,
           "type": "scatter",
           "x": [
            570
           ],
           "xaxis": "x",
           "y": [
            2015
           ],
           "yaxis": "y"
          },
          {
           "hovertemplate": "<b>%{hovertext}</b><br><br>item=Nuts nes<br>year=%{y}<br>quantity=%{marker.size}<extra></extra>",
           "hovertext": [
            "Bahrain"
           ],
           "ids": [
            "Nuts nes"
           ],
           "legendgroup": "Nuts nes",
           "marker": {
            "color": "#FFA15A",
            "size": [
             351
            ],
            "sizemode": "area",
            "sizeref": 8.498842975206612,
            "symbol": "circle"
           },
           "mode": "markers",
           "name": "Nuts nes",
           "orientation": "v",
           "showlegend": true,
           "type": "scatter",
           "x": [
            351
           ],
           "xaxis": "x",
           "y": [
            2015
           ],
           "yaxis": "y"
          },
          {
           "hovertemplate": "<b>%{hovertext}</b><br><br>item=Okra<br>year=%{y}<br>quantity=%{marker.size}<extra></extra>",
           "hovertext": [
            "Bahrain"
           ],
           "ids": [
            "Okra"
           ],
           "legendgroup": "Okra",
           "marker": {
            "color": "#19d3f3",
            "size": [
             449
            ],
            "sizemode": "area",
            "sizeref": 8.498842975206612,
            "symbol": "circle"
           },
           "mode": "markers",
           "name": "Okra",
           "orientation": "v",
           "showlegend": true,
           "type": "scatter",
           "x": [
            449
           ],
           "xaxis": "x",
           "y": [
            2015
           ],
           "yaxis": "y"
          },
          {
           "hovertemplate": "<b>%{hovertext}</b><br><br>item=Onions, dry<br>year=%{y}<br>quantity=%{marker.size}<extra></extra>",
           "hovertext": [
            "Bahrain"
           ],
           "ids": [
            "Onions, dry"
           ],
           "legendgroup": "Onions, dry",
           "marker": {
            "color": "#FF6692",
            "size": [
             372
            ],
            "sizemode": "area",
            "sizeref": 8.498842975206612,
            "symbol": "circle"
           },
           "mode": "markers",
           "name": "Onions, dry",
           "orientation": "v",
           "showlegend": true,
           "type": "scatter",
           "x": [
            372
           ],
           "xaxis": "x",
           "y": [
            2015
           ],
           "yaxis": "y"
          },
          {
           "hovertemplate": "<b>%{hovertext}</b><br><br>item=Potatoes<br>year=%{y}<br>quantity=%{marker.size}<extra></extra>",
           "hovertext": [
            "Bahrain"
           ],
           "ids": [
            "Potatoes"
           ],
           "legendgroup": "Potatoes",
           "marker": {
            "color": "#B6E880",
            "size": [
             44
            ],
            "sizemode": "area",
            "sizeref": 8.498842975206612,
            "symbol": "circle"
           },
           "mode": "markers",
           "name": "Potatoes",
           "orientation": "v",
           "showlegend": true,
           "type": "scatter",
           "x": [
            44
           ],
           "xaxis": "x",
           "y": [
            2015
           ],
           "yaxis": "y"
          },
          {
           "hovertemplate": "<b>%{hovertext}</b><br><br>item=Pulses nes<br>year=%{y}<br>quantity=%{marker.size}<extra></extra>",
           "hovertext": [
            "Bahrain"
           ],
           "ids": [
            "Pulses nes"
           ],
           "legendgroup": "Pulses nes",
           "marker": {
            "color": "#FF97FF",
            "size": [
             8
            ],
            "sizemode": "area",
            "sizeref": 8.498842975206612,
            "symbol": "circle"
           },
           "mode": "markers",
           "name": "Pulses nes",
           "orientation": "v",
           "showlegend": true,
           "type": "scatter",
           "x": [
            8
           ],
           "xaxis": "x",
           "y": [
            2015
           ],
           "yaxis": "y"
          },
          {
           "hovertemplate": "<b>%{hovertext}</b><br><br>item=Pumpkins, squash and gourds<br>year=%{y}<br>quantity=%{marker.size}<extra></extra>",
           "hovertext": [
            "Bahrain"
           ],
           "ids": [
            "Pumpkins, squash and gourds"
           ],
           "legendgroup": "Pumpkins, squash and gourds",
           "marker": {
            "color": "#FECB52",
            "size": [
             1485
            ],
            "sizemode": "area",
            "sizeref": 8.498842975206612,
            "symbol": "circle"
           },
           "mode": "markers",
           "name": "Pumpkins, squash and gourds",
           "orientation": "v",
           "showlegend": true,
           "type": "scatter",
           "x": [
            1485
           ],
           "xaxis": "x",
           "y": [
            2015
           ],
           "yaxis": "y"
          },
          {
           "hovertemplate": "<b>%{hovertext}</b><br><br>item=Sweet potatoes<br>year=%{y}<br>quantity=%{marker.size}<extra></extra>",
           "hovertext": [
            "Bahrain"
           ],
           "ids": [
            "Sweet potatoes"
           ],
           "legendgroup": "Sweet potatoes",
           "marker": {
            "color": "#636efa",
            "size": [
             0
            ],
            "sizemode": "area",
            "sizeref": 8.498842975206612,
            "symbol": "circle"
           },
           "mode": "markers",
           "name": "Sweet potatoes",
           "orientation": "v",
           "showlegend": true,
           "type": "scatter",
           "x": [
            0
           ],
           "xaxis": "x",
           "y": [
            2015
           ],
           "yaxis": "y"
          },
          {
           "hovertemplate": "<b>%{hovertext}</b><br><br>item=Tomatoes<br>year=%{y}<br>quantity=%{marker.size}<extra></extra>",
           "hovertext": [
            "Bahrain"
           ],
           "ids": [
            "Tomatoes"
           ],
           "legendgroup": "Tomatoes",
           "marker": {
            "color": "#EF553B",
            "size": [
             5142
            ],
            "sizemode": "area",
            "sizeref": 8.498842975206612,
            "symbol": "circle"
           },
           "mode": "markers",
           "name": "Tomatoes",
           "orientation": "v",
           "showlegend": true,
           "type": "scatter",
           "x": [
            5142
           ],
           "xaxis": "x",
           "y": [
            2015
           ],
           "yaxis": "y"
          },
          {
           "hovertemplate": "<b>%{hovertext}</b><br><br>item=Vegetables, fresh nes<br>year=%{y}<br>quantity=%{marker.size}<extra></extra>",
           "hovertext": [
            "Bahrain"
           ],
           "ids": [
            "Vegetables, fresh nes"
           ],
           "legendgroup": "Vegetables, fresh nes",
           "marker": {
            "color": "#00cc96",
            "size": [
             2449
            ],
            "sizemode": "area",
            "sizeref": 8.498842975206612,
            "symbol": "circle"
           },
           "mode": "markers",
           "name": "Vegetables, fresh nes",
           "orientation": "v",
           "showlegend": true,
           "type": "scatter",
           "x": [
            2449
           ],
           "xaxis": "x",
           "y": [
            2015
           ],
           "yaxis": "y"
          },
          {
           "hovertemplate": "<b>%{hovertext}</b><br><br>item=Watermelons<br>year=%{y}<br>quantity=%{marker.size}<extra></extra>",
           "hovertext": [
            "Bahrain"
           ],
           "ids": [
            "Watermelons"
           ],
           "legendgroup": "Watermelons",
           "marker": {
            "color": "#ab63fa",
            "size": [
             217
            ],
            "sizemode": "area",
            "sizeref": 8.498842975206612,
            "symbol": "circle"
           },
           "mode": "markers",
           "name": "Watermelons",
           "orientation": "v",
           "showlegend": true,
           "type": "scatter",
           "x": [
            217
           ],
           "xaxis": "x",
           "y": [
            2015
           ],
           "yaxis": "y"
          },
          {
           "hovertemplate": "<b>%{hovertext}</b><br><br>item=Citrus Fruit, Total<br>year=%{y}<br>quantity=%{marker.size}<extra></extra>",
           "hovertext": [
            "Bahrain"
           ],
           "ids": [
            "Citrus Fruit, Total"
           ],
           "legendgroup": "Citrus Fruit, Total",
           "marker": {
            "color": "#FFA15A",
            "size": [
             1073
            ],
            "sizemode": "area",
            "sizeref": 8.498842975206612,
            "symbol": "circle"
           },
           "mode": "markers",
           "name": "Citrus Fruit, Total",
           "orientation": "v",
           "showlegend": true,
           "type": "scatter",
           "x": [
            1073
           ],
           "xaxis": "x",
           "y": [
            2015
           ],
           "yaxis": "y"
          },
          {
           "hovertemplate": "<b>%{hovertext}</b><br><br>item=Fruit Primary<br>year=%{y}<br>quantity=%{marker.size}<extra></extra>",
           "hovertext": [
            "Bahrain"
           ],
           "ids": [
            "Fruit Primary"
           ],
           "legendgroup": "Fruit Primary",
           "marker": {
            "color": "#19d3f3",
            "size": [
             22987
            ],
            "sizemode": "area",
            "sizeref": 8.498842975206612,
            "symbol": "circle"
           },
           "mode": "markers",
           "name": "Fruit Primary",
           "orientation": "v",
           "showlegend": true,
           "type": "scatter",
           "x": [
            22987
           ],
           "xaxis": "x",
           "y": [
            2015
           ],
           "yaxis": "y"
          },
          {
           "hovertemplate": "<b>%{hovertext}</b><br><br>item=Pulses, Total<br>year=%{y}<br>quantity=%{marker.size}<extra></extra>",
           "hovertext": [
            "Bahrain"
           ],
           "ids": [
            "Pulses, Total"
           ],
           "legendgroup": "Pulses, Total",
           "marker": {
            "color": "#FF6692",
            "size": [
             8
            ],
            "sizemode": "area",
            "sizeref": 8.498842975206612,
            "symbol": "circle"
           },
           "mode": "markers",
           "name": "Pulses, Total",
           "orientation": "v",
           "showlegend": true,
           "type": "scatter",
           "x": [
            8
           ],
           "xaxis": "x",
           "y": [
            2015
           ],
           "yaxis": "y"
          },
          {
           "hovertemplate": "<b>%{hovertext}</b><br><br>item=Roots and Tubers, Total<br>year=%{y}<br>quantity=%{marker.size}<extra></extra>",
           "hovertext": [
            "Bahrain"
           ],
           "ids": [
            "Roots and Tubers, Total"
           ],
           "legendgroup": "Roots and Tubers, Total",
           "marker": {
            "color": "#B6E880",
            "size": [
             44
            ],
            "sizemode": "area",
            "sizeref": 8.498842975206612,
            "symbol": "circle"
           },
           "mode": "markers",
           "name": "Roots and Tubers, Total",
           "orientation": "v",
           "showlegend": true,
           "type": "scatter",
           "x": [
            44
           ],
           "xaxis": "x",
           "y": [
            2015
           ],
           "yaxis": "y"
          },
          {
           "hovertemplate": "<b>%{hovertext}</b><br><br>item=Treenuts, Total<br>year=%{y}<br>quantity=%{marker.size}<extra></extra>",
           "hovertext": [
            "Bahrain"
           ],
           "ids": [
            "Treenuts, Total"
           ],
           "legendgroup": "Treenuts, Total",
           "marker": {
            "color": "#FF97FF",
            "size": [
             351
            ],
            "sizemode": "area",
            "sizeref": 8.498842975206612,
            "symbol": "circle"
           },
           "mode": "markers",
           "name": "Treenuts, Total",
           "orientation": "v",
           "showlegend": true,
           "type": "scatter",
           "x": [
            351
           ],
           "xaxis": "x",
           "y": [
            2015
           ],
           "yaxis": "y"
          },
          {
           "hovertemplate": "<b>%{hovertext}</b><br><br>item=Vegetables Primary<br>year=%{y}<br>quantity=%{marker.size}<extra></extra>",
           "hovertext": [
            "Bahrain"
           ],
           "ids": [
            "Vegetables Primary"
           ],
           "legendgroup": "Vegetables Primary",
           "marker": {
            "color": "#FECB52",
            "size": [
             15597
            ],
            "sizemode": "area",
            "sizeref": 8.498842975206612,
            "symbol": "circle"
           },
           "mode": "markers",
           "name": "Vegetables Primary",
           "orientation": "v",
           "showlegend": true,
           "type": "scatter",
           "x": [
            15597
           ],
           "xaxis": "x",
           "y": [
            2015
           ],
           "yaxis": "y"
          }
         ],
         "name": "2015"
        },
        {
         "data": [
          {
           "hovertemplate": "<b>%{hovertext}</b><br><br>item=Bananas<br>year=%{y}<br>quantity=%{marker.size}<extra></extra>",
           "hovertext": [
            "Bahrain"
           ],
           "ids": [
            "Bananas"
           ],
           "legendgroup": "Bananas",
           "marker": {
            "color": "#636efa",
            "size": [
             1020
            ],
            "sizemode": "area",
            "sizeref": 8.498842975206612,
            "symbol": "circle"
           },
           "mode": "markers",
           "name": "Bananas",
           "orientation": "v",
           "showlegend": true,
           "type": "scatter",
           "x": [
            1020
           ],
           "xaxis": "x",
           "y": [
            2016
           ],
           "yaxis": "y"
          },
          {
           "hovertemplate": "<b>%{hovertext}</b><br><br>item=Cabbages and other brassicas<br>year=%{y}<br>quantity=%{marker.size}<extra></extra>",
           "hovertext": [
            "Bahrain"
           ],
           "ids": [
            "Cabbages and other brassicas"
           ],
           "legendgroup": "Cabbages and other brassicas",
           "marker": {
            "color": "#EF553B",
            "size": [
             711
            ],
            "sizemode": "area",
            "sizeref": 8.498842975206612,
            "symbol": "circle"
           },
           "mode": "markers",
           "name": "Cabbages and other brassicas",
           "orientation": "v",
           "showlegend": true,
           "type": "scatter",
           "x": [
            711
           ],
           "xaxis": "x",
           "y": [
            2016
           ],
           "yaxis": "y"
          },
          {
           "hovertemplate": "<b>%{hovertext}</b><br><br>item=Carrots and turnips<br>year=%{y}<br>quantity=%{marker.size}<extra></extra>",
           "hovertext": [
            "Bahrain"
           ],
           "ids": [
            "Carrots and turnips"
           ],
           "legendgroup": "Carrots and turnips",
           "marker": {
            "color": "#00cc96",
            "size": [
             76
            ],
            "sizemode": "area",
            "sizeref": 8.498842975206612,
            "symbol": "circle"
           },
           "mode": "markers",
           "name": "Carrots and turnips",
           "orientation": "v",
           "showlegend": true,
           "type": "scatter",
           "x": [
            76
           ],
           "xaxis": "x",
           "y": [
            2016
           ],
           "yaxis": "y"
          },
          {
           "hovertemplate": "<b>%{hovertext}</b><br><br>item=Cauliflowers and broccoli<br>year=%{y}<br>quantity=%{marker.size}<extra></extra>",
           "hovertext": [
            "Bahrain"
           ],
           "ids": [
            "Cauliflowers and broccoli"
           ],
           "legendgroup": "Cauliflowers and broccoli",
           "marker": {
            "color": "#ab63fa",
            "size": [
             875
            ],
            "sizemode": "area",
            "sizeref": 8.498842975206612,
            "symbol": "circle"
           },
           "mode": "markers",
           "name": "Cauliflowers and broccoli",
           "orientation": "v",
           "showlegend": true,
           "type": "scatter",
           "x": [
            875
           ],
           "xaxis": "x",
           "y": [
            2016
           ],
           "yaxis": "y"
          },
          {
           "hovertemplate": "<b>%{hovertext}</b><br><br>item=Chick peas<br>year=%{y}<br>quantity=%{marker.size}<extra></extra>",
           "hovertext": [
            "Bahrain"
           ],
           "ids": [
            "Chick peas"
           ],
           "legendgroup": "Chick peas",
           "marker": {
            "color": "#FFA15A",
            "size": [
             0
            ],
            "sizemode": "area",
            "sizeref": 8.498842975206612,
            "symbol": "circle"
           },
           "mode": "markers",
           "name": "Chick peas",
           "orientation": "v",
           "showlegend": true,
           "type": "scatter",
           "x": [
            0
           ],
           "xaxis": "x",
           "y": [
            2016
           ],
           "yaxis": "y"
          },
          {
           "hovertemplate": "<b>%{hovertext}</b><br><br>item=Chillies and peppers, green<br>year=%{y}<br>quantity=%{marker.size}<extra></extra>",
           "hovertext": [
            "Bahrain"
           ],
           "ids": [
            "Chillies and peppers, green"
           ],
           "legendgroup": "Chillies and peppers, green",
           "marker": {
            "color": "#19d3f3",
            "size": [
             726
            ],
            "sizemode": "area",
            "sizeref": 8.498842975206612,
            "symbol": "circle"
           },
           "mode": "markers",
           "name": "Chillies and peppers, green",
           "orientation": "v",
           "showlegend": true,
           "type": "scatter",
           "x": [
            726
           ],
           "xaxis": "x",
           "y": [
            2016
           ],
           "yaxis": "y"
          },
          {
           "hovertemplate": "<b>%{hovertext}</b><br><br>item=Cucumbers and gherkins<br>year=%{y}<br>quantity=%{marker.size}<extra></extra>",
           "hovertext": [
            "Bahrain"
           ],
           "ids": [
            "Cucumbers and gherkins"
           ],
           "legendgroup": "Cucumbers and gherkins",
           "marker": {
            "color": "#FF6692",
            "size": [
             2256
            ],
            "sizemode": "area",
            "sizeref": 8.498842975206612,
            "symbol": "circle"
           },
           "mode": "markers",
           "name": "Cucumbers and gherkins",
           "orientation": "v",
           "showlegend": true,
           "type": "scatter",
           "x": [
            2256
           ],
           "xaxis": "x",
           "y": [
            2016
           ],
           "yaxis": "y"
          },
          {
           "hovertemplate": "<b>%{hovertext}</b><br><br>item=Dates<br>year=%{y}<br>quantity=%{marker.size}<extra></extra>",
           "hovertext": [
            "Bahrain"
           ],
           "ids": [
            "Dates"
           ],
           "legendgroup": "Dates",
           "marker": {
            "color": "#B6E880",
            "size": [
             17321
            ],
            "sizemode": "area",
            "sizeref": 8.498842975206612,
            "symbol": "circle"
           },
           "mode": "markers",
           "name": "Dates",
           "orientation": "v",
           "showlegend": true,
           "type": "scatter",
           "x": [
            17321
           ],
           "xaxis": "x",
           "y": [
            2016
           ],
           "yaxis": "y"
          },
          {
           "hovertemplate": "<b>%{hovertext}</b><br><br>item=Eggplants (aubergines)<br>year=%{y}<br>quantity=%{marker.size}<extra></extra>",
           "hovertext": [
            "Bahrain"
           ],
           "ids": [
            "Eggplants (aubergines)"
           ],
           "legendgroup": "Eggplants (aubergines)",
           "marker": {
            "color": "#FF97FF",
            "size": [
             1189
            ],
            "sizemode": "area",
            "sizeref": 8.498842975206612,
            "symbol": "circle"
           },
           "mode": "markers",
           "name": "Eggplants (aubergines)",
           "orientation": "v",
           "showlegend": true,
           "type": "scatter",
           "x": [
            1189
           ],
           "xaxis": "x",
           "y": [
            2016
           ],
           "yaxis": "y"
          },
          {
           "hovertemplate": "<b>%{hovertext}</b><br><br>item=Fruit, fresh nes<br>year=%{y}<br>quantity=%{marker.size}<extra></extra>",
           "hovertext": [
            "Bahrain"
           ],
           "ids": [
            "Fruit, fresh nes"
           ],
           "legendgroup": "Fruit, fresh nes",
           "marker": {
            "color": "#FECB52",
            "size": [
             5374
            ],
            "sizemode": "area",
            "sizeref": 8.498842975206612,
            "symbol": "circle"
           },
           "mode": "markers",
           "name": "Fruit, fresh nes",
           "orientation": "v",
           "showlegend": true,
           "type": "scatter",
           "x": [
            5374
           ],
           "xaxis": "x",
           "y": [
            2016
           ],
           "yaxis": "y"
          },
          {
           "hovertemplate": "<b>%{hovertext}</b><br><br>item=Grapes<br>year=%{y}<br>quantity=%{marker.size}<extra></extra>",
           "hovertext": [
            "Bahrain"
           ],
           "ids": [
            "Grapes"
           ],
           "legendgroup": "Grapes",
           "marker": {
            "color": "#636efa",
            "size": [
             150
            ],
            "sizemode": "area",
            "sizeref": 8.498842975206612,
            "symbol": "circle"
           },
           "mode": "markers",
           "name": "Grapes",
           "orientation": "v",
           "showlegend": true,
           "type": "scatter",
           "x": [
            150
           ],
           "xaxis": "x",
           "y": [
            2016
           ],
           "yaxis": "y"
          },
          {
           "hovertemplate": "<b>%{hovertext}</b><br><br>item=Lemons and limes<br>year=%{y}<br>quantity=%{marker.size}<extra></extra>",
           "hovertext": [
            "Bahrain"
           ],
           "ids": [
            "Lemons and limes"
           ],
           "legendgroup": "Lemons and limes",
           "marker": {
            "color": "#EF553B",
            "size": [
             1083
            ],
            "sizemode": "area",
            "sizeref": 8.498842975206612,
            "symbol": "circle"
           },
           "mode": "markers",
           "name": "Lemons and limes",
           "orientation": "v",
           "showlegend": true,
           "type": "scatter",
           "x": [
            1083
           ],
           "xaxis": "x",
           "y": [
            2016
           ],
           "yaxis": "y"
          },
          {
           "hovertemplate": "<b>%{hovertext}</b><br><br>item=Lettuce and chicory<br>year=%{y}<br>quantity=%{marker.size}<extra></extra>",
           "hovertext": [
            "Bahrain"
           ],
           "ids": [
            "Lettuce and chicory"
           ],
           "legendgroup": "Lettuce and chicory",
           "marker": {
            "color": "#00cc96",
            "size": [
             815
            ],
            "sizemode": "area",
            "sizeref": 8.498842975206612,
            "symbol": "circle"
           },
           "mode": "markers",
           "name": "Lettuce and chicory",
           "orientation": "v",
           "showlegend": true,
           "type": "scatter",
           "x": [
            815
           ],
           "xaxis": "x",
           "y": [
            2016
           ],
           "yaxis": "y"
          },
          {
           "hovertemplate": "<b>%{hovertext}</b><br><br>item=Melons, other (inc.cantaloupes)<br>year=%{y}<br>quantity=%{marker.size}<extra></extra>",
           "hovertext": [
            "Bahrain"
           ],
           "ids": [
            "Melons, other (inc.cantaloupes)"
           ],
           "legendgroup": "Melons, other (inc.cantaloupes)",
           "marker": {
            "color": "#ab63fa",
            "size": [
             530
            ],
            "sizemode": "area",
            "sizeref": 8.498842975206612,
            "symbol": "circle"
           },
           "mode": "markers",
           "name": "Melons, other (inc.cantaloupes)",
           "orientation": "v",
           "showlegend": true,
           "type": "scatter",
           "x": [
            530
           ],
           "xaxis": "x",
           "y": [
            2016
           ],
           "yaxis": "y"
          },
          {
           "hovertemplate": "<b>%{hovertext}</b><br><br>item=Nuts nes<br>year=%{y}<br>quantity=%{marker.size}<extra></extra>",
           "hovertext": [
            "Bahrain"
           ],
           "ids": [
            "Nuts nes"
           ],
           "legendgroup": "Nuts nes",
           "marker": {
            "color": "#FFA15A",
            "size": [
             350
            ],
            "sizemode": "area",
            "sizeref": 8.498842975206612,
            "symbol": "circle"
           },
           "mode": "markers",
           "name": "Nuts nes",
           "orientation": "v",
           "showlegend": true,
           "type": "scatter",
           "x": [
            350
           ],
           "xaxis": "x",
           "y": [
            2016
           ],
           "yaxis": "y"
          },
          {
           "hovertemplate": "<b>%{hovertext}</b><br><br>item=Okra<br>year=%{y}<br>quantity=%{marker.size}<extra></extra>",
           "hovertext": [
            "Bahrain"
           ],
           "ids": [
            "Okra"
           ],
           "legendgroup": "Okra",
           "marker": {
            "color": "#19d3f3",
            "size": [
             350
            ],
            "sizemode": "area",
            "sizeref": 8.498842975206612,
            "symbol": "circle"
           },
           "mode": "markers",
           "name": "Okra",
           "orientation": "v",
           "showlegend": true,
           "type": "scatter",
           "x": [
            350
           ],
           "xaxis": "x",
           "y": [
            2016
           ],
           "yaxis": "y"
          },
          {
           "hovertemplate": "<b>%{hovertext}</b><br><br>item=Onions, dry<br>year=%{y}<br>quantity=%{marker.size}<extra></extra>",
           "hovertext": [
            "Bahrain"
           ],
           "ids": [
            "Onions, dry"
           ],
           "legendgroup": "Onions, dry",
           "marker": {
            "color": "#FF6692",
            "size": [
             271
            ],
            "sizemode": "area",
            "sizeref": 8.498842975206612,
            "symbol": "circle"
           },
           "mode": "markers",
           "name": "Onions, dry",
           "orientation": "v",
           "showlegend": true,
           "type": "scatter",
           "x": [
            271
           ],
           "xaxis": "x",
           "y": [
            2016
           ],
           "yaxis": "y"
          },
          {
           "hovertemplate": "<b>%{hovertext}</b><br><br>item=Potatoes<br>year=%{y}<br>quantity=%{marker.size}<extra></extra>",
           "hovertext": [
            "Bahrain"
           ],
           "ids": [
            "Potatoes"
           ],
           "legendgroup": "Potatoes",
           "marker": {
            "color": "#B6E880",
            "size": [
             54
            ],
            "sizemode": "area",
            "sizeref": 8.498842975206612,
            "symbol": "circle"
           },
           "mode": "markers",
           "name": "Potatoes",
           "orientation": "v",
           "showlegend": true,
           "type": "scatter",
           "x": [
            54
           ],
           "xaxis": "x",
           "y": [
            2016
           ],
           "yaxis": "y"
          },
          {
           "hovertemplate": "<b>%{hovertext}</b><br><br>item=Pulses nes<br>year=%{y}<br>quantity=%{marker.size}<extra></extra>",
           "hovertext": [
            "Bahrain"
           ],
           "ids": [
            "Pulses nes"
           ],
           "legendgroup": "Pulses nes",
           "marker": {
            "color": "#FF97FF",
            "size": [
             7
            ],
            "sizemode": "area",
            "sizeref": 8.498842975206612,
            "symbol": "circle"
           },
           "mode": "markers",
           "name": "Pulses nes",
           "orientation": "v",
           "showlegend": true,
           "type": "scatter",
           "x": [
            7
           ],
           "xaxis": "x",
           "y": [
            2016
           ],
           "yaxis": "y"
          },
          {
           "hovertemplate": "<b>%{hovertext}</b><br><br>item=Pumpkins, squash and gourds<br>year=%{y}<br>quantity=%{marker.size}<extra></extra>",
           "hovertext": [
            "Bahrain"
           ],
           "ids": [
            "Pumpkins, squash and gourds"
           ],
           "legendgroup": "Pumpkins, squash and gourds",
           "marker": {
            "color": "#FECB52",
            "size": [
             2024
            ],
            "sizemode": "area",
            "sizeref": 8.498842975206612,
            "symbol": "circle"
           },
           "mode": "markers",
           "name": "Pumpkins, squash and gourds",
           "orientation": "v",
           "showlegend": true,
           "type": "scatter",
           "x": [
            2024
           ],
           "xaxis": "x",
           "y": [
            2016
           ],
           "yaxis": "y"
          },
          {
           "hovertemplate": "<b>%{hovertext}</b><br><br>item=Sweet potatoes<br>year=%{y}<br>quantity=%{marker.size}<extra></extra>",
           "hovertext": [
            "Bahrain"
           ],
           "ids": [
            "Sweet potatoes"
           ],
           "legendgroup": "Sweet potatoes",
           "marker": {
            "color": "#636efa",
            "size": [
             0
            ],
            "sizemode": "area",
            "sizeref": 8.498842975206612,
            "symbol": "circle"
           },
           "mode": "markers",
           "name": "Sweet potatoes",
           "orientation": "v",
           "showlegend": true,
           "type": "scatter",
           "x": [
            0
           ],
           "xaxis": "x",
           "y": [
            2016
           ],
           "yaxis": "y"
          },
          {
           "hovertemplate": "<b>%{hovertext}</b><br><br>item=Tomatoes<br>year=%{y}<br>quantity=%{marker.size}<extra></extra>",
           "hovertext": [
            "Bahrain"
           ],
           "ids": [
            "Tomatoes"
           ],
           "legendgroup": "Tomatoes",
           "marker": {
            "color": "#EF553B",
            "size": [
             5741
            ],
            "sizemode": "area",
            "sizeref": 8.498842975206612,
            "symbol": "circle"
           },
           "mode": "markers",
           "name": "Tomatoes",
           "orientation": "v",
           "showlegend": true,
           "type": "scatter",
           "x": [
            5741
           ],
           "xaxis": "x",
           "y": [
            2016
           ],
           "yaxis": "y"
          },
          {
           "hovertemplate": "<b>%{hovertext}</b><br><br>item=Vegetables, fresh nes<br>year=%{y}<br>quantity=%{marker.size}<extra></extra>",
           "hovertext": [
            "Bahrain"
           ],
           "ids": [
            "Vegetables, fresh nes"
           ],
           "legendgroup": "Vegetables, fresh nes",
           "marker": {
            "color": "#00cc96",
            "size": [
             954
            ],
            "sizemode": "area",
            "sizeref": 8.498842975206612,
            "symbol": "circle"
           },
           "mode": "markers",
           "name": "Vegetables, fresh nes",
           "orientation": "v",
           "showlegend": true,
           "type": "scatter",
           "x": [
            954
           ],
           "xaxis": "x",
           "y": [
            2016
           ],
           "yaxis": "y"
          },
          {
           "hovertemplate": "<b>%{hovertext}</b><br><br>item=Watermelons<br>year=%{y}<br>quantity=%{marker.size}<extra></extra>",
           "hovertext": [
            "Bahrain"
           ],
           "ids": [
            "Watermelons"
           ],
           "legendgroup": "Watermelons",
           "marker": {
            "color": "#ab63fa",
            "size": [
             231
            ],
            "sizemode": "area",
            "sizeref": 8.498842975206612,
            "symbol": "circle"
           },
           "mode": "markers",
           "name": "Watermelons",
           "orientation": "v",
           "showlegend": true,
           "type": "scatter",
           "x": [
            231
           ],
           "xaxis": "x",
           "y": [
            2016
           ],
           "yaxis": "y"
          },
          {
           "hovertemplate": "<b>%{hovertext}</b><br><br>item=Citrus Fruit, Total<br>year=%{y}<br>quantity=%{marker.size}<extra></extra>",
           "hovertext": [
            "Bahrain"
           ],
           "ids": [
            "Citrus Fruit, Total"
           ],
           "legendgroup": "Citrus Fruit, Total",
           "marker": {
            "color": "#FFA15A",
            "size": [
             1083
            ],
            "sizemode": "area",
            "sizeref": 8.498842975206612,
            "symbol": "circle"
           },
           "mode": "markers",
           "name": "Citrus Fruit, Total",
           "orientation": "v",
           "showlegend": true,
           "type": "scatter",
           "x": [
            1083
           ],
           "xaxis": "x",
           "y": [
            2016
           ],
           "yaxis": "y"
          },
          {
           "hovertemplate": "<b>%{hovertext}</b><br><br>item=Fruit Primary<br>year=%{y}<br>quantity=%{marker.size}<extra></extra>",
           "hovertext": [
            "Bahrain"
           ],
           "ids": [
            "Fruit Primary"
           ],
           "legendgroup": "Fruit Primary",
           "marker": {
            "color": "#19d3f3",
            "size": [
             25709
            ],
            "sizemode": "area",
            "sizeref": 8.498842975206612,
            "symbol": "circle"
           },
           "mode": "markers",
           "name": "Fruit Primary",
           "orientation": "v",
           "showlegend": true,
           "type": "scatter",
           "x": [
            25709
           ],
           "xaxis": "x",
           "y": [
            2016
           ],
           "yaxis": "y"
          },
          {
           "hovertemplate": "<b>%{hovertext}</b><br><br>item=Pulses, Total<br>year=%{y}<br>quantity=%{marker.size}<extra></extra>",
           "hovertext": [
            "Bahrain"
           ],
           "ids": [
            "Pulses, Total"
           ],
           "legendgroup": "Pulses, Total",
           "marker": {
            "color": "#FF6692",
            "size": [
             7
            ],
            "sizemode": "area",
            "sizeref": 8.498842975206612,
            "symbol": "circle"
           },
           "mode": "markers",
           "name": "Pulses, Total",
           "orientation": "v",
           "showlegend": true,
           "type": "scatter",
           "x": [
            7
           ],
           "xaxis": "x",
           "y": [
            2016
           ],
           "yaxis": "y"
          },
          {
           "hovertemplate": "<b>%{hovertext}</b><br><br>item=Roots and Tubers, Total<br>year=%{y}<br>quantity=%{marker.size}<extra></extra>",
           "hovertext": [
            "Bahrain"
           ],
           "ids": [
            "Roots and Tubers, Total"
           ],
           "legendgroup": "Roots and Tubers, Total",
           "marker": {
            "color": "#B6E880",
            "size": [
             54
            ],
            "sizemode": "area",
            "sizeref": 8.498842975206612,
            "symbol": "circle"
           },
           "mode": "markers",
           "name": "Roots and Tubers, Total",
           "orientation": "v",
           "showlegend": true,
           "type": "scatter",
           "x": [
            54
           ],
           "xaxis": "x",
           "y": [
            2016
           ],
           "yaxis": "y"
          },
          {
           "hovertemplate": "<b>%{hovertext}</b><br><br>item=Treenuts, Total<br>year=%{y}<br>quantity=%{marker.size}<extra></extra>",
           "hovertext": [
            "Bahrain"
           ],
           "ids": [
            "Treenuts, Total"
           ],
           "legendgroup": "Treenuts, Total",
           "marker": {
            "color": "#FF97FF",
            "size": [
             350
            ],
            "sizemode": "area",
            "sizeref": 8.498842975206612,
            "symbol": "circle"
           },
           "mode": "markers",
           "name": "Treenuts, Total",
           "orientation": "v",
           "showlegend": true,
           "type": "scatter",
           "x": [
            350
           ],
           "xaxis": "x",
           "y": [
            2016
           ],
           "yaxis": "y"
          },
          {
           "hovertemplate": "<b>%{hovertext}</b><br><br>item=Vegetables Primary<br>year=%{y}<br>quantity=%{marker.size}<extra></extra>",
           "hovertext": [
            "Bahrain"
           ],
           "ids": [
            "Vegetables Primary"
           ],
           "legendgroup": "Vegetables Primary",
           "marker": {
            "color": "#FECB52",
            "size": [
             15988
            ],
            "sizemode": "area",
            "sizeref": 8.498842975206612,
            "symbol": "circle"
           },
           "mode": "markers",
           "name": "Vegetables Primary",
           "orientation": "v",
           "showlegend": true,
           "type": "scatter",
           "x": [
            15988
           ],
           "xaxis": "x",
           "y": [
            2016
           ],
           "yaxis": "y"
          }
         ],
         "name": "2016"
        },
        {
         "data": [
          {
           "hovertemplate": "<b>%{hovertext}</b><br><br>item=Bananas<br>year=%{y}<br>quantity=%{marker.size}<extra></extra>",
           "hovertext": [
            "Bahrain"
           ],
           "ids": [
            "Bananas"
           ],
           "legendgroup": "Bananas",
           "marker": {
            "color": "#636efa",
            "size": [
             1030
            ],
            "sizemode": "area",
            "sizeref": 8.498842975206612,
            "symbol": "circle"
           },
           "mode": "markers",
           "name": "Bananas",
           "orientation": "v",
           "showlegend": true,
           "type": "scatter",
           "x": [
            1030
           ],
           "xaxis": "x",
           "y": [
            2017
           ],
           "yaxis": "y"
          },
          {
           "hovertemplate": "<b>%{hovertext}</b><br><br>item=Cabbages and other brassicas<br>year=%{y}<br>quantity=%{marker.size}<extra></extra>",
           "hovertext": [
            "Bahrain"
           ],
           "ids": [
            "Cabbages and other brassicas"
           ],
           "legendgroup": "Cabbages and other brassicas",
           "marker": {
            "color": "#EF553B",
            "size": [
             670
            ],
            "sizemode": "area",
            "sizeref": 8.498842975206612,
            "symbol": "circle"
           },
           "mode": "markers",
           "name": "Cabbages and other brassicas",
           "orientation": "v",
           "showlegend": true,
           "type": "scatter",
           "x": [
            670
           ],
           "xaxis": "x",
           "y": [
            2017
           ],
           "yaxis": "y"
          },
          {
           "hovertemplate": "<b>%{hovertext}</b><br><br>item=Carrots and turnips<br>year=%{y}<br>quantity=%{marker.size}<extra></extra>",
           "hovertext": [
            "Bahrain"
           ],
           "ids": [
            "Carrots and turnips"
           ],
           "legendgroup": "Carrots and turnips",
           "marker": {
            "color": "#00cc96",
            "size": [
             33
            ],
            "sizemode": "area",
            "sizeref": 8.498842975206612,
            "symbol": "circle"
           },
           "mode": "markers",
           "name": "Carrots and turnips",
           "orientation": "v",
           "showlegend": true,
           "type": "scatter",
           "x": [
            33
           ],
           "xaxis": "x",
           "y": [
            2017
           ],
           "yaxis": "y"
          },
          {
           "hovertemplate": "<b>%{hovertext}</b><br><br>item=Cauliflowers and broccoli<br>year=%{y}<br>quantity=%{marker.size}<extra></extra>",
           "hovertext": [
            "Bahrain"
           ],
           "ids": [
            "Cauliflowers and broccoli"
           ],
           "legendgroup": "Cauliflowers and broccoli",
           "marker": {
            "color": "#ab63fa",
            "size": [
             1050
            ],
            "sizemode": "area",
            "sizeref": 8.498842975206612,
            "symbol": "circle"
           },
           "mode": "markers",
           "name": "Cauliflowers and broccoli",
           "orientation": "v",
           "showlegend": true,
           "type": "scatter",
           "x": [
            1050
           ],
           "xaxis": "x",
           "y": [
            2017
           ],
           "yaxis": "y"
          },
          {
           "hovertemplate": "<b>%{hovertext}</b><br><br>item=Chick peas<br>year=%{y}<br>quantity=%{marker.size}<extra></extra>",
           "hovertext": [
            "Bahrain"
           ],
           "ids": [
            "Chick peas"
           ],
           "legendgroup": "Chick peas",
           "marker": {
            "color": "#FFA15A",
            "size": [
             0
            ],
            "sizemode": "area",
            "sizeref": 8.498842975206612,
            "symbol": "circle"
           },
           "mode": "markers",
           "name": "Chick peas",
           "orientation": "v",
           "showlegend": true,
           "type": "scatter",
           "x": [
            0
           ],
           "xaxis": "x",
           "y": [
            2017
           ],
           "yaxis": "y"
          },
          {
           "hovertemplate": "<b>%{hovertext}</b><br><br>item=Chillies and peppers, green<br>year=%{y}<br>quantity=%{marker.size}<extra></extra>",
           "hovertext": [
            "Bahrain"
           ],
           "ids": [
            "Chillies and peppers, green"
           ],
           "legendgroup": "Chillies and peppers, green",
           "marker": {
            "color": "#19d3f3",
            "size": [
             890
            ],
            "sizemode": "area",
            "sizeref": 8.498842975206612,
            "symbol": "circle"
           },
           "mode": "markers",
           "name": "Chillies and peppers, green",
           "orientation": "v",
           "showlegend": true,
           "type": "scatter",
           "x": [
            890
           ],
           "xaxis": "x",
           "y": [
            2017
           ],
           "yaxis": "y"
          },
          {
           "hovertemplate": "<b>%{hovertext}</b><br><br>item=Cucumbers and gherkins<br>year=%{y}<br>quantity=%{marker.size}<extra></extra>",
           "hovertext": [
            "Bahrain"
           ],
           "ids": [
            "Cucumbers and gherkins"
           ],
           "legendgroup": "Cucumbers and gherkins",
           "marker": {
            "color": "#FF6692",
            "size": [
             2640
            ],
            "sizemode": "area",
            "sizeref": 8.498842975206612,
            "symbol": "circle"
           },
           "mode": "markers",
           "name": "Cucumbers and gherkins",
           "orientation": "v",
           "showlegend": true,
           "type": "scatter",
           "x": [
            2640
           ],
           "xaxis": "x",
           "y": [
            2017
           ],
           "yaxis": "y"
          },
          {
           "hovertemplate": "<b>%{hovertext}</b><br><br>item=Dates<br>year=%{y}<br>quantity=%{marker.size}<extra></extra>",
           "hovertext": [
            "Bahrain"
           ],
           "ids": [
            "Dates"
           ],
           "legendgroup": "Dates",
           "marker": {
            "color": "#B6E880",
            "size": [
             12750
            ],
            "sizemode": "area",
            "sizeref": 8.498842975206612,
            "symbol": "circle"
           },
           "mode": "markers",
           "name": "Dates",
           "orientation": "v",
           "showlegend": true,
           "type": "scatter",
           "x": [
            12750
           ],
           "xaxis": "x",
           "y": [
            2017
           ],
           "yaxis": "y"
          },
          {
           "hovertemplate": "<b>%{hovertext}</b><br><br>item=Eggplants (aubergines)<br>year=%{y}<br>quantity=%{marker.size}<extra></extra>",
           "hovertext": [
            "Bahrain"
           ],
           "ids": [
            "Eggplants (aubergines)"
           ],
           "legendgroup": "Eggplants (aubergines)",
           "marker": {
            "color": "#FF97FF",
            "size": [
             1234
            ],
            "sizemode": "area",
            "sizeref": 8.498842975206612,
            "symbol": "circle"
           },
           "mode": "markers",
           "name": "Eggplants (aubergines)",
           "orientation": "v",
           "showlegend": true,
           "type": "scatter",
           "x": [
            1234
           ],
           "xaxis": "x",
           "y": [
            2017
           ],
           "yaxis": "y"
          },
          {
           "hovertemplate": "<b>%{hovertext}</b><br><br>item=Fruit, fresh nes<br>year=%{y}<br>quantity=%{marker.size}<extra></extra>",
           "hovertext": [
            "Bahrain"
           ],
           "ids": [
            "Fruit, fresh nes"
           ],
           "legendgroup": "Fruit, fresh nes",
           "marker": {
            "color": "#FECB52",
            "size": [
             5477
            ],
            "sizemode": "area",
            "sizeref": 8.498842975206612,
            "symbol": "circle"
           },
           "mode": "markers",
           "name": "Fruit, fresh nes",
           "orientation": "v",
           "showlegend": true,
           "type": "scatter",
           "x": [
            5477
           ],
           "xaxis": "x",
           "y": [
            2017
           ],
           "yaxis": "y"
          },
          {
           "hovertemplate": "<b>%{hovertext}</b><br><br>item=Grapes<br>year=%{y}<br>quantity=%{marker.size}<extra></extra>",
           "hovertext": [
            "Bahrain"
           ],
           "ids": [
            "Grapes"
           ],
           "legendgroup": "Grapes",
           "marker": {
            "color": "#636efa",
            "size": [
             150
            ],
            "sizemode": "area",
            "sizeref": 8.498842975206612,
            "symbol": "circle"
           },
           "mode": "markers",
           "name": "Grapes",
           "orientation": "v",
           "showlegend": true,
           "type": "scatter",
           "x": [
            150
           ],
           "xaxis": "x",
           "y": [
            2017
           ],
           "yaxis": "y"
          },
          {
           "hovertemplate": "<b>%{hovertext}</b><br><br>item=Lemons and limes<br>year=%{y}<br>quantity=%{marker.size}<extra></extra>",
           "hovertext": [
            "Bahrain"
           ],
           "ids": [
            "Lemons and limes"
           ],
           "legendgroup": "Lemons and limes",
           "marker": {
            "color": "#EF553B",
            "size": [
             1089
            ],
            "sizemode": "area",
            "sizeref": 8.498842975206612,
            "symbol": "circle"
           },
           "mode": "markers",
           "name": "Lemons and limes",
           "orientation": "v",
           "showlegend": true,
           "type": "scatter",
           "x": [
            1089
           ],
           "xaxis": "x",
           "y": [
            2017
           ],
           "yaxis": "y"
          },
          {
           "hovertemplate": "<b>%{hovertext}</b><br><br>item=Lettuce and chicory<br>year=%{y}<br>quantity=%{marker.size}<extra></extra>",
           "hovertext": [
            "Bahrain"
           ],
           "ids": [
            "Lettuce and chicory"
           ],
           "legendgroup": "Lettuce and chicory",
           "marker": {
            "color": "#00cc96",
            "size": [
             840
            ],
            "sizemode": "area",
            "sizeref": 8.498842975206612,
            "symbol": "circle"
           },
           "mode": "markers",
           "name": "Lettuce and chicory",
           "orientation": "v",
           "showlegend": true,
           "type": "scatter",
           "x": [
            840
           ],
           "xaxis": "x",
           "y": [
            2017
           ],
           "yaxis": "y"
          },
          {
           "hovertemplate": "<b>%{hovertext}</b><br><br>item=Melons, other (inc.cantaloupes)<br>year=%{y}<br>quantity=%{marker.size}<extra></extra>",
           "hovertext": [
            "Bahrain"
           ],
           "ids": [
            "Melons, other (inc.cantaloupes)"
           ],
           "legendgroup": "Melons, other (inc.cantaloupes)",
           "marker": {
            "color": "#ab63fa",
            "size": [
             860
            ],
            "sizemode": "area",
            "sizeref": 8.498842975206612,
            "symbol": "circle"
           },
           "mode": "markers",
           "name": "Melons, other (inc.cantaloupes)",
           "orientation": "v",
           "showlegend": true,
           "type": "scatter",
           "x": [
            860
           ],
           "xaxis": "x",
           "y": [
            2017
           ],
           "yaxis": "y"
          },
          {
           "hovertemplate": "<b>%{hovertext}</b><br><br>item=Nuts nes<br>year=%{y}<br>quantity=%{marker.size}<extra></extra>",
           "hovertext": [
            "Bahrain"
           ],
           "ids": [
            "Nuts nes"
           ],
           "legendgroup": "Nuts nes",
           "marker": {
            "color": "#FFA15A",
            "size": [
             350
            ],
            "sizemode": "area",
            "sizeref": 8.498842975206612,
            "symbol": "circle"
           },
           "mode": "markers",
           "name": "Nuts nes",
           "orientation": "v",
           "showlegend": true,
           "type": "scatter",
           "x": [
            350
           ],
           "xaxis": "x",
           "y": [
            2017
           ],
           "yaxis": "y"
          },
          {
           "hovertemplate": "<b>%{hovertext}</b><br><br>item=Okra<br>year=%{y}<br>quantity=%{marker.size}<extra></extra>",
           "hovertext": [
            "Bahrain"
           ],
           "ids": [
            "Okra"
           ],
           "legendgroup": "Okra",
           "marker": {
            "color": "#19d3f3",
            "size": [
             56
            ],
            "sizemode": "area",
            "sizeref": 8.498842975206612,
            "symbol": "circle"
           },
           "mode": "markers",
           "name": "Okra",
           "orientation": "v",
           "showlegend": true,
           "type": "scatter",
           "x": [
            56
           ],
           "xaxis": "x",
           "y": [
            2017
           ],
           "yaxis": "y"
          },
          {
           "hovertemplate": "<b>%{hovertext}</b><br><br>item=Onions, dry<br>year=%{y}<br>quantity=%{marker.size}<extra></extra>",
           "hovertext": [
            "Bahrain"
           ],
           "ids": [
            "Onions, dry"
           ],
           "legendgroup": "Onions, dry",
           "marker": {
            "color": "#FF6692",
            "size": [
             150
            ],
            "sizemode": "area",
            "sizeref": 8.498842975206612,
            "symbol": "circle"
           },
           "mode": "markers",
           "name": "Onions, dry",
           "orientation": "v",
           "showlegend": true,
           "type": "scatter",
           "x": [
            150
           ],
           "xaxis": "x",
           "y": [
            2017
           ],
           "yaxis": "y"
          },
          {
           "hovertemplate": "<b>%{hovertext}</b><br><br>item=Potatoes<br>year=%{y}<br>quantity=%{marker.size}<extra></extra>",
           "hovertext": [
            "Bahrain"
           ],
           "ids": [
            "Potatoes"
           ],
           "legendgroup": "Potatoes",
           "marker": {
            "color": "#B6E880",
            "size": [
             75
            ],
            "sizemode": "area",
            "sizeref": 8.498842975206612,
            "symbol": "circle"
           },
           "mode": "markers",
           "name": "Potatoes",
           "orientation": "v",
           "showlegend": true,
           "type": "scatter",
           "x": [
            75
           ],
           "xaxis": "x",
           "y": [
            2017
           ],
           "yaxis": "y"
          },
          {
           "hovertemplate": "<b>%{hovertext}</b><br><br>item=Pulses nes<br>year=%{y}<br>quantity=%{marker.size}<extra></extra>",
           "hovertext": [
            "Bahrain"
           ],
           "ids": [
            "Pulses nes"
           ],
           "legendgroup": "Pulses nes",
           "marker": {
            "color": "#FF97FF",
            "size": [
             6
            ],
            "sizemode": "area",
            "sizeref": 8.498842975206612,
            "symbol": "circle"
           },
           "mode": "markers",
           "name": "Pulses nes",
           "orientation": "v",
           "showlegend": true,
           "type": "scatter",
           "x": [
            6
           ],
           "xaxis": "x",
           "y": [
            2017
           ],
           "yaxis": "y"
          },
          {
           "hovertemplate": "<b>%{hovertext}</b><br><br>item=Pumpkins, squash and gourds<br>year=%{y}<br>quantity=%{marker.size}<extra></extra>",
           "hovertext": [
            "Bahrain"
           ],
           "ids": [
            "Pumpkins, squash and gourds"
           ],
           "legendgroup": "Pumpkins, squash and gourds",
           "marker": {
            "color": "#FECB52",
            "size": [
             2500
            ],
            "sizemode": "area",
            "sizeref": 8.498842975206612,
            "symbol": "circle"
           },
           "mode": "markers",
           "name": "Pumpkins, squash and gourds",
           "orientation": "v",
           "showlegend": true,
           "type": "scatter",
           "x": [
            2500
           ],
           "xaxis": "x",
           "y": [
            2017
           ],
           "yaxis": "y"
          },
          {
           "hovertemplate": "<b>%{hovertext}</b><br><br>item=Sweet potatoes<br>year=%{y}<br>quantity=%{marker.size}<extra></extra>",
           "hovertext": [
            "Bahrain"
           ],
           "ids": [
            "Sweet potatoes"
           ],
           "legendgroup": "Sweet potatoes",
           "marker": {
            "color": "#636efa",
            "size": [
             0
            ],
            "sizemode": "area",
            "sizeref": 8.498842975206612,
            "symbol": "circle"
           },
           "mode": "markers",
           "name": "Sweet potatoes",
           "orientation": "v",
           "showlegend": true,
           "type": "scatter",
           "x": [
            0
           ],
           "xaxis": "x",
           "y": [
            2017
           ],
           "yaxis": "y"
          },
          {
           "hovertemplate": "<b>%{hovertext}</b><br><br>item=Tomatoes<br>year=%{y}<br>quantity=%{marker.size}<extra></extra>",
           "hovertext": [
            "Bahrain"
           ],
           "ids": [
            "Tomatoes"
           ],
           "legendgroup": "Tomatoes",
           "marker": {
            "color": "#EF553B",
            "size": [
             6480
            ],
            "sizemode": "area",
            "sizeref": 8.498842975206612,
            "symbol": "circle"
           },
           "mode": "markers",
           "name": "Tomatoes",
           "orientation": "v",
           "showlegend": true,
           "type": "scatter",
           "x": [
            6480
           ],
           "xaxis": "x",
           "y": [
            2017
           ],
           "yaxis": "y"
          },
          {
           "hovertemplate": "<b>%{hovertext}</b><br><br>item=Vegetables, fresh nes<br>year=%{y}<br>quantity=%{marker.size}<extra></extra>",
           "hovertext": [
            "Bahrain"
           ],
           "ids": [
            "Vegetables, fresh nes"
           ],
           "legendgroup": "Vegetables, fresh nes",
           "marker": {
            "color": "#00cc96",
            "size": [
             300
            ],
            "sizemode": "area",
            "sizeref": 8.498842975206612,
            "symbol": "circle"
           },
           "mode": "markers",
           "name": "Vegetables, fresh nes",
           "orientation": "v",
           "showlegend": true,
           "type": "scatter",
           "x": [
            300
           ],
           "xaxis": "x",
           "y": [
            2017
           ],
           "yaxis": "y"
          },
          {
           "hovertemplate": "<b>%{hovertext}</b><br><br>item=Watermelons<br>year=%{y}<br>quantity=%{marker.size}<extra></extra>",
           "hovertext": [
            "Bahrain"
           ],
           "ids": [
            "Watermelons"
           ],
           "legendgroup": "Watermelons",
           "marker": {
            "color": "#ab63fa",
            "size": [
             238
            ],
            "sizemode": "area",
            "sizeref": 8.498842975206612,
            "symbol": "circle"
           },
           "mode": "markers",
           "name": "Watermelons",
           "orientation": "v",
           "showlegend": true,
           "type": "scatter",
           "x": [
            238
           ],
           "xaxis": "x",
           "y": [
            2017
           ],
           "yaxis": "y"
          },
          {
           "hovertemplate": "<b>%{hovertext}</b><br><br>item=Citrus Fruit, Total<br>year=%{y}<br>quantity=%{marker.size}<extra></extra>",
           "hovertext": [
            "Bahrain"
           ],
           "ids": [
            "Citrus Fruit, Total"
           ],
           "legendgroup": "Citrus Fruit, Total",
           "marker": {
            "color": "#FFA15A",
            "size": [
             1089
            ],
            "sizemode": "area",
            "sizeref": 8.498842975206612,
            "symbol": "circle"
           },
           "mode": "markers",
           "name": "Citrus Fruit, Total",
           "orientation": "v",
           "showlegend": true,
           "type": "scatter",
           "x": [
            1089
           ],
           "xaxis": "x",
           "y": [
            2017
           ],
           "yaxis": "y"
          },
          {
           "hovertemplate": "<b>%{hovertext}</b><br><br>item=Fruit Primary<br>year=%{y}<br>quantity=%{marker.size}<extra></extra>",
           "hovertext": [
            "Bahrain"
           ],
           "ids": [
            "Fruit Primary"
           ],
           "legendgroup": "Fruit Primary",
           "marker": {
            "color": "#19d3f3",
            "size": [
             21594
            ],
            "sizemode": "area",
            "sizeref": 8.498842975206612,
            "symbol": "circle"
           },
           "mode": "markers",
           "name": "Fruit Primary",
           "orientation": "v",
           "showlegend": true,
           "type": "scatter",
           "x": [
            21594
           ],
           "xaxis": "x",
           "y": [
            2017
           ],
           "yaxis": "y"
          },
          {
           "hovertemplate": "<b>%{hovertext}</b><br><br>item=Pulses, Total<br>year=%{y}<br>quantity=%{marker.size}<extra></extra>",
           "hovertext": [
            "Bahrain"
           ],
           "ids": [
            "Pulses, Total"
           ],
           "legendgroup": "Pulses, Total",
           "marker": {
            "color": "#FF6692",
            "size": [
             6
            ],
            "sizemode": "area",
            "sizeref": 8.498842975206612,
            "symbol": "circle"
           },
           "mode": "markers",
           "name": "Pulses, Total",
           "orientation": "v",
           "showlegend": true,
           "type": "scatter",
           "x": [
            6
           ],
           "xaxis": "x",
           "y": [
            2017
           ],
           "yaxis": "y"
          },
          {
           "hovertemplate": "<b>%{hovertext}</b><br><br>item=Roots and Tubers, Total<br>year=%{y}<br>quantity=%{marker.size}<extra></extra>",
           "hovertext": [
            "Bahrain"
           ],
           "ids": [
            "Roots and Tubers, Total"
           ],
           "legendgroup": "Roots and Tubers, Total",
           "marker": {
            "color": "#B6E880",
            "size": [
             75
            ],
            "sizemode": "area",
            "sizeref": 8.498842975206612,
            "symbol": "circle"
           },
           "mode": "markers",
           "name": "Roots and Tubers, Total",
           "orientation": "v",
           "showlegend": true,
           "type": "scatter",
           "x": [
            75
           ],
           "xaxis": "x",
           "y": [
            2017
           ],
           "yaxis": "y"
          },
          {
           "hovertemplate": "<b>%{hovertext}</b><br><br>item=Treenuts, Total<br>year=%{y}<br>quantity=%{marker.size}<extra></extra>",
           "hovertext": [
            "Bahrain"
           ],
           "ids": [
            "Treenuts, Total"
           ],
           "legendgroup": "Treenuts, Total",
           "marker": {
            "color": "#FF97FF",
            "size": [
             350
            ],
            "sizemode": "area",
            "sizeref": 8.498842975206612,
            "symbol": "circle"
           },
           "mode": "markers",
           "name": "Treenuts, Total",
           "orientation": "v",
           "showlegend": true,
           "type": "scatter",
           "x": [
            350
           ],
           "xaxis": "x",
           "y": [
            2017
           ],
           "yaxis": "y"
          },
          {
           "hovertemplate": "<b>%{hovertext}</b><br><br>item=Vegetables Primary<br>year=%{y}<br>quantity=%{marker.size}<extra></extra>",
           "hovertext": [
            "Bahrain"
           ],
           "ids": [
            "Vegetables Primary"
           ],
           "legendgroup": "Vegetables Primary",
           "marker": {
            "color": "#FECB52",
            "size": [
             16843
            ],
            "sizemode": "area",
            "sizeref": 8.498842975206612,
            "symbol": "circle"
           },
           "mode": "markers",
           "name": "Vegetables Primary",
           "orientation": "v",
           "showlegend": true,
           "type": "scatter",
           "x": [
            16843
           ],
           "xaxis": "x",
           "y": [
            2017
           ],
           "yaxis": "y"
          }
         ],
         "name": "2017"
        },
        {
         "data": [
          {
           "hovertemplate": "<b>%{hovertext}</b><br><br>item=Bananas<br>year=%{y}<br>quantity=%{marker.size}<extra></extra>",
           "hovertext": [
            "Bahrain"
           ],
           "ids": [
            "Bananas"
           ],
           "legendgroup": "Bananas",
           "marker": {
            "color": "#636efa",
            "size": [
             1041
            ],
            "sizemode": "area",
            "sizeref": 8.498842975206612,
            "symbol": "circle"
           },
           "mode": "markers",
           "name": "Bananas",
           "orientation": "v",
           "showlegend": true,
           "type": "scatter",
           "x": [
            1041
           ],
           "xaxis": "x",
           "y": [
            2018
           ],
           "yaxis": "y"
          },
          {
           "hovertemplate": "<b>%{hovertext}</b><br><br>item=Cabbages and other brassicas<br>year=%{y}<br>quantity=%{marker.size}<extra></extra>",
           "hovertext": [
            "Bahrain"
           ],
           "ids": [
            "Cabbages and other brassicas"
           ],
           "legendgroup": "Cabbages and other brassicas",
           "marker": {
            "color": "#EF553B",
            "size": [
             750
            ],
            "sizemode": "area",
            "sizeref": 8.498842975206612,
            "symbol": "circle"
           },
           "mode": "markers",
           "name": "Cabbages and other brassicas",
           "orientation": "v",
           "showlegend": true,
           "type": "scatter",
           "x": [
            750
           ],
           "xaxis": "x",
           "y": [
            2018
           ],
           "yaxis": "y"
          },
          {
           "hovertemplate": "<b>%{hovertext}</b><br><br>item=Carrots and turnips<br>year=%{y}<br>quantity=%{marker.size}<extra></extra>",
           "hovertext": [
            "Bahrain"
           ],
           "ids": [
            "Carrots and turnips"
           ],
           "legendgroup": "Carrots and turnips",
           "marker": {
            "color": "#00cc96",
            "size": [
             34
            ],
            "sizemode": "area",
            "sizeref": 8.498842975206612,
            "symbol": "circle"
           },
           "mode": "markers",
           "name": "Carrots and turnips",
           "orientation": "v",
           "showlegend": true,
           "type": "scatter",
           "x": [
            34
           ],
           "xaxis": "x",
           "y": [
            2018
           ],
           "yaxis": "y"
          },
          {
           "hovertemplate": "<b>%{hovertext}</b><br><br>item=Cauliflowers and broccoli<br>year=%{y}<br>quantity=%{marker.size}<extra></extra>",
           "hovertext": [
            "Bahrain"
           ],
           "ids": [
            "Cauliflowers and broccoli"
           ],
           "legendgroup": "Cauliflowers and broccoli",
           "marker": {
            "color": "#ab63fa",
            "size": [
             1120
            ],
            "sizemode": "area",
            "sizeref": 8.498842975206612,
            "symbol": "circle"
           },
           "mode": "markers",
           "name": "Cauliflowers and broccoli",
           "orientation": "v",
           "showlegend": true,
           "type": "scatter",
           "x": [
            1120
           ],
           "xaxis": "x",
           "y": [
            2018
           ],
           "yaxis": "y"
          },
          {
           "hovertemplate": "<b>%{hovertext}</b><br><br>item=Chick peas<br>year=%{y}<br>quantity=%{marker.size}<extra></extra>",
           "hovertext": [
            "Bahrain"
           ],
           "ids": [
            "Chick peas"
           ],
           "legendgroup": "Chick peas",
           "marker": {
            "color": "#FFA15A",
            "size": [
             0
            ],
            "sizemode": "area",
            "sizeref": 8.498842975206612,
            "symbol": "circle"
           },
           "mode": "markers",
           "name": "Chick peas",
           "orientation": "v",
           "showlegend": true,
           "type": "scatter",
           "x": [
            0
           ],
           "xaxis": "x",
           "y": [
            2018
           ],
           "yaxis": "y"
          },
          {
           "hovertemplate": "<b>%{hovertext}</b><br><br>item=Chillies and peppers, green<br>year=%{y}<br>quantity=%{marker.size}<extra></extra>",
           "hovertext": [
            "Bahrain"
           ],
           "ids": [
            "Chillies and peppers, green"
           ],
           "legendgroup": "Chillies and peppers, green",
           "marker": {
            "color": "#19d3f3",
            "size": [
             940
            ],
            "sizemode": "area",
            "sizeref": 8.498842975206612,
            "symbol": "circle"
           },
           "mode": "markers",
           "name": "Chillies and peppers, green",
           "orientation": "v",
           "showlegend": true,
           "type": "scatter",
           "x": [
            940
           ],
           "xaxis": "x",
           "y": [
            2018
           ],
           "yaxis": "y"
          },
          {
           "hovertemplate": "<b>%{hovertext}</b><br><br>item=Cucumbers and gherkins<br>year=%{y}<br>quantity=%{marker.size}<extra></extra>",
           "hovertext": [
            "Bahrain"
           ],
           "ids": [
            "Cucumbers and gherkins"
           ],
           "legendgroup": "Cucumbers and gherkins",
           "marker": {
            "color": "#FF6692",
            "size": [
             2651
            ],
            "sizemode": "area",
            "sizeref": 8.498842975206612,
            "symbol": "circle"
           },
           "mode": "markers",
           "name": "Cucumbers and gherkins",
           "orientation": "v",
           "showlegend": true,
           "type": "scatter",
           "x": [
            2651
           ],
           "xaxis": "x",
           "y": [
            2018
           ],
           "yaxis": "y"
          },
          {
           "hovertemplate": "<b>%{hovertext}</b><br><br>item=Dates<br>year=%{y}<br>quantity=%{marker.size}<extra></extra>",
           "hovertext": [
            "Bahrain"
           ],
           "ids": [
            "Dates"
           ],
           "legendgroup": "Dates",
           "marker": {
            "color": "#B6E880",
            "size": [
             12900
            ],
            "sizemode": "area",
            "sizeref": 8.498842975206612,
            "symbol": "circle"
           },
           "mode": "markers",
           "name": "Dates",
           "orientation": "v",
           "showlegend": true,
           "type": "scatter",
           "x": [
            12900
           ],
           "xaxis": "x",
           "y": [
            2018
           ],
           "yaxis": "y"
          },
          {
           "hovertemplate": "<b>%{hovertext}</b><br><br>item=Eggplants (aubergines)<br>year=%{y}<br>quantity=%{marker.size}<extra></extra>",
           "hovertext": [
            "Bahrain"
           ],
           "ids": [
            "Eggplants (aubergines)"
           ],
           "legendgroup": "Eggplants (aubergines)",
           "marker": {
            "color": "#FF97FF",
            "size": [
             1394
            ],
            "sizemode": "area",
            "sizeref": 8.498842975206612,
            "symbol": "circle"
           },
           "mode": "markers",
           "name": "Eggplants (aubergines)",
           "orientation": "v",
           "showlegend": true,
           "type": "scatter",
           "x": [
            1394
           ],
           "xaxis": "x",
           "y": [
            2018
           ],
           "yaxis": "y"
          },
          {
           "hovertemplate": "<b>%{hovertext}</b><br><br>item=Fruit, fresh nes<br>year=%{y}<br>quantity=%{marker.size}<extra></extra>",
           "hovertext": [
            "Bahrain"
           ],
           "ids": [
            "Fruit, fresh nes"
           ],
           "legendgroup": "Fruit, fresh nes",
           "marker": {
            "color": "#FECB52",
            "size": [
             5580
            ],
            "sizemode": "area",
            "sizeref": 8.498842975206612,
            "symbol": "circle"
           },
           "mode": "markers",
           "name": "Fruit, fresh nes",
           "orientation": "v",
           "showlegend": true,
           "type": "scatter",
           "x": [
            5580
           ],
           "xaxis": "x",
           "y": [
            2018
           ],
           "yaxis": "y"
          },
          {
           "hovertemplate": "<b>%{hovertext}</b><br><br>item=Grapes<br>year=%{y}<br>quantity=%{marker.size}<extra></extra>",
           "hovertext": [
            "Bahrain"
           ],
           "ids": [
            "Grapes"
           ],
           "legendgroup": "Grapes",
           "marker": {
            "color": "#636efa",
            "size": [
             151
            ],
            "sizemode": "area",
            "sizeref": 8.498842975206612,
            "symbol": "circle"
           },
           "mode": "markers",
           "name": "Grapes",
           "orientation": "v",
           "showlegend": true,
           "type": "scatter",
           "x": [
            151
           ],
           "xaxis": "x",
           "y": [
            2018
           ],
           "yaxis": "y"
          },
          {
           "hovertemplate": "<b>%{hovertext}</b><br><br>item=Lemons and limes<br>year=%{y}<br>quantity=%{marker.size}<extra></extra>",
           "hovertext": [
            "Bahrain"
           ],
           "ids": [
            "Lemons and limes"
           ],
           "legendgroup": "Lemons and limes",
           "marker": {
            "color": "#EF553B",
            "size": [
             1096
            ],
            "sizemode": "area",
            "sizeref": 8.498842975206612,
            "symbol": "circle"
           },
           "mode": "markers",
           "name": "Lemons and limes",
           "orientation": "v",
           "showlegend": true,
           "type": "scatter",
           "x": [
            1096
           ],
           "xaxis": "x",
           "y": [
            2018
           ],
           "yaxis": "y"
          },
          {
           "hovertemplate": "<b>%{hovertext}</b><br><br>item=Lettuce and chicory<br>year=%{y}<br>quantity=%{marker.size}<extra></extra>",
           "hovertext": [
            "Bahrain"
           ],
           "ids": [
            "Lettuce and chicory"
           ],
           "legendgroup": "Lettuce and chicory",
           "marker": {
            "color": "#00cc96",
            "size": [
             870
            ],
            "sizemode": "area",
            "sizeref": 8.498842975206612,
            "symbol": "circle"
           },
           "mode": "markers",
           "name": "Lettuce and chicory",
           "orientation": "v",
           "showlegend": true,
           "type": "scatter",
           "x": [
            870
           ],
           "xaxis": "x",
           "y": [
            2018
           ],
           "yaxis": "y"
          },
          {
           "hovertemplate": "<b>%{hovertext}</b><br><br>item=Melons, other (inc.cantaloupes)<br>year=%{y}<br>quantity=%{marker.size}<extra></extra>",
           "hovertext": [
            "Bahrain"
           ],
           "ids": [
            "Melons, other (inc.cantaloupes)"
           ],
           "legendgroup": "Melons, other (inc.cantaloupes)",
           "marker": {
            "color": "#ab63fa",
            "size": [
             853
            ],
            "sizemode": "area",
            "sizeref": 8.498842975206612,
            "symbol": "circle"
           },
           "mode": "markers",
           "name": "Melons, other (inc.cantaloupes)",
           "orientation": "v",
           "showlegend": true,
           "type": "scatter",
           "x": [
            853
           ],
           "xaxis": "x",
           "y": [
            2018
           ],
           "yaxis": "y"
          },
          {
           "hovertemplate": "<b>%{hovertext}</b><br><br>item=Nuts nes<br>year=%{y}<br>quantity=%{marker.size}<extra></extra>",
           "hovertext": [
            "Bahrain"
           ],
           "ids": [
            "Nuts nes"
           ],
           "legendgroup": "Nuts nes",
           "marker": {
            "color": "#FFA15A",
            "size": [
             351
            ],
            "sizemode": "area",
            "sizeref": 8.498842975206612,
            "symbol": "circle"
           },
           "mode": "markers",
           "name": "Nuts nes",
           "orientation": "v",
           "showlegend": true,
           "type": "scatter",
           "x": [
            351
           ],
           "xaxis": "x",
           "y": [
            2018
           ],
           "yaxis": "y"
          },
          {
           "hovertemplate": "<b>%{hovertext}</b><br><br>item=Okra<br>year=%{y}<br>quantity=%{marker.size}<extra></extra>",
           "hovertext": [
            "Bahrain"
           ],
           "ids": [
            "Okra"
           ],
           "legendgroup": "Okra",
           "marker": {
            "color": "#19d3f3",
            "size": [
             55
            ],
            "sizemode": "area",
            "sizeref": 8.498842975206612,
            "symbol": "circle"
           },
           "mode": "markers",
           "name": "Okra",
           "orientation": "v",
           "showlegend": true,
           "type": "scatter",
           "x": [
            55
           ],
           "xaxis": "x",
           "y": [
            2018
           ],
           "yaxis": "y"
          },
          {
           "hovertemplate": "<b>%{hovertext}</b><br><br>item=Onions, dry<br>year=%{y}<br>quantity=%{marker.size}<extra></extra>",
           "hovertext": [
            "Bahrain"
           ],
           "ids": [
            "Onions, dry"
           ],
           "legendgroup": "Onions, dry",
           "marker": {
            "color": "#FF6692",
            "size": [
             150
            ],
            "sizemode": "area",
            "sizeref": 8.498842975206612,
            "symbol": "circle"
           },
           "mode": "markers",
           "name": "Onions, dry",
           "orientation": "v",
           "showlegend": true,
           "type": "scatter",
           "x": [
            150
           ],
           "xaxis": "x",
           "y": [
            2018
           ],
           "yaxis": "y"
          },
          {
           "hovertemplate": "<b>%{hovertext}</b><br><br>item=Potatoes<br>year=%{y}<br>quantity=%{marker.size}<extra></extra>",
           "hovertext": [
            "Bahrain"
           ],
           "ids": [
            "Potatoes"
           ],
           "legendgroup": "Potatoes",
           "marker": {
            "color": "#B6E880",
            "size": [
             85
            ],
            "sizemode": "area",
            "sizeref": 8.498842975206612,
            "symbol": "circle"
           },
           "mode": "markers",
           "name": "Potatoes",
           "orientation": "v",
           "showlegend": true,
           "type": "scatter",
           "x": [
            85
           ],
           "xaxis": "x",
           "y": [
            2018
           ],
           "yaxis": "y"
          },
          {
           "hovertemplate": "<b>%{hovertext}</b><br><br>item=Pulses nes<br>year=%{y}<br>quantity=%{marker.size}<extra></extra>",
           "hovertext": [
            "Bahrain"
           ],
           "ids": [
            "Pulses nes"
           ],
           "legendgroup": "Pulses nes",
           "marker": {
            "color": "#FF97FF",
            "size": [
             6
            ],
            "sizemode": "area",
            "sizeref": 8.498842975206612,
            "symbol": "circle"
           },
           "mode": "markers",
           "name": "Pulses nes",
           "orientation": "v",
           "showlegend": true,
           "type": "scatter",
           "x": [
            6
           ],
           "xaxis": "x",
           "y": [
            2018
           ],
           "yaxis": "y"
          },
          {
           "hovertemplate": "<b>%{hovertext}</b><br><br>item=Pumpkins, squash and gourds<br>year=%{y}<br>quantity=%{marker.size}<extra></extra>",
           "hovertext": [
            "Bahrain"
           ],
           "ids": [
            "Pumpkins, squash and gourds"
           ],
           "legendgroup": "Pumpkins, squash and gourds",
           "marker": {
            "color": "#FECB52",
            "size": [
             2800
            ],
            "sizemode": "area",
            "sizeref": 8.498842975206612,
            "symbol": "circle"
           },
           "mode": "markers",
           "name": "Pumpkins, squash and gourds",
           "orientation": "v",
           "showlegend": true,
           "type": "scatter",
           "x": [
            2800
           ],
           "xaxis": "x",
           "y": [
            2018
           ],
           "yaxis": "y"
          },
          {
           "hovertemplate": "<b>%{hovertext}</b><br><br>item=Sweet potatoes<br>year=%{y}<br>quantity=%{marker.size}<extra></extra>",
           "hovertext": [
            "Bahrain"
           ],
           "ids": [
            "Sweet potatoes"
           ],
           "legendgroup": "Sweet potatoes",
           "marker": {
            "color": "#636efa",
            "size": [
             0
            ],
            "sizemode": "area",
            "sizeref": 8.498842975206612,
            "symbol": "circle"
           },
           "mode": "markers",
           "name": "Sweet potatoes",
           "orientation": "v",
           "showlegend": true,
           "type": "scatter",
           "x": [
            0
           ],
           "xaxis": "x",
           "y": [
            2018
           ],
           "yaxis": "y"
          },
          {
           "hovertemplate": "<b>%{hovertext}</b><br><br>item=Tomatoes<br>year=%{y}<br>quantity=%{marker.size}<extra></extra>",
           "hovertext": [
            "Bahrain"
           ],
           "ids": [
            "Tomatoes"
           ],
           "legendgroup": "Tomatoes",
           "marker": {
            "color": "#EF553B",
            "size": [
             6500
            ],
            "sizemode": "area",
            "sizeref": 8.498842975206612,
            "symbol": "circle"
           },
           "mode": "markers",
           "name": "Tomatoes",
           "orientation": "v",
           "showlegend": true,
           "type": "scatter",
           "x": [
            6500
           ],
           "xaxis": "x",
           "y": [
            2018
           ],
           "yaxis": "y"
          },
          {
           "hovertemplate": "<b>%{hovertext}</b><br><br>item=Vegetables, fresh nes<br>year=%{y}<br>quantity=%{marker.size}<extra></extra>",
           "hovertext": [
            "Bahrain"
           ],
           "ids": [
            "Vegetables, fresh nes"
           ],
           "legendgroup": "Vegetables, fresh nes",
           "marker": {
            "color": "#00cc96",
            "size": [
             300
            ],
            "sizemode": "area",
            "sizeref": 8.498842975206612,
            "symbol": "circle"
           },
           "mode": "markers",
           "name": "Vegetables, fresh nes",
           "orientation": "v",
           "showlegend": true,
           "type": "scatter",
           "x": [
            300
           ],
           "xaxis": "x",
           "y": [
            2018
           ],
           "yaxis": "y"
          },
          {
           "hovertemplate": "<b>%{hovertext}</b><br><br>item=Watermelons<br>year=%{y}<br>quantity=%{marker.size}<extra></extra>",
           "hovertext": [
            "Bahrain"
           ],
           "ids": [
            "Watermelons"
           ],
           "legendgroup": "Watermelons",
           "marker": {
            "color": "#ab63fa",
            "size": [
             246
            ],
            "sizemode": "area",
            "sizeref": 8.498842975206612,
            "symbol": "circle"
           },
           "mode": "markers",
           "name": "Watermelons",
           "orientation": "v",
           "showlegend": true,
           "type": "scatter",
           "x": [
            246
           ],
           "xaxis": "x",
           "y": [
            2018
           ],
           "yaxis": "y"
          },
          {
           "hovertemplate": "<b>%{hovertext}</b><br><br>item=Citrus Fruit, Total<br>year=%{y}<br>quantity=%{marker.size}<extra></extra>",
           "hovertext": [
            "Bahrain"
           ],
           "ids": [
            "Citrus Fruit, Total"
           ],
           "legendgroup": "Citrus Fruit, Total",
           "marker": {
            "color": "#FFA15A",
            "size": [
             1096
            ],
            "sizemode": "area",
            "sizeref": 8.498842975206612,
            "symbol": "circle"
           },
           "mode": "markers",
           "name": "Citrus Fruit, Total",
           "orientation": "v",
           "showlegend": true,
           "type": "scatter",
           "x": [
            1096
           ],
           "xaxis": "x",
           "y": [
            2018
           ],
           "yaxis": "y"
          },
          {
           "hovertemplate": "<b>%{hovertext}</b><br><br>item=Fruit Primary<br>year=%{y}<br>quantity=%{marker.size}<extra></extra>",
           "hovertext": [
            "Bahrain"
           ],
           "ids": [
            "Fruit Primary"
           ],
           "legendgroup": "Fruit Primary",
           "marker": {
            "color": "#19d3f3",
            "size": [
             21867
            ],
            "sizemode": "area",
            "sizeref": 8.498842975206612,
            "symbol": "circle"
           },
           "mode": "markers",
           "name": "Fruit Primary",
           "orientation": "v",
           "showlegend": true,
           "type": "scatter",
           "x": [
            21867
           ],
           "xaxis": "x",
           "y": [
            2018
           ],
           "yaxis": "y"
          },
          {
           "hovertemplate": "<b>%{hovertext}</b><br><br>item=Pulses, Total<br>year=%{y}<br>quantity=%{marker.size}<extra></extra>",
           "hovertext": [
            "Bahrain"
           ],
           "ids": [
            "Pulses, Total"
           ],
           "legendgroup": "Pulses, Total",
           "marker": {
            "color": "#FF6692",
            "size": [
             6
            ],
            "sizemode": "area",
            "sizeref": 8.498842975206612,
            "symbol": "circle"
           },
           "mode": "markers",
           "name": "Pulses, Total",
           "orientation": "v",
           "showlegend": true,
           "type": "scatter",
           "x": [
            6
           ],
           "xaxis": "x",
           "y": [
            2018
           ],
           "yaxis": "y"
          },
          {
           "hovertemplate": "<b>%{hovertext}</b><br><br>item=Roots and Tubers, Total<br>year=%{y}<br>quantity=%{marker.size}<extra></extra>",
           "hovertext": [
            "Bahrain"
           ],
           "ids": [
            "Roots and Tubers, Total"
           ],
           "legendgroup": "Roots and Tubers, Total",
           "marker": {
            "color": "#B6E880",
            "size": [
             85
            ],
            "sizemode": "area",
            "sizeref": 8.498842975206612,
            "symbol": "circle"
           },
           "mode": "markers",
           "name": "Roots and Tubers, Total",
           "orientation": "v",
           "showlegend": true,
           "type": "scatter",
           "x": [
            85
           ],
           "xaxis": "x",
           "y": [
            2018
           ],
           "yaxis": "y"
          },
          {
           "hovertemplate": "<b>%{hovertext}</b><br><br>item=Treenuts, Total<br>year=%{y}<br>quantity=%{marker.size}<extra></extra>",
           "hovertext": [
            "Bahrain"
           ],
           "ids": [
            "Treenuts, Total"
           ],
           "legendgroup": "Treenuts, Total",
           "marker": {
            "color": "#FF97FF",
            "size": [
             351
            ],
            "sizemode": "area",
            "sizeref": 8.498842975206612,
            "symbol": "circle"
           },
           "mode": "markers",
           "name": "Treenuts, Total",
           "orientation": "v",
           "showlegend": true,
           "type": "scatter",
           "x": [
            351
           ],
           "xaxis": "x",
           "y": [
            2018
           ],
           "yaxis": "y"
          },
          {
           "hovertemplate": "<b>%{hovertext}</b><br><br>item=Vegetables Primary<br>year=%{y}<br>quantity=%{marker.size}<extra></extra>",
           "hovertext": [
            "Bahrain"
           ],
           "ids": [
            "Vegetables Primary"
           ],
           "legendgroup": "Vegetables Primary",
           "marker": {
            "color": "#FECB52",
            "size": [
             17564
            ],
            "sizemode": "area",
            "sizeref": 8.498842975206612,
            "symbol": "circle"
           },
           "mode": "markers",
           "name": "Vegetables Primary",
           "orientation": "v",
           "showlegend": true,
           "type": "scatter",
           "x": [
            17564
           ],
           "xaxis": "x",
           "y": [
            2018
           ],
           "yaxis": "y"
          }
         ],
         "name": "2018"
        },
        {
         "data": [
          {
           "hovertemplate": "<b>%{hovertext}</b><br><br>item=Bananas<br>year=%{y}<br>quantity=%{marker.size}<extra></extra>",
           "hovertext": [
            "Bahrain"
           ],
           "ids": [
            "Bananas"
           ],
           "legendgroup": "Bananas",
           "marker": {
            "color": "#636efa",
            "size": [
             1052
            ],
            "sizemode": "area",
            "sizeref": 8.498842975206612,
            "symbol": "circle"
           },
           "mode": "markers",
           "name": "Bananas",
           "orientation": "v",
           "showlegend": true,
           "type": "scatter",
           "x": [
            1052
           ],
           "xaxis": "x",
           "y": [
            2019
           ],
           "yaxis": "y"
          },
          {
           "hovertemplate": "<b>%{hovertext}</b><br><br>item=Cabbages and other brassicas<br>year=%{y}<br>quantity=%{marker.size}<extra></extra>",
           "hovertext": [
            "Bahrain"
           ],
           "ids": [
            "Cabbages and other brassicas"
           ],
           "legendgroup": "Cabbages and other brassicas",
           "marker": {
            "color": "#EF553B",
            "size": [
             810
            ],
            "sizemode": "area",
            "sizeref": 8.498842975206612,
            "symbol": "circle"
           },
           "mode": "markers",
           "name": "Cabbages and other brassicas",
           "orientation": "v",
           "showlegend": true,
           "type": "scatter",
           "x": [
            810
           ],
           "xaxis": "x",
           "y": [
            2019
           ],
           "yaxis": "y"
          },
          {
           "hovertemplate": "<b>%{hovertext}</b><br><br>item=Carrots and turnips<br>year=%{y}<br>quantity=%{marker.size}<extra></extra>",
           "hovertext": [
            "Bahrain"
           ],
           "ids": [
            "Carrots and turnips"
           ],
           "legendgroup": "Carrots and turnips",
           "marker": {
            "color": "#00cc96",
            "size": [
             35
            ],
            "sizemode": "area",
            "sizeref": 8.498842975206612,
            "symbol": "circle"
           },
           "mode": "markers",
           "name": "Carrots and turnips",
           "orientation": "v",
           "showlegend": true,
           "type": "scatter",
           "x": [
            35
           ],
           "xaxis": "x",
           "y": [
            2019
           ],
           "yaxis": "y"
          },
          {
           "hovertemplate": "<b>%{hovertext}</b><br><br>item=Cauliflowers and broccoli<br>year=%{y}<br>quantity=%{marker.size}<extra></extra>",
           "hovertext": [
            "Bahrain"
           ],
           "ids": [
            "Cauliflowers and broccoli"
           ],
           "legendgroup": "Cauliflowers and broccoli",
           "marker": {
            "color": "#ab63fa",
            "size": [
             1155
            ],
            "sizemode": "area",
            "sizeref": 8.498842975206612,
            "symbol": "circle"
           },
           "mode": "markers",
           "name": "Cauliflowers and broccoli",
           "orientation": "v",
           "showlegend": true,
           "type": "scatter",
           "x": [
            1155
           ],
           "xaxis": "x",
           "y": [
            2019
           ],
           "yaxis": "y"
          },
          {
           "hovertemplate": "<b>%{hovertext}</b><br><br>item=Chick peas<br>year=%{y}<br>quantity=%{marker.size}<extra></extra>",
           "hovertext": [
            "Bahrain"
           ],
           "ids": [
            "Chick peas"
           ],
           "legendgroup": "Chick peas",
           "marker": {
            "color": "#FFA15A",
            "size": [
             0
            ],
            "sizemode": "area",
            "sizeref": 8.498842975206612,
            "symbol": "circle"
           },
           "mode": "markers",
           "name": "Chick peas",
           "orientation": "v",
           "showlegend": true,
           "type": "scatter",
           "x": [
            0
           ],
           "xaxis": "x",
           "y": [
            2019
           ],
           "yaxis": "y"
          },
          {
           "hovertemplate": "<b>%{hovertext}</b><br><br>item=Chillies and peppers, green<br>year=%{y}<br>quantity=%{marker.size}<extra></extra>",
           "hovertext": [
            "Bahrain"
           ],
           "ids": [
            "Chillies and peppers, green"
           ],
           "legendgroup": "Chillies and peppers, green",
           "marker": {
            "color": "#19d3f3",
            "size": [
             951
            ],
            "sizemode": "area",
            "sizeref": 8.498842975206612,
            "symbol": "circle"
           },
           "mode": "markers",
           "name": "Chillies and peppers, green",
           "orientation": "v",
           "showlegend": true,
           "type": "scatter",
           "x": [
            951
           ],
           "xaxis": "x",
           "y": [
            2019
           ],
           "yaxis": "y"
          },
          {
           "hovertemplate": "<b>%{hovertext}</b><br><br>item=Cucumbers and gherkins<br>year=%{y}<br>quantity=%{marker.size}<extra></extra>",
           "hovertext": [
            "Bahrain"
           ],
           "ids": [
            "Cucumbers and gherkins"
           ],
           "legendgroup": "Cucumbers and gherkins",
           "marker": {
            "color": "#FF6692",
            "size": [
             2773
            ],
            "sizemode": "area",
            "sizeref": 8.498842975206612,
            "symbol": "circle"
           },
           "mode": "markers",
           "name": "Cucumbers and gherkins",
           "orientation": "v",
           "showlegend": true,
           "type": "scatter",
           "x": [
            2773
           ],
           "xaxis": "x",
           "y": [
            2019
           ],
           "yaxis": "y"
          },
          {
           "hovertemplate": "<b>%{hovertext}</b><br><br>item=Dates<br>year=%{y}<br>quantity=%{marker.size}<extra></extra>",
           "hovertext": [
            "Bahrain"
           ],
           "ids": [
            "Dates"
           ],
           "legendgroup": "Dates",
           "marker": {
            "color": "#B6E880",
            "size": [
             13000
            ],
            "sizemode": "area",
            "sizeref": 8.498842975206612,
            "symbol": "circle"
           },
           "mode": "markers",
           "name": "Dates",
           "orientation": "v",
           "showlegend": true,
           "type": "scatter",
           "x": [
            13000
           ],
           "xaxis": "x",
           "y": [
            2019
           ],
           "yaxis": "y"
          },
          {
           "hovertemplate": "<b>%{hovertext}</b><br><br>item=Eggplants (aubergines)<br>year=%{y}<br>quantity=%{marker.size}<extra></extra>",
           "hovertext": [
            "Bahrain"
           ],
           "ids": [
            "Eggplants (aubergines)"
           ],
           "legendgroup": "Eggplants (aubergines)",
           "marker": {
            "color": "#FF97FF",
            "size": [
             1418
            ],
            "sizemode": "area",
            "sizeref": 8.498842975206612,
            "symbol": "circle"
           },
           "mode": "markers",
           "name": "Eggplants (aubergines)",
           "orientation": "v",
           "showlegend": true,
           "type": "scatter",
           "x": [
            1418
           ],
           "xaxis": "x",
           "y": [
            2019
           ],
           "yaxis": "y"
          },
          {
           "hovertemplate": "<b>%{hovertext}</b><br><br>item=Fruit, fresh nes<br>year=%{y}<br>quantity=%{marker.size}<extra></extra>",
           "hovertext": [
            "Bahrain"
           ],
           "ids": [
            "Fruit, fresh nes"
           ],
           "legendgroup": "Fruit, fresh nes",
           "marker": {
            "color": "#FECB52",
            "size": [
             5685
            ],
            "sizemode": "area",
            "sizeref": 8.498842975206612,
            "symbol": "circle"
           },
           "mode": "markers",
           "name": "Fruit, fresh nes",
           "orientation": "v",
           "showlegend": true,
           "type": "scatter",
           "x": [
            5685
           ],
           "xaxis": "x",
           "y": [
            2019
           ],
           "yaxis": "y"
          },
          {
           "hovertemplate": "<b>%{hovertext}</b><br><br>item=Grapes<br>year=%{y}<br>quantity=%{marker.size}<extra></extra>",
           "hovertext": [
            "Bahrain"
           ],
           "ids": [
            "Grapes"
           ],
           "legendgroup": "Grapes",
           "marker": {
            "color": "#636efa",
            "size": [
             152
            ],
            "sizemode": "area",
            "sizeref": 8.498842975206612,
            "symbol": "circle"
           },
           "mode": "markers",
           "name": "Grapes",
           "orientation": "v",
           "showlegend": true,
           "type": "scatter",
           "x": [
            152
           ],
           "xaxis": "x",
           "y": [
            2019
           ],
           "yaxis": "y"
          },
          {
           "hovertemplate": "<b>%{hovertext}</b><br><br>item=Lemons and limes<br>year=%{y}<br>quantity=%{marker.size}<extra></extra>",
           "hovertext": [
            "Bahrain"
           ],
           "ids": [
            "Lemons and limes"
           ],
           "legendgroup": "Lemons and limes",
           "marker": {
            "color": "#EF553B",
            "size": [
             1103
            ],
            "sizemode": "area",
            "sizeref": 8.498842975206612,
            "symbol": "circle"
           },
           "mode": "markers",
           "name": "Lemons and limes",
           "orientation": "v",
           "showlegend": true,
           "type": "scatter",
           "x": [
            1103
           ],
           "xaxis": "x",
           "y": [
            2019
           ],
           "yaxis": "y"
          },
          {
           "hovertemplate": "<b>%{hovertext}</b><br><br>item=Lettuce and chicory<br>year=%{y}<br>quantity=%{marker.size}<extra></extra>",
           "hovertext": [
            "Bahrain"
           ],
           "ids": [
            "Lettuce and chicory"
           ],
           "legendgroup": "Lettuce and chicory",
           "marker": {
            "color": "#00cc96",
            "size": [
             880
            ],
            "sizemode": "area",
            "sizeref": 8.498842975206612,
            "symbol": "circle"
           },
           "mode": "markers",
           "name": "Lettuce and chicory",
           "orientation": "v",
           "showlegend": true,
           "type": "scatter",
           "x": [
            880
           ],
           "xaxis": "x",
           "y": [
            2019
           ],
           "yaxis": "y"
          },
          {
           "hovertemplate": "<b>%{hovertext}</b><br><br>item=Melons, other (inc.cantaloupes)<br>year=%{y}<br>quantity=%{marker.size}<extra></extra>",
           "hovertext": [
            "Bahrain"
           ],
           "ids": [
            "Melons, other (inc.cantaloupes)"
           ],
           "legendgroup": "Melons, other (inc.cantaloupes)",
           "marker": {
            "color": "#ab63fa",
            "size": [
             925
            ],
            "sizemode": "area",
            "sizeref": 8.498842975206612,
            "symbol": "circle"
           },
           "mode": "markers",
           "name": "Melons, other (inc.cantaloupes)",
           "orientation": "v",
           "showlegend": true,
           "type": "scatter",
           "x": [
            925
           ],
           "xaxis": "x",
           "y": [
            2019
           ],
           "yaxis": "y"
          },
          {
           "hovertemplate": "<b>%{hovertext}</b><br><br>item=Nuts nes<br>year=%{y}<br>quantity=%{marker.size}<extra></extra>",
           "hovertext": [
            "Bahrain"
           ],
           "ids": [
            "Nuts nes"
           ],
           "legendgroup": "Nuts nes",
           "marker": {
            "color": "#FFA15A",
            "size": [
             351
            ],
            "sizemode": "area",
            "sizeref": 8.498842975206612,
            "symbol": "circle"
           },
           "mode": "markers",
           "name": "Nuts nes",
           "orientation": "v",
           "showlegend": true,
           "type": "scatter",
           "x": [
            351
           ],
           "xaxis": "x",
           "y": [
            2019
           ],
           "yaxis": "y"
          },
          {
           "hovertemplate": "<b>%{hovertext}</b><br><br>item=Okra<br>year=%{y}<br>quantity=%{marker.size}<extra></extra>",
           "hovertext": [
            "Bahrain"
           ],
           "ids": [
            "Okra"
           ],
           "legendgroup": "Okra",
           "marker": {
            "color": "#19d3f3",
            "size": [
             56
            ],
            "sizemode": "area",
            "sizeref": 8.498842975206612,
            "symbol": "circle"
           },
           "mode": "markers",
           "name": "Okra",
           "orientation": "v",
           "showlegend": true,
           "type": "scatter",
           "x": [
            56
           ],
           "xaxis": "x",
           "y": [
            2019
           ],
           "yaxis": "y"
          },
          {
           "hovertemplate": "<b>%{hovertext}</b><br><br>item=Onions, dry<br>year=%{y}<br>quantity=%{marker.size}<extra></extra>",
           "hovertext": [
            "Bahrain"
           ],
           "ids": [
            "Onions, dry"
           ],
           "legendgroup": "Onions, dry",
           "marker": {
            "color": "#FF6692",
            "size": [
             150
            ],
            "sizemode": "area",
            "sizeref": 8.498842975206612,
            "symbol": "circle"
           },
           "mode": "markers",
           "name": "Onions, dry",
           "orientation": "v",
           "showlegend": true,
           "type": "scatter",
           "x": [
            150
           ],
           "xaxis": "x",
           "y": [
            2019
           ],
           "yaxis": "y"
          },
          {
           "hovertemplate": "<b>%{hovertext}</b><br><br>item=Potatoes<br>year=%{y}<br>quantity=%{marker.size}<extra></extra>",
           "hovertext": [
            "Bahrain"
           ],
           "ids": [
            "Potatoes"
           ],
           "legendgroup": "Potatoes",
           "marker": {
            "color": "#B6E880",
            "size": [
             30
            ],
            "sizemode": "area",
            "sizeref": 8.498842975206612,
            "symbol": "circle"
           },
           "mode": "markers",
           "name": "Potatoes",
           "orientation": "v",
           "showlegend": true,
           "type": "scatter",
           "x": [
            30
           ],
           "xaxis": "x",
           "y": [
            2019
           ],
           "yaxis": "y"
          },
          {
           "hovertemplate": "<b>%{hovertext}</b><br><br>item=Pulses nes<br>year=%{y}<br>quantity=%{marker.size}<extra></extra>",
           "hovertext": [
            "Bahrain"
           ],
           "ids": [
            "Pulses nes"
           ],
           "legendgroup": "Pulses nes",
           "marker": {
            "color": "#FF97FF",
            "size": [
             5
            ],
            "sizemode": "area",
            "sizeref": 8.498842975206612,
            "symbol": "circle"
           },
           "mode": "markers",
           "name": "Pulses nes",
           "orientation": "v",
           "showlegend": true,
           "type": "scatter",
           "x": [
            5
           ],
           "xaxis": "x",
           "y": [
            2019
           ],
           "yaxis": "y"
          },
          {
           "hovertemplate": "<b>%{hovertext}</b><br><br>item=Pumpkins, squash and gourds<br>year=%{y}<br>quantity=%{marker.size}<extra></extra>",
           "hovertext": [
            "Bahrain"
           ],
           "ids": [
            "Pumpkins, squash and gourds"
           ],
           "legendgroup": "Pumpkins, squash and gourds",
           "marker": {
            "color": "#FECB52",
            "size": [
             3004
            ],
            "sizemode": "area",
            "sizeref": 8.498842975206612,
            "symbol": "circle"
           },
           "mode": "markers",
           "name": "Pumpkins, squash and gourds",
           "orientation": "v",
           "showlegend": true,
           "type": "scatter",
           "x": [
            3004
           ],
           "xaxis": "x",
           "y": [
            2019
           ],
           "yaxis": "y"
          },
          {
           "hovertemplate": "<b>%{hovertext}</b><br><br>item=Sweet potatoes<br>year=%{y}<br>quantity=%{marker.size}<extra></extra>",
           "hovertext": [
            "Bahrain"
           ],
           "ids": [
            "Sweet potatoes"
           ],
           "legendgroup": "Sweet potatoes",
           "marker": {
            "color": "#636efa",
            "size": [
             0
            ],
            "sizemode": "area",
            "sizeref": 8.498842975206612,
            "symbol": "circle"
           },
           "mode": "markers",
           "name": "Sweet potatoes",
           "orientation": "v",
           "showlegend": true,
           "type": "scatter",
           "x": [
            0
           ],
           "xaxis": "x",
           "y": [
            2019
           ],
           "yaxis": "y"
          },
          {
           "hovertemplate": "<b>%{hovertext}</b><br><br>item=Tomatoes<br>year=%{y}<br>quantity=%{marker.size}<extra></extra>",
           "hovertext": [
            "Bahrain"
           ],
           "ids": [
            "Tomatoes"
           ],
           "legendgroup": "Tomatoes",
           "marker": {
            "color": "#EF553B",
            "size": [
             6800
            ],
            "sizemode": "area",
            "sizeref": 8.498842975206612,
            "symbol": "circle"
           },
           "mode": "markers",
           "name": "Tomatoes",
           "orientation": "v",
           "showlegend": true,
           "type": "scatter",
           "x": [
            6800
           ],
           "xaxis": "x",
           "y": [
            2019
           ],
           "yaxis": "y"
          },
          {
           "hovertemplate": "<b>%{hovertext}</b><br><br>item=Vegetables, fresh nes<br>year=%{y}<br>quantity=%{marker.size}<extra></extra>",
           "hovertext": [
            "Bahrain"
           ],
           "ids": [
            "Vegetables, fresh nes"
           ],
           "legendgroup": "Vegetables, fresh nes",
           "marker": {
            "color": "#00cc96",
            "size": [
             300
            ],
            "sizemode": "area",
            "sizeref": 8.498842975206612,
            "symbol": "circle"
           },
           "mode": "markers",
           "name": "Vegetables, fresh nes",
           "orientation": "v",
           "showlegend": true,
           "type": "scatter",
           "x": [
            300
           ],
           "xaxis": "x",
           "y": [
            2019
           ],
           "yaxis": "y"
          },
          {
           "hovertemplate": "<b>%{hovertext}</b><br><br>item=Watermelons<br>year=%{y}<br>quantity=%{marker.size}<extra></extra>",
           "hovertext": [
            "Bahrain"
           ],
           "ids": [
            "Watermelons"
           ],
           "legendgroup": "Watermelons",
           "marker": {
            "color": "#ab63fa",
            "size": [
             253
            ],
            "sizemode": "area",
            "sizeref": 8.498842975206612,
            "symbol": "circle"
           },
           "mode": "markers",
           "name": "Watermelons",
           "orientation": "v",
           "showlegend": true,
           "type": "scatter",
           "x": [
            253
           ],
           "xaxis": "x",
           "y": [
            2019
           ],
           "yaxis": "y"
          },
          {
           "hovertemplate": "<b>%{hovertext}</b><br><br>item=Citrus Fruit, Total<br>year=%{y}<br>quantity=%{marker.size}<extra></extra>",
           "hovertext": [
            "Bahrain"
           ],
           "ids": [
            "Citrus Fruit, Total"
           ],
           "legendgroup": "Citrus Fruit, Total",
           "marker": {
            "color": "#FFA15A",
            "size": [
             1103
            ],
            "sizemode": "area",
            "sizeref": 8.498842975206612,
            "symbol": "circle"
           },
           "mode": "markers",
           "name": "Citrus Fruit, Total",
           "orientation": "v",
           "showlegend": true,
           "type": "scatter",
           "x": [
            1103
           ],
           "xaxis": "x",
           "y": [
            2019
           ],
           "yaxis": "y"
          },
          {
           "hovertemplate": "<b>%{hovertext}</b><br><br>item=Fruit Primary<br>year=%{y}<br>quantity=%{marker.size}<extra></extra>",
           "hovertext": [
            "Bahrain"
           ],
           "ids": [
            "Fruit Primary"
           ],
           "legendgroup": "Fruit Primary",
           "marker": {
            "color": "#19d3f3",
            "size": [
             22170
            ],
            "sizemode": "area",
            "sizeref": 8.498842975206612,
            "symbol": "circle"
           },
           "mode": "markers",
           "name": "Fruit Primary",
           "orientation": "v",
           "showlegend": true,
           "type": "scatter",
           "x": [
            22170
           ],
           "xaxis": "x",
           "y": [
            2019
           ],
           "yaxis": "y"
          },
          {
           "hovertemplate": "<b>%{hovertext}</b><br><br>item=Pulses, Total<br>year=%{y}<br>quantity=%{marker.size}<extra></extra>",
           "hovertext": [
            "Bahrain"
           ],
           "ids": [
            "Pulses, Total"
           ],
           "legendgroup": "Pulses, Total",
           "marker": {
            "color": "#FF6692",
            "size": [
             5
            ],
            "sizemode": "area",
            "sizeref": 8.498842975206612,
            "symbol": "circle"
           },
           "mode": "markers",
           "name": "Pulses, Total",
           "orientation": "v",
           "showlegend": true,
           "type": "scatter",
           "x": [
            5
           ],
           "xaxis": "x",
           "y": [
            2019
           ],
           "yaxis": "y"
          },
          {
           "hovertemplate": "<b>%{hovertext}</b><br><br>item=Roots and Tubers, Total<br>year=%{y}<br>quantity=%{marker.size}<extra></extra>",
           "hovertext": [
            "Bahrain"
           ],
           "ids": [
            "Roots and Tubers, Total"
           ],
           "legendgroup": "Roots and Tubers, Total",
           "marker": {
            "color": "#B6E880",
            "size": [
             30
            ],
            "sizemode": "area",
            "sizeref": 8.498842975206612,
            "symbol": "circle"
           },
           "mode": "markers",
           "name": "Roots and Tubers, Total",
           "orientation": "v",
           "showlegend": true,
           "type": "scatter",
           "x": [
            30
           ],
           "xaxis": "x",
           "y": [
            2019
           ],
           "yaxis": "y"
          },
          {
           "hovertemplate": "<b>%{hovertext}</b><br><br>item=Treenuts, Total<br>year=%{y}<br>quantity=%{marker.size}<extra></extra>",
           "hovertext": [
            "Bahrain"
           ],
           "ids": [
            "Treenuts, Total"
           ],
           "legendgroup": "Treenuts, Total",
           "marker": {
            "color": "#FF97FF",
            "size": [
             351
            ],
            "sizemode": "area",
            "sizeref": 8.498842975206612,
            "symbol": "circle"
           },
           "mode": "markers",
           "name": "Treenuts, Total",
           "orientation": "v",
           "showlegend": true,
           "type": "scatter",
           "x": [
            351
           ],
           "xaxis": "x",
           "y": [
            2019
           ],
           "yaxis": "y"
          },
          {
           "hovertemplate": "<b>%{hovertext}</b><br><br>item=Vegetables Primary<br>year=%{y}<br>quantity=%{marker.size}<extra></extra>",
           "hovertext": [
            "Bahrain"
           ],
           "ids": [
            "Vegetables Primary"
           ],
           "legendgroup": "Vegetables Primary",
           "marker": {
            "color": "#FECB52",
            "size": [
             18332
            ],
            "sizemode": "area",
            "sizeref": 8.498842975206612,
            "symbol": "circle"
           },
           "mode": "markers",
           "name": "Vegetables Primary",
           "orientation": "v",
           "showlegend": true,
           "type": "scatter",
           "x": [
            18332
           ],
           "xaxis": "x",
           "y": [
            2019
           ],
           "yaxis": "y"
          }
         ],
         "name": "2019"
        }
       ],
       "layout": {
        "legend": {
         "itemsizing": "constant",
         "title": {
          "text": "item"
         },
         "tracegroupgap": 0
        },
        "sliders": [
         {
          "active": 0,
          "currentvalue": {
           "prefix": "year="
          },
          "len": 0.9,
          "pad": {
           "b": 10,
           "t": 60
          },
          "steps": [
           {
            "args": [
             [
              "2009"
             ],
             {
              "frame": {
               "duration": 0,
               "redraw": false
              },
              "fromcurrent": true,
              "mode": "immediate",
              "transition": {
               "duration": 0,
               "easing": "linear"
              }
             }
            ],
            "label": "2009",
            "method": "animate"
           },
           {
            "args": [
             [
              "2010"
             ],
             {
              "frame": {
               "duration": 0,
               "redraw": false
              },
              "fromcurrent": true,
              "mode": "immediate",
              "transition": {
               "duration": 0,
               "easing": "linear"
              }
             }
            ],
            "label": "2010",
            "method": "animate"
           },
           {
            "args": [
             [
              "2011"
             ],
             {
              "frame": {
               "duration": 0,
               "redraw": false
              },
              "fromcurrent": true,
              "mode": "immediate",
              "transition": {
               "duration": 0,
               "easing": "linear"
              }
             }
            ],
            "label": "2011",
            "method": "animate"
           },
           {
            "args": [
             [
              "2012"
             ],
             {
              "frame": {
               "duration": 0,
               "redraw": false
              },
              "fromcurrent": true,
              "mode": "immediate",
              "transition": {
               "duration": 0,
               "easing": "linear"
              }
             }
            ],
            "label": "2012",
            "method": "animate"
           },
           {
            "args": [
             [
              "2013"
             ],
             {
              "frame": {
               "duration": 0,
               "redraw": false
              },
              "fromcurrent": true,
              "mode": "immediate",
              "transition": {
               "duration": 0,
               "easing": "linear"
              }
             }
            ],
            "label": "2013",
            "method": "animate"
           },
           {
            "args": [
             [
              "2014"
             ],
             {
              "frame": {
               "duration": 0,
               "redraw": false
              },
              "fromcurrent": true,
              "mode": "immediate",
              "transition": {
               "duration": 0,
               "easing": "linear"
              }
             }
            ],
            "label": "2014",
            "method": "animate"
           },
           {
            "args": [
             [
              "2015"
             ],
             {
              "frame": {
               "duration": 0,
               "redraw": false
              },
              "fromcurrent": true,
              "mode": "immediate",
              "transition": {
               "duration": 0,
               "easing": "linear"
              }
             }
            ],
            "label": "2015",
            "method": "animate"
           },
           {
            "args": [
             [
              "2016"
             ],
             {
              "frame": {
               "duration": 0,
               "redraw": false
              },
              "fromcurrent": true,
              "mode": "immediate",
              "transition": {
               "duration": 0,
               "easing": "linear"
              }
             }
            ],
            "label": "2016",
            "method": "animate"
           },
           {
            "args": [
             [
              "2017"
             ],
             {
              "frame": {
               "duration": 0,
               "redraw": false
              },
              "fromcurrent": true,
              "mode": "immediate",
              "transition": {
               "duration": 0,
               "easing": "linear"
              }
             }
            ],
            "label": "2017",
            "method": "animate"
           },
           {
            "args": [
             [
              "2018"
             ],
             {
              "frame": {
               "duration": 0,
               "redraw": false
              },
              "fromcurrent": true,
              "mode": "immediate",
              "transition": {
               "duration": 0,
               "easing": "linear"
              }
             }
            ],
            "label": "2018",
            "method": "animate"
           },
           {
            "args": [
             [
              "2019"
             ],
             {
              "frame": {
               "duration": 0,
               "redraw": false
              },
              "fromcurrent": true,
              "mode": "immediate",
              "transition": {
               "duration": 0,
               "easing": "linear"
              }
             }
            ],
            "label": "2019",
            "method": "animate"
           }
          ],
          "x": 0.1,
          "xanchor": "left",
          "y": 0,
          "yanchor": "top"
         }
        ],
        "template": {
         "data": {
          "bar": [
           {
            "error_x": {
             "color": "#2a3f5f"
            },
            "error_y": {
             "color": "#2a3f5f"
            },
            "marker": {
             "line": {
              "color": "#E5ECF6",
              "width": 0.5
             },
             "pattern": {
              "fillmode": "overlay",
              "size": 10,
              "solidity": 0.2
             }
            },
            "type": "bar"
           }
          ],
          "barpolar": [
           {
            "marker": {
             "line": {
              "color": "#E5ECF6",
              "width": 0.5
             },
             "pattern": {
              "fillmode": "overlay",
              "size": 10,
              "solidity": 0.2
             }
            },
            "type": "barpolar"
           }
          ],
          "carpet": [
           {
            "aaxis": {
             "endlinecolor": "#2a3f5f",
             "gridcolor": "white",
             "linecolor": "white",
             "minorgridcolor": "white",
             "startlinecolor": "#2a3f5f"
            },
            "baxis": {
             "endlinecolor": "#2a3f5f",
             "gridcolor": "white",
             "linecolor": "white",
             "minorgridcolor": "white",
             "startlinecolor": "#2a3f5f"
            },
            "type": "carpet"
           }
          ],
          "choropleth": [
           {
            "colorbar": {
             "outlinewidth": 0,
             "ticks": ""
            },
            "type": "choropleth"
           }
          ],
          "contour": [
           {
            "colorbar": {
             "outlinewidth": 0,
             "ticks": ""
            },
            "colorscale": [
             [
              0,
              "#0d0887"
             ],
             [
              0.1111111111111111,
              "#46039f"
             ],
             [
              0.2222222222222222,
              "#7201a8"
             ],
             [
              0.3333333333333333,
              "#9c179e"
             ],
             [
              0.4444444444444444,
              "#bd3786"
             ],
             [
              0.5555555555555556,
              "#d8576b"
             ],
             [
              0.6666666666666666,
              "#ed7953"
             ],
             [
              0.7777777777777778,
              "#fb9f3a"
             ],
             [
              0.8888888888888888,
              "#fdca26"
             ],
             [
              1,
              "#f0f921"
             ]
            ],
            "type": "contour"
           }
          ],
          "contourcarpet": [
           {
            "colorbar": {
             "outlinewidth": 0,
             "ticks": ""
            },
            "type": "contourcarpet"
           }
          ],
          "heatmap": [
           {
            "colorbar": {
             "outlinewidth": 0,
             "ticks": ""
            },
            "colorscale": [
             [
              0,
              "#0d0887"
             ],
             [
              0.1111111111111111,
              "#46039f"
             ],
             [
              0.2222222222222222,
              "#7201a8"
             ],
             [
              0.3333333333333333,
              "#9c179e"
             ],
             [
              0.4444444444444444,
              "#bd3786"
             ],
             [
              0.5555555555555556,
              "#d8576b"
             ],
             [
              0.6666666666666666,
              "#ed7953"
             ],
             [
              0.7777777777777778,
              "#fb9f3a"
             ],
             [
              0.8888888888888888,
              "#fdca26"
             ],
             [
              1,
              "#f0f921"
             ]
            ],
            "type": "heatmap"
           }
          ],
          "heatmapgl": [
           {
            "colorbar": {
             "outlinewidth": 0,
             "ticks": ""
            },
            "colorscale": [
             [
              0,
              "#0d0887"
             ],
             [
              0.1111111111111111,
              "#46039f"
             ],
             [
              0.2222222222222222,
              "#7201a8"
             ],
             [
              0.3333333333333333,
              "#9c179e"
             ],
             [
              0.4444444444444444,
              "#bd3786"
             ],
             [
              0.5555555555555556,
              "#d8576b"
             ],
             [
              0.6666666666666666,
              "#ed7953"
             ],
             [
              0.7777777777777778,
              "#fb9f3a"
             ],
             [
              0.8888888888888888,
              "#fdca26"
             ],
             [
              1,
              "#f0f921"
             ]
            ],
            "type": "heatmapgl"
           }
          ],
          "histogram": [
           {
            "marker": {
             "pattern": {
              "fillmode": "overlay",
              "size": 10,
              "solidity": 0.2
             }
            },
            "type": "histogram"
           }
          ],
          "histogram2d": [
           {
            "colorbar": {
             "outlinewidth": 0,
             "ticks": ""
            },
            "colorscale": [
             [
              0,
              "#0d0887"
             ],
             [
              0.1111111111111111,
              "#46039f"
             ],
             [
              0.2222222222222222,
              "#7201a8"
             ],
             [
              0.3333333333333333,
              "#9c179e"
             ],
             [
              0.4444444444444444,
              "#bd3786"
             ],
             [
              0.5555555555555556,
              "#d8576b"
             ],
             [
              0.6666666666666666,
              "#ed7953"
             ],
             [
              0.7777777777777778,
              "#fb9f3a"
             ],
             [
              0.8888888888888888,
              "#fdca26"
             ],
             [
              1,
              "#f0f921"
             ]
            ],
            "type": "histogram2d"
           }
          ],
          "histogram2dcontour": [
           {
            "colorbar": {
             "outlinewidth": 0,
             "ticks": ""
            },
            "colorscale": [
             [
              0,
              "#0d0887"
             ],
             [
              0.1111111111111111,
              "#46039f"
             ],
             [
              0.2222222222222222,
              "#7201a8"
             ],
             [
              0.3333333333333333,
              "#9c179e"
             ],
             [
              0.4444444444444444,
              "#bd3786"
             ],
             [
              0.5555555555555556,
              "#d8576b"
             ],
             [
              0.6666666666666666,
              "#ed7953"
             ],
             [
              0.7777777777777778,
              "#fb9f3a"
             ],
             [
              0.8888888888888888,
              "#fdca26"
             ],
             [
              1,
              "#f0f921"
             ]
            ],
            "type": "histogram2dcontour"
           }
          ],
          "mesh3d": [
           {
            "colorbar": {
             "outlinewidth": 0,
             "ticks": ""
            },
            "type": "mesh3d"
           }
          ],
          "parcoords": [
           {
            "line": {
             "colorbar": {
              "outlinewidth": 0,
              "ticks": ""
             }
            },
            "type": "parcoords"
           }
          ],
          "pie": [
           {
            "automargin": true,
            "type": "pie"
           }
          ],
          "scatter": [
           {
            "fillpattern": {
             "fillmode": "overlay",
             "size": 10,
             "solidity": 0.2
            },
            "type": "scatter"
           }
          ],
          "scatter3d": [
           {
            "line": {
             "colorbar": {
              "outlinewidth": 0,
              "ticks": ""
             }
            },
            "marker": {
             "colorbar": {
              "outlinewidth": 0,
              "ticks": ""
             }
            },
            "type": "scatter3d"
           }
          ],
          "scattercarpet": [
           {
            "marker": {
             "colorbar": {
              "outlinewidth": 0,
              "ticks": ""
             }
            },
            "type": "scattercarpet"
           }
          ],
          "scattergeo": [
           {
            "marker": {
             "colorbar": {
              "outlinewidth": 0,
              "ticks": ""
             }
            },
            "type": "scattergeo"
           }
          ],
          "scattergl": [
           {
            "marker": {
             "colorbar": {
              "outlinewidth": 0,
              "ticks": ""
             }
            },
            "type": "scattergl"
           }
          ],
          "scattermapbox": [
           {
            "marker": {
             "colorbar": {
              "outlinewidth": 0,
              "ticks": ""
             }
            },
            "type": "scattermapbox"
           }
          ],
          "scatterpolar": [
           {
            "marker": {
             "colorbar": {
              "outlinewidth": 0,
              "ticks": ""
             }
            },
            "type": "scatterpolar"
           }
          ],
          "scatterpolargl": [
           {
            "marker": {
             "colorbar": {
              "outlinewidth": 0,
              "ticks": ""
             }
            },
            "type": "scatterpolargl"
           }
          ],
          "scatterternary": [
           {
            "marker": {
             "colorbar": {
              "outlinewidth": 0,
              "ticks": ""
             }
            },
            "type": "scatterternary"
           }
          ],
          "surface": [
           {
            "colorbar": {
             "outlinewidth": 0,
             "ticks": ""
            },
            "colorscale": [
             [
              0,
              "#0d0887"
             ],
             [
              0.1111111111111111,
              "#46039f"
             ],
             [
              0.2222222222222222,
              "#7201a8"
             ],
             [
              0.3333333333333333,
              "#9c179e"
             ],
             [
              0.4444444444444444,
              "#bd3786"
             ],
             [
              0.5555555555555556,
              "#d8576b"
             ],
             [
              0.6666666666666666,
              "#ed7953"
             ],
             [
              0.7777777777777778,
              "#fb9f3a"
             ],
             [
              0.8888888888888888,
              "#fdca26"
             ],
             [
              1,
              "#f0f921"
             ]
            ],
            "type": "surface"
           }
          ],
          "table": [
           {
            "cells": {
             "fill": {
              "color": "#EBF0F8"
             },
             "line": {
              "color": "white"
             }
            },
            "header": {
             "fill": {
              "color": "#C8D4E3"
             },
             "line": {
              "color": "white"
             }
            },
            "type": "table"
           }
          ]
         },
         "layout": {
          "annotationdefaults": {
           "arrowcolor": "#2a3f5f",
           "arrowhead": 0,
           "arrowwidth": 1
          },
          "autotypenumbers": "strict",
          "coloraxis": {
           "colorbar": {
            "outlinewidth": 0,
            "ticks": ""
           }
          },
          "colorscale": {
           "diverging": [
            [
             0,
             "#8e0152"
            ],
            [
             0.1,
             "#c51b7d"
            ],
            [
             0.2,
             "#de77ae"
            ],
            [
             0.3,
             "#f1b6da"
            ],
            [
             0.4,
             "#fde0ef"
            ],
            [
             0.5,
             "#f7f7f7"
            ],
            [
             0.6,
             "#e6f5d0"
            ],
            [
             0.7,
             "#b8e186"
            ],
            [
             0.8,
             "#7fbc41"
            ],
            [
             0.9,
             "#4d9221"
            ],
            [
             1,
             "#276419"
            ]
           ],
           "sequential": [
            [
             0,
             "#0d0887"
            ],
            [
             0.1111111111111111,
             "#46039f"
            ],
            [
             0.2222222222222222,
             "#7201a8"
            ],
            [
             0.3333333333333333,
             "#9c179e"
            ],
            [
             0.4444444444444444,
             "#bd3786"
            ],
            [
             0.5555555555555556,
             "#d8576b"
            ],
            [
             0.6666666666666666,
             "#ed7953"
            ],
            [
             0.7777777777777778,
             "#fb9f3a"
            ],
            [
             0.8888888888888888,
             "#fdca26"
            ],
            [
             1,
             "#f0f921"
            ]
           ],
           "sequentialminus": [
            [
             0,
             "#0d0887"
            ],
            [
             0.1111111111111111,
             "#46039f"
            ],
            [
             0.2222222222222222,
             "#7201a8"
            ],
            [
             0.3333333333333333,
             "#9c179e"
            ],
            [
             0.4444444444444444,
             "#bd3786"
            ],
            [
             0.5555555555555556,
             "#d8576b"
            ],
            [
             0.6666666666666666,
             "#ed7953"
            ],
            [
             0.7777777777777778,
             "#fb9f3a"
            ],
            [
             0.8888888888888888,
             "#fdca26"
            ],
            [
             1,
             "#f0f921"
            ]
           ]
          },
          "colorway": [
           "#636efa",
           "#EF553B",
           "#00cc96",
           "#ab63fa",
           "#FFA15A",
           "#19d3f3",
           "#FF6692",
           "#B6E880",
           "#FF97FF",
           "#FECB52"
          ],
          "font": {
           "color": "#2a3f5f"
          },
          "geo": {
           "bgcolor": "white",
           "lakecolor": "white",
           "landcolor": "#E5ECF6",
           "showlakes": true,
           "showland": true,
           "subunitcolor": "white"
          },
          "hoverlabel": {
           "align": "left"
          },
          "hovermode": "closest",
          "mapbox": {
           "style": "light"
          },
          "paper_bgcolor": "white",
          "plot_bgcolor": "#E5ECF6",
          "polar": {
           "angularaxis": {
            "gridcolor": "white",
            "linecolor": "white",
            "ticks": ""
           },
           "bgcolor": "#E5ECF6",
           "radialaxis": {
            "gridcolor": "white",
            "linecolor": "white",
            "ticks": ""
           }
          },
          "scene": {
           "xaxis": {
            "backgroundcolor": "#E5ECF6",
            "gridcolor": "white",
            "gridwidth": 2,
            "linecolor": "white",
            "showbackground": true,
            "ticks": "",
            "zerolinecolor": "white"
           },
           "yaxis": {
            "backgroundcolor": "#E5ECF6",
            "gridcolor": "white",
            "gridwidth": 2,
            "linecolor": "white",
            "showbackground": true,
            "ticks": "",
            "zerolinecolor": "white"
           },
           "zaxis": {
            "backgroundcolor": "#E5ECF6",
            "gridcolor": "white",
            "gridwidth": 2,
            "linecolor": "white",
            "showbackground": true,
            "ticks": "",
            "zerolinecolor": "white"
           }
          },
          "shapedefaults": {
           "line": {
            "color": "#2a3f5f"
           }
          },
          "ternary": {
           "aaxis": {
            "gridcolor": "white",
            "linecolor": "white",
            "ticks": ""
           },
           "baxis": {
            "gridcolor": "white",
            "linecolor": "white",
            "ticks": ""
           },
           "bgcolor": "#E5ECF6",
           "caxis": {
            "gridcolor": "white",
            "linecolor": "white",
            "ticks": ""
           }
          },
          "title": {
           "x": 0.05
          },
          "xaxis": {
           "automargin": true,
           "gridcolor": "white",
           "linecolor": "white",
           "ticks": "",
           "title": {
            "standoff": 15
           },
           "zerolinecolor": "white",
           "zerolinewidth": 2
          },
          "yaxis": {
           "automargin": true,
           "gridcolor": "white",
           "linecolor": "white",
           "ticks": "",
           "title": {
            "standoff": 15
           },
           "zerolinecolor": "white",
           "zerolinewidth": 2
          }
         }
        },
        "title": {
         "text": "Crop Production in Bahrain"
        },
        "xaxis": {
         "anchor": "y",
         "domain": [
          0,
          1
         ],
         "range": [
          2,
          4.602059991327962
         ],
         "title": {
          "text": "quantity"
         },
         "type": "log"
        },
        "yaxis": {
         "anchor": "x",
         "categoryarray": [
          2019,
          2018,
          2017,
          2016,
          2015,
          2014,
          2013,
          2012,
          2011,
          2010,
          2009
         ],
         "categoryorder": "array",
         "domain": [
          0,
          1
         ],
         "range": [
          1000,
          3000
         ],
         "title": {
          "text": "year"
         }
        }
       }
      }
     },
     "metadata": {},
     "output_type": "display_data"
    }
   ],
   "source": [
    "df = bahrain\n",
    "fig = px.scatter(df, x= \"quantity\"\n",
    "                 , y=\"year\", animation_frame=\"year\", animation_group=\"item\",\n",
    "           size=\"quantity\", color=\"item\", hover_name=\"area\",\n",
    "           log_x=True, size_max=55, range_x=[100,40000], range_y=[1000,3000],title=\"Crop Production in Bahrain\")\n",
    "\n",
    "fig[\"layout\"].pop(\"updatemenus\") # optional, drop animation buttons\n",
    "fig.show()"
   ]
  },
  {
   "attachments": {},
   "cell_type": "markdown",
   "metadata": {},
   "source": [
    "Observation: The change in crop production over a span of 10 years in Bahrain."
   ]
  },
  {
   "attachments": {},
   "cell_type": "markdown",
   "metadata": {},
   "source": [
    "### Bahrain vs Kuwait Crop Production"
   ]
  },
  {
   "cell_type": "code",
   "execution_count": 46,
   "metadata": {},
   "outputs": [],
   "source": [
    "kuwait = asia_last_10_yrs[asia_last_10_yrs[\"area\"] == \"Kuwait\"]\n",
    "kuwait_production = pd.DataFrame(kuwait.groupby(by = [\"item\"]).quantity.sum().sort_values(ascending=False).head()).astype(\"int\")\n",
    "bahrain_production = bahrain_production.head()"
   ]
  },
  {
   "cell_type": "code",
   "execution_count": 47,
   "metadata": {},
   "outputs": [
    {
     "data": {
      "image/png": "[encoded data removed]",
      "text/plain": [
       "<Figure size 640x480 with 1 Axes>"
      ]
     },
     "metadata": {},
     "output_type": "display_data"
    }
   ],
   "source": [
    "x = ['Fruit Primary','Vegetables Primary','Dates','Tomatoes','Eggplants (aubergines)']\n",
    "y1 = kuwait_production[\"quantity\"]\n",
    "y2 = bahrain_production['quantity']\n",
    "labels = [\"Kuwait\",\"Bahrain\"]\n",
    "# plot bars in stack manner\n",
    "plt.barh(x, y1, color='blue', label = \"Kuwait\")\n",
    "plt.barh(x, y2, left=y1, color='red', label = \"Bahrain\")\n",
    "plt.legend(labels)\n",
    "plt.xticks(rotation = 0)\n",
    "plt.title(\"Bahrain vs Kuwait Crop Production\")\n",
    "plt.xlabel(\"tonnes\")\n",
    "plt.show()"
   ]
  },
  {
   "attachments": {},
   "cell_type": "markdown",
   "metadata": {},
   "source": [
    "Observation: Suprisingly Bahrain surpasses Kuwait in crop production!"
   ]
  }
 ],
 "metadata": {
  "kernelspec": {
   "display_name": "Python 3",
   "language": "python",
   "name": "python3"
  },
  "language_info": {
   "codemirror_mode": {
    "name": "ipython",
    "version": 3
   },
   "file_extension": ".py",
   "mimetype": "text/x-python",
   "name": "python",
   "nbconvert_exporter": "python",
   "pygments_lexer": "ipython3",
   "version": "3.10.10"
  },
  "orig_nbformat": 4,
  "vscode": {
   "interpreter": {
    "hash": "1a1af0ee75eeea9e2e1ee996c87e7a2b11a0bebd85af04bb136d915cefc0abce"
   }
  }
 },
 "nbformat": 4,
 "nbformat_minor": 2
}
